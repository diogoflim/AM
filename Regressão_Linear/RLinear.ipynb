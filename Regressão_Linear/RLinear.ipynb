{
 "cells": [
  {
   "cell_type": "markdown",
   "id": "52cef9eb-5206-44a4-9455-26752704a792",
   "metadata": {},
   "source": [
    "### Importando bibliotecas"
   ]
  },
  {
   "cell_type": "code",
   "execution_count": 2,
   "id": "f4959709-aed2-4c58-b612-6b1c6e48d344",
   "metadata": {},
   "outputs": [],
   "source": [
    "import numpy as np\n",
    "%matplotlib inline\n",
    "import matplotlib as mpl\n",
    "import matplotlib.pyplot as plt\n",
    "import sklearn"
   ]
  },
  {
   "cell_type": "markdown",
   "id": "9615b5a6-2c48-45be-b506-6c4ad74e9422",
   "metadata": {},
   "source": [
    "# Regressão Linear"
   ]
  },
  {
   "cell_type": "markdown",
   "id": "8392d34f-f652-4d66-9837-6cc37f8efa89",
   "metadata": {},
   "source": [
    "Um algoritmo de aprendizagem de máquinas (AM) preditivo é uma função que, dado um conjunto de exemplos rotulados, constrói um estimador. O rótulo toma valores em um domínio conhecido. \n",
    "\n",
    "**Se esse domínio for um conjunto infinito e ordenado de valores, trata-se de um problema de regressão, que induz um regressor.** \n",
    "\n",
    "Em tarefas de regressão, o programa de computador é solicitado a prever um valor numérico (valor real) dado alguma entrada. Para resolver essa tarefa, o algoritmo de aprendizagem precisa gerar uma função $$f:R^n→R$$ "
   ]
  },
  {
   "cell_type": "markdown",
   "id": "de566993-2cff-40e9-aeff-139b4b9c8d75",
   "metadata": {},
   "source": [
    "Exemplos:\n",
    "\n",
    "- entender o relacionamento entre os preços futuros de títulos financeiros no mercado de capitais e variáveis macroeconômicas; \n",
    "- prever a demanda de determinado produto ao longo do tempo com base em demandas passadas e no preço do produto; \n",
    "- prever o retorno da colheita de determinado produto agrícola com base no preço internacional e no volume de chuvas;\n",
    "- prever o consumo de energia elétrica com base no tamanho da fábrica."
   ]
  },
  {
   "cell_type": "markdown",
   "id": "337075ec-b43b-4c23-99bc-09e1c88186d7",
   "metadata": {},
   "source": [
    "## Regressão Linear Simples"
   ]
  },
  {
   "cell_type": "markdown",
   "id": "213ad97f-6a90-49a0-8d0b-796a1cfb8e51",
   "metadata": {},
   "source": [
    "Para entender a intuição de modelos de regressão, consideremos inicialmente o caso mais simples, quando há apenas uma variável independente (atributo) x e a equação que relaciona as variáveis linear. \n",
    "\n",
    "**Esse modelo é chamado de regressão linear simples.**"
   ]
  },
  {
   "cell_type": "markdown",
   "id": "4773d485-9100-4248-ad53-cdaa19a623a5",
   "metadata": {},
   "source": [
    "Vamos iniciar plotando um grafo de dispersão para uma função linear qualquer."
   ]
  },
  {
   "cell_type": "code",
   "execution_count": null,
   "id": "e5ada302-29c6-4a6f-b7d1-8502d0c4171c",
   "metadata": {},
   "outputs": [],
   "source": []
  },
  {
   "cell_type": "code",
   "execution_count": 3,
   "id": "5fbb9329-eb6c-4d77-a1a0-22c1eb47b20c",
   "metadata": {},
   "outputs": [],
   "source": [
    "X = 2 * np.random.rand(100, 1)"
   ]
  },
  {
   "cell_type": "code",
   "execution_count": 5,
   "id": "995c6eb0-b716-435a-a57a-8518169effb5",
   "metadata": {},
   "outputs": [
    {
     "data": {
      "text/plain": [
       "array([[0.60724755],\n",
       "       [0.76929911],\n",
       "       [0.97290223],\n",
       "       [1.99782301],\n",
       "       [0.12311867],\n",
       "       [1.02985193],\n",
       "       [1.15969345],\n",
       "       [0.84854124],\n",
       "       [1.09137926],\n",
       "       [1.63644356]])"
      ]
     },
     "execution_count": 5,
     "metadata": {},
     "output_type": "execute_result"
    }
   ],
   "source": [
    "X[:10]"
   ]
  },
  {
   "cell_type": "code",
   "execution_count": 6,
   "id": "0b5517ce-8680-4fb4-8c94-334dda806bf7",
   "metadata": {},
   "outputs": [],
   "source": [
    "y = 4 + 3 * X + np.random.randn(100, 1)"
   ]
  },
  {
   "cell_type": "code",
   "execution_count": 7,
   "id": "bfb453a1-6d45-40c3-8035-fb11fb4c7048",
   "metadata": {},
   "outputs": [
    {
     "data": {
      "text/plain": [
       "array([[ 6.42786604],\n",
       "       [ 7.14030376],\n",
       "       [ 7.0112196 ],\n",
       "       [11.08487966],\n",
       "       [ 2.38791799]])"
      ]
     },
     "execution_count": 7,
     "metadata": {},
     "output_type": "execute_result"
    }
   ],
   "source": [
    "y [0:5]"
   ]
  },
  {
   "cell_type": "code",
   "execution_count": 8,
   "id": "9ffc3e49-18ad-40b5-8095-297cd8037dc2",
   "metadata": {},
   "outputs": [
    {
     "data": {
      "text/plain": [
       "[<matplotlib.lines.Line2D at 0x1ebc9f2ed00>]"
      ]
     },
     "execution_count": 8,
     "metadata": {},
     "output_type": "execute_result"
    },
    {
     "data": {
      "image/png": "[encoded data removed]",
      "text/plain": [
       "<Figure size 432x288 with 1 Axes>"
      ]
     },
     "metadata": {
      "needs_background": "light"
     },
     "output_type": "display_data"
    }
   ],
   "source": [
    "plt.plot(X, y, \"b.\")\n"
   ]
  },
  {
   "cell_type": "markdown",
   "id": "a03e9927-40c3-4dad-b4ef-c80cf3b895be",
   "metadata": {},
   "source": [
    "É impossível obter uma reta que passe por todos os pontos!\n",
    "\n",
    "A ideia é que existe uma indicação de que os pontos estariam dispostos aleatoriamente em volta de uma reta. Assim, seria razoável assumir que a média da variável aleatória $y$ está relacionada à variável explanatória $x$ por um relacionamento linear:\n"
   ]
  },
  {
   "cell_type": "markdown",
   "id": "6a0424dd-37ec-4688-8750-cc039cbfbecd",
   "metadata": {},
   "source": [
    "$$E(y│x)=μ_{y|x}=w_0+w_1 x$$\n",
    "\n",
    "- $w_0$ é o intercepto da equação\n",
    "- $w_1$ é o coeficiente angular. "
   ]
  },
  {
   "cell_type": "markdown",
   "id": "87c6251c-179a-47a2-b0a4-b6b2ee068ade",
   "metadata": {},
   "source": [
    "**Interpretação**: Embora a média de y seja uma função linear de $x$, um valor observado qualquer $y_i$ não cai necessariamente na reta. \n",
    "\n",
    "$$y=w_0+w_1x + \\epsilon$$\n",
    "\n",
    "Precisamos estimas $w_0$ e $w_1$. Fazemos isso minimizando a função custo associada ao erro médio quadrático.\n",
    "\n",
    "$$min_{w_0,w_1}⁡ \\ J= \\sum_{i=1}^n [y_i - (w_0 + w_1 x_i)]^2$$"
   ]
  },
  {
   "cell_type": "markdown",
   "id": "65d53d6a-045d-465e-a433-97b7cf20e5b1",
   "metadata": {},
   "source": [
    "Essa é uma equação convexa em relação aos parâmetros!\n",
    "\n",
    "Podemos minimizá-la, pelas condições de primeira ordem de otimização, pela escolha das estimativas de parâmetros que satisfaçam:\n",
    "\n",
    "$$\\frac{\\partial J}{\\partial w_0} = 0$$\n",
    "\n",
    "$$\\frac{\\partial J}{\\partial w_1} = 0$$\n"
   ]
  },
  {
   "cell_type": "markdown",
   "id": "22844e19-de14-41fb-9f82-3d5d1f4b1517",
   "metadata": {},
   "source": [
    "As relações resultam em uma solução fechada dada por:\n",
    "\n",
    "$${\\hat{w}}_0=\\bar{y}-{\\hat{w}}_1\\bar{x}$$\n",
    "\n",
    "$${\\hat{w}}_1=\\frac{{SQ}_{xy}}{{SQ}_{xx}}=\\frac{\\sum_{i}{{(y}_i-\\bar{y}){(x}_i-\\bar{x})}}{\\sum_{i}{{(x}_i-\\bar{x})}^2}=\\frac{\\sum_{i=1}^{n}{y_ix_i}-\\frac{\\left(\\sum_{i=1}^{n}y_i\\right)\\left(\\sum_{i=1}^{n}x_i\\right)}{n}}{\\sum_{i=1}^{n}x_i^2-\\frac{({\\sum_{i=1}^{n}{x_i)}}^2}{n}}$$"
   ]
  },
  {
   "cell_type": "markdown",
   "id": "e3623e93-600c-440e-9845-2c8d7efbe411",
   "metadata": {},
   "source": [
    "Assim, obtém-se o modelo regressor $\\hat{y}={\\hat{w}}_0+{\\hat{w}}_1x$ que estima o valor médio do modelo de regressão. Cada observação satisfaz a relação $y_i={\\hat{w}}_0+{\\hat{w}}_1x+\\epsilon$, onde $\\epsilon=y_i-{\\hat{y}}_i$ é chamado de desvio ou resíduo."
   ]
  },
  {
   "cell_type": "markdown",
   "id": "647e1442-6c9b-4029-9bc1-5899c3aacad5",
   "metadata": {},
   "source": [
    "## Regressão linear com vários atributos"
   ]
  },
  {
   "cell_type": "markdown",
   "id": "996d2fbc-740f-4f43-8820-4d256fde2dfc",
   "metadata": {},
   "source": [
    "No caso genérico, uma observação, então, é dada por um vetor de $d$ atributos $\\mathbf{x}_i \\in \\mathbb{R}^d$. \n",
    "\n",
    "Considerando o relacionamento entre as variáveis de entrada $\\mathbf{x}_i \\in \\mathbb{R}^d$ e o valor de saída $y\\in\\mathbb{R}$ linear, temos uma **regressão linear**:\n",
    "\n",
    "$$y=\\mathbf{w}^{T}\\mathbf{x} + \\epsilon$$\n"
   ]
  },
  {
   "cell_type": "markdown",
   "id": "0f98d69d-fd34-429b-a8c8-b2f67c1f43f7",
   "metadata": {},
   "source": [
    "Onde $\\mathbf{w}^{T}=[w_1,\\ldots,\\ w_k]$ é um vetor de parâmetros, no qual $w_j$ é o coeficiente que multiplica o atributo $x_j$ antes de somar as contribuições de todos os atributos. \n",
    "\n",
    "O coeficiente $w_j$ indica como a variável dependente $y$ muda em média quando $x_j$ é adicionado em uma unidade e as demais variáveis independentes permanecem constantes. \n",
    "\n",
    "Esses parâmetros são valores que controlam o comportamento do sistema, muitas vezes chamados de pesos ou coeficientes da regressão."
   ]
  },
  {
   "cell_type": "markdown",
   "id": "8ed5688a-bf68-4f6f-ac66-afe9a2c8495b",
   "metadata": {},
   "source": [
    "### Adicionando o intercepto"
   ]
  },
  {
   "cell_type": "markdown",
   "id": "6dd76afd-8e2a-45ba-a90c-0bc871021aa5",
   "metadata": {},
   "source": [
    "Frequentemente, o termo regressão linear é usado para um modelo um pouco mais sofisticado, com um parâmetro adicional: o intercepto $b$. \n",
    "\n",
    "\n",
    "Teríamos: $y=\\mathbf{w}^T\\mathbf{x}+b$. \n",
    "\n",
    "No entanto, podemos continuar usando o modelo anterior (apenas com pesos). Para isso, inserimos um valor extra para cada observação $\\mathbf{x}_i$, sempre igual a $x_{0i}=1$. \n",
    "\n",
    "Dessa forma, o peso correspondente à entrada extra ($w_0$) desempenha o papel do intercepto.\n"
   ]
  },
  {
   "cell_type": "markdown",
   "id": "70a947c9-c9db-4032-b554-1362408e8cdd",
   "metadata": {},
   "source": [
    "### Interpretação"
   ]
  },
  {
   "cell_type": "markdown",
   "id": "ed0c09ef-f165-4bc2-a738-cf7f95fd1f3f",
   "metadata": {},
   "source": [
    "O modelo com $d$ atributos descreve um hiperplano no espaço d-dimensional das variáveis dos coeficientes."
   ]
  },
  {
   "cell_type": "markdown",
   "id": "e4bd45fd-dae5-4c34-b15c-87d3bd5c6e28",
   "metadata": {},
   "source": [
    "## Treinamento"
   ]
  },
  {
   "cell_type": "markdown",
   "id": "1eda02ca-7c49-4153-8667-faf940005108",
   "metadata": {},
   "source": [
    "Seja $\\mathbf{x}_i=[1,\\ x_1,\\ \\ldots,\\ x_k]$ uma observação, ou exemplo, e $x_{i,j}$ o valor do atributo $j$ na observação $i$. \n",
    "\n",
    "A primeira posição de cada observação contém o valor $1$, de modo que sigamos o modelo com intercepto $w_0$. Seja $\\mathbf{X} \\in \\mathbb{R}^{n \\times d}$ uma matriz formada por $n$ observações dispostas suas linhas. \n",
    "\n",
    "Essa matriz tem $d+1$ colunas, onde $d$ é o número total de parâmetros ($d$ coeficientes + 1 intercepto). \n",
    "\n",
    "A notação fica:\n",
    "\n",
    "\n",
    "$$ \\mathbf{y}= \\left[\\begin{matrix} y_1\\\\y_2\\\\\\vdots\\\\y_n\\\\\\end{matrix}\\right]_{n\\times 1}$$\n",
    "\n",
    "$$\\mathbf{X}=\\left[\\begin{matrix}1&x_{1,1}&\\ldots&x_{1,d}\\\\1&x_{2,1}&\\ldots&x_{2,d}\\\\\\vdots&\\vdots&\\vdots&\\vdots\\\\1&x_{n,1}&\\ldots&x_{n,d}\\\\\\end{matrix}\\right]_{n \\times (d+1)}$$ \n",
    "\n",
    "$$\\mathbf{w}=\\left[\\begin{matrix}w_0\\\\w_1\\\\\\vdots\\\\w_d\\\\\\end{matrix}\\right]_{d\\times1}$$\n",
    "\n",
    "$$\\mathbf{\\epsilon}=\\left[\\begin{matrix}\\epsilon_1\\\\\\epsilon_2\\\\\\vdots\\\\\\epsilon_n\\\\\\end{matrix}\\right]_{n \\times 1}$$\n"
   ]
  },
  {
   "cell_type": "markdown",
   "id": "30dbd6af-3c23-45ee-93e0-9586a22af681",
   "metadata": {},
   "source": [
    "O modelo de regressão linear aprenderá, a partir do conjunto de treinamento, a escolher os estimadores mais adequados para os parâmetros do modelo de regressão.\n",
    "\n",
    "**Para isso, busca-se minimizar a soma dos quadrados dos desvios nos exemplos de treinamento.**\n",
    "\n",
    "A diferença entre o valor observado e um valor ajustado pela regressão é o resíduo (desvio), dada por $𝜖_𝑖=𝑦_𝑖−𝑦_𝑖$. \n",
    "\n",
    "Na notação matricial, a soma dos quadrados dos desvios é dada por:\n"
   ]
  },
  {
   "cell_type": "markdown",
   "id": "4e83919c-063f-420c-96b9-5f3bff3d92b5",
   "metadata": {},
   "source": [
    "$$SQ_E=\\sum_{i}\\left(\\mathbf{y}-\\hat{\\mathbf{y}}\\right)_i^2$$\n",
    "\n",
    "**Isso corresponde a norma Euclideana dos desvios ao quadrado:**\n",
    "\n",
    "$$\\sum_{i}\\left(\\mathbf{y_i}-\\hat{\\mathbf{y_i}}\\right)^2 = \\left|\\left|\\mathbf{y}-\\hat{\\mathbf{y}}\\right|\\right|_2^2$$"
   ]
  },
  {
   "cell_type": "markdown",
   "id": "8b50d148-1faf-40b7-8c1f-4875e966d169",
   "metadata": {},
   "source": [
    "Para minimizar essa função, usamos o mesmo conceito praticado para regressão linear simples. O vetor gradiente deve ser igual a zero."
   ]
  },
  {
   "cell_type": "markdown",
   "id": "1ce180eb-35c2-4da7-8649-ac4726a43a01",
   "metadata": {},
   "source": [
    "\n",
    "$$\\nabla_\\mathbf{w}\\left|\\left|\\mathbf{y}-\\hat{\\mathbf{y}}\\right|\\right|_2^2 = 0\\rightarrow\\nabla_\\mathbf{w}\\left|\\left|\\mathbf{y}-\\mathbf{X}\\hat{\\mathbf{w}}\\right|\\right|_2^2=0$$\n",
    "\n",
    "\n",
    "$$\n",
    "\\nabla_\\mathbf{w}\\left(\\mathbf{y}-\\mathbf{X}\\hat{\\mathbf{w}}\\right)^T\\left(\\mathbf{y}-\\mathbf{X}\\hat{\\mathbf{w}}\\right)=0\n",
    "$$\n",
    "\n",
    "$$\n",
    "\\nabla_\\mathbf{w}\\left(\\mathbf{y}^\\mathbf{T}\\mathbf{y}-2{\\hat{\\mathbf{w}}}^T\\mathbf{X}^\\mathbf{T}\\mathbf{y}+{\\hat{\\mathbf{w}}}^T\\mathbf{X}^\\mathbf{T}\\mathbf{X}\\hat{\\mathbf{w}}\\right)=0\n",
    "$$\n",
    "\n",
    "$$\n",
    "-2\\mathbf{X}^\\mathbf{T}\\mathbf{y}+2\\mathbf{X}^\\mathbf{T}\\mathbf{X}\\hat{\\mathbf{w}}=0\n",
    "$$\n",
    "\n",
    "\n",
    "$$\n",
    "2\\mathbf{X}^\\mathbf{T}\\mathbf{X}\\hat{\\mathbf{w}}=2\\mathbf{X}^\\mathbf{T}\\mathbf{y}\n",
    "$$\n",
    "\n",
    "\n",
    "$$\n",
    "\\mathbf{X}^\\mathbf{T}\\mathbf{X}\\hat{\\mathbf{w}}=\\mathbf{X}^\\mathbf{T}\\mathbf{y}\n",
    "$$\n",
    "\n",
    "$$\n",
    "\\hat{\\mathbf{w}}=\\left(\\mathbf{X}^\\mathbf{T}\\mathbf{X}\\right)^{-1}\\mathbf{X}^\\mathbf{T}\\mathbf{y}\n",
    "$$\n",
    "\n",
    "\n",
    "**Esse resultado é conhecido como Equação Normal**"
   ]
  },
  {
   "cell_type": "markdown",
   "id": "1f695775-78f9-4ca2-9d81-8b408a7d098f",
   "metadata": {},
   "source": [
    "$$\\lambda \\times x + y $$"
   ]
  },
  {
   "cell_type": "code",
   "execution_count": 9,
   "id": "08a0406d-7ee5-448e-bbe4-7c892a9149be",
   "metadata": {},
   "outputs": [
    {
     "data": {
      "text/plain": [
       "array([[0.60724755],\n",
       "       [0.76929911],\n",
       "       [0.97290223],\n",
       "       [1.99782301],\n",
       "       [0.12311867]])"
      ]
     },
     "execution_count": 9,
     "metadata": {},
     "output_type": "execute_result"
    }
   ],
   "source": [
    "X[0:5]"
   ]
  },
  {
   "cell_type": "code",
   "execution_count": 11,
   "id": "0cfbf41e-9130-4a4d-b8b0-c5e2f7edc6b2",
   "metadata": {},
   "outputs": [
    {
     "data": {
      "text/plain": [
       "array([[1.        , 0.60724755],\n",
       "       [1.        , 0.76929911],\n",
       "       [1.        , 0.97290223],\n",
       "       [1.        , 1.99782301],\n",
       "       [1.        , 0.12311867]])"
      ]
     },
     "execution_count": 11,
     "metadata": {},
     "output_type": "execute_result"
    }
   ],
   "source": [
    "# Vamos adicionar o termo x0 = 1 para cada exemplo do nosso conjunto.\n",
    "# Lembrando que, dessa forma, b torna-se w_0.\n",
    "\n",
    "X_b = np.c_[np.ones((100, 1)), X]\n",
    "\n",
    "X_b[0:5]"
   ]
  },
  {
   "cell_type": "markdown",
   "id": "5a7df4b7-0efe-4c6d-a126-620c86684d0b",
   "metadata": {},
   "source": [
    "Nossa hipótese de $\\mathbf{w}$ que minimiza o erro quadrático médio pode ser obtido por meio da equação normal.\n",
    "\n",
    "$$\n",
    "\\hat{\\mathbf{w}}=\\left(\\mathbf{X}^\\mathbf{T}\\mathbf{X}\\right)^{-1}\\mathbf{X}^\\mathbf{T}\\mathbf{y}\n",
    "$$\n"
   ]
  },
  {
   "cell_type": "code",
   "execution_count": 13,
   "id": "29eeca4c-50e9-4065-a3ed-14ed95d1bc8a",
   "metadata": {},
   "outputs": [
    {
     "data": {
      "text/plain": [
       "array([[1.        , 0.60724755],\n",
       "       [1.        , 0.76929911],\n",
       "       [1.        , 0.97290223],\n",
       "       [1.        , 1.99782301],\n",
       "       [1.        , 0.12311867],\n",
       "       [1.        , 1.02985193],\n",
       "       [1.        , 1.15969345],\n",
       "       [1.        , 0.84854124],\n",
       "       [1.        , 1.09137926],\n",
       "       [1.        , 1.63644356]])"
      ]
     },
     "execution_count": 13,
     "metadata": {},
     "output_type": "execute_result"
    }
   ],
   "source": [
    "X_b[:10]"
   ]
  },
  {
   "cell_type": "code",
   "execution_count": 14,
   "id": "16fe1385-3a15-4ed3-b0db-a2dbc57ae792",
   "metadata": {},
   "outputs": [
    {
     "data": {
      "text/plain": [
       "array([[ 6.42786604],\n",
       "       [ 7.14030376],\n",
       "       [ 7.0112196 ],\n",
       "       [11.08487966],\n",
       "       [ 2.38791799],\n",
       "       [ 7.14011518],\n",
       "       [ 8.0894369 ],\n",
       "       [ 6.96378409],\n",
       "       [ 6.29588065],\n",
       "       [ 9.89856932]])"
      ]
     },
     "execution_count": 14,
     "metadata": {},
     "output_type": "execute_result"
    }
   ],
   "source": [
    "y[:10]"
   ]
  },
  {
   "cell_type": "code",
   "execution_count": 15,
   "id": "4042d55b-219e-4aa4-9f45-896fb7ebfe57",
   "metadata": {},
   "outputs": [
    {
     "data": {
      "text/plain": [
       "array([[4.13913478],\n",
       "       [2.83203843]])"
      ]
     },
     "execution_count": 15,
     "metadata": {},
     "output_type": "execute_result"
    }
   ],
   "source": [
    "w = np.linalg.inv(X_b.T.dot(X_b)).dot(X_b.T).dot(y)\n",
    "w"
   ]
  },
  {
   "cell_type": "markdown",
   "id": "b591e707-80cc-465c-8b62-3aa0d3534b53",
   "metadata": {},
   "source": [
    "## Previsão  "
   ]
  },
  {
   "cell_type": "markdown",
   "id": "a7b62685-4684-4968-86ec-f5fcc2489f3c",
   "metadata": {},
   "source": [
    "Agora que estimamos nosso vetor de parâmetros, $\\mathbf{\\hat{w}}$, minimizando o erro seja médio, podemos realizar as previsões."
   ]
  },
  {
   "cell_type": "markdown",
   "id": "2094313c-8323-4bf1-ad0a-62d01e13ecea",
   "metadata": {},
   "source": [
    "Nossa função de previsão é:\n",
    "\n",
    "$$f(x_i)=\\hat{y_i}=\\mathbf{\\hat{w}}^T\\mathbf{x_i}$$"
   ]
  },
  {
   "cell_type": "code",
   "execution_count": 17,
   "id": "0fbf138d-2519-4ae9-be27-963ddab0d737",
   "metadata": {},
   "outputs": [
    {
     "data": {
      "text/plain": [
       "array([[0],\n",
       "       [2]])"
      ]
     },
     "execution_count": 17,
     "metadata": {},
     "output_type": "execute_result"
    }
   ],
   "source": [
    "X_new = np.array([[0], [2]])\n",
    "X_new"
   ]
  },
  {
   "cell_type": "code",
   "execution_count": 18,
   "id": "eb9f6819-cdc7-4364-9dc1-383bd6f3eea9",
   "metadata": {},
   "outputs": [
    {
     "data": {
      "text/plain": [
       "array([[1., 0.],\n",
       "       [1., 2.]])"
      ]
     },
     "execution_count": 18,
     "metadata": {},
     "output_type": "execute_result"
    }
   ],
   "source": [
    "X_new_b = np.c_[np.ones((2, 1)), X_new]  # adiciona x0 = 1 aos novos exemplos\n",
    "X_new_b\n"
   ]
  },
  {
   "cell_type": "code",
   "execution_count": 19,
   "id": "6cf72f10-85ee-4172-9811-55b95c8707c3",
   "metadata": {},
   "outputs": [
    {
     "data": {
      "text/plain": [
       "array([[4.13913478],\n",
       "       [9.80321163]])"
      ]
     },
     "execution_count": 19,
     "metadata": {},
     "output_type": "execute_result"
    }
   ],
   "source": [
    "# Para a previsão, utilizaremos o w calculado acima\n",
    "y_predict = X_new_b.dot(w)\n",
    "y_predict"
   ]
  },
  {
   "cell_type": "code",
   "execution_count": 20,
   "id": "63f6e9d4-b07c-47d1-9e70-a228fb6de5ba",
   "metadata": {},
   "outputs": [
    {
     "data": {
      "image/png": "[encoded data removed]",
      "text/plain": [
       "<Figure size 432x288 with 1 Axes>"
      ]
     },
     "metadata": {
      "needs_background": "light"
     },
     "output_type": "display_data"
    }
   ],
   "source": [
    "plt.plot(X, y, \"b.\")\n",
    "plt.plot(X_new, y_predict, \"r.\")\n",
    "plt.plot (X_new, y_predict, \"-g\", linewidth=2, label=\"Previsões\")\n",
    "plt.xlabel(\"$x_1$\", fontsize=18)\n",
    "plt.ylabel(\"$y$\", rotation=0, fontsize=18)\n",
    "plt.legend(loc=\"upper left\", fontsize=14)\n",
    "plt.axis([0, 2, 0, 15])\n",
    "plt.show()"
   ]
  },
  {
   "cell_type": "markdown",
   "id": "c73fe4b1-b7a9-439e-8485-1d5b13ede5ee",
   "metadata": {},
   "source": [
    "## sklearn"
   ]
  },
  {
   "cell_type": "markdown",
   "id": "bcd3d228-dad3-4430-8153-c1c8f4e63704",
   "metadata": {},
   "source": [
    "Vamos agora utilizar o pacote sklearn. Veja que o mesmo resultado é obtido."
   ]
  },
  {
   "cell_type": "code",
   "execution_count": 21,
   "id": "ff3d38b6-fee3-4a2d-b526-e6f2e1922e32",
   "metadata": {},
   "outputs": [
    {
     "data": {
      "text/plain": [
       "(array([4.13913478]), array([[2.83203843]]))"
      ]
     },
     "execution_count": 21,
     "metadata": {},
     "output_type": "execute_result"
    }
   ],
   "source": [
    "from sklearn.linear_model import LinearRegression\n",
    "\n",
    "lin_reg = LinearRegression()\n",
    "lin_reg.fit(X, y)\n",
    "lin_reg.intercept_, lin_reg.coef_"
   ]
  },
  {
   "cell_type": "code",
   "execution_count": 24,
   "id": "801d2d7b-08aa-49fd-afd8-a696c9d9ba01",
   "metadata": {},
   "outputs": [
    {
     "data": {
      "text/plain": [
       "array([[4.13913478],\n",
       "       [9.80321163]])"
      ]
     },
     "execution_count": 24,
     "metadata": {},
     "output_type": "execute_result"
    }
   ],
   "source": [
    "LinearRegression().fit(X,y).predict(X_new)"
   ]
  },
  {
   "cell_type": "code",
   "execution_count": 25,
   "id": "77a969a8-1241-4d10-a230-d99a89ffd2b9",
   "metadata": {},
   "outputs": [
    {
     "data": {
      "text/plain": [
       "array([[4.13913478],\n",
       "       [9.80321163]])"
      ]
     },
     "execution_count": 25,
     "metadata": {},
     "output_type": "execute_result"
    }
   ],
   "source": [
    "lin_reg.predict(X_new)"
   ]
  },
  {
   "cell_type": "markdown",
   "id": "8fe63fcc-8cf5-4706-acce-fb2c618730ef",
   "metadata": {},
   "source": [
    "# Regressão Polinomial"
   ]
  },
  {
   "cell_type": "markdown",
   "id": "c753bce6-2efa-45ae-bb65-47715774a2ff",
   "metadata": {},
   "source": [
    "Modelos de estrutura mais complexa que a estrutura de genérica do modelo linear podem, ainda, ser tratados por meio de regressão linear. \n",
    "\n",
    "Por exemplo, um modelo polinomial nas variáveis da regressão pode ser transformado em um modelo linear:\n",
    "\n",
    "$$y=w_0+w_1x_1+w_2x_1^2+w_3x_1^3+\\epsilon\\rightarrow y=w_0+w_1x_1+w_2x_2+w_3x_3+\\epsilon$$"
   ]
  },
  {
   "cell_type": "markdown",
   "id": "4e8720e6-42f1-4d20-a90b-449a60eff227",
   "metadata": {},
   "source": [
    "Além disso, efeitos de interação entre variáveis podem ser tratados de maneira linear, por exemplo, pode-se considerar o produto entre duas variáveis como uma nova variável. Dessa forma:\n",
    "\n",
    "\n",
    "$$y=w_0+w_1x_1+w_2x_1^2+w_3x_1x_2+\\epsilon\\rightarrow y=w_0+w_1x_1+w_2x_2+w_3x_3+\\epsilon$$\n",
    "\n",
    "\n"
   ]
  },
  {
   "cell_type": "markdown",
   "id": "4d5bc296-23d3-4a36-8aa7-9b6a57e10f70",
   "metadata": {},
   "source": [
    "## Interpretação"
   ]
  },
  {
   "cell_type": "markdown",
   "id": "c415b64a-3c7c-47c2-8e9f-1c0aa67e35ba",
   "metadata": {},
   "source": [
    "**Importante**: Embora estes modelos ainda sejam considerados de regressão linear, a forma da superfície gerada por eles não é linear.\n",
    "\n",
    "\n",
    "**Podemos encontrar modelos mais complexos com a mesma formulação aprendida na aula até aqui!**"
   ]
  },
  {
   "cell_type": "markdown",
   "id": "74e7f78a-7b6c-45c6-980a-4e351b3f6912",
   "metadata": {},
   "source": [
    "Em geral, qualquer modelo de regressão que seja linear em parâmetros ($\\mathbf{w}$) é um modelo de regressão linear, independentemente da forma da superfície que ele gera. \n"
   ]
  },
  {
   "cell_type": "markdown",
   "id": "a040a797-900f-4f29-9468-a8ecc6117317",
   "metadata": {},
   "source": [
    "# Exemplo"
   ]
  },
  {
   "cell_type": "code",
   "execution_count": 43,
   "id": "a441d207-d2e3-43d2-8a3d-0bc29243388d",
   "metadata": {},
   "outputs": [],
   "source": [
    "n = 100\n",
    "X = 6 * np.random.rand(n, 1) - 3\n",
    "y = 0.5 * X**2 + X + 2 + np.random.randn(n, 1)"
   ]
  },
  {
   "cell_type": "code",
   "execution_count": 44,
   "id": "a1691f15-2325-456b-983e-838dc7285c51",
   "metadata": {},
   "outputs": [
    {
     "name": "stdout",
     "output_type": "stream",
     "text": [
      "[[ 2.1278965 ]\n",
      " [ 0.33955771]\n",
      " [-2.79817013]\n",
      " [-0.29257262]\n",
      " [-2.97226969]]\n"
     ]
    }
   ],
   "source": [
    "print(X[:5])"
   ]
  },
  {
   "cell_type": "code",
   "execution_count": 45,
   "id": "6bbeee44-6d62-4a8a-bdfb-af5dee6aec07",
   "metadata": {},
   "outputs": [
    {
     "name": "stdout",
     "output_type": "stream",
     "text": [
      "[[6.96429375]\n",
      " [1.37059472]\n",
      " [2.2378386 ]\n",
      " [3.14579716]\n",
      " [4.66961823]]\n"
     ]
    }
   ],
   "source": [
    "print(y[0:5])"
   ]
  },
  {
   "cell_type": "code",
   "execution_count": 46,
   "id": "c4bdac51-3e18-4bf2-abe1-e697bb95e546",
   "metadata": {},
   "outputs": [
    {
     "data": {
      "text/plain": [
       "[<matplotlib.lines.Line2D at 0x1f701c61ca0>]"
      ]
     },
     "execution_count": 46,
     "metadata": {},
     "output_type": "execute_result"
    },
    {
     "data": {
      "image/png": "[encoded data removed]",
      "text/plain": [
       "<Figure size 432x288 with 1 Axes>"
      ]
     },
     "metadata": {
      "needs_background": "light"
     },
     "output_type": "display_data"
    }
   ],
   "source": [
    "plt.plot(X, y, \"b.\")\n"
   ]
  },
  {
   "cell_type": "markdown",
   "id": "ee0eab84-1a22-4f97-b708-53d572395310",
   "metadata": {},
   "source": [
    "## Transformando os atributos com sklearn"
   ]
  },
  {
   "cell_type": "markdown",
   "id": "297ed196-1468-4b2e-a061-08c5f1774011",
   "metadata": {},
   "source": [
    "Temos apenas 1 atributo em X. Porém, podemos perceber graficamente que nossa relação é não linear (uma parábola).\n",
    "\n",
    "Vamos adicionar um novo atributo a nossa matriz de modo que este receba o quadrado do nosso atributo original. "
   ]
  },
  {
   "cell_type": "code",
   "execution_count": 47,
   "id": "0cb09bb5-5c1a-40d2-8534-1356844c9561",
   "metadata": {},
   "outputs": [
    {
     "data": {
      "text/plain": [
       "array([[ 2.1278965 ],\n",
       "       [ 0.33955771],\n",
       "       [-2.79817013],\n",
       "       [-0.29257262],\n",
       "       [-2.97226969],\n",
       "       [ 0.5361318 ],\n",
       "       [ 2.58691547],\n",
       "       [-2.05126779],\n",
       "       [-1.1276572 ],\n",
       "       [ 0.81267124]])"
      ]
     },
     "execution_count": 47,
     "metadata": {},
     "output_type": "execute_result"
    }
   ],
   "source": [
    "X[0:10]"
   ]
  },
  {
   "cell_type": "code",
   "execution_count": 48,
   "id": "c937c663-9434-42ac-a3b1-40782fa61a2f",
   "metadata": {},
   "outputs": [],
   "source": [
    "from sklearn.preprocessing import PolynomialFeatures\n",
    "\n",
    "transf_2 = PolynomialFeatures(degree=2, include_bias=False)\n",
    "X_2 = transf_2.fit_transform(X)\n"
   ]
  },
  {
   "cell_type": "code",
   "execution_count": 49,
   "id": "18f47e82-6530-40ac-b09a-de654cb62a57",
   "metadata": {},
   "outputs": [
    {
     "data": {
      "text/plain": [
       "array([[ 2.1278965 ,  4.5279435 ],\n",
       "       [ 0.33955771,  0.11529944],\n",
       "       [-2.79817013,  7.82975609],\n",
       "       [-0.29257262,  0.08559874],\n",
       "       [-2.97226969,  8.83438713],\n",
       "       [ 0.5361318 ,  0.28743731],\n",
       "       [ 2.58691547,  6.69213167],\n",
       "       [-2.05126779,  4.20769955],\n",
       "       [-1.1276572 ,  1.27161075],\n",
       "       [ 0.81267124,  0.66043455]])"
      ]
     },
     "execution_count": 49,
     "metadata": {},
     "output_type": "execute_result"
    }
   ],
   "source": [
    "X_2[0:10]"
   ]
  },
  {
   "cell_type": "code",
   "execution_count": 50,
   "id": "826a2621-1d53-4df6-8464-864364a2c356",
   "metadata": {},
   "outputs": [
    {
     "data": {
      "text/plain": [
       "(array([2.10891233]), array([[2.92594802]]))"
      ]
     },
     "execution_count": 50,
     "metadata": {},
     "output_type": "execute_result"
    }
   ],
   "source": [
    "lin_reg_2 = LinearRegression()\n",
    "lin_reg_2.fit(X_2, y)\n",
    "lin_reg_2.intercept_, lin_reg.coef_"
   ]
  },
  {
   "cell_type": "markdown",
   "id": "ac62b1bf-51af-4bf7-8695-6f822d81931b",
   "metadata": {},
   "source": [
    "**Digamos que recebemos 100 novos exemplos.**"
   ]
  },
  {
   "cell_type": "code",
   "execution_count": 51,
   "id": "b51f9faa-3684-4a3d-aa38-1de7253258d5",
   "metadata": {},
   "outputs": [],
   "source": [
    "X_new = np.linspace(-3, 3, 100).reshape(100, 1)"
   ]
  },
  {
   "cell_type": "code",
   "execution_count": 52,
   "id": "a086e97f-f2b1-4d05-ac08-2f39f98478cc",
   "metadata": {},
   "outputs": [],
   "source": [
    "X_new_2 = transf_2.transform(X_new)\n",
    "y_new_2 = lin_reg_2.predict(X_new_2)"
   ]
  },
  {
   "cell_type": "code",
   "execution_count": 55,
   "id": "643cf14e-fdd1-4937-b58f-2fdc52a39dc5",
   "metadata": {},
   "outputs": [
    {
     "data": {
      "image/png": "[encoded data removed]",
      "text/plain": [
       "<Figure size 432x288 with 1 Axes>"
      ]
     },
     "metadata": {
      "needs_background": "light"
     },
     "output_type": "display_data"
    }
   ],
   "source": [
    "plt.plot(X, y, \"b.\")\n",
    "plt.plot(X_new, y_new_2, \"r-\", linewidth=2, label=\"Predictions\")\n",
    "plt.xlabel(\"$x_1$\", fontsize=18)\n",
    "plt.ylabel(\"$y$\", rotation=0, fontsize=18)\n",
    "plt.legend(loc=\"upper left\", fontsize=14)\n",
    "plt.axis([-3, 3, 0, 10])\n",
    "plt.show()"
   ]
  },
  {
   "cell_type": "markdown",
   "id": "6ecc1115-3377-4a48-be22-9c1eeec7f821",
   "metadata": {},
   "source": [
    "## Analisando situações de overfitting e underfitting pelo hiperparâmetro \"degree\""
   ]
  },
  {
   "cell_type": "code",
   "execution_count": 56,
   "id": "8a200932-9fae-4cea-903a-a0011eb7b280",
   "metadata": {},
   "outputs": [
    {
     "data": {
      "image/png": "[encoded data removed]",
      "text/plain": [
       "<Figure size 432x288 with 1 Axes>"
      ]
     },
     "metadata": {
      "needs_background": "light"
     },
     "output_type": "display_data"
    }
   ],
   "source": [
    "from sklearn.preprocessing import StandardScaler\n",
    "from sklearn.pipeline import Pipeline\n",
    "\n",
    "for style, width, degree in ((\"g-\", 1, 300), (\"b--\", 2, 2), (\"r-+\", 2, 1)):\n",
    "    polybig_features = PolynomialFeatures(degree=degree, include_bias=False)\n",
    "    std_scaler = StandardScaler()\n",
    "    lin_reg = LinearRegression()\n",
    "    polynomial_regression = Pipeline([\n",
    "            (\"poly_features\", polybig_features),\n",
    "            (\"std_scaler\", std_scaler),\n",
    "            (\"lin_reg\", lin_reg),\n",
    "        ])\n",
    "    polynomial_regression.fit(X, y)\n",
    "    y_newbig = polynomial_regression.predict(X_new)\n",
    "    plt.plot(X_new, y_newbig, style, label=str(degree), linewidth=width)\n",
    "\n",
    "plt.plot(X, y, \"b.\", linewidth=3)\n",
    "plt.legend(loc=\"upper left\")\n",
    "plt.xlabel(\"$x_1$\", fontsize=18)\n",
    "plt.ylabel(\"$y$\", rotation=0, fontsize=18)\n",
    "plt.axis([-3, 3, 0, 10])\n",
    "#save_fig(\"high_degree_polynomials_plot\")\n",
    "plt.show()"
   ]
  },
  {
   "cell_type": "markdown",
   "id": "af450b20-3930-4d1e-8e6c-d5973263380f",
   "metadata": {},
   "source": [
    "## Um problema prático de Regressão "
   ]
  },
  {
   "cell_type": "code",
   "execution_count": null,
   "id": "ba631e2d-c922-4e17-87d5-e331b147e1e4",
   "metadata": {},
   "outputs": [],
   "source": []
  }
 ],
 "metadata": {
  "kernelspec": {
   "display_name": "Python 3 (ipykernel)",
   "language": "python",
   "name": "python3"
  },
  "language_info": {
   "codemirror_mode": {
    "name": "ipython",
    "version": 3
   },
   "file_extension": ".py",
   "mimetype": "text/x-python",
   "name": "python",
   "nbconvert_exporter": "python",
   "pygments_lexer": "ipython3",
   "version": "3.9.7"
  }
 },
 "nbformat": 4,
 "nbformat_minor": 5
}
