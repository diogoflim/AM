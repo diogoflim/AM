{
 "cells": [
  {
   "cell_type": "markdown",
   "metadata": {},
   "source": [
    "[![Open In Colab](https://colab.research.google.com/assets/colab-badge.svg)](https://colab.research.google.com/github/diogoflim/AM/blob/main/4_kNN.ipynb)\n"
   ]
  },
  {
   "cell_type": "markdown",
   "metadata": {},
   "source": [
    "# Introdução ao Aprendizado de Máquina\n",
    "\n",
    "**Professor: Diogo Ferreira de Lima Silva (TEP)**\n",
    "\n",
    "**PPGEP - UFF**\n"
   ]
  },
  {
   "cell_type": "markdown",
   "metadata": {
    "id": "n_EfUzz7W625",
    "tags": []
   },
   "source": [
    "# Classificação com o Iris dataset"
   ]
  },
  {
   "cell_type": "markdown",
   "metadata": {
    "tags": []
   },
   "source": [
    "## Entendendo o problema\n",
    "\n",
    "Nossa base de treinamento contém informações sobre 150 flores, divididas em 3 classes (rótulos):\n",
    "\n",
    "- 0: \"setosa\"\n",
    "- 1: \"versicolor\"\n",
    "- 2: \"virginica\"\n",
    "\n",
    "Ao todo, temos quatro atributos:\n",
    "\n",
    "1. largura da sépala em cm\n",
    "2. comprimento da sépala em cm\n",
    "3. largura da pétala em cm\n",
    "4. comprimento da pétala em cm\n",
    "\n",
    "\n",
    "Com base nos nossos dados, queremos aprender uma forma de classificar novas instâncias."
   ]
  },
  {
   "cell_type": "markdown",
   "metadata": {},
   "source": [
    "## Acessando a base de dados\n",
    "\n",
    "A biblioteca sklearn é muito importante para modelagem de AM. Podemos usá-la para acessar a base de dados iris\n"
   ]
  },
  {
   "cell_type": "code",
   "execution_count": 32,
   "metadata": {},
   "outputs": [],
   "source": [
    "from sklearn.datasets import load_iris "
   ]
  },
  {
   "cell_type": "code",
   "execution_count": 33,
   "metadata": {},
   "outputs": [],
   "source": [
    "(X, y) = load_iris(return_X_y = True)"
   ]
  },
  {
   "cell_type": "code",
   "execution_count": 34,
   "metadata": {},
   "outputs": [
    {
     "name": "stdout",
     "output_type": "stream",
     "text": [
      " shape da matriz de atributos: (150, 4)\n",
      " shape do vetor de rótulos de atributos: (150,)\n"
     ]
    }
   ],
   "source": [
    "# Vamos analisar o formato dos nossos dados\n",
    "\n",
    "print (f' shape da matriz de atributos: {X.shape}')\n",
    "print (f' shape do vetor de rótulos de atributos: {y.shape}')\n"
   ]
  },
  {
   "cell_type": "code",
   "execution_count": 35,
   "metadata": {},
   "outputs": [
    {
     "data": {
      "text/plain": [
       "array([[5.1, 3.5, 1.4, 0.2],\n",
       "       [4.9, 3. , 1.4, 0.2],\n",
       "       [4.7, 3.2, 1.3, 0.2],\n",
       "       [4.6, 3.1, 1.5, 0.2],\n",
       "       [5. , 3.6, 1.4, 0.2],\n",
       "       [5.4, 3.9, 1.7, 0.4],\n",
       "       [4.6, 3.4, 1.4, 0.3],\n",
       "       [5. , 3.4, 1.5, 0.2],\n",
       "       [4.4, 2.9, 1.4, 0.2],\n",
       "       [4.9, 3.1, 1.5, 0.1]])"
      ]
     },
     "execution_count": 35,
     "metadata": {},
     "output_type": "execute_result"
    }
   ],
   "source": [
    "# Primeiras 10 linhas da matriz de atributos\n",
    "\n",
    "X[:10]"
   ]
  },
  {
   "cell_type": "code",
   "execution_count": 36,
   "metadata": {},
   "outputs": [
    {
     "data": {
      "text/plain": [
       "array([0, 0, 0, 0, 0, 0, 0, 0, 0, 0, 0, 0, 0, 0, 0, 0, 0, 0, 0, 0, 0, 0,\n",
       "       0, 0, 0, 0, 0, 0, 0, 0, 0, 0, 0, 0, 0, 0, 0, 0, 0, 0, 0, 0, 0, 0,\n",
       "       0, 0, 0, 0, 0, 0, 1, 1, 1, 1, 1, 1, 1, 1, 1, 1, 1, 1, 1, 1, 1, 1,\n",
       "       1, 1, 1, 1, 1, 1, 1, 1, 1, 1, 1, 1, 1, 1, 1, 1, 1, 1, 1, 1, 1, 1,\n",
       "       1, 1, 1, 1, 1, 1, 1, 1, 1, 1, 1, 1, 2, 2, 2, 2, 2, 2, 2, 2, 2, 2,\n",
       "       2, 2, 2, 2, 2, 2, 2, 2, 2, 2, 2, 2, 2, 2, 2, 2, 2, 2, 2, 2, 2, 2,\n",
       "       2, 2, 2, 2, 2, 2, 2, 2, 2, 2, 2, 2, 2, 2, 2, 2, 2, 2])"
      ]
     },
     "execution_count": 36,
     "metadata": {},
     "output_type": "execute_result"
    }
   ],
   "source": [
    "# Vetor de rótulos\n",
    "y"
   ]
  },
  {
   "cell_type": "markdown",
   "metadata": {},
   "source": [
    "### Amostragem"
   ]
  },
  {
   "cell_type": "markdown",
   "metadata": {},
   "source": [
    "Como visto em sala, é importante realizar uma separação entre os dados de treinamento e teste. Isso pode ser feito com a função train_test_split do pacote sklearn"
   ]
  },
  {
   "cell_type": "code",
   "execution_count": 37,
   "metadata": {
    "id": "eFghAz9iZ_Cr"
   },
   "outputs": [],
   "source": [
    "from sklearn.model_selection import train_test_split"
   ]
  },
  {
   "cell_type": "code",
   "execution_count": 38,
   "metadata": {},
   "outputs": [],
   "source": [
    "# Realizaremos uma separação com 20% dos dados para teste e 80% para treinamento\n",
    "\n",
    "X_train, X_test, y_train, y_test = train_test_split(X_norm, y, random_state=0, test_size = 0.2) "
   ]
  },
  {
   "cell_type": "code",
   "execution_count": 39,
   "metadata": {
    "colab": {
     "base_uri": "https://localhost:8080/",
     "height": 34
    },
    "id": "GIm4ZBlyaJR9",
    "outputId": "91b5fb59-22fb-46a0-f14b-a3123c0a7812"
   },
   "outputs": [
    {
     "name": "stdout",
     "output_type": "stream",
     "text": [
      " shape da matriz de de treinamento: (120, 4)\n",
      " shape do vetor de rótulos de treinamento: (120,)\n",
      " shape da matriz de teste: (30, 4)\n",
      " shape do vetor de rótulos de teste: (30,)\n"
     ]
    }
   ],
   "source": [
    "print (f' shape da matriz de de treinamento: {X_train.shape}')\n",
    "print (f' shape do vetor de rótulos de treinamento: {y_train.shape}')\n",
    "print (f' shape da matriz de teste: {X_test.shape}')\n",
    "print (f' shape do vetor de rótulos de teste: {y_test.shape}')"
   ]
  },
  {
   "cell_type": "markdown",
   "metadata": {
    "id": "LqYxep92YyGx"
   },
   "source": [
    "### Normalização"
   ]
  },
  {
   "cell_type": "code",
   "execution_count": 40,
   "metadata": {},
   "outputs": [],
   "source": [
    "from sklearn.preprocessing import MinMaxScaler"
   ]
  },
  {
   "cell_type": "code",
   "execution_count": 41,
   "metadata": {},
   "outputs": [
    {
     "data": {
      "text/plain": [
       "array([[0.58333333, 0.45833333, 0.75862069, 0.70833333],\n",
       "       [0.30555556, 0.41666667, 0.5862069 , 0.58333333],\n",
       "       [0.25      , 0.625     , 0.06896552, 0.04166667],\n",
       "       [0.5       , 0.41666667, 0.65517241, 0.70833333],\n",
       "       [0.58333333, 0.33333333, 0.77586207, 0.875     ],\n",
       "       [0.25      , 0.29166667, 0.48275862, 0.54166667],\n",
       "       [0.38888889, 0.75      , 0.10344828, 0.08333333],\n",
       "       [0.47222222, 0.29166667, 0.68965517, 0.625     ],\n",
       "       [0.44444444, 0.41666667, 0.53448276, 0.58333333],\n",
       "       [0.41666667, 0.25      , 0.5       , 0.45833333]])"
      ]
     },
     "execution_count": 41,
     "metadata": {},
     "output_type": "execute_result"
    }
   ],
   "source": [
    "escala = MinMaxScaler()\n",
    "escala.fit(X_train)\n",
    "X_train_norm =  escala.transform(X_train)\n",
    "\n",
    "X_train_norm [:10]"
   ]
  },
  {
   "cell_type": "markdown",
   "metadata": {},
   "source": [
    "## Classificação com o k-NN\n"
   ]
  },
  {
   "cell_type": "code",
   "execution_count": 42,
   "metadata": {},
   "outputs": [],
   "source": [
    "# Para aplicar o classificador, podemos importar o método KNeighborsClassifier\n",
    "\n",
    "from sklearn.neighbors import KNeighborsClassifier"
   ]
  },
  {
   "cell_type": "code",
   "execution_count": 43,
   "metadata": {
    "colab": {
     "base_uri": "https://localhost:8080/",
     "height": 69
    },
    "id": "X0nGniYeaUl7",
    "outputId": "81cbf6b1-0c34-4142-9ea9-2456e7abdb36"
   },
   "outputs": [],
   "source": [
    "# Inicialmente, criamos o objeto chamando o modelo e passando o hiperparâmetro k=5 (número de vizinhos)\n",
    "\n",
    "knn = KNeighborsClassifier (n_neighbors= 5) "
   ]
  },
  {
   "cell_type": "code",
   "execution_count": 44,
   "metadata": {},
   "outputs": [
    {
     "data": {
      "text/plain": [
       "KNeighborsClassifier()"
      ]
     },
     "execution_count": 44,
     "metadata": {},
     "output_type": "execute_result"
    }
   ],
   "source": [
    "# Na fase de treinamento, ajustamos a função. Lembrando que, no caso do k-NN, nosso algoritmo é lazy.\n",
    "\n",
    "# Assim, o treinamento consiste basicamente na memorização dos dados.\n",
    "\n",
    "knn.fit(X_train, y_train)"
   ]
  },
  {
   "cell_type": "code",
   "execution_count": 45,
   "metadata": {
    "id": "ANPBHz8xbC19"
   },
   "outputs": [],
   "source": [
    "# Agora, podemos aplicar nosso método aos exemplos de teste\n",
    "\n",
    "X_test_norm = escala.transform(X_test)\n",
    "y_pred = knn.predict(X_test_norm) # y_pred receberá os valores previstos com base nos 5 vizinhos mais próximos"
   ]
  },
  {
   "cell_type": "code",
   "execution_count": 46,
   "metadata": {},
   "outputs": [
    {
     "data": {
      "text/plain": [
       "array([2, 1, 0, 2, 0, 2, 0, 1, 1, 1, 2, 1, 1, 1, 1, 0, 1, 1, 0, 0, 2, 1,\n",
       "       0, 0, 2, 0, 0, 1, 1, 0])"
      ]
     },
     "execution_count": 46,
     "metadata": {},
     "output_type": "execute_result"
    }
   ],
   "source": [
    "y_pred"
   ]
  },
  {
   "cell_type": "markdown",
   "metadata": {},
   "source": [
    "## Performance\n",
    "\n",
    "Chegou a hora de testarmos a performance que obtivemos em nosso experimento.\n",
    "\n",
    "Para isso, vamos carregar as métricas inseridas no sklearn e aplicar o método accuracy_score"
   ]
  },
  {
   "cell_type": "code",
   "execution_count": 47,
   "metadata": {},
   "outputs": [],
   "source": [
    "from sklearn import metrics"
   ]
  },
  {
   "cell_type": "code",
   "execution_count": 48,
   "metadata": {
    "colab": {
     "base_uri": "https://localhost:8080/",
     "height": 34
    },
    "id": "k06WHXLvbKlT",
    "outputId": "1d6e0896-2a05-4155-809b-79a3a6120b7a"
   },
   "outputs": [
    {
     "data": {
      "text/plain": [
       "1.0"
      ]
     },
     "execution_count": 48,
     "metadata": {},
     "output_type": "execute_result"
    }
   ],
   "source": [
    "metrics.accuracy_score(y_test, y_pred)"
   ]
  },
  {
   "cell_type": "markdown",
   "metadata": {},
   "source": [
    "Atingimos uma acurácia de 100% no exemplo.\n",
    "\n",
    "**Será que obteríamos uma outra acurácia caso a nossa partição (treino / teste) fosse diferente?**\n",
    "\n",
    "- **Não necessariamente!**"
   ]
  },
  {
   "cell_type": "code",
   "execution_count": 52,
   "metadata": {},
   "outputs": [
    {
     "data": {
      "text/plain": [
       "0.9666666666666667"
      ]
     },
     "execution_count": 52,
     "metadata": {},
     "output_type": "execute_result"
    }
   ],
   "source": [
    "X2_train, X2_test, y2_train, y2_test = train_test_split(X, y, random_state=2, test_size = 0.2)\n",
    "escala = MinMaxScaler()\n",
    "X2_train_norm = escala.fit_transform(X2_train)\n",
    "X2_test_norm = escala.transform(X2_test)\n",
    "y2_pred = knn.fit(X2_train_norm, y2_train).predict(X2_test_norm)\n",
    "metrics.accuracy_score(y2_test, y2_pred)\n"
   ]
  },
  {
   "cell_type": "markdown",
   "metadata": {},
   "source": [
    "Ou seja, mudando a semente da geração do número aleatório, obtivemos um resultado diferente!"
   ]
  },
  {
   "cell_type": "markdown",
   "metadata": {
    "id": "PRoPvpYwZXUX"
   },
   "source": [
    "# Aplicando validação cruzada"
   ]
  },
  {
   "cell_type": "markdown",
   "metadata": {
    "id": "3ursFefPgbim"
   },
   "source": [
    "## r-fold cross validation"
   ]
  },
  {
   "cell_type": "markdown",
   "metadata": {
    "id": "JQnsSCwWfhtf"
   },
   "source": [
    "1. Particione os dados em r subconjuntos;\n",
    "\n",
    "2. \"Guarde\" um subconjunto para o teste da função aprendida pelos demais (r-1) subconjuntos, usados no treinamento;\n",
    "\n",
    "3.  Calcule a acurácia comparando as previsões com os rótulos verdadeiros do conjunto de teste;\n",
    "\n",
    "4.  Os passos 2 e 3 são realizados r vezes, cada uma das vezes com um dos subconjuntos usado como teste e os demais no treinamento;  \n",
    "\n",
    "5. Calcule a média das performances obtidas;"
   ]
  },
  {
   "cell_type": "code",
   "execution_count": 53,
   "metadata": {},
   "outputs": [],
   "source": [
    "from sklearn.model_selection import cross_val_score"
   ]
  },
  {
   "cell_type": "code",
   "execution_count": 21,
   "metadata": {
    "id": "XyLYXdi8YJUv"
   },
   "outputs": [],
   "source": [
    "knn = KNeighborsClassifier(n_neighbors= 5)"
   ]
  },
  {
   "cell_type": "code",
   "execution_count": 54,
   "metadata": {
    "id": "Fv4QeyYRdnk0"
   },
   "outputs": [
    {
     "data": {
      "text/plain": [
       "array([0.96666667, 0.96666667, 0.96666667, 0.9       , 1.        ])"
      ]
     },
     "execution_count": 54,
     "metadata": {},
     "output_type": "execute_result"
    }
   ],
   "source": [
    "scores = cross_val_score(knn, X_norm, y , cv = 5, scoring= 'accuracy') # cv = 5 partições\n",
    "scores"
   ]
  },
  {
   "cell_type": "code",
   "execution_count": 56,
   "metadata": {
    "colab": {
     "base_uri": "https://localhost:8080/",
     "height": 34
    },
    "id": "pGAkeZJOd2ub",
    "outputId": "ae0504aa-14ee-49d4-c38b-9954640f357f"
   },
   "outputs": [
    {
     "data": {
      "text/plain": [
       "0.96"
      ]
     },
     "execution_count": 56,
     "metadata": {},
     "output_type": "execute_result"
    }
   ],
   "source": [
    "scores.mean()"
   ]
  },
  {
   "cell_type": "markdown",
   "metadata": {},
   "source": [
    "Nossa performance média não foi tão diferente da performance encontrada anteriormente, ficando apenas um pouco abaixo"
   ]
  },
  {
   "cell_type": "markdown",
   "metadata": {},
   "source": [
    "# Testando diferentes valores de k"
   ]
  },
  {
   "cell_type": "code",
   "execution_count": 57,
   "metadata": {},
   "outputs": [],
   "source": [
    "scaler = MinMaxScaler()\n",
    "X_norm = scaler.fit_transform(X)"
   ]
  },
  {
   "cell_type": "code",
   "execution_count": 93,
   "metadata": {
    "id": "ce4qPaaGd8Bd"
   },
   "outputs": [],
   "source": [
    "k_range = range(1, 9)\n",
    "k_scores = []\n",
    "\n",
    "for k in k_range:\n",
    "  knn = KNeighborsClassifier(n_neighbors= k)\n",
    "  scores = cross_val_score(knn, X_norm, y , cv = 5, scoring= 'accuracy')\n",
    "  k_scores.append(scores.mean())"
   ]
  },
  {
   "cell_type": "code",
   "execution_count": 94,
   "metadata": {},
   "outputs": [],
   "source": [
    "import pandas as pd"
   ]
  },
  {
   "cell_type": "code",
   "execution_count": 95,
   "metadata": {
    "colab": {
     "base_uri": "https://localhost:8080/",
     "height": 707
    },
    "id": "vhNvPGZtoKqQ",
    "outputId": "b7e274c5-c59e-4637-cdc4-3e56371ef4ae"
   },
   "outputs": [
    {
     "data": {
      "text/html": [
       "<div>\n",
       "<style scoped>\n",
       "    .dataframe tbody tr th:only-of-type {\n",
       "        vertical-align: middle;\n",
       "    }\n",
       "\n",
       "    .dataframe tbody tr th {\n",
       "        vertical-align: top;\n",
       "    }\n",
       "\n",
       "    .dataframe thead th {\n",
       "        text-align: right;\n",
       "    }\n",
       "</style>\n",
       "<table border=\"1\" class=\"dataframe\">\n",
       "  <thead>\n",
       "    <tr style=\"text-align: right;\">\n",
       "      <th></th>\n",
       "      <th>Número de vizinhos</th>\n",
       "      <th>Acurácia</th>\n",
       "    </tr>\n",
       "  </thead>\n",
       "  <tbody>\n",
       "    <tr>\n",
       "      <th>0</th>\n",
       "      <td>1</td>\n",
       "      <td>0.953333</td>\n",
       "    </tr>\n",
       "    <tr>\n",
       "      <th>1</th>\n",
       "      <td>2</td>\n",
       "      <td>0.960000</td>\n",
       "    </tr>\n",
       "    <tr>\n",
       "      <th>2</th>\n",
       "      <td>3</td>\n",
       "      <td>0.953333</td>\n",
       "    </tr>\n",
       "    <tr>\n",
       "      <th>3</th>\n",
       "      <td>4</td>\n",
       "      <td>0.966667</td>\n",
       "    </tr>\n",
       "    <tr>\n",
       "      <th>4</th>\n",
       "      <td>5</td>\n",
       "      <td>0.960000</td>\n",
       "    </tr>\n",
       "    <tr>\n",
       "      <th>5</th>\n",
       "      <td>6</td>\n",
       "      <td>0.966667</td>\n",
       "    </tr>\n",
       "    <tr>\n",
       "      <th>6</th>\n",
       "      <td>7</td>\n",
       "      <td>0.960000</td>\n",
       "    </tr>\n",
       "    <tr>\n",
       "      <th>7</th>\n",
       "      <td>8</td>\n",
       "      <td>0.960000</td>\n",
       "    </tr>\n",
       "  </tbody>\n",
       "</table>\n",
       "</div>"
      ],
      "text/plain": [
       "   Número de vizinhos  Acurácia\n",
       "0                   1  0.953333\n",
       "1                   2  0.960000\n",
       "2                   3  0.953333\n",
       "3                   4  0.966667\n",
       "4                   5  0.960000\n",
       "5                   6  0.966667\n",
       "6                   7  0.960000\n",
       "7                   8  0.960000"
      ]
     },
     "execution_count": 95,
     "metadata": {},
     "output_type": "execute_result"
    }
   ],
   "source": [
    "cv_results = pd.DataFrame({'Número de vizinhos': k_range, 'Acurácia': k_scores})\n",
    "cv_results"
   ]
  }
 ],
 "metadata": {
  "colab": {
   "collapsed_sections": [],
   "name": "Cópia de classification_project_1.ipynb",
   "provenance": []
  },
  "kernelspec": {
   "display_name": "Python 3.9.7 ('base')",
   "language": "python",
   "name": "python3"
  },
  "language_info": {
   "codemirror_mode": {
    "name": "ipython",
    "version": 3
   },
   "file_extension": ".py",
   "mimetype": "text/x-python",
   "name": "python",
   "nbconvert_exporter": "python",
   "pygments_lexer": "ipython3",
   "version": "3.9.7"
  },
  "vscode": {
   "interpreter": {
    "hash": "e4cce46d6be9934fbd27f9ca0432556941ea5bdf741d4f4d64c6cd7f8dfa8fba"
   }
  }
 },
 "nbformat": 4,
 "nbformat_minor": 4
}
