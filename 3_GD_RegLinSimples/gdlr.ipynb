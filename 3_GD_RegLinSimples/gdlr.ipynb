{
 "cells": [
  {
   "cell_type": "markdown",
   "metadata": {},
   "source": [
    "[![Open In Colab](https://colab.research.google.com/assets/colab-badge.svg)](https://colab.research.google.com/github/diogoflim/AM/blob/main/3_GD_RegLinSimples/gdlr.ipynb)\n"
   ]
  },
  {
   "cell_type": "markdown",
   "metadata": {},
   "source": [
    "# Aprendizado de máquina e decisões dirigidas por dados\n",
    "\n",
    "**Professor: Diogo Ferreira de Lima Silva (TEP)**\n",
    "\n",
    "**TPP - UFF**\n",
    "\n",
    "**Aula 3**"
   ]
  },
  {
   "cell_type": "markdown",
   "metadata": {},
   "source": [
    "# Gradiente Descendente em Regressão Linear\n",
    "\n",
    "Nessa aula, vamos implementar o algoritmo gradiente descendente para regressão linear.\n",
    "\n",
    "Inicialmente, trabalharemos o caso com 1 atributo e depois passaremos para o caso genérico."
   ]
  },
  {
   "cell_type": "code",
   "execution_count": 320,
   "metadata": {},
   "outputs": [],
   "source": [
    "### Bibliotecas\n",
    "import copy\n",
    "import numpy as np\n",
    "%matplotlib inline\n",
    "import matplotlib.pyplot as plt"
   ]
  },
  {
   "cell_type": "markdown",
   "metadata": {},
   "source": [
    "## Caso com 1 Atributo"
   ]
  },
  {
   "cell_type": "markdown",
   "metadata": {},
   "source": [
    "Iniciaremos criando um vetor de valores aleatórios para o nosso alearórios e os respectivos rótulos seguindo um relacionamento linear, conforme realizado na aula 2."
   ]
  },
  {
   "cell_type": "code",
   "execution_count": 567,
   "metadata": {},
   "outputs": [],
   "source": [
    "# gerando valores para o nosso atributo x\n",
    "x = np.array([1.0, 2.0, 3.0, 4.0])   \n",
    "\n",
    "# gerando valores para os rótulos associados\n",
    "y = np.array([300.0, 500.0, 780, 1000]) "
   ]
  },
  {
   "cell_type": "code",
   "execution_count": 568,
   "metadata": {},
   "outputs": [
    {
     "name": "stdout",
     "output_type": "stream",
     "text": [
      "valores de x: \n",
      "[1. 2. 3. 4.]\n",
      "valores de y: \n",
      "[ 300.  500.  780. 1000.]\n"
     ]
    }
   ],
   "source": [
    "print(f\"valores de x: \\n{x}\")\n",
    "print(f\"valores de y: \\n{y}\")"
   ]
  },
  {
   "cell_type": "markdown",
   "metadata": {},
   "source": [
    "### Função custo"
   ]
  },
  {
   "cell_type": "code",
   "execution_count": 574,
   "metadata": {},
   "outputs": [],
   "source": [
    "def custo_total (x, y, w, b):\n",
    "    m = x.shape[0] \n",
    "    custo = 0\n",
    "    for i in range(m):\n",
    "        f_wb = w * x[i] + b\n",
    "        custo = custo + (f_wb - y[i])**2 \n",
    "    J = (1 / (2 * m)) * custo\n",
    "    return J"
   ]
  },
  {
   "cell_type": "code",
   "execution_count": 575,
   "metadata": {},
   "outputs": [
    {
     "data": {
      "text/plain": [
       "243550.0"
      ]
     },
     "execution_count": 575,
     "metadata": {},
     "output_type": "execute_result"
    }
   ],
   "source": [
    "custo_total(x, y, 0, 0)"
   ]
  },
  {
   "cell_type": "code",
   "execution_count": 585,
   "metadata": {},
   "outputs": [
    {
     "data": {
      "text/plain": [
       "array([[1., 1.],\n",
       "       [1., 2.],\n",
       "       [1., 3.],\n",
       "       [1., 4.]])"
      ]
     },
     "execution_count": 585,
     "metadata": {},
     "output_type": "execute_result"
    }
   ],
   "source": [
    "x_novo = np.array( [[1 for i in range (len(x))], \n",
    "                    [x[i] for i in range (len(x))]]).T\n",
    "\n",
    "x_novo"
   ]
  },
  {
   "cell_type": "code",
   "execution_count": 591,
   "metadata": {},
   "outputs": [
    {
     "name": "stdout",
     "output_type": "stream",
     "text": [
      "w = 238.00000000000003 e b = 49.9999999999996\n",
      "Custo = 134.9999999999996\n"
     ]
    }
   ],
   "source": [
    "w_hat = np.linalg.inv(x_novo.T.dot(x_novo)).dot(x_novo.T).dot(y)\n",
    "\n",
    "print(f'w = {w_hat[1]} e b = {w_hat[0]}')\n",
    "\n",
    "print(f'Custo = {custo_total(x,y,w_hat[1], w_hat[0])}')"
   ]
  },
  {
   "cell_type": "markdown",
   "metadata": {},
   "source": [
    "### Função gradiente"
   ]
  },
  {
   "cell_type": "code",
   "execution_count": 592,
   "metadata": {},
   "outputs": [],
   "source": [
    "def gradiente(x, y, w, b): \n",
    "    m = x.shape[0] # numero de exemplos   \n",
    "    dj_dw = 0\n",
    "    dj_db = 0\n",
    "    # loop nos exemplos \n",
    "    for i in range(m):  \n",
    "        # Primeiro calculamos o valor da função linear no exemplo i\n",
    "        f_wb = w * x[i] + b \n",
    "        # Calculamos a contribuição do exemplo i para as derivadas (no somatório)\n",
    "        dj_dw_i = (f_wb - y[i]) * x[i] \n",
    "        dj_db_i = f_wb - y[i] \n",
    "        # Acrescentamos a contribuição de i no valor das derivadas\n",
    "        dj_db += dj_db_i\n",
    "        dj_dw += dj_dw_i \n",
    "    # Ao deixar o loop, temos o valor dos somatórios associados às derivadas.\n",
    "    # Ainda precisamos dividir por m\n",
    "    dj_dw = dj_dw / m \n",
    "    dj_db = dj_db / m \n",
    "        \n",
    "    return dj_dw, dj_db"
   ]
  },
  {
   "cell_type": "code",
   "execution_count": 595,
   "metadata": {},
   "outputs": [
    {
     "data": {
      "text/plain": [
       "(-1910.0, -645.0)"
      ]
     },
     "execution_count": 595,
     "metadata": {},
     "output_type": "execute_result"
    }
   ],
   "source": [
    "gradiente(x,y, 0, 0)"
   ]
  },
  {
   "cell_type": "markdown",
   "metadata": {},
   "source": [
    "### Gradiente Descendente"
   ]
  },
  {
   "cell_type": "code",
   "execution_count": 596,
   "metadata": {},
   "outputs": [],
   "source": [
    "def gradiente_descente (x, y, w_in, b_in, alfa, num_iters, f_custo, f_gradiente): \n",
    "    # Por precaução, vamos guardar o valor de nossos chutes iniciais \n",
    "    w = copy.deepcopy(w_in) \n",
    "    J_lista = []\n",
    "    parametros_lista = []\n",
    "    b = b_in\n",
    "    w = w_in\n",
    "    # Em cada iteração i\n",
    "    for i in range(num_iters):\n",
    "        # Calculamos o valor das derivadas parciais com a função gradiente\n",
    "        dj_dw, dj_db = f_gradiente(x, y, w ,b)     \n",
    "        # Atualizamos o valor dos parâmetros w e b\n",
    "        b = b - alfa * dj_db                            \n",
    "        w = w - alfa * dj_dw                            \n",
    "        # Salvamos o valor de J no iteração i\n",
    "        J_lista.append(f_custo(x, y, w, b))\n",
    "        parametros_lista.append([w,b])\n",
    "    \n",
    "    return w, b, J_lista, parametros_lista"
   ]
  },
  {
   "cell_type": "code",
   "execution_count": 629,
   "metadata": {},
   "outputs": [],
   "source": [
    "w, b, J_lista, parametros_lista = gradiente_descente (x, y, w_in = 0, b_in = 0, \n",
    "                                                     alfa = 10, num_iters = 10, \n",
    "                                                    f_custo = custo_total, f_gradiente = gradiente)"
   ]
  },
  {
   "cell_type": "code",
   "execution_count": 637,
   "metadata": {},
   "outputs": [
    {
     "name": "stdout",
     "output_type": "stream",
     "text": [
      "No ótimo, w = 238.00000000000003, b = 49.9999999999996, J = 134.9999999999996\n",
      "\n",
      "Encontramos w = -3.339717580544703e+21, b = -1.1359112448752288e+21 e J = J = 5.195562975598518e+43\n"
     ]
    }
   ],
   "source": [
    "print(f'No ótimo, w = {w_hat[1]}, b = {w_hat[0]}, J = {custo_total(x,y, w_hat[1], w_hat[0])}\\n')\n",
    "\n",
    "print(f'Encontramos w = {w}, b = {b} e J = J = {custo_total(x,y, w, b)}')\n"
   ]
  },
  {
   "cell_type": "code",
   "execution_count": 650,
   "metadata": {},
   "outputs": [
    {
     "name": "stdout",
     "output_type": "stream",
     "text": [
      "Na iteração = 1, encontramos J = 1656428550.0\n",
      "Na iteração = 2, encontramos J = 11274899040425.0\n",
      "Na iteração = 3, encontramos J = 7.674545331108854e+16\n",
      "Na iteração = 4, encontramos J = 5.2238734758329215e+20\n",
      "Na iteração = 5, encontramos J = 3.5557616658924533e+24\n",
      "------------------\n",
      "Custo Final na iteração 10 = 5.195562975598518e+43\n"
     ]
    }
   ],
   "source": [
    "for i in range (5):\n",
    "    print(f'Na iteração = {i+1}, encontramos J = {J_lista[i]}')\n",
    "print('------------------')\n",
    "print(f'Custo Final na iteração {len(J_lista)} = {J_lista[-1]}')\n"
   ]
  }
 ],
 "metadata": {
  "kernelspec": {
   "display_name": "Python 3.9.7 ('base')",
   "language": "python",
   "name": "python3"
  },
  "language_info": {
   "codemirror_mode": {
    "name": "ipython",
    "version": 3
   },
   "file_extension": ".py",
   "mimetype": "text/x-python",
   "name": "python",
   "nbconvert_exporter": "python",
   "pygments_lexer": "ipython3",
   "version": "3.9.7"
  },
  "orig_nbformat": 4,
  "vscode": {
   "interpreter": {
    "hash": "e4cce46d6be9934fbd27f9ca0432556941ea5bdf741d4f4d64c6cd7f8dfa8fba"
   }
  }
 },
 "nbformat": 4,
 "nbformat_minor": 2
}
