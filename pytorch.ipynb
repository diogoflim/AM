{
 "cells": [
  {
   "cell_type": "markdown",
   "metadata": {},
   "source": [
    "## PyTorch"
   ]
  },
  {
   "cell_type": "markdown",
   "metadata": {},
   "source": [
    "## Multilayer Percaptron com Pytorch"
   ]
  },
  {
   "cell_type": "markdown",
   "metadata": {},
   "source": [
    "Vamos aplicar um perceptron multi-camadas para classificação do **Iris Dataset**.\n",
    "\n",
    "Inicialmente, realizaremos o download do conjunto de dados com a biblioteca sklearn.\n",
    "\n",
    "\n",
    "Esta aplicação pode ser encontrada em: \n",
    "- Raschka, S., Liu, Y. H., Mirjalili, V., & Dzhulgakov, D. (2022). Machine Learning with PyTorch and Scikit-Learn: Develop machine learning and deep learning models with Python. Packt Publishing Ltd.\n",
    "\n",
    "- Veja também o código do capítulo 9: https://github.com/rasbt/machine-learning-book"
   ]
  },
  {
   "cell_type": "code",
   "execution_count": 12,
   "metadata": {},
   "outputs": [],
   "source": [
    "from sklearn.datasets import load_iris"
   ]
  },
  {
   "cell_type": "code",
   "execution_count": 13,
   "metadata": {},
   "outputs": [
    {
     "name": "stdout",
     "output_type": "stream",
     "text": [
      "[[5.1 3.5 1.4 0.2]\n",
      " [4.9 3.  1.4 0.2]\n",
      " [4.7 3.2 1.3 0.2]\n",
      " [4.6 3.1 1.5 0.2]\n",
      " [5.  3.6 1.4 0.2]\n",
      " [5.4 3.9 1.7 0.4]\n",
      " [4.6 3.4 1.4 0.3]\n",
      " [5.  3.4 1.5 0.2]\n",
      " [4.4 2.9 1.4 0.2]\n",
      " [4.9 3.1 1.5 0.1]]\n",
      "[0 0 0 0 0 0 0 0 0 0 0 0 0 0 0 0 0 0 0 0 0 0 0 0 0 0 0 0 0 0 0 0 0 0 0 0 0\n",
      " 0 0 0 0 0 0 0 0 0 0 0 0 0 1 1 1 1 1 1 1 1 1 1 1 1 1 1 1 1 1 1 1 1 1 1 1 1\n",
      " 1 1 1 1 1 1 1 1 1 1 1 1 1 1 1 1 1 1 1 1 1 1 1 1 1 1 2 2 2 2 2 2 2 2 2 2 2\n",
      " 2 2 2 2 2 2 2 2 2 2 2 2 2 2 2 2 2 2 2 2 2 2 2 2 2 2 2 2 2 2 2 2 2 2 2 2 2\n",
      " 2 2]\n"
     ]
    }
   ],
   "source": [
    "iris = load_iris()\n",
    "X = iris['data']\n",
    "y = iris['target']\n",
    "\n",
    "print(X[:10])\n",
    "print(y)"
   ]
  },
  {
   "cell_type": "markdown",
   "metadata": {},
   "source": [
    "Dividindo os dados em um conjunto de treinamento e teste"
   ]
  },
  {
   "cell_type": "code",
   "execution_count": 14,
   "metadata": {},
   "outputs": [],
   "source": [
    "from sklearn.model_selection import train_test_split"
   ]
  },
  {
   "cell_type": "code",
   "execution_count": 15,
   "metadata": {},
   "outputs": [],
   "source": [
    "X_train, X_test, y_train, y_test = train_test_split (X, y, test_size=1./3, random_state=1)"
   ]
  },
  {
   "cell_type": "code",
   "execution_count": 16,
   "metadata": {},
   "outputs": [
    {
     "name": "stdout",
     "output_type": "stream",
     "text": [
      "(100, 4)\n",
      "(100,)\n",
      "-------\n",
      "(50, 4)\n",
      "(50,)\n"
     ]
    }
   ],
   "source": [
    "print(X_train.shape)\n",
    "print(y_train.shape)\n",
    "print('-------')\n",
    "print(X_test.shape)\n",
    "print(y_test.shape)"
   ]
  },
  {
   "cell_type": "markdown",
   "metadata": {},
   "source": [
    "Agora, normalizaremos o conjunto de treinamento:"
   ]
  },
  {
   "cell_type": "code",
   "execution_count": 17,
   "metadata": {},
   "outputs": [],
   "source": [
    "import numpy as np"
   ]
  },
  {
   "cell_type": "code",
   "execution_count": 18,
   "metadata": {},
   "outputs": [
    {
     "data": {
      "text/plain": [
       "array([[ 0.8389246 , -0.02752244, -0.99590442, -1.65848156],\n",
       "       [ 1.04279449,  0.02344504, -1.09783936, -1.65848156],\n",
       "       [ 2.16407889,  0.17634746,  1.65440417, -0.63913211],\n",
       "       [ 1.75633911, -0.18042485,  0.99182702, -0.69009958],\n",
       "       [ 1.960209  , -0.2823598 ,  1.45053428, -0.843002  ],\n",
       "       [ 1.50150175, -0.33332727,  1.09376197, -0.63913211],\n",
       "       [ 1.3995668 , -0.33332727,  0.68602218, -0.843002  ],\n",
       "       [ 1.29763186, -0.02752244,  0.53311977, -0.94493695],\n",
       "       [ 2.16407889, -0.33332727,  1.65440417, -0.74106705],\n",
       "       [ 1.14472944, -0.23139233,  0.38021735, -1.14880684],\n",
       "       [ 0.68602218, -0.02752244, -0.94493695, -1.65848156],\n",
       "       [ 1.14472944, -0.48622969,  0.78795713, -0.74106705],\n",
       "       [ 1.45053428, -0.38429474,  0.73698966, -0.843002  ],\n",
       "       [ 0.68602218, -0.23139233, -1.04687189, -1.70944904],\n",
       "       [ 0.63505471, -0.12945738, -1.09783936, -1.65848156],\n",
       "       [ 1.55246922, -0.23139233,  1.19569691, -0.63913211],\n",
       "       [ 0.58408724, -0.02752244, -1.04687189, -1.60751409],\n",
       "       [ 1.34859933, -0.23139233,  0.73698966, -0.843002  ],\n",
       "       [ 1.55246922, -0.12945738,  0.8389246 , -0.74106705],\n",
       "       [ 1.65440417, -0.18042485,  0.48215229, -1.04687189],\n",
       "       [ 1.14472944, -0.33332727,  0.53311977, -1.09783936],\n",
       "       [ 1.65440417, -0.07848991,  1.14472944, -0.48622969],\n",
       "       [ 1.29763186, -0.23139233,  0.68602218, -0.843002  ],\n",
       "       [ 0.8389246 ,  0.17634746, -0.94493695, -1.65848156],\n",
       "       [ 1.29763186, -0.63913211,  0.2782824 , -1.25074178],\n",
       "       [ 1.50150175, -0.2823598 ,  0.43118482, -1.09783936],\n",
       "       [ 1.55246922, -0.23139233,  1.04279449, -0.843002  ],\n",
       "       [ 0.78795713, -0.58816464, -0.07848991, -1.25074178],\n",
       "       [ 1.45053428, -0.07848991,  1.29763186, -0.48622969],\n",
       "       [ 1.04279449, -0.48622969,  0.2782824 , -1.09783936],\n",
       "       [ 0.99182702,  0.12537998, -0.99590442, -1.65848156],\n",
       "       [ 0.73698966, -0.18042485, -0.99590442, -1.65848156],\n",
       "       [ 0.88989207,  0.32924987, -0.99590442, -1.70944904],\n",
       "       [ 1.65440417, -0.07848991,  1.14472944, -0.69009958],\n",
       "       [ 0.48215229, -0.23139233, -1.09783936, -1.65848156],\n",
       "       [ 1.29763186, -0.38429474,  0.8389246 , -0.94493695],\n",
       "       [ 1.50150175, -0.38429474,  0.94085955, -0.79203453],\n",
       "       [ 1.24666438, -0.23139233,  0.8389246 , -0.843002  ],\n",
       "       [ 0.88989207,  0.02344504, -0.99590442, -1.65848156],\n",
       "       [ 0.8389246 , -0.07848991, -0.89396947, -1.50557915],\n",
       "       [ 1.19569691, -0.38429474,  0.32924987, -1.25074178],\n",
       "       [ 0.73698966, -0.18042485, -0.99590442, -1.70944904],\n",
       "       [ 2.01117648, -0.33332727,  1.34859933, -0.79203453],\n",
       "       [ 1.3995668 , -0.2823598 ,  0.43118482, -1.09783936],\n",
       "       [ 2.11311142, -0.23139233,  1.60343669, -0.69009958],\n",
       "       [ 1.65440417, -0.23139233,  0.88989207, -0.58816464],\n",
       "       [ 1.45053428, -0.58816464,  0.48215229, -1.09783936],\n",
       "       [ 1.3995668 , -0.02752244,  0.99182702, -0.58816464],\n",
       "       [ 1.90924153,  0.07441251,  1.34859933, -0.48622969],\n",
       "       [ 1.09376197, -0.2823598 ,  0.07441251, -1.09783936],\n",
       "       [ 1.14472944,  0.48215229, -0.99590442, -1.55654662],\n",
       "       [ 1.19569691, -0.38429474,  0.22731493, -1.14880684],\n",
       "       [ 0.53311977, -0.58816464, -1.09783936, -1.60751409],\n",
       "       [ 1.04279449, -0.53719716,  0.17634746, -1.19977431],\n",
       "       [ 1.75633911, -0.18042485,  0.73698966, -0.99590442],\n",
       "       [ 0.78795713, -0.02752244, -0.94493695, -1.55654662],\n",
       "       [ 1.70537164, -0.33332727,  0.68602218, -1.04687189],\n",
       "       [ 0.78795713,  0.02344504, -0.94493695, -1.45461167],\n",
       "       [ 0.68602218, -0.02752244, -0.79203453, -1.65848156],\n",
       "       [ 1.45053428, -0.02752244,  1.09376197, -0.53719716],\n",
       "       [ 1.09376197, -0.33332727,  0.73698966, -0.74106705],\n",
       "       [ 1.70537164, -0.12945738,  1.24666438, -0.58816464],\n",
       "       [ 0.78795713, -0.07848991, -1.04687189, -1.65848156],\n",
       "       [ 0.8389246 ,  0.12537998, -0.99590442, -1.55654662],\n",
       "       [ 1.24666438, -0.12945738,  0.68602218, -0.843002  ],\n",
       "       [ 0.58408724, -0.18042485, -0.99590442, -1.65848156],\n",
       "       [ 1.19569691, -0.38429474,  0.8389246 , -0.79203453],\n",
       "       [ 0.68602218, -0.18042485, -0.94493695, -1.65848156],\n",
       "       [ 1.55246922, -0.23139233,  0.88989207, -0.74106705],\n",
       "       [ 0.73698966, -0.48622969,  0.53311977, -0.89396947],\n",
       "       [ 0.58408724, -0.12945738, -1.04687189, -1.65848156],\n",
       "       [ 1.50150175, -0.12945738,  0.94085955, -0.58816464],\n",
       "       [ 0.43118482, -0.23139233, -1.19977431, -1.70944904],\n",
       "       [ 1.09376197, -0.23139233,  0.32924987, -1.09783936],\n",
       "       [ 0.48215229, -0.2823598 , -1.04687189, -1.65848156],\n",
       "       [ 1.04279449, -0.53719716,  0.12537998, -1.25074178],\n",
       "       [ 0.78795713, -0.74106705,  0.02344504, -1.25074178],\n",
       "       [ 0.8389246 ,  0.02344504, -1.04687189, -1.65848156],\n",
       "       [ 0.73698966, -0.23139233, -1.04687189, -1.65848156],\n",
       "       [ 0.73698966, -0.53719716, -0.07848991, -1.25074178],\n",
       "       [ 0.58408724,  0.07441251, -1.25074178, -1.65848156],\n",
       "       [ 1.24666438, -0.23139233,  0.38021735, -0.99590442],\n",
       "       [ 1.34859933, -0.2823598 ,  0.63505471, -1.04687189],\n",
       "       [ 0.78795713, -0.02752244, -0.99590442, -1.65848156],\n",
       "       [ 1.65440417, -0.18042485,  0.63505471, -0.99590442],\n",
       "       [ 1.14472944, -0.2823598 ,  0.38021735, -1.09783936],\n",
       "       [ 1.3995668 , -0.63913211,  0.53311977, -0.99590442],\n",
       "       [ 1.80730658, -0.12945738,  0.63505471, -1.04687189],\n",
       "       [ 1.19569691, -0.38429474,  0.8389246 , -0.79203453],\n",
       "       [ 0.99182702, -0.02752244, -0.89396947, -1.65848156],\n",
       "       [ 0.78795713, -0.23139233, -0.94493695, -1.65848156],\n",
       "       [ 1.34859933, -0.43526222,  1.09376197, -1.04687189],\n",
       "       [ 1.34859933, -0.33332727,  0.2782824 , -1.09783936],\n",
       "       [ 1.90924153, -0.23139233,  1.19569691, -0.94493695],\n",
       "       [ 1.14472944, -0.43526222,  0.02344504, -1.25074178],\n",
       "       [ 1.45053428, -0.33332727,  0.8389246 , -0.99590442],\n",
       "       [ 1.50150175, -0.18042485,  1.04279449, -0.843002  ],\n",
       "       [ 1.45053428, -0.48622969,  0.73698966, -0.99590442],\n",
       "       [ 1.65440417, -0.18042485,  1.09376197, -0.53719716],\n",
       "       [ 0.73698966,  0.07441251, -1.04687189, -1.70944904]])"
      ]
     },
     "execution_count": 18,
     "metadata": {},
     "output_type": "execute_result"
    }
   ],
   "source": [
    "X_train_norm = (X_train - np.mean(X_train)) / np.std(X_train)\n",
    "X_train_norm"
   ]
  },
  {
   "cell_type": "code",
   "execution_count": 19,
   "metadata": {},
   "outputs": [],
   "source": [
    "import torch\n",
    "from torch.utils.data import TensorDataset\n",
    "from torch.utils.data import DataLoader"
   ]
  },
  {
   "cell_type": "code",
   "execution_count": 20,
   "metadata": {},
   "outputs": [],
   "source": [
    "X_train_norm = torch.from_numpy(X_train_norm).float()\n",
    "y_train = torch.from_numpy(y_train) \n",
    "\n",
    "train_ds = TensorDataset(X_train_norm, y_train)\n",
    "\n"
   ]
  },
  {
   "cell_type": "code",
   "execution_count": 21,
   "metadata": {},
   "outputs": [],
   "source": [
    "torch.manual_seed(1) # definindo uma seed para o PyTorch \n",
    "batch_size = 2 # Tamanho do lote usado para o trainamento (mini-batch Stochastic Gradient Descend)\n",
    "\n",
    "\n",
    "# Definindo um Data Loader para o treinamento. \n",
    "# Essa etapa automatiza o embaralhamento dos lotes e a utilização deles no SGD\n",
    "train_dl = DataLoader(train_ds, batch_size, shuffle=True)"
   ]
  },
  {
   "cell_type": "code",
   "execution_count": 22,
   "metadata": {},
   "outputs": [],
   "source": [
    "from torch import nn"
   ]
  },
  {
   "cell_type": "code",
   "execution_count": 23,
   "metadata": {},
   "outputs": [],
   "source": [
    "class Model(nn.Module):\n",
    "    def __init__(self, input_size, hidden_size, output_size):\n",
    "        super().__init__()\n",
    "        self.seq = nn.Sequential(\n",
    "            nn.Linear(input_size, hidden_size),\n",
    "            nn.Sigmoid(),\n",
    "            nn.Linear(hidden_size, output_size),\n",
    "            nn.Softmax()\n",
    "        )\n",
    "\n",
    "    def forward(self, x):\n",
    "        x = self.seq(x)\n",
    "        return x"
   ]
  },
  {
   "cell_type": "code",
   "execution_count": 104,
   "metadata": {},
   "outputs": [],
   "source": [
    "class Model(nn.Module):\n",
    "    def __init__(self, input_size, hidden_size, output_size):\n",
    "        super().__init__()\n",
    "        self.layer1 = nn.Linear(input_size, hidden_size)  \n",
    "        self.layer2 = nn.Linear(hidden_size, output_size)  \n",
    "\n",
    "    def forward(self, x):\n",
    "        x = self.layer1(x)\n",
    "        x = nn.Sigmoid()(x)\n",
    "        x = self.layer2(x)\n",
    "        x = nn.Softmax(dim=1)(x)\n",
    "        return x"
   ]
  },
  {
   "cell_type": "code",
   "execution_count": 24,
   "metadata": {},
   "outputs": [],
   "source": [
    "input_size = X_train_norm.shape[1]\n",
    "hidden_size = 16\n",
    "output_size = 3\n",
    "\n",
    "model = Model(input_size, hidden_size, output_size)\n",
    "\n",
    "learning_rate = 0.001\n",
    "loss_fn = nn.CrossEntropyLoss()\n",
    "optimizer = torch.optim.Adam(model.parameters(), lr=learning_rate)"
   ]
  },
  {
   "cell_type": "code",
   "execution_count": 25,
   "metadata": {},
   "outputs": [
    {
     "name": "stderr",
     "output_type": "stream",
     "text": [
      "c:\\Anaconda3\\lib\\site-packages\\torch\\nn\\modules\\container.py:217: UserWarning: Implicit dimension choice for softmax has been deprecated. Change the call to include dim=X as an argument.\n",
      "  input = module(input)\n"
     ]
    }
   ],
   "source": [
    "num_epochs = 100\n",
    "loss_hist = [0] * num_epochs\n",
    "accuracy_hist = [0] * num_epochs\n",
    "\n",
    "for epoch in range(num_epochs):\n",
    "\n",
    "    for x_batch, y_batch in train_dl:\n",
    "        pred = model(x_batch)\n",
    "        loss = loss_fn(pred, y_batch.long())\n",
    "        loss.backward()\n",
    "        optimizer.step()\n",
    "        optimizer.zero_grad()\n",
    "    \n",
    "        loss_hist[epoch] += loss.item()*y_batch.size(0)\n",
    "        is_correct = (torch.argmax(pred, dim=1) == y_batch).float()\n",
    "        accuracy_hist[epoch] += is_correct.sum()\n",
    "        \n",
    "    loss_hist[epoch] /= len(train_dl.dataset)\n",
    "    accuracy_hist[epoch] /= len(train_dl.dataset)"
   ]
  },
  {
   "cell_type": "code",
   "execution_count": 27,
   "metadata": {},
   "outputs": [],
   "source": [
    "import matplotlib.pyplot as plt "
   ]
  },
  {
   "cell_type": "code",
   "execution_count": 28,
   "metadata": {},
   "outputs": [
    {
     "data": {
      "image/png": "[encoded data removed]",
      "text/plain": [
       "<Figure size 864x360 with 2 Axes>"
      ]
     },
     "metadata": {
      "needs_background": "light"
     },
     "output_type": "display_data"
    }
   ],
   "source": [
    "fig = plt.figure(figsize=(12, 5))\n",
    "ax = fig.add_subplot(1, 2, 1)\n",
    "ax.plot(loss_hist, lw=3)\n",
    "ax.set_title('Training loss', size=15)\n",
    "ax.set_xlabel('Epoch', size=15)\n",
    "ax.tick_params(axis='both', which='major', labelsize=15)\n",
    "\n",
    "ax = fig.add_subplot(1, 2, 2)\n",
    "ax.plot(accuracy_hist, lw=3)\n",
    "ax.set_title('Training accuracy', size=15)\n",
    "ax.set_xlabel('Epoch', size=15)\n",
    "ax.tick_params(axis='both', which='major', labelsize=15)\n",
    "plt.tight_layout()\n",
    "\n",
    "#plt.savefig('figures/12_09.pdf')\n",
    " \n",
    "plt.show()"
   ]
  },
  {
   "cell_type": "code",
   "execution_count": 29,
   "metadata": {},
   "outputs": [],
   "source": [
    "X_test_norm = (X_test - np.mean(X_train)) / np.std(X_train)\n",
    "X_test_norm = torch.from_numpy(X_test_norm).float()"
   ]
  },
  {
   "cell_type": "code",
   "execution_count": 30,
   "metadata": {},
   "outputs": [
    {
     "name": "stderr",
     "output_type": "stream",
     "text": [
      "c:\\Anaconda3\\lib\\site-packages\\torch\\nn\\modules\\container.py:217: UserWarning: Implicit dimension choice for softmax has been deprecated. Change the call to include dim=X as an argument.\n",
      "  input = module(input)\n"
     ]
    }
   ],
   "source": [
    "y_test = torch.from_numpy(y_test) \n",
    "pred_test = model(X_test_norm)"
   ]
  },
  {
   "cell_type": "code",
   "execution_count": 31,
   "metadata": {},
   "outputs": [
    {
     "name": "stdout",
     "output_type": "stream",
     "text": [
      "Test Acc.: 0.9800\n"
     ]
    }
   ],
   "source": [
    "correct = (torch.argmax(pred_test, dim=1) == y_test).float()\n",
    "accuracy = correct.mean()\n",
    " \n",
    "print(f'Test Acc.: {accuracy:.4f}')"
   ]
  },
  {
   "cell_type": "markdown",
   "metadata": {},
   "source": [
    "# Aplicação com Classificação de Imagens "
   ]
  },
  {
   "cell_type": "markdown",
   "metadata": {},
   "source": [
    "Esta aplicação é parte do tutorial oficial do PyTorch. Pode ser encontrada em:\n",
    "- https://pytorch.org/tutorials/beginner/basics/quickstart_tutorial.html\n",
    "\n"
   ]
  },
  {
   "cell_type": "markdown",
   "metadata": {},
   "source": [
    "### Conjunto de dados\n",
    "\n",
    "O conjunto de dados que utilizaremos nessa aplicação, conhecido como FashionMNIST, está disponível na biblioteca torchvision. \n",
    "\n",
    "Ele inclui um conjunto de imagens de moda e é comumente usado para treinar e testar modelos de aprendizado de máquina.\n",
    "\n",
    "As imagens incluem as seguintes classes:\n",
    "\n",
    "- 0 T-shirt/top\n",
    "- 1 Trouser\n",
    "- 2 Pullover\n",
    "- 3 Dress\n",
    "- 4 Coat\n",
    "- 5 Sandal\n",
    "- 6 Shirt\n",
    "- 7 Sneaker\n",
    "- 8 Bag\n",
    "- 9 Ankle boot"
   ]
  },
  {
   "cell_type": "code",
   "execution_count": 45,
   "metadata": {},
   "outputs": [],
   "source": [
    "from torchvision import datasets # Utilizado para realizar o download do dataset\n",
    "\n",
    "from torchvision.transforms import ToTensor # Utilizado para passar os dados de imagens para o formato de tensor "
   ]
  },
  {
   "cell_type": "code",
   "execution_count": 46,
   "metadata": {},
   "outputs": [],
   "source": [
    "training_data = datasets.FashionMNIST(\n",
    "    root=\"data\",\n",
    "    train=True,\n",
    "    download=True,\n",
    "    transform=ToTensor(),\n",
    ")\n",
    "\n",
    "\n",
    "test_data = datasets.FashionMNIST(\n",
    "    root=\"data\",\n",
    "    train=False,\n",
    "    download=True,\n",
    "    transform=ToTensor(),\n",
    ")"
   ]
  },
  {
   "cell_type": "markdown",
   "metadata": {},
   "source": [
    "Vamos passar o conjunto de dados para o tradicional **DataLoader** do PyTorch."
   ]
  },
  {
   "cell_type": "code",
   "execution_count": 48,
   "metadata": {},
   "outputs": [],
   "source": [
    "batch_size = 64 # Tamanho do lote utilizado no mini-batch SGD\n",
    "\n",
    "# Conjunto de treinamento\n",
    "train_dataloader = DataLoader(training_data, batch_size = batch_size)\n",
    "\n",
    "# Conjunto de teste\n",
    "test_dataloader = DataLoader(test_data, batch_size = batch_size)\n"
   ]
  },
  {
   "cell_type": "markdown",
   "metadata": {},
   "source": [
    "Podemos examinar o shape de um lote"
   ]
  },
  {
   "cell_type": "code",
   "execution_count": 50,
   "metadata": {},
   "outputs": [
    {
     "name": "stdout",
     "output_type": "stream",
     "text": [
      "Shape of X [N, C, H, W]: torch.Size([64, 1, 28, 28])\n",
      "Shape of y: torch.Size([64]) torch.int64\n"
     ]
    }
   ],
   "source": [
    "# Shape dos dados\n",
    "\n",
    "for X, y in test_dataloader:\n",
    "    print(f\"Shape of X [N, C, H, W]: {X.shape}\")\n",
    "    print(f\"Shape of y: {y.shape} {y.dtype}\")\n",
    "    break"
   ]
  },
  {
   "cell_type": "markdown",
   "metadata": {},
   "source": [
    "O PyTorch faz grande uso de GPUs, se disponíveis. \n",
    "\n",
    "Existem vários paradigmas baseados no uso de GPUs. Tradicionalmente, utiliza-se recursos para realizar operações algébricas em paralelo."
   ]
  },
  {
   "cell_type": "code",
   "execution_count": 37,
   "metadata": {},
   "outputs": [
    {
     "name": "stdout",
     "output_type": "stream",
     "text": [
      "Using cpu device\n"
     ]
    }
   ],
   "source": [
    "device = (\n",
    "    \"cuda\"\n",
    "    if torch.cuda.is_available()\n",
    "    else \"mps\"\n",
    "    if torch.backends.mps.is_available()\n",
    "    else \"cpu\"\n",
    ")\n",
    "print(f\"Using {device} device\")"
   ]
  },
  {
   "cell_type": "markdown",
   "metadata": {},
   "source": [
    "### Criando o modelo\n",
    "\n",
    "Vamos utilizar uma rede neural com duas camadas escondidas e uso da função de ativação Relu.\n",
    "\n",
    "Esse processo pode ser automatizado com o método nn.Sequential()"
   ]
  },
  {
   "cell_type": "code",
   "execution_count": 54,
   "metadata": {},
   "outputs": [
    {
     "name": "stdout",
     "output_type": "stream",
     "text": [
      "NeuralNetwork(\n",
      "  (flatten): Flatten(start_dim=1, end_dim=-1)\n",
      "  (linear_relu_stack): Sequential(\n",
      "    (0): Linear(in_features=784, out_features=512, bias=True)\n",
      "    (1): ReLU()\n",
      "    (2): Linear(in_features=512, out_features=512, bias=True)\n",
      "    (3): ReLU()\n",
      "    (4): Linear(in_features=512, out_features=10, bias=True)\n",
      "  )\n",
      ")\n"
     ]
    }
   ],
   "source": [
    "class NeuralNetwork(nn.Module):\n",
    "    def __init__(self):\n",
    "        super().__init__()\n",
    "        \n",
    "        self.flatten = nn.Flatten() # Cada imagem está inicialmente na dimensão 28X28. Este método resolve isso passando para uma dimensão com 784 entradas.\n",
    "        \n",
    "        self.linear_relu_stack = nn.Sequential(\n",
    "            nn.Linear(28*28, 512), # A primeira camada tem input com dimensão 784 e output 512 (número de unidades da camada)\n",
    "            nn.ReLU(),\n",
    "            nn.Linear(512, 512), # A segunda camada também possui  512 unidades\n",
    "            nn.ReLU(),\n",
    "            nn.Linear(512, 10) # A camada de saída possui 10 unidades, cada unidade corresponde à uma classe.\n",
    "        )\n",
    "\n",
    "    def forward(self, x):\n",
    "        x = self.flatten(x)\n",
    "        logits = self.linear_relu_stack(x)\n",
    "        return logits\n",
    "\n",
    "\n",
    "model = NeuralNetwork().to(device)\n",
    "print(model)"
   ]
  },
  {
   "cell_type": "code",
   "execution_count": 55,
   "metadata": {},
   "outputs": [],
   "source": [
    "loss_fn = nn.CrossEntropyLoss()\n",
    "optimizer = torch.optim.SGD(model.parameters(), lr=1e-3)"
   ]
  },
  {
   "cell_type": "code",
   "execution_count": 39,
   "metadata": {},
   "outputs": [],
   "source": [
    "def train(dataloader, model, loss_fn, optimizer):\n",
    "    size = len(dataloader.dataset)\n",
    "    model.train()\n",
    "    for batch, (X, y) in enumerate(dataloader):\n",
    "        X, y = X.to(device), y.to(device)\n",
    "\n",
    "        # Compute prediction error\n",
    "        pred = model(X)\n",
    "        loss = loss_fn(pred, y)\n",
    "\n",
    "        # Backpropagation\n",
    "        loss.backward()\n",
    "        optimizer.step()\n",
    "        optimizer.zero_grad()\n",
    "\n",
    "        if batch % 100 == 0:\n",
    "            loss, current = loss.item(), (batch + 1) * len(X)\n",
    "            print(f\"loss: {loss:>7f}  [{current:>5d}/{size:>5d}]\")"
   ]
  },
  {
   "cell_type": "code",
   "execution_count": 40,
   "metadata": {},
   "outputs": [],
   "source": [
    "def test(dataloader, model, loss_fn):\n",
    "    size = len(dataloader.dataset)\n",
    "    num_batches = len(dataloader)\n",
    "    model.eval()\n",
    "    test_loss, correct = 0, 0\n",
    "    with torch.no_grad():\n",
    "        for X, y in dataloader:\n",
    "            X, y = X.to(device), y.to(device)\n",
    "            pred = model(X)\n",
    "            test_loss += loss_fn(pred, y).item()\n",
    "            correct += (pred.argmax(1) == y).type(torch.float).sum().item()\n",
    "    test_loss /= num_batches\n",
    "    correct /= size\n",
    "    print(f\"Test Error: \\n Accuracy: {(100*correct):>0.1f}%, Avg loss: {test_loss:>8f} \\n\")"
   ]
  },
  {
   "cell_type": "code",
   "execution_count": 41,
   "metadata": {},
   "outputs": [
    {
     "name": "stdout",
     "output_type": "stream",
     "text": [
      "Epoch 1\n",
      "-------------------------------\n",
      "loss: 2.312396  [   64/60000]\n",
      "loss: 2.305599  [ 6464/60000]\n",
      "loss: 2.305302  [12864/60000]\n",
      "loss: 2.300820  [19264/60000]\n",
      "loss: 2.298563  [25664/60000]\n",
      "loss: 2.309399  [32064/60000]\n",
      "loss: 2.299633  [38464/60000]\n",
      "loss: 2.306740  [44864/60000]\n",
      "loss: 2.308838  [51264/60000]\n",
      "loss: 2.296997  [57664/60000]\n",
      "Test Error: \n",
      " Accuracy: 8.1%, Avg loss: 2.304707 \n",
      "\n",
      "Epoch 2\n",
      "-------------------------------\n",
      "loss: 2.312396  [   64/60000]\n",
      "loss: 2.305599  [ 6464/60000]\n",
      "loss: 2.305302  [12864/60000]\n",
      "loss: 2.300820  [19264/60000]\n",
      "loss: 2.298563  [25664/60000]\n",
      "loss: 2.309399  [32064/60000]\n",
      "loss: 2.299633  [38464/60000]\n",
      "loss: 2.306740  [44864/60000]\n",
      "loss: 2.308838  [51264/60000]\n",
      "loss: 2.296997  [57664/60000]\n",
      "Test Error: \n",
      " Accuracy: 8.1%, Avg loss: 2.304707 \n",
      "\n",
      "Epoch 3\n",
      "-------------------------------\n",
      "loss: 2.312396  [   64/60000]\n",
      "loss: 2.305599  [ 6464/60000]\n",
      "loss: 2.305302  [12864/60000]\n",
      "loss: 2.300820  [19264/60000]\n",
      "loss: 2.298563  [25664/60000]\n",
      "loss: 2.309399  [32064/60000]\n",
      "loss: 2.299633  [38464/60000]\n",
      "loss: 2.306740  [44864/60000]\n",
      "loss: 2.308838  [51264/60000]\n",
      "loss: 2.296997  [57664/60000]\n",
      "Test Error: \n",
      " Accuracy: 8.1%, Avg loss: 2.304707 \n",
      "\n",
      "Epoch 4\n",
      "-------------------------------\n",
      "loss: 2.312396  [   64/60000]\n",
      "loss: 2.305599  [ 6464/60000]\n",
      "loss: 2.305302  [12864/60000]\n",
      "loss: 2.300820  [19264/60000]\n",
      "loss: 2.298563  [25664/60000]\n",
      "loss: 2.309399  [32064/60000]\n",
      "loss: 2.299633  [38464/60000]\n",
      "loss: 2.306740  [44864/60000]\n",
      "loss: 2.308838  [51264/60000]\n",
      "loss: 2.296997  [57664/60000]\n",
      "Test Error: \n",
      " Accuracy: 8.1%, Avg loss: 2.304707 \n",
      "\n",
      "Epoch 5\n",
      "-------------------------------\n",
      "loss: 2.312396  [   64/60000]\n",
      "loss: 2.305599  [ 6464/60000]\n",
      "loss: 2.305302  [12864/60000]\n",
      "loss: 2.300820  [19264/60000]\n",
      "loss: 2.298563  [25664/60000]\n",
      "loss: 2.309399  [32064/60000]\n",
      "loss: 2.299633  [38464/60000]\n",
      "loss: 2.306740  [44864/60000]\n",
      "loss: 2.308838  [51264/60000]\n",
      "loss: 2.296997  [57664/60000]\n",
      "Test Error: \n",
      " Accuracy: 8.1%, Avg loss: 2.304707 \n",
      "\n",
      "Done!\n"
     ]
    }
   ],
   "source": [
    "epochs = 5\n",
    "for t in range(epochs):\n",
    "    print(f\"Epoch {t+1}\\n-------------------------------\")\n",
    "    train(train_dataloader, model, loss_fn, optimizer)\n",
    "    test(test_dataloader, model, loss_fn)\n",
    "print(\"Done!\")"
   ]
  },
  {
   "cell_type": "code",
   "execution_count": null,
   "metadata": {},
   "outputs": [],
   "source": []
  },
  {
   "cell_type": "code",
   "execution_count": 42,
   "metadata": {},
   "outputs": [
    {
     "name": "stdout",
     "output_type": "stream",
     "text": [
      "Saved PyTorch Model State to model.pth\n"
     ]
    }
   ],
   "source": [
    "torch.save(model.state_dict(), \"model.pth\")\n",
    "print(\"Saved PyTorch Model State to model.pth\")"
   ]
  },
  {
   "cell_type": "code",
   "execution_count": 43,
   "metadata": {},
   "outputs": [
    {
     "data": {
      "text/plain": [
       "<All keys matched successfully>"
      ]
     },
     "execution_count": 43,
     "metadata": {},
     "output_type": "execute_result"
    }
   ],
   "source": [
    "model = NeuralNetwork().to(device)\n",
    "model.load_state_dict(torch.load(\"model.pth\"))"
   ]
  },
  {
   "cell_type": "code",
   "execution_count": 44,
   "metadata": {},
   "outputs": [
    {
     "name": "stdout",
     "output_type": "stream",
     "text": [
      "Predicted: \"Sneaker\", Actual: \"Ankle boot\"\n"
     ]
    }
   ],
   "source": [
    "classes = [\n",
    "    \"T-shirt/top\",\n",
    "    \"Trouser\",\n",
    "    \"Pullover\",\n",
    "    \"Dress\",\n",
    "    \"Coat\",\n",
    "    \"Sandal\",\n",
    "    \"Shirt\",\n",
    "    \"Sneaker\",\n",
    "    \"Bag\",\n",
    "    \"Ankle boot\",\n",
    "]\n",
    "\n",
    "model.eval()\n",
    "x, y = test_data[0][0], test_data[0][1]\n",
    "with torch.no_grad():\n",
    "    x = x.to(device)\n",
    "    pred = model(x)\n",
    "    predicted, actual = classes[pred[0].argmax(0)], classes[y]\n",
    "    print(f'Predicted: \"{predicted}\", Actual: \"{actual}\"')"
   ]
  },
  {
   "cell_type": "code",
   "execution_count": null,
   "metadata": {},
   "outputs": [],
   "source": []
  },
  {
   "cell_type": "code",
   "execution_count": null,
   "metadata": {},
   "outputs": [],
   "source": []
  },
  {
   "cell_type": "code",
   "execution_count": null,
   "metadata": {},
   "outputs": [],
   "source": []
  },
  {
   "cell_type": "code",
   "execution_count": 10,
   "metadata": {},
   "outputs": [
    {
     "name": "stdout",
     "output_type": "stream",
     "text": [
      "(<PIL.Image.Image image mode=L size=28x28 at 0x1F10DEFA700>, 5)\n"
     ]
    },
    {
     "data": {
      "image/png": "[encoded data removed]",
      "text/plain": [
       "<Figure size 1500x600 with 10 Axes>"
      ]
     },
     "metadata": {},
     "output_type": "display_data"
    }
   ],
   "source": [
    "mnist_dataset = torchvision.datasets.MNIST(image_path, 'train', download=True)\n",
    "\n",
    "assert isinstance(mnist_dataset, torch.utils.data.Dataset)\n",
    "\n",
    "example = next(iter(mnist_dataset))\n",
    "print(example)\n",
    "\n",
    "fig = plt.figure(figsize=(15, 6))\n",
    "for i, (image, label) in islice(enumerate(mnist_dataset), 10):\n",
    "    ax = fig.add_subplot(2, 5, i+1)\n",
    "    ax.set_xticks([]); ax.set_yticks([])\n",
    "    ax.imshow(image, cmap='gray_r')\n",
    "    ax.set_title(f'{label}', size=15)\n",
    "\n",
    "#plt.savefig('figures/12_06.pdf')\n",
    "plt.show()"
   ]
  },
  {
   "cell_type": "code",
   "execution_count": null,
   "metadata": {},
   "outputs": [],
   "source": []
  }
 ],
 "metadata": {
  "kernelspec": {
   "display_name": "base",
   "language": "python",
   "name": "python3"
  },
  "language_info": {
   "codemirror_mode": {
    "name": "ipython",
    "version": 3
   },
   "file_extension": ".py",
   "mimetype": "text/x-python",
   "name": "python",
   "nbconvert_exporter": "python",
   "pygments_lexer": "ipython3",
   "version": "3.9.7"
  }
 },
 "nbformat": 4,
 "nbformat_minor": 2
}
