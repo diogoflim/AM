{
  "cells": [
    {
      "cell_type": "markdown",
      "metadata": {
        "id": "SKzzkPCowMwi"
      },
      "source": [
        "[![Open In Colab](https://colab.research.google.com/assets/colab-badge.svg)](https://colab.research.google.com/github/diogoflim/AM/blob/main/4_kNN.ipynb)\n"
      ]
    },
    {
      "cell_type": "markdown",
      "metadata": {
        "id": "aoeA4hTcwMws"
      },
      "source": [
        "# Introdução ao Aprendizado de Máquina\n",
        "\n",
        "**Professor: Diogo Ferreira de Lima Silva (TEP)**\n",
        "\n",
        "**Universidade Federal Fluminense**\n"
      ]
    },
    {
      "cell_type": "markdown",
      "metadata": {
        "id": "n_EfUzz7W625",
        "tags": []
      },
      "source": [
        "# Classificação com o Iris dataset"
      ]
    },
    {
      "cell_type": "markdown",
      "metadata": {
        "tags": [],
        "id": "d9jGbq4swMwu"
      },
      "source": [
        "## Entendendo o problema\n",
        "\n",
        "Nossa base de treinamento contém informações sobre 150 flores, divididas em 3 classes (rótulos):\n",
        "\n",
        "- 0: \"setosa\"\n",
        "- 1: \"versicolor\"\n",
        "- 2: \"virginica\"\n",
        "\n",
        "Ao todo, temos quatro atributos:\n",
        "\n",
        "1. largura da sépala em cm\n",
        "2. comprimento da sépala em cm\n",
        "3. largura da pétala em cm\n",
        "4. comprimento da pétala em cm\n",
        "\n",
        "\n",
        "Com base nos nossos dados, queremos aprender uma forma de classificar novas instâncias."
      ]
    },
    {
      "cell_type": "markdown",
      "metadata": {
        "id": "KtIvjfEwwMwv"
      },
      "source": [
        "## Acessando a base de dados\n",
        "\n",
        "A biblioteca sklearn é muito importante para modelagem de AM. Podemos usá-la para acessar a base de dados iris\n"
      ]
    },
    {
      "cell_type": "code",
<<<<<<< HEAD
      "execution_count": 19,
=======
      "execution_count": 54,
>>>>>>> 52c357f39ef657b820475cfd52664ee1d72dafc7
      "metadata": {
        "id": "VgAlCCEdwMww"
      },
      "outputs": [],
      "source": [
        "from sklearn.datasets import load_iris"
      ]
    },
    {
      "cell_type": "code",
<<<<<<< HEAD
      "execution_count": 20,
=======
      "execution_count": 55,
>>>>>>> 52c357f39ef657b820475cfd52664ee1d72dafc7
      "metadata": {
        "id": "95g5QF2CwMwy"
      },
      "outputs": [],
      "source": [
        "(X, y) = load_iris(return_X_y = True)"
      ]
    },
    {
      "cell_type": "code",
<<<<<<< HEAD
      "execution_count": 21,
      "metadata": {
        "id": "w3TvJpWdwMw1",
        "outputId": "e3841476-6d3e-453f-df23-22e5669af779",
        "colab": {
          "base_uri": "https://localhost:8080/"
        }
=======
      "execution_count": 56,
      "metadata": {
        "colab": {
          "base_uri": "https://localhost:8080/"
        },
        "id": "w3TvJpWdwMw1",
        "outputId": "f9f2fe64-15b6-4ccb-f12f-4bf30f16d64b"
>>>>>>> 52c357f39ef657b820475cfd52664ee1d72dafc7
      },
      "outputs": [
        {
          "output_type": "stream",
          "name": "stdout",
          "text": [
            " shape da matriz de atributos: (150, 4)\n",
            " shape do vetor de rótulos de atributos: (150,)\n"
          ]
        }
      ],
      "source": [
        "# Vamos analisar o formato dos nossos dados\n",
        "\n",
        "print (f' shape da matriz de atributos: {X.shape}')\n",
        "print (f' shape do vetor de rótulos de atributos: {y.shape}')\n"
      ]
    },
    {
      "cell_type": "code",
<<<<<<< HEAD
      "execution_count": 22,
      "metadata": {
        "id": "0p_Zvu7swMw5",
        "outputId": "6fb6bd61-0a12-4d6d-8dfc-1df4f186d5d9",
        "colab": {
          "base_uri": "https://localhost:8080/"
        }
=======
      "execution_count": 57,
      "metadata": {
        "colab": {
          "base_uri": "https://localhost:8080/"
        },
        "id": "0p_Zvu7swMw5",
        "outputId": "d09b0b47-b09e-4a00-e1bd-715a9ca53195"
>>>>>>> 52c357f39ef657b820475cfd52664ee1d72dafc7
      },
      "outputs": [
        {
          "output_type": "execute_result",
          "data": {
            "text/plain": [
              "array([[5.1, 3.5, 1.4, 0.2],\n",
              "       [4.9, 3. , 1.4, 0.2],\n",
              "       [4.7, 3.2, 1.3, 0.2],\n",
              "       [4.6, 3.1, 1.5, 0.2],\n",
              "       [5. , 3.6, 1.4, 0.2],\n",
              "       [5.4, 3.9, 1.7, 0.4],\n",
              "       [4.6, 3.4, 1.4, 0.3],\n",
              "       [5. , 3.4, 1.5, 0.2],\n",
              "       [4.4, 2.9, 1.4, 0.2],\n",
              "       [4.9, 3.1, 1.5, 0.1]])"
            ]
          },
          "metadata": {},
<<<<<<< HEAD
          "execution_count": 22
=======
          "execution_count": 57
>>>>>>> 52c357f39ef657b820475cfd52664ee1d72dafc7
        }
      ],
      "source": [
        "# Primeiras 10 linhas da matriz de atributos\n",
        "\n",
        "X[:10]"
      ]
    },
    {
      "cell_type": "code",
<<<<<<< HEAD
      "execution_count": 23,
      "metadata": {
        "id": "aFegYuSkwMw6",
        "outputId": "744b828b-7f4e-493a-a881-f610922c3158",
        "colab": {
          "base_uri": "https://localhost:8080/"
        }
=======
      "execution_count": 58,
      "metadata": {
        "colab": {
          "base_uri": "https://localhost:8080/"
        },
        "id": "aFegYuSkwMw6",
        "outputId": "f9bf4399-89a6-4744-b1a3-a170b7b59c7b"
>>>>>>> 52c357f39ef657b820475cfd52664ee1d72dafc7
      },
      "outputs": [
        {
          "output_type": "execute_result",
          "data": {
            "text/plain": [
              "array([0, 0, 0, 0, 0, 0, 0, 0, 0, 0, 0, 0, 0, 0, 0, 0, 0, 0, 0, 0, 0, 0,\n",
              "       0, 0, 0, 0, 0, 0, 0, 0, 0, 0, 0, 0, 0, 0, 0, 0, 0, 0, 0, 0, 0, 0,\n",
              "       0, 0, 0, 0, 0, 0, 1, 1, 1, 1, 1, 1, 1, 1, 1, 1, 1, 1, 1, 1, 1, 1,\n",
              "       1, 1, 1, 1, 1, 1, 1, 1, 1, 1, 1, 1, 1, 1, 1, 1, 1, 1, 1, 1, 1, 1,\n",
              "       1, 1, 1, 1, 1, 1, 1, 1, 1, 1, 1, 1, 2, 2, 2, 2, 2, 2, 2, 2, 2, 2,\n",
              "       2, 2, 2, 2, 2, 2, 2, 2, 2, 2, 2, 2, 2, 2, 2, 2, 2, 2, 2, 2, 2, 2,\n",
              "       2, 2, 2, 2, 2, 2, 2, 2, 2, 2, 2, 2, 2, 2, 2, 2, 2, 2])"
            ]
          },
          "metadata": {},
<<<<<<< HEAD
          "execution_count": 23
=======
          "execution_count": 58
>>>>>>> 52c357f39ef657b820475cfd52664ee1d72dafc7
        }
      ],
      "source": [
        "# Vetor de rótulos\n",
        "y"
      ]
    },
    {
      "cell_type": "markdown",
      "metadata": {
        "id": "9LdEWyjDwMw7"
      },
      "source": [
        "### Amostragem"
      ]
    },
    {
      "cell_type": "markdown",
      "metadata": {
        "id": "fA6APXqzwMw7"
      },
      "source": [
        "Como visto em sala, é importante realizar uma separação entre os dados de treinamento e teste. Isso pode ser feito com a função train_test_split do pacote sklearn"
      ]
    },
    {
      "cell_type": "code",
<<<<<<< HEAD
      "execution_count": 24,
=======
      "execution_count": 59,
>>>>>>> 52c357f39ef657b820475cfd52664ee1d72dafc7
      "metadata": {
        "id": "eFghAz9iZ_Cr"
      },
      "outputs": [],
      "source": [
        "from sklearn.model_selection import train_test_split"
      ]
    },
    {
      "cell_type": "code",
<<<<<<< HEAD
      "execution_count": 25,
=======
      "execution_count": 60,
>>>>>>> 52c357f39ef657b820475cfd52664ee1d72dafc7
      "metadata": {
        "id": "8ZqXcTkMwMw8"
      },
      "outputs": [],
      "source": [
        "# Realizaremos uma separação com 20% dos dados para teste e 80% para treinamento\n",
        "\n",
        "X_train, X_test, y_train, y_test = train_test_split(X, y, random_state=0, test_size = 0.2)"
      ]
    },
    {
      "cell_type": "code",
<<<<<<< HEAD
      "execution_count": 26,
=======
      "execution_count": 61,
>>>>>>> 52c357f39ef657b820475cfd52664ee1d72dafc7
      "metadata": {
        "colab": {
          "base_uri": "https://localhost:8080/"
        },
        "id": "GIm4ZBlyaJR9",
<<<<<<< HEAD
        "outputId": "c0be7e3f-0b96-4535-8603-c94bca01fd99"
=======
        "outputId": "fed8adc7-c553-4165-a4cb-d33430a3fb5e"
>>>>>>> 52c357f39ef657b820475cfd52664ee1d72dafc7
      },
      "outputs": [
        {
          "output_type": "stream",
          "name": "stdout",
          "text": [
            " shape da matriz de de treinamento: (120, 4)\n",
            " shape do vetor de rótulos de treinamento: (120,)\n",
            " shape da matriz de teste: (30, 4)\n",
            " shape do vetor de rótulos de teste: (30,)\n"
          ]
        }
      ],
      "source": [
        "print (f' shape da matriz de de treinamento: {X_train.shape}')\n",
        "print (f' shape do vetor de rótulos de treinamento: {y_train.shape}')\n",
        "print (f' shape da matriz de teste: {X_test.shape}')\n",
        "print (f' shape do vetor de rótulos de teste: {y_test.shape}')"
      ]
    },
    {
      "cell_type": "markdown",
      "metadata": {
        "id": "LqYxep92YyGx"
      },
      "source": [
        "### Normalização"
      ]
    },
    {
      "cell_type": "code",
<<<<<<< HEAD
      "execution_count": 27,
=======
      "execution_count": 62,
>>>>>>> 52c357f39ef657b820475cfd52664ee1d72dafc7
      "metadata": {
        "id": "vl6QdFd9wMw9"
      },
      "outputs": [],
      "source": [
        "from sklearn.preprocessing import MinMaxScaler"
      ]
    },
    {
      "cell_type": "code",
<<<<<<< HEAD
      "execution_count": 28,
      "metadata": {
        "id": "l9tdXCqNwMw9",
        "outputId": "3aeb221c-2c3b-4c06-e2de-3825f492d8a9",
        "colab": {
          "base_uri": "https://localhost:8080/"
        }
=======
      "execution_count": 63,
      "metadata": {
        "colab": {
          "base_uri": "https://localhost:8080/"
        },
        "id": "l9tdXCqNwMw9",
        "outputId": "ba1e50a1-25d3-430b-c32a-b7e6a395cf13"
>>>>>>> 52c357f39ef657b820475cfd52664ee1d72dafc7
      },
      "outputs": [
        {
          "output_type": "execute_result",
          "data": {
            "text/plain": [
              "array([[0.58333333, 0.45833333, 0.75862069, 0.70833333],\n",
              "       [0.30555556, 0.41666667, 0.5862069 , 0.58333333],\n",
              "       [0.25      , 0.625     , 0.06896552, 0.04166667],\n",
              "       [0.5       , 0.41666667, 0.65517241, 0.70833333],\n",
              "       [0.58333333, 0.33333333, 0.77586207, 0.875     ],\n",
              "       [0.25      , 0.29166667, 0.48275862, 0.54166667],\n",
              "       [0.38888889, 0.75      , 0.10344828, 0.08333333],\n",
              "       [0.47222222, 0.29166667, 0.68965517, 0.625     ],\n",
              "       [0.44444444, 0.41666667, 0.53448276, 0.58333333],\n",
              "       [0.41666667, 0.25      , 0.5       , 0.45833333]])"
            ]
          },
          "metadata": {},
<<<<<<< HEAD
          "execution_count": 28
=======
          "execution_count": 63
>>>>>>> 52c357f39ef657b820475cfd52664ee1d72dafc7
        }
      ],
      "source": [
        "escala = MinMaxScaler()\n",
        "escala.fit(X_train)\n",
        "\n",
        "X_train_norm =  escala.transform(X_train)\n",
        "\n",
        "X_train_norm [:10]"
      ]
    },
    {
      "cell_type": "markdown",
      "metadata": {
        "id": "kAcf79ZowMw-"
      },
      "source": [
        "## Classificação com o k-NN\n"
      ]
    },
    {
      "cell_type": "code",
<<<<<<< HEAD
      "execution_count": 29,
=======
      "execution_count": 64,
>>>>>>> 52c357f39ef657b820475cfd52664ee1d72dafc7
      "metadata": {
        "id": "iy6oKF3ewMw-"
      },
      "outputs": [],
      "source": [
        "# Para aplicar o classificador, podemos importar o método KNeighborsClassifier\n",
        "\n",
        "from sklearn.neighbors import KNeighborsClassifier"
      ]
    },
    {
      "cell_type": "code",
<<<<<<< HEAD
      "execution_count": 30,
=======
      "execution_count": 65,
>>>>>>> 52c357f39ef657b820475cfd52664ee1d72dafc7
      "metadata": {
        "id": "X0nGniYeaUl7"
      },
      "outputs": [],
      "source": [
        "# Inicialmente, criamos o objeto chamando o modelo e passando o hiperparâmetro k=5 (número de vizinhos)\n",
        "\n",
        "knn = KNeighborsClassifier (n_neighbors= 5)"
      ]
    },
    {
      "cell_type": "code",
<<<<<<< HEAD
      "execution_count": 31,
      "metadata": {
        "id": "StJCHhB4wMw-",
        "outputId": "38e59459-2c29-4311-be54-fe483a427142",
        "colab": {
          "base_uri": "https://localhost:8080/",
          "height": 80
        }
=======
      "execution_count": 66,
      "metadata": {
        "colab": {
          "base_uri": "https://localhost:8080/",
          "height": 80
        },
        "id": "StJCHhB4wMw-",
        "outputId": "12e576fe-cad3-40e9-cac9-932d6339d946"
>>>>>>> 52c357f39ef657b820475cfd52664ee1d72dafc7
      },
      "outputs": [
        {
          "output_type": "execute_result",
          "data": {
            "text/plain": [
              "KNeighborsClassifier()"
            ],
            "text/html": [
<<<<<<< HEAD
              "<style>#sk-container-id-2 {\n",
=======
              "<style>#sk-container-id-3 {\n",
>>>>>>> 52c357f39ef657b820475cfd52664ee1d72dafc7
              "  /* Definition of color scheme common for light and dark mode */\n",
              "  --sklearn-color-text: #000;\n",
              "  --sklearn-color-text-muted: #666;\n",
              "  --sklearn-color-line: gray;\n",
              "  /* Definition of color scheme for unfitted estimators */\n",
              "  --sklearn-color-unfitted-level-0: #fff5e6;\n",
              "  --sklearn-color-unfitted-level-1: #f6e4d2;\n",
              "  --sklearn-color-unfitted-level-2: #ffe0b3;\n",
              "  --sklearn-color-unfitted-level-3: chocolate;\n",
              "  /* Definition of color scheme for fitted estimators */\n",
              "  --sklearn-color-fitted-level-0: #f0f8ff;\n",
              "  --sklearn-color-fitted-level-1: #d4ebff;\n",
              "  --sklearn-color-fitted-level-2: #b3dbfd;\n",
              "  --sklearn-color-fitted-level-3: cornflowerblue;\n",
              "\n",
              "  /* Specific color for light theme */\n",
              "  --sklearn-color-text-on-default-background: var(--sg-text-color, var(--theme-code-foreground, var(--jp-content-font-color1, black)));\n",
              "  --sklearn-color-background: var(--sg-background-color, var(--theme-background, var(--jp-layout-color0, white)));\n",
              "  --sklearn-color-border-box: var(--sg-text-color, var(--theme-code-foreground, var(--jp-content-font-color1, black)));\n",
              "  --sklearn-color-icon: #696969;\n",
              "\n",
              "  @media (prefers-color-scheme: dark) {\n",
              "    /* Redefinition of color scheme for dark theme */\n",
              "    --sklearn-color-text-on-default-background: var(--sg-text-color, var(--theme-code-foreground, var(--jp-content-font-color1, white)));\n",
              "    --sklearn-color-background: var(--sg-background-color, var(--theme-background, var(--jp-layout-color0, #111)));\n",
              "    --sklearn-color-border-box: var(--sg-text-color, var(--theme-code-foreground, var(--jp-content-font-color1, white)));\n",
              "    --sklearn-color-icon: #878787;\n",
              "  }\n",
              "}\n",
              "\n",
<<<<<<< HEAD
              "#sk-container-id-2 {\n",
              "  color: var(--sklearn-color-text);\n",
              "}\n",
              "\n",
              "#sk-container-id-2 pre {\n",
              "  padding: 0;\n",
              "}\n",
              "\n",
              "#sk-container-id-2 input.sk-hidden--visually {\n",
=======
              "#sk-container-id-3 {\n",
              "  color: var(--sklearn-color-text);\n",
              "}\n",
              "\n",
              "#sk-container-id-3 pre {\n",
              "  padding: 0;\n",
              "}\n",
              "\n",
              "#sk-container-id-3 input.sk-hidden--visually {\n",
>>>>>>> 52c357f39ef657b820475cfd52664ee1d72dafc7
              "  border: 0;\n",
              "  clip: rect(1px 1px 1px 1px);\n",
              "  clip: rect(1px, 1px, 1px, 1px);\n",
              "  height: 1px;\n",
              "  margin: -1px;\n",
              "  overflow: hidden;\n",
              "  padding: 0;\n",
              "  position: absolute;\n",
              "  width: 1px;\n",
              "}\n",
              "\n",
<<<<<<< HEAD
              "#sk-container-id-2 div.sk-dashed-wrapped {\n",
=======
              "#sk-container-id-3 div.sk-dashed-wrapped {\n",
>>>>>>> 52c357f39ef657b820475cfd52664ee1d72dafc7
              "  border: 1px dashed var(--sklearn-color-line);\n",
              "  margin: 0 0.4em 0.5em 0.4em;\n",
              "  box-sizing: border-box;\n",
              "  padding-bottom: 0.4em;\n",
              "  background-color: var(--sklearn-color-background);\n",
              "}\n",
              "\n",
<<<<<<< HEAD
              "#sk-container-id-2 div.sk-container {\n",
=======
              "#sk-container-id-3 div.sk-container {\n",
>>>>>>> 52c357f39ef657b820475cfd52664ee1d72dafc7
              "  /* jupyter's `normalize.less` sets `[hidden] { display: none; }`\n",
              "     but bootstrap.min.css set `[hidden] { display: none !important; }`\n",
              "     so we also need the `!important` here to be able to override the\n",
              "     default hidden behavior on the sphinx rendered scikit-learn.org.\n",
              "     See: https://github.com/scikit-learn/scikit-learn/issues/21755 */\n",
              "  display: inline-block !important;\n",
              "  position: relative;\n",
              "}\n",
              "\n",
<<<<<<< HEAD
              "#sk-container-id-2 div.sk-text-repr-fallback {\n",
=======
              "#sk-container-id-3 div.sk-text-repr-fallback {\n",
>>>>>>> 52c357f39ef657b820475cfd52664ee1d72dafc7
              "  display: none;\n",
              "}\n",
              "\n",
              "div.sk-parallel-item,\n",
              "div.sk-serial,\n",
              "div.sk-item {\n",
              "  /* draw centered vertical line to link estimators */\n",
              "  background-image: linear-gradient(var(--sklearn-color-text-on-default-background), var(--sklearn-color-text-on-default-background));\n",
              "  background-size: 2px 100%;\n",
              "  background-repeat: no-repeat;\n",
              "  background-position: center center;\n",
              "}\n",
              "\n",
              "/* Parallel-specific style estimator block */\n",
              "\n",
<<<<<<< HEAD
              "#sk-container-id-2 div.sk-parallel-item::after {\n",
=======
              "#sk-container-id-3 div.sk-parallel-item::after {\n",
>>>>>>> 52c357f39ef657b820475cfd52664ee1d72dafc7
              "  content: \"\";\n",
              "  width: 100%;\n",
              "  border-bottom: 2px solid var(--sklearn-color-text-on-default-background);\n",
              "  flex-grow: 1;\n",
              "}\n",
              "\n",
<<<<<<< HEAD
              "#sk-container-id-2 div.sk-parallel {\n",
=======
              "#sk-container-id-3 div.sk-parallel {\n",
>>>>>>> 52c357f39ef657b820475cfd52664ee1d72dafc7
              "  display: flex;\n",
              "  align-items: stretch;\n",
              "  justify-content: center;\n",
              "  background-color: var(--sklearn-color-background);\n",
              "  position: relative;\n",
              "}\n",
              "\n",
<<<<<<< HEAD
              "#sk-container-id-2 div.sk-parallel-item {\n",
=======
              "#sk-container-id-3 div.sk-parallel-item {\n",
>>>>>>> 52c357f39ef657b820475cfd52664ee1d72dafc7
              "  display: flex;\n",
              "  flex-direction: column;\n",
              "}\n",
              "\n",
<<<<<<< HEAD
              "#sk-container-id-2 div.sk-parallel-item:first-child::after {\n",
=======
              "#sk-container-id-3 div.sk-parallel-item:first-child::after {\n",
>>>>>>> 52c357f39ef657b820475cfd52664ee1d72dafc7
              "  align-self: flex-end;\n",
              "  width: 50%;\n",
              "}\n",
              "\n",
<<<<<<< HEAD
              "#sk-container-id-2 div.sk-parallel-item:last-child::after {\n",
=======
              "#sk-container-id-3 div.sk-parallel-item:last-child::after {\n",
>>>>>>> 52c357f39ef657b820475cfd52664ee1d72dafc7
              "  align-self: flex-start;\n",
              "  width: 50%;\n",
              "}\n",
              "\n",
<<<<<<< HEAD
              "#sk-container-id-2 div.sk-parallel-item:only-child::after {\n",
=======
              "#sk-container-id-3 div.sk-parallel-item:only-child::after {\n",
>>>>>>> 52c357f39ef657b820475cfd52664ee1d72dafc7
              "  width: 0;\n",
              "}\n",
              "\n",
              "/* Serial-specific style estimator block */\n",
              "\n",
<<<<<<< HEAD
              "#sk-container-id-2 div.sk-serial {\n",
=======
              "#sk-container-id-3 div.sk-serial {\n",
>>>>>>> 52c357f39ef657b820475cfd52664ee1d72dafc7
              "  display: flex;\n",
              "  flex-direction: column;\n",
              "  align-items: center;\n",
              "  background-color: var(--sklearn-color-background);\n",
              "  padding-right: 1em;\n",
              "  padding-left: 1em;\n",
              "}\n",
              "\n",
              "\n",
              "/* Toggleable style: style used for estimator/Pipeline/ColumnTransformer box that is\n",
              "clickable and can be expanded/collapsed.\n",
              "- Pipeline and ColumnTransformer use this feature and define the default style\n",
              "- Estimators will overwrite some part of the style using the `sk-estimator` class\n",
              "*/\n",
              "\n",
              "/* Pipeline and ColumnTransformer style (default) */\n",
              "\n",
<<<<<<< HEAD
              "#sk-container-id-2 div.sk-toggleable {\n",
=======
              "#sk-container-id-3 div.sk-toggleable {\n",
>>>>>>> 52c357f39ef657b820475cfd52664ee1d72dafc7
              "  /* Default theme specific background. It is overwritten whether we have a\n",
              "  specific estimator or a Pipeline/ColumnTransformer */\n",
              "  background-color: var(--sklearn-color-background);\n",
              "}\n",
              "\n",
              "/* Toggleable label */\n",
<<<<<<< HEAD
              "#sk-container-id-2 label.sk-toggleable__label {\n",
=======
              "#sk-container-id-3 label.sk-toggleable__label {\n",
>>>>>>> 52c357f39ef657b820475cfd52664ee1d72dafc7
              "  cursor: pointer;\n",
              "  display: flex;\n",
              "  width: 100%;\n",
              "  margin-bottom: 0;\n",
              "  padding: 0.5em;\n",
              "  box-sizing: border-box;\n",
              "  text-align: center;\n",
              "  align-items: start;\n",
              "  justify-content: space-between;\n",
              "  gap: 0.5em;\n",
              "}\n",
              "\n",
<<<<<<< HEAD
              "#sk-container-id-2 label.sk-toggleable__label .caption {\n",
=======
              "#sk-container-id-3 label.sk-toggleable__label .caption {\n",
>>>>>>> 52c357f39ef657b820475cfd52664ee1d72dafc7
              "  font-size: 0.6rem;\n",
              "  font-weight: lighter;\n",
              "  color: var(--sklearn-color-text-muted);\n",
              "}\n",
              "\n",
<<<<<<< HEAD
              "#sk-container-id-2 label.sk-toggleable__label-arrow:before {\n",
=======
              "#sk-container-id-3 label.sk-toggleable__label-arrow:before {\n",
>>>>>>> 52c357f39ef657b820475cfd52664ee1d72dafc7
              "  /* Arrow on the left of the label */\n",
              "  content: \"▸\";\n",
              "  float: left;\n",
              "  margin-right: 0.25em;\n",
              "  color: var(--sklearn-color-icon);\n",
              "}\n",
              "\n",
<<<<<<< HEAD
              "#sk-container-id-2 label.sk-toggleable__label-arrow:hover:before {\n",
=======
              "#sk-container-id-3 label.sk-toggleable__label-arrow:hover:before {\n",
>>>>>>> 52c357f39ef657b820475cfd52664ee1d72dafc7
              "  color: var(--sklearn-color-text);\n",
              "}\n",
              "\n",
              "/* Toggleable content - dropdown */\n",
              "\n",
<<<<<<< HEAD
              "#sk-container-id-2 div.sk-toggleable__content {\n",
=======
              "#sk-container-id-3 div.sk-toggleable__content {\n",
>>>>>>> 52c357f39ef657b820475cfd52664ee1d72dafc7
              "  max-height: 0;\n",
              "  max-width: 0;\n",
              "  overflow: hidden;\n",
              "  text-align: left;\n",
              "  /* unfitted */\n",
              "  background-color: var(--sklearn-color-unfitted-level-0);\n",
              "}\n",
              "\n",
<<<<<<< HEAD
              "#sk-container-id-2 div.sk-toggleable__content.fitted {\n",
=======
              "#sk-container-id-3 div.sk-toggleable__content.fitted {\n",
>>>>>>> 52c357f39ef657b820475cfd52664ee1d72dafc7
              "  /* fitted */\n",
              "  background-color: var(--sklearn-color-fitted-level-0);\n",
              "}\n",
              "\n",
<<<<<<< HEAD
              "#sk-container-id-2 div.sk-toggleable__content pre {\n",
=======
              "#sk-container-id-3 div.sk-toggleable__content pre {\n",
>>>>>>> 52c357f39ef657b820475cfd52664ee1d72dafc7
              "  margin: 0.2em;\n",
              "  border-radius: 0.25em;\n",
              "  color: var(--sklearn-color-text);\n",
              "  /* unfitted */\n",
              "  background-color: var(--sklearn-color-unfitted-level-0);\n",
              "}\n",
              "\n",
<<<<<<< HEAD
              "#sk-container-id-2 div.sk-toggleable__content.fitted pre {\n",
=======
              "#sk-container-id-3 div.sk-toggleable__content.fitted pre {\n",
>>>>>>> 52c357f39ef657b820475cfd52664ee1d72dafc7
              "  /* unfitted */\n",
              "  background-color: var(--sklearn-color-fitted-level-0);\n",
              "}\n",
              "\n",
<<<<<<< HEAD
              "#sk-container-id-2 input.sk-toggleable__control:checked~div.sk-toggleable__content {\n",
=======
              "#sk-container-id-3 input.sk-toggleable__control:checked~div.sk-toggleable__content {\n",
>>>>>>> 52c357f39ef657b820475cfd52664ee1d72dafc7
              "  /* Expand drop-down */\n",
              "  max-height: 200px;\n",
              "  max-width: 100%;\n",
              "  overflow: auto;\n",
              "}\n",
              "\n",
<<<<<<< HEAD
              "#sk-container-id-2 input.sk-toggleable__control:checked~label.sk-toggleable__label-arrow:before {\n",
=======
              "#sk-container-id-3 input.sk-toggleable__control:checked~label.sk-toggleable__label-arrow:before {\n",
>>>>>>> 52c357f39ef657b820475cfd52664ee1d72dafc7
              "  content: \"▾\";\n",
              "}\n",
              "\n",
              "/* Pipeline/ColumnTransformer-specific style */\n",
              "\n",
<<<<<<< HEAD
              "#sk-container-id-2 div.sk-label input.sk-toggleable__control:checked~label.sk-toggleable__label {\n",
=======
              "#sk-container-id-3 div.sk-label input.sk-toggleable__control:checked~label.sk-toggleable__label {\n",
>>>>>>> 52c357f39ef657b820475cfd52664ee1d72dafc7
              "  color: var(--sklearn-color-text);\n",
              "  background-color: var(--sklearn-color-unfitted-level-2);\n",
              "}\n",
              "\n",
<<<<<<< HEAD
              "#sk-container-id-2 div.sk-label.fitted input.sk-toggleable__control:checked~label.sk-toggleable__label {\n",
=======
              "#sk-container-id-3 div.sk-label.fitted input.sk-toggleable__control:checked~label.sk-toggleable__label {\n",
>>>>>>> 52c357f39ef657b820475cfd52664ee1d72dafc7
              "  background-color: var(--sklearn-color-fitted-level-2);\n",
              "}\n",
              "\n",
              "/* Estimator-specific style */\n",
              "\n",
              "/* Colorize estimator box */\n",
<<<<<<< HEAD
              "#sk-container-id-2 div.sk-estimator input.sk-toggleable__control:checked~label.sk-toggleable__label {\n",
=======
              "#sk-container-id-3 div.sk-estimator input.sk-toggleable__control:checked~label.sk-toggleable__label {\n",
>>>>>>> 52c357f39ef657b820475cfd52664ee1d72dafc7
              "  /* unfitted */\n",
              "  background-color: var(--sklearn-color-unfitted-level-2);\n",
              "}\n",
              "\n",
<<<<<<< HEAD
              "#sk-container-id-2 div.sk-estimator.fitted input.sk-toggleable__control:checked~label.sk-toggleable__label {\n",
=======
              "#sk-container-id-3 div.sk-estimator.fitted input.sk-toggleable__control:checked~label.sk-toggleable__label {\n",
>>>>>>> 52c357f39ef657b820475cfd52664ee1d72dafc7
              "  /* fitted */\n",
              "  background-color: var(--sklearn-color-fitted-level-2);\n",
              "}\n",
              "\n",
<<<<<<< HEAD
              "#sk-container-id-2 div.sk-label label.sk-toggleable__label,\n",
              "#sk-container-id-2 div.sk-label label {\n",
=======
              "#sk-container-id-3 div.sk-label label.sk-toggleable__label,\n",
              "#sk-container-id-3 div.sk-label label {\n",
>>>>>>> 52c357f39ef657b820475cfd52664ee1d72dafc7
              "  /* The background is the default theme color */\n",
              "  color: var(--sklearn-color-text-on-default-background);\n",
              "}\n",
              "\n",
              "/* On hover, darken the color of the background */\n",
<<<<<<< HEAD
              "#sk-container-id-2 div.sk-label:hover label.sk-toggleable__label {\n",
=======
              "#sk-container-id-3 div.sk-label:hover label.sk-toggleable__label {\n",
>>>>>>> 52c357f39ef657b820475cfd52664ee1d72dafc7
              "  color: var(--sklearn-color-text);\n",
              "  background-color: var(--sklearn-color-unfitted-level-2);\n",
              "}\n",
              "\n",
              "/* Label box, darken color on hover, fitted */\n",
<<<<<<< HEAD
              "#sk-container-id-2 div.sk-label.fitted:hover label.sk-toggleable__label.fitted {\n",
=======
              "#sk-container-id-3 div.sk-label.fitted:hover label.sk-toggleable__label.fitted {\n",
>>>>>>> 52c357f39ef657b820475cfd52664ee1d72dafc7
              "  color: var(--sklearn-color-text);\n",
              "  background-color: var(--sklearn-color-fitted-level-2);\n",
              "}\n",
              "\n",
              "/* Estimator label */\n",
              "\n",
<<<<<<< HEAD
              "#sk-container-id-2 div.sk-label label {\n",
=======
              "#sk-container-id-3 div.sk-label label {\n",
>>>>>>> 52c357f39ef657b820475cfd52664ee1d72dafc7
              "  font-family: monospace;\n",
              "  font-weight: bold;\n",
              "  display: inline-block;\n",
              "  line-height: 1.2em;\n",
              "}\n",
              "\n",
<<<<<<< HEAD
              "#sk-container-id-2 div.sk-label-container {\n",
=======
              "#sk-container-id-3 div.sk-label-container {\n",
>>>>>>> 52c357f39ef657b820475cfd52664ee1d72dafc7
              "  text-align: center;\n",
              "}\n",
              "\n",
              "/* Estimator-specific */\n",
<<<<<<< HEAD
              "#sk-container-id-2 div.sk-estimator {\n",
=======
              "#sk-container-id-3 div.sk-estimator {\n",
>>>>>>> 52c357f39ef657b820475cfd52664ee1d72dafc7
              "  font-family: monospace;\n",
              "  border: 1px dotted var(--sklearn-color-border-box);\n",
              "  border-radius: 0.25em;\n",
              "  box-sizing: border-box;\n",
              "  margin-bottom: 0.5em;\n",
              "  /* unfitted */\n",
              "  background-color: var(--sklearn-color-unfitted-level-0);\n",
              "}\n",
              "\n",
<<<<<<< HEAD
              "#sk-container-id-2 div.sk-estimator.fitted {\n",
=======
              "#sk-container-id-3 div.sk-estimator.fitted {\n",
>>>>>>> 52c357f39ef657b820475cfd52664ee1d72dafc7
              "  /* fitted */\n",
              "  background-color: var(--sklearn-color-fitted-level-0);\n",
              "}\n",
              "\n",
              "/* on hover */\n",
<<<<<<< HEAD
              "#sk-container-id-2 div.sk-estimator:hover {\n",
=======
              "#sk-container-id-3 div.sk-estimator:hover {\n",
>>>>>>> 52c357f39ef657b820475cfd52664ee1d72dafc7
              "  /* unfitted */\n",
              "  background-color: var(--sklearn-color-unfitted-level-2);\n",
              "}\n",
              "\n",
<<<<<<< HEAD
              "#sk-container-id-2 div.sk-estimator.fitted:hover {\n",
=======
              "#sk-container-id-3 div.sk-estimator.fitted:hover {\n",
>>>>>>> 52c357f39ef657b820475cfd52664ee1d72dafc7
              "  /* fitted */\n",
              "  background-color: var(--sklearn-color-fitted-level-2);\n",
              "}\n",
              "\n",
              "/* Specification for estimator info (e.g. \"i\" and \"?\") */\n",
              "\n",
              "/* Common style for \"i\" and \"?\" */\n",
              "\n",
              ".sk-estimator-doc-link,\n",
              "a:link.sk-estimator-doc-link,\n",
              "a:visited.sk-estimator-doc-link {\n",
              "  float: right;\n",
              "  font-size: smaller;\n",
              "  line-height: 1em;\n",
              "  font-family: monospace;\n",
              "  background-color: var(--sklearn-color-background);\n",
              "  border-radius: 1em;\n",
              "  height: 1em;\n",
              "  width: 1em;\n",
              "  text-decoration: none !important;\n",
              "  margin-left: 0.5em;\n",
              "  text-align: center;\n",
              "  /* unfitted */\n",
              "  border: var(--sklearn-color-unfitted-level-1) 1pt solid;\n",
              "  color: var(--sklearn-color-unfitted-level-1);\n",
              "}\n",
              "\n",
              ".sk-estimator-doc-link.fitted,\n",
              "a:link.sk-estimator-doc-link.fitted,\n",
              "a:visited.sk-estimator-doc-link.fitted {\n",
              "  /* fitted */\n",
              "  border: var(--sklearn-color-fitted-level-1) 1pt solid;\n",
              "  color: var(--sklearn-color-fitted-level-1);\n",
              "}\n",
              "\n",
              "/* On hover */\n",
              "div.sk-estimator:hover .sk-estimator-doc-link:hover,\n",
              ".sk-estimator-doc-link:hover,\n",
              "div.sk-label-container:hover .sk-estimator-doc-link:hover,\n",
              ".sk-estimator-doc-link:hover {\n",
              "  /* unfitted */\n",
              "  background-color: var(--sklearn-color-unfitted-level-3);\n",
              "  color: var(--sklearn-color-background);\n",
              "  text-decoration: none;\n",
              "}\n",
              "\n",
              "div.sk-estimator.fitted:hover .sk-estimator-doc-link.fitted:hover,\n",
              ".sk-estimator-doc-link.fitted:hover,\n",
              "div.sk-label-container:hover .sk-estimator-doc-link.fitted:hover,\n",
              ".sk-estimator-doc-link.fitted:hover {\n",
              "  /* fitted */\n",
              "  background-color: var(--sklearn-color-fitted-level-3);\n",
              "  color: var(--sklearn-color-background);\n",
              "  text-decoration: none;\n",
              "}\n",
              "\n",
              "/* Span, style for the box shown on hovering the info icon */\n",
              ".sk-estimator-doc-link span {\n",
              "  display: none;\n",
              "  z-index: 9999;\n",
              "  position: relative;\n",
              "  font-weight: normal;\n",
              "  right: .2ex;\n",
              "  padding: .5ex;\n",
              "  margin: .5ex;\n",
              "  width: min-content;\n",
              "  min-width: 20ex;\n",
              "  max-width: 50ex;\n",
              "  color: var(--sklearn-color-text);\n",
              "  box-shadow: 2pt 2pt 4pt #999;\n",
              "  /* unfitted */\n",
              "  background: var(--sklearn-color-unfitted-level-0);\n",
              "  border: .5pt solid var(--sklearn-color-unfitted-level-3);\n",
              "}\n",
              "\n",
              ".sk-estimator-doc-link.fitted span {\n",
              "  /* fitted */\n",
              "  background: var(--sklearn-color-fitted-level-0);\n",
              "  border: var(--sklearn-color-fitted-level-3);\n",
              "}\n",
              "\n",
              ".sk-estimator-doc-link:hover span {\n",
              "  display: block;\n",
              "}\n",
              "\n",
              "/* \"?\"-specific style due to the `<a>` HTML tag */\n",
              "\n",
<<<<<<< HEAD
              "#sk-container-id-2 a.estimator_doc_link {\n",
=======
              "#sk-container-id-3 a.estimator_doc_link {\n",
>>>>>>> 52c357f39ef657b820475cfd52664ee1d72dafc7
              "  float: right;\n",
              "  font-size: 1rem;\n",
              "  line-height: 1em;\n",
              "  font-family: monospace;\n",
              "  background-color: var(--sklearn-color-background);\n",
              "  border-radius: 1rem;\n",
              "  height: 1rem;\n",
              "  width: 1rem;\n",
              "  text-decoration: none;\n",
              "  /* unfitted */\n",
              "  color: var(--sklearn-color-unfitted-level-1);\n",
              "  border: var(--sklearn-color-unfitted-level-1) 1pt solid;\n",
              "}\n",
              "\n",
<<<<<<< HEAD
              "#sk-container-id-2 a.estimator_doc_link.fitted {\n",
=======
              "#sk-container-id-3 a.estimator_doc_link.fitted {\n",
>>>>>>> 52c357f39ef657b820475cfd52664ee1d72dafc7
              "  /* fitted */\n",
              "  border: var(--sklearn-color-fitted-level-1) 1pt solid;\n",
              "  color: var(--sklearn-color-fitted-level-1);\n",
              "}\n",
              "\n",
              "/* On hover */\n",
<<<<<<< HEAD
              "#sk-container-id-2 a.estimator_doc_link:hover {\n",
=======
              "#sk-container-id-3 a.estimator_doc_link:hover {\n",
>>>>>>> 52c357f39ef657b820475cfd52664ee1d72dafc7
              "  /* unfitted */\n",
              "  background-color: var(--sklearn-color-unfitted-level-3);\n",
              "  color: var(--sklearn-color-background);\n",
              "  text-decoration: none;\n",
              "}\n",
              "\n",
<<<<<<< HEAD
              "#sk-container-id-2 a.estimator_doc_link.fitted:hover {\n",
              "  /* fitted */\n",
              "  background-color: var(--sklearn-color-fitted-level-3);\n",
              "}\n",
              "</style><div id=\"sk-container-id-2\" class=\"sk-top-container\"><div class=\"sk-text-repr-fallback\"><pre>KNeighborsClassifier()</pre><b>In a Jupyter environment, please rerun this cell to show the HTML representation or trust the notebook. <br />On GitHub, the HTML representation is unable to render, please try loading this page with nbviewer.org.</b></div><div class=\"sk-container\" hidden><div class=\"sk-item\"><div class=\"sk-estimator fitted sk-toggleable\"><input class=\"sk-toggleable__control sk-hidden--visually\" id=\"sk-estimator-id-2\" type=\"checkbox\" checked><label for=\"sk-estimator-id-2\" class=\"sk-toggleable__label fitted sk-toggleable__label-arrow\"><div><div>KNeighborsClassifier</div></div><div><a class=\"sk-estimator-doc-link fitted\" rel=\"noreferrer\" target=\"_blank\" href=\"https://scikit-learn.org/1.6/modules/generated/sklearn.neighbors.KNeighborsClassifier.html\">?<span>Documentation for KNeighborsClassifier</span></a><span class=\"sk-estimator-doc-link fitted\">i<span>Fitted</span></span></div></label><div class=\"sk-toggleable__content fitted\"><pre>KNeighborsClassifier()</pre></div> </div></div></div></div>"
            ]
          },
          "metadata": {},
          "execution_count": 31
=======
              "#sk-container-id-3 a.estimator_doc_link.fitted:hover {\n",
              "  /* fitted */\n",
              "  background-color: var(--sklearn-color-fitted-level-3);\n",
              "}\n",
              "</style><div id=\"sk-container-id-3\" class=\"sk-top-container\"><div class=\"sk-text-repr-fallback\"><pre>KNeighborsClassifier()</pre><b>In a Jupyter environment, please rerun this cell to show the HTML representation or trust the notebook. <br />On GitHub, the HTML representation is unable to render, please try loading this page with nbviewer.org.</b></div><div class=\"sk-container\" hidden><div class=\"sk-item\"><div class=\"sk-estimator fitted sk-toggleable\"><input class=\"sk-toggleable__control sk-hidden--visually\" id=\"sk-estimator-id-3\" type=\"checkbox\" checked><label for=\"sk-estimator-id-3\" class=\"sk-toggleable__label fitted sk-toggleable__label-arrow\"><div><div>KNeighborsClassifier</div></div><div><a class=\"sk-estimator-doc-link fitted\" rel=\"noreferrer\" target=\"_blank\" href=\"https://scikit-learn.org/1.6/modules/generated/sklearn.neighbors.KNeighborsClassifier.html\">?<span>Documentation for KNeighborsClassifier</span></a><span class=\"sk-estimator-doc-link fitted\">i<span>Fitted</span></span></div></label><div class=\"sk-toggleable__content fitted\"><pre>KNeighborsClassifier()</pre></div> </div></div></div></div>"
            ]
          },
          "metadata": {},
          "execution_count": 66
>>>>>>> 52c357f39ef657b820475cfd52664ee1d72dafc7
        }
      ],
      "source": [
        "# Na fase de treinamento, ajustamos a função. Lembrando que, no caso do k-NN, nosso algoritmo é lazy.\n",
        "\n",
        "# Assim, o treinamento consiste basicamente na memorização dos dados.\n",
        "\n",
        "knn.fit(X_train_norm, y_train)"
      ]
    },
    {
      "cell_type": "code",
<<<<<<< HEAD
      "execution_count": 32,
=======
      "execution_count": 67,
>>>>>>> 52c357f39ef657b820475cfd52664ee1d72dafc7
      "metadata": {
        "id": "ANPBHz8xbC19"
      },
      "outputs": [],
      "source": [
        "# Agora, podemos aplicar nosso método aos exemplos de teste\n",
        "\n",
        "X_test_norm = escala.transform(X_test)\n",
        "\n",
        "\n",
        "y_pred = knn.predict(X_test_norm) # y_pred receberá os valores previstos com base nos 5 vizinhos mais próximos"
      ]
    },
    {
      "cell_type": "code",
<<<<<<< HEAD
      "execution_count": 33,
      "metadata": {
        "id": "eNxM0cnzwMw-",
        "outputId": "f2619a19-c1d7-4159-83d2-368b16761393",
        "colab": {
          "base_uri": "https://localhost:8080/"
        }
=======
      "execution_count": 68,
      "metadata": {
        "colab": {
          "base_uri": "https://localhost:8080/"
        },
        "id": "eNxM0cnzwMw-",
        "outputId": "5eb58c01-e7cd-49b8-8c8b-e326cc12dd26"
>>>>>>> 52c357f39ef657b820475cfd52664ee1d72dafc7
      },
      "outputs": [
        {
          "output_type": "execute_result",
          "data": {
            "text/plain": [
              "array([2, 1, 0, 2, 0, 2, 0, 1, 1, 1, 2, 1, 1, 1, 1, 0, 1, 1, 0, 0, 2, 1,\n",
              "       0, 0, 2, 0, 0, 1, 1, 0])"
            ]
          },
          "metadata": {},
<<<<<<< HEAD
          "execution_count": 33
=======
          "execution_count": 68
>>>>>>> 52c357f39ef657b820475cfd52664ee1d72dafc7
        }
      ],
      "source": [
        "y_pred"
      ]
    },
    {
      "cell_type": "markdown",
      "metadata": {
        "id": "-dIeTxMMwMw_"
      },
      "source": [
        "## Performance\n",
        "\n",
        "Chegou a hora de testarmos a performance que obtivemos em nosso experimento.\n",
        "\n",
        "Para isso, vamos carregar as métricas inseridas no sklearn e aplicar o método accuracy_score"
      ]
    },
    {
      "cell_type": "code",
<<<<<<< HEAD
      "execution_count": 34,
=======
      "execution_count": 69,
>>>>>>> 52c357f39ef657b820475cfd52664ee1d72dafc7
      "metadata": {
        "id": "MbFeyH7MwMw_"
      },
      "outputs": [],
      "source": [
        "from sklearn import metrics"
      ]
    },
    {
      "cell_type": "code",
<<<<<<< HEAD
      "execution_count": 35,
=======
      "execution_count": 70,
>>>>>>> 52c357f39ef657b820475cfd52664ee1d72dafc7
      "metadata": {
        "colab": {
          "base_uri": "https://localhost:8080/"
        },
        "id": "k06WHXLvbKlT",
<<<<<<< HEAD
        "outputId": "ffe875ba-8e92-462e-b980-6160bded7e6a"
=======
        "outputId": "129c30e5-fa09-4103-837a-15af9886edeb"
>>>>>>> 52c357f39ef657b820475cfd52664ee1d72dafc7
      },
      "outputs": [
        {
          "output_type": "execute_result",
          "data": {
            "text/plain": [
              "1.0"
            ]
          },
          "metadata": {},
<<<<<<< HEAD
          "execution_count": 35
=======
          "execution_count": 70
>>>>>>> 52c357f39ef657b820475cfd52664ee1d72dafc7
        }
      ],
      "source": [
        "metrics.accuracy_score(y_test, y_pred)"
      ]
    },
    {
      "cell_type": "markdown",
      "metadata": {
        "id": "d-h7E1zlwMxA"
      },
      "source": [
        "Atingimos uma acurácia de 100% no exemplo.\n",
        "\n",
        "**Será que obteríamos uma outra acurácia caso a nossa partição (treino / teste) fosse diferente?**\n",
        "\n",
        "- **Não necessariamente!**"
      ]
    },
    {
      "cell_type": "code",
<<<<<<< HEAD
      "execution_count": 36,
      "metadata": {
        "id": "HgiiG9MqwMxA",
        "outputId": "bf2c2c32-3df6-4096-87e4-16a984f87625",
        "colab": {
          "base_uri": "https://localhost:8080/"
        }
=======
      "execution_count": 71,
      "metadata": {
        "colab": {
          "base_uri": "https://localhost:8080/"
        },
        "id": "HgiiG9MqwMxA",
        "outputId": "725c7e2a-eae3-4aab-f9c7-cd90b9e97c0c"
>>>>>>> 52c357f39ef657b820475cfd52664ee1d72dafc7
      },
      "outputs": [
        {
          "output_type": "execute_result",
          "data": {
            "text/plain": [
              "0.9666666666666667"
            ]
          },
          "metadata": {},
<<<<<<< HEAD
          "execution_count": 36
=======
          "execution_count": 71
>>>>>>> 52c357f39ef657b820475cfd52664ee1d72dafc7
        }
      ],
      "source": [
        "X2_train, X2_test, y2_train, y2_test = train_test_split(X, y, random_state=2, test_size = 0.2)\n",
        "escala = MinMaxScaler()\n",
        "X2_train_norm = escala.fit_transform(X2_train)\n",
        "X2_test_norm = escala.transform(X2_test)\n",
        "y2_pred = knn.fit(X2_train_norm, y2_train).predict(X2_test_norm)\n",
        "metrics.accuracy_score(y2_test, y2_pred)\n"
      ]
    },
    {
      "cell_type": "markdown",
      "metadata": {
        "id": "gbDtrUYfwMxA"
      },
      "source": [
        "Ou seja, mudando a semente da geração do número aleatório, obtivemos um resultado diferente!"
      ]
    },
    {
      "cell_type": "markdown",
      "metadata": {
        "id": "PRoPvpYwZXUX"
      },
      "source": [
        "# Aplicando validação cruzada"
      ]
    },
    {
      "cell_type": "markdown",
      "metadata": {
        "id": "3ursFefPgbim"
      },
      "source": [
        "## r-fold cross validation"
      ]
    },
    {
      "cell_type": "markdown",
      "metadata": {
        "id": "JQnsSCwWfhtf"
      },
      "source": [
        "1. Particione os dados em r subconjuntos;\n",
        "\n",
        "2. \"Guarde\" um subconjunto para o teste da função aprendida pelos demais (r-1) subconjuntos, usados no treinamento;\n",
        "\n",
        "3.  Calcule a acurácia comparando as previsões com os rótulos verdadeiros do conjunto de teste;\n",
        "\n",
        "4.  Os passos 2 e 3 são realizados r vezes, cada uma das vezes com um dos subconjuntos usado como teste e os demais no treinamento;  \n",
        "\n",
        "5. Calcule a média das performances obtidas;"
      ]
    },
    {
      "cell_type": "code",
<<<<<<< HEAD
      "execution_count": 37,
=======
      "execution_count": 72,
>>>>>>> 52c357f39ef657b820475cfd52664ee1d72dafc7
      "metadata": {
        "id": "Hcb7OcFhwMxB"
      },
      "outputs": [],
      "source": [
        "from sklearn.model_selection import cross_val_score"
      ]
    },
    {
      "cell_type": "code",
<<<<<<< HEAD
      "execution_count": 40,
=======
      "execution_count": 73,
>>>>>>> 52c357f39ef657b820475cfd52664ee1d72dafc7
      "metadata": {
        "id": "XyLYXdi8YJUv"
      },
      "outputs": [],
      "source": [
        "knn = KNeighborsClassifier(n_neighbors= 5)"
      ]
    },
    {
      "cell_type": "code",
      "source": [
        "X_norm = MinMaxScaler().fit_transform(X)"
      ],
      "metadata": {
        "id": "rnBSZmeXx7vX"
      },
<<<<<<< HEAD
      "execution_count": 41,
=======
      "execution_count": 74,
>>>>>>> 52c357f39ef657b820475cfd52664ee1d72dafc7
      "outputs": []
    },
    {
      "cell_type": "code",
<<<<<<< HEAD
      "execution_count": 42,
      "metadata": {
        "id": "Fv4QeyYRdnk0",
        "outputId": "8bce6ae4-832c-4eaf-d91c-292827cede00",
        "colab": {
          "base_uri": "https://localhost:8080/"
        }
=======
      "execution_count": 75,
      "metadata": {
        "id": "Fv4QeyYRdnk0",
        "colab": {
          "base_uri": "https://localhost:8080/"
        },
        "outputId": "73c13ccb-9674-4e84-decf-a703c69b2cf7"
>>>>>>> 52c357f39ef657b820475cfd52664ee1d72dafc7
      },
      "outputs": [
        {
          "output_type": "execute_result",
          "data": {
            "text/plain": [
              "array([0.96666667, 0.96666667, 0.96666667, 0.9       , 1.        ])"
            ]
          },
          "metadata": {},
<<<<<<< HEAD
          "execution_count": 42
=======
          "execution_count": 75
>>>>>>> 52c357f39ef657b820475cfd52664ee1d72dafc7
        }
      ],
      "source": [
        "scores = cross_val_score(knn, X_norm, y , cv = 5, scoring= 'accuracy') # cv = 5 partições\n",
        "scores"
      ]
    },
    {
      "cell_type": "code",
<<<<<<< HEAD
      "execution_count": 47,
=======
      "execution_count": 76,
>>>>>>> 52c357f39ef657b820475cfd52664ee1d72dafc7
      "metadata": {
        "colab": {
          "base_uri": "https://localhost:8080/"
        },
        "id": "pGAkeZJOd2ub",
<<<<<<< HEAD
        "outputId": "675dcd65-ef1d-46d7-9ed3-daa53ed00555"
=======
        "outputId": "7c2fd0b6-43f5-40a1-ad8a-ac33ed984cab"
>>>>>>> 52c357f39ef657b820475cfd52664ee1d72dafc7
      },
      "outputs": [
        {
          "output_type": "execute_result",
          "data": {
            "text/plain": [
              "np.float64(0.96)"
            ]
          },
          "metadata": {},
<<<<<<< HEAD
          "execution_count": 47
=======
          "execution_count": 76
>>>>>>> 52c357f39ef657b820475cfd52664ee1d72dafc7
        }
      ],
      "source": [
        "scores.mean()"
      ]
    },
    {
      "cell_type": "markdown",
      "metadata": {
        "id": "n7OlxK0qwMxC"
      },
      "source": [
        "Nossa performance média não foi tão diferente da performance encontrada anteriormente, ficando apenas um pouco abaixo"
      ]
    },
    {
      "cell_type": "markdown",
      "metadata": {
        "id": "aTRjhn--wMxC"
      },
      "source": [
        "# Testando diferentes valores de k"
      ]
    },
    {
      "cell_type": "code",
<<<<<<< HEAD
      "execution_count": 50,
      "metadata": {
        "id": "bKvHvCcAwMxL",
        "outputId": "d9ed613c-8a0a-440c-b321-a1114a9b127f",
        "colab": {
          "base_uri": "https://localhost:8080/"
        }
=======
      "execution_count": 77,
      "metadata": {
        "colab": {
          "base_uri": "https://localhost:8080/"
        },
        "id": "bKvHvCcAwMxL",
        "outputId": "5afbcafd-506e-4a2a-dc51-bc6e16fa7f79"
>>>>>>> 52c357f39ef657b820475cfd52664ee1d72dafc7
      },
      "outputs": [
        {
          "output_type": "execute_result",
          "data": {
            "text/plain": [
              "array([[0.22222222, 0.625     , 0.06779661, 0.04166667],\n",
              "       [0.16666667, 0.41666667, 0.06779661, 0.04166667],\n",
              "       [0.11111111, 0.5       , 0.05084746, 0.04166667],\n",
              "       [0.08333333, 0.45833333, 0.08474576, 0.04166667],\n",
              "       [0.19444444, 0.66666667, 0.06779661, 0.04166667],\n",
              "       [0.30555556, 0.79166667, 0.11864407, 0.125     ],\n",
              "       [0.08333333, 0.58333333, 0.06779661, 0.08333333],\n",
              "       [0.19444444, 0.58333333, 0.08474576, 0.04166667],\n",
              "       [0.02777778, 0.375     , 0.06779661, 0.04166667],\n",
              "       [0.16666667, 0.45833333, 0.08474576, 0.        ]])"
            ]
          },
          "metadata": {},
<<<<<<< HEAD
          "execution_count": 50
=======
          "execution_count": 77
>>>>>>> 52c357f39ef657b820475cfd52664ee1d72dafc7
        }
      ],
      "source": [
        "X_norm [:10]"
      ]
    },
    {
      "cell_type": "code",
<<<<<<< HEAD
      "execution_count": 51,
=======
      "execution_count": 78,
>>>>>>> 52c357f39ef657b820475cfd52664ee1d72dafc7
      "metadata": {
        "id": "ce4qPaaGd8Bd"
      },
      "outputs": [],
      "source": [
        "k_range = range(1, 9)\n",
        "k_scores = []\n",
        "\n",
        "for k in k_range:\n",
        "  knn = KNeighborsClassifier(n_neighbors= k)\n",
        "  scores = cross_val_score(knn, X_norm, y , cv = 5, scoring= 'accuracy')\n",
        "  k_scores.append(scores.mean())"
      ]
    },
    {
      "cell_type": "code",
<<<<<<< HEAD
      "execution_count": 52,
=======
      "execution_count": 79,
>>>>>>> 52c357f39ef657b820475cfd52664ee1d72dafc7
      "metadata": {
        "id": "EDLFZxAvwMxM"
      },
      "outputs": [],
      "source": [
        "import pandas as pd"
      ]
    },
    {
      "cell_type": "code",
<<<<<<< HEAD
      "execution_count": 53,
=======
      "execution_count": 80,
>>>>>>> 52c357f39ef657b820475cfd52664ee1d72dafc7
      "metadata": {
        "colab": {
          "base_uri": "https://localhost:8080/",
          "height": 300
        },
        "id": "vhNvPGZtoKqQ",
<<<<<<< HEAD
        "outputId": "de910e50-c90a-431d-f2e7-85f372c603fa"
=======
        "outputId": "dc5bff63-b4ec-473c-f612-bf8b63cae2ea"
>>>>>>> 52c357f39ef657b820475cfd52664ee1d72dafc7
      },
      "outputs": [
        {
          "output_type": "execute_result",
          "data": {
            "text/plain": [
              "   Número de vizinhos  Acurácia\n",
              "0                   1  0.953333\n",
              "1                   2  0.960000\n",
              "2                   3  0.953333\n",
              "3                   4  0.966667\n",
              "4                   5  0.960000\n",
              "5                   6  0.966667\n",
              "6                   7  0.960000\n",
              "7                   8  0.960000"
            ],
            "text/html": [
              "\n",
<<<<<<< HEAD
              "  <div id=\"df-4676be3f-2451-4a30-a1c6-97213bd2ccd4\" class=\"colab-df-container\">\n",
=======
              "  <div id=\"df-3ecbf1d5-78b0-4c61-b4a9-df85562276f1\" class=\"colab-df-container\">\n",
>>>>>>> 52c357f39ef657b820475cfd52664ee1d72dafc7
              "    <div>\n",
              "<style scoped>\n",
              "    .dataframe tbody tr th:only-of-type {\n",
              "        vertical-align: middle;\n",
              "    }\n",
              "\n",
              "    .dataframe tbody tr th {\n",
              "        vertical-align: top;\n",
              "    }\n",
              "\n",
              "    .dataframe thead th {\n",
              "        text-align: right;\n",
              "    }\n",
              "</style>\n",
              "<table border=\"1\" class=\"dataframe\">\n",
              "  <thead>\n",
              "    <tr style=\"text-align: right;\">\n",
              "      <th></th>\n",
              "      <th>Número de vizinhos</th>\n",
              "      <th>Acurácia</th>\n",
              "    </tr>\n",
              "  </thead>\n",
              "  <tbody>\n",
              "    <tr>\n",
              "      <th>0</th>\n",
              "      <td>1</td>\n",
              "      <td>0.953333</td>\n",
              "    </tr>\n",
              "    <tr>\n",
              "      <th>1</th>\n",
              "      <td>2</td>\n",
              "      <td>0.960000</td>\n",
              "    </tr>\n",
              "    <tr>\n",
              "      <th>2</th>\n",
              "      <td>3</td>\n",
              "      <td>0.953333</td>\n",
              "    </tr>\n",
              "    <tr>\n",
              "      <th>3</th>\n",
              "      <td>4</td>\n",
              "      <td>0.966667</td>\n",
              "    </tr>\n",
              "    <tr>\n",
              "      <th>4</th>\n",
              "      <td>5</td>\n",
              "      <td>0.960000</td>\n",
              "    </tr>\n",
              "    <tr>\n",
              "      <th>5</th>\n",
              "      <td>6</td>\n",
              "      <td>0.966667</td>\n",
              "    </tr>\n",
              "    <tr>\n",
              "      <th>6</th>\n",
              "      <td>7</td>\n",
              "      <td>0.960000</td>\n",
              "    </tr>\n",
              "    <tr>\n",
              "      <th>7</th>\n",
              "      <td>8</td>\n",
              "      <td>0.960000</td>\n",
              "    </tr>\n",
              "  </tbody>\n",
              "</table>\n",
              "</div>\n",
              "    <div class=\"colab-df-buttons\">\n",
              "\n",
              "  <div class=\"colab-df-container\">\n",
<<<<<<< HEAD
              "    <button class=\"colab-df-convert\" onclick=\"convertToInteractive('df-4676be3f-2451-4a30-a1c6-97213bd2ccd4')\"\n",
=======
              "    <button class=\"colab-df-convert\" onclick=\"convertToInteractive('df-3ecbf1d5-78b0-4c61-b4a9-df85562276f1')\"\n",
>>>>>>> 52c357f39ef657b820475cfd52664ee1d72dafc7
              "            title=\"Convert this dataframe to an interactive table.\"\n",
              "            style=\"display:none;\">\n",
              "\n",
              "  <svg xmlns=\"http://www.w3.org/2000/svg\" height=\"24px\" viewBox=\"0 -960 960 960\">\n",
              "    <path d=\"M120-120v-720h720v720H120Zm60-500h600v-160H180v160Zm220 220h160v-160H400v160Zm0 220h160v-160H400v160ZM180-400h160v-160H180v160Zm440 0h160v-160H620v160ZM180-180h160v-160H180v160Zm440 0h160v-160H620v160Z\"/>\n",
              "  </svg>\n",
              "    </button>\n",
              "\n",
              "  <style>\n",
              "    .colab-df-container {\n",
              "      display:flex;\n",
              "      gap: 12px;\n",
              "    }\n",
              "\n",
              "    .colab-df-convert {\n",
              "      background-color: #E8F0FE;\n",
              "      border: none;\n",
              "      border-radius: 50%;\n",
              "      cursor: pointer;\n",
              "      display: none;\n",
              "      fill: #1967D2;\n",
              "      height: 32px;\n",
              "      padding: 0 0 0 0;\n",
              "      width: 32px;\n",
              "    }\n",
              "\n",
              "    .colab-df-convert:hover {\n",
              "      background-color: #E2EBFA;\n",
              "      box-shadow: 0px 1px 2px rgba(60, 64, 67, 0.3), 0px 1px 3px 1px rgba(60, 64, 67, 0.15);\n",
              "      fill: #174EA6;\n",
              "    }\n",
              "\n",
              "    .colab-df-buttons div {\n",
              "      margin-bottom: 4px;\n",
              "    }\n",
              "\n",
              "    [theme=dark] .colab-df-convert {\n",
              "      background-color: #3B4455;\n",
              "      fill: #D2E3FC;\n",
              "    }\n",
              "\n",
              "    [theme=dark] .colab-df-convert:hover {\n",
              "      background-color: #434B5C;\n",
              "      box-shadow: 0px 1px 3px 1px rgba(0, 0, 0, 0.15);\n",
              "      filter: drop-shadow(0px 1px 2px rgba(0, 0, 0, 0.3));\n",
              "      fill: #FFFFFF;\n",
              "    }\n",
              "  </style>\n",
              "\n",
              "    <script>\n",
              "      const buttonEl =\n",
<<<<<<< HEAD
              "        document.querySelector('#df-4676be3f-2451-4a30-a1c6-97213bd2ccd4 button.colab-df-convert');\n",
=======
              "        document.querySelector('#df-3ecbf1d5-78b0-4c61-b4a9-df85562276f1 button.colab-df-convert');\n",
>>>>>>> 52c357f39ef657b820475cfd52664ee1d72dafc7
              "      buttonEl.style.display =\n",
              "        google.colab.kernel.accessAllowed ? 'block' : 'none';\n",
              "\n",
              "      async function convertToInteractive(key) {\n",
<<<<<<< HEAD
              "        const element = document.querySelector('#df-4676be3f-2451-4a30-a1c6-97213bd2ccd4');\n",
=======
              "        const element = document.querySelector('#df-3ecbf1d5-78b0-4c61-b4a9-df85562276f1');\n",
>>>>>>> 52c357f39ef657b820475cfd52664ee1d72dafc7
              "        const dataTable =\n",
              "          await google.colab.kernel.invokeFunction('convertToInteractive',\n",
              "                                                    [key], {});\n",
              "        if (!dataTable) return;\n",
              "\n",
              "        const docLinkHtml = 'Like what you see? Visit the ' +\n",
              "          '<a target=\"_blank\" href=https://colab.research.google.com/notebooks/data_table.ipynb>data table notebook</a>'\n",
              "          + ' to learn more about interactive tables.';\n",
              "        element.innerHTML = '';\n",
              "        dataTable['output_type'] = 'display_data';\n",
              "        await google.colab.output.renderOutput(dataTable, element);\n",
              "        const docLink = document.createElement('div');\n",
              "        docLink.innerHTML = docLinkHtml;\n",
              "        element.appendChild(docLink);\n",
              "      }\n",
              "    </script>\n",
              "  </div>\n",
              "\n",
              "\n",
<<<<<<< HEAD
              "<div id=\"df-e86c8350-7666-4d68-90de-2ffa1f9fef3a\">\n",
              "  <button class=\"colab-df-quickchart\" onclick=\"quickchart('df-e86c8350-7666-4d68-90de-2ffa1f9fef3a')\"\n",
=======
              "<div id=\"df-1dafd913-d4e7-41a4-9e73-861c5dd0b9e9\">\n",
              "  <button class=\"colab-df-quickchart\" onclick=\"quickchart('df-1dafd913-d4e7-41a4-9e73-861c5dd0b9e9')\"\n",
>>>>>>> 52c357f39ef657b820475cfd52664ee1d72dafc7
              "            title=\"Suggest charts\"\n",
              "            style=\"display:none;\">\n",
              "\n",
              "<svg xmlns=\"http://www.w3.org/2000/svg\" height=\"24px\"viewBox=\"0 0 24 24\"\n",
              "     width=\"24px\">\n",
              "    <g>\n",
              "        <path d=\"M19 3H5c-1.1 0-2 .9-2 2v14c0 1.1.9 2 2 2h14c1.1 0 2-.9 2-2V5c0-1.1-.9-2-2-2zM9 17H7v-7h2v7zm4 0h-2V7h2v10zm4 0h-2v-4h2v4z\"/>\n",
              "    </g>\n",
              "</svg>\n",
              "  </button>\n",
              "\n",
              "<style>\n",
              "  .colab-df-quickchart {\n",
              "      --bg-color: #E8F0FE;\n",
              "      --fill-color: #1967D2;\n",
              "      --hover-bg-color: #E2EBFA;\n",
              "      --hover-fill-color: #174EA6;\n",
              "      --disabled-fill-color: #AAA;\n",
              "      --disabled-bg-color: #DDD;\n",
              "  }\n",
              "\n",
              "  [theme=dark] .colab-df-quickchart {\n",
              "      --bg-color: #3B4455;\n",
              "      --fill-color: #D2E3FC;\n",
              "      --hover-bg-color: #434B5C;\n",
              "      --hover-fill-color: #FFFFFF;\n",
              "      --disabled-bg-color: #3B4455;\n",
              "      --disabled-fill-color: #666;\n",
              "  }\n",
              "\n",
              "  .colab-df-quickchart {\n",
              "    background-color: var(--bg-color);\n",
              "    border: none;\n",
              "    border-radius: 50%;\n",
              "    cursor: pointer;\n",
              "    display: none;\n",
              "    fill: var(--fill-color);\n",
              "    height: 32px;\n",
              "    padding: 0;\n",
              "    width: 32px;\n",
              "  }\n",
              "\n",
              "  .colab-df-quickchart:hover {\n",
              "    background-color: var(--hover-bg-color);\n",
              "    box-shadow: 0 1px 2px rgba(60, 64, 67, 0.3), 0 1px 3px 1px rgba(60, 64, 67, 0.15);\n",
              "    fill: var(--button-hover-fill-color);\n",
              "  }\n",
              "\n",
              "  .colab-df-quickchart-complete:disabled,\n",
              "  .colab-df-quickchart-complete:disabled:hover {\n",
              "    background-color: var(--disabled-bg-color);\n",
              "    fill: var(--disabled-fill-color);\n",
              "    box-shadow: none;\n",
              "  }\n",
              "\n",
              "  .colab-df-spinner {\n",
              "    border: 2px solid var(--fill-color);\n",
              "    border-color: transparent;\n",
              "    border-bottom-color: var(--fill-color);\n",
              "    animation:\n",
              "      spin 1s steps(1) infinite;\n",
              "  }\n",
              "\n",
              "  @keyframes spin {\n",
              "    0% {\n",
              "      border-color: transparent;\n",
              "      border-bottom-color: var(--fill-color);\n",
              "      border-left-color: var(--fill-color);\n",
              "    }\n",
              "    20% {\n",
              "      border-color: transparent;\n",
              "      border-left-color: var(--fill-color);\n",
              "      border-top-color: var(--fill-color);\n",
              "    }\n",
              "    30% {\n",
              "      border-color: transparent;\n",
              "      border-left-color: var(--fill-color);\n",
              "      border-top-color: var(--fill-color);\n",
              "      border-right-color: var(--fill-color);\n",
              "    }\n",
              "    40% {\n",
              "      border-color: transparent;\n",
              "      border-right-color: var(--fill-color);\n",
              "      border-top-color: var(--fill-color);\n",
              "    }\n",
              "    60% {\n",
              "      border-color: transparent;\n",
              "      border-right-color: var(--fill-color);\n",
              "    }\n",
              "    80% {\n",
              "      border-color: transparent;\n",
              "      border-right-color: var(--fill-color);\n",
              "      border-bottom-color: var(--fill-color);\n",
              "    }\n",
              "    90% {\n",
              "      border-color: transparent;\n",
              "      border-bottom-color: var(--fill-color);\n",
              "    }\n",
              "  }\n",
              "</style>\n",
              "\n",
              "  <script>\n",
              "    async function quickchart(key) {\n",
              "      const quickchartButtonEl =\n",
              "        document.querySelector('#' + key + ' button');\n",
              "      quickchartButtonEl.disabled = true;  // To prevent multiple clicks.\n",
              "      quickchartButtonEl.classList.add('colab-df-spinner');\n",
              "      try {\n",
              "        const charts = await google.colab.kernel.invokeFunction(\n",
              "            'suggestCharts', [key], {});\n",
              "      } catch (error) {\n",
              "        console.error('Error during call to suggestCharts:', error);\n",
              "      }\n",
              "      quickchartButtonEl.classList.remove('colab-df-spinner');\n",
              "      quickchartButtonEl.classList.add('colab-df-quickchart-complete');\n",
              "    }\n",
              "    (() => {\n",
              "      let quickchartButtonEl =\n",
<<<<<<< HEAD
              "        document.querySelector('#df-e86c8350-7666-4d68-90de-2ffa1f9fef3a button');\n",
=======
              "        document.querySelector('#df-1dafd913-d4e7-41a4-9e73-861c5dd0b9e9 button');\n",
>>>>>>> 52c357f39ef657b820475cfd52664ee1d72dafc7
              "      quickchartButtonEl.style.display =\n",
              "        google.colab.kernel.accessAllowed ? 'block' : 'none';\n",
              "    })();\n",
              "  </script>\n",
              "</div>\n",
              "\n",
<<<<<<< HEAD
              "  <div id=\"id_b0ca0a68-a5ed-4228-b97b-6c64ddc7844e\">\n",
=======
              "  <div id=\"id_f9b9a966-3d91-4755-a3c3-593df24b48f5\">\n",
>>>>>>> 52c357f39ef657b820475cfd52664ee1d72dafc7
              "    <style>\n",
              "      .colab-df-generate {\n",
              "        background-color: #E8F0FE;\n",
              "        border: none;\n",
              "        border-radius: 50%;\n",
              "        cursor: pointer;\n",
              "        display: none;\n",
              "        fill: #1967D2;\n",
              "        height: 32px;\n",
              "        padding: 0 0 0 0;\n",
              "        width: 32px;\n",
              "      }\n",
              "\n",
              "      .colab-df-generate:hover {\n",
              "        background-color: #E2EBFA;\n",
              "        box-shadow: 0px 1px 2px rgba(60, 64, 67, 0.3), 0px 1px 3px 1px rgba(60, 64, 67, 0.15);\n",
              "        fill: #174EA6;\n",
              "      }\n",
              "\n",
              "      [theme=dark] .colab-df-generate {\n",
              "        background-color: #3B4455;\n",
              "        fill: #D2E3FC;\n",
              "      }\n",
              "\n",
              "      [theme=dark] .colab-df-generate:hover {\n",
              "        background-color: #434B5C;\n",
              "        box-shadow: 0px 1px 3px 1px rgba(0, 0, 0, 0.15);\n",
              "        filter: drop-shadow(0px 1px 2px rgba(0, 0, 0, 0.3));\n",
              "        fill: #FFFFFF;\n",
              "      }\n",
              "    </style>\n",
              "    <button class=\"colab-df-generate\" onclick=\"generateWithVariable('cv_results')\"\n",
              "            title=\"Generate code using this dataframe.\"\n",
              "            style=\"display:none;\">\n",
              "\n",
              "  <svg xmlns=\"http://www.w3.org/2000/svg\" height=\"24px\"viewBox=\"0 0 24 24\"\n",
              "       width=\"24px\">\n",
              "    <path d=\"M7,19H8.4L18.45,9,17,7.55,7,17.6ZM5,21V16.75L18.45,3.32a2,2,0,0,1,2.83,0l1.4,1.43a1.91,1.91,0,0,1,.58,1.4,1.91,1.91,0,0,1-.58,1.4L9.25,21ZM18.45,9,17,7.55Zm-12,3A5.31,5.31,0,0,0,4.9,8.1,5.31,5.31,0,0,0,1,6.5,5.31,5.31,0,0,0,4.9,4.9,5.31,5.31,0,0,0,6.5,1,5.31,5.31,0,0,0,8.1,4.9,5.31,5.31,0,0,0,12,6.5,5.46,5.46,0,0,0,6.5,12Z\"/>\n",
              "  </svg>\n",
              "    </button>\n",
              "    <script>\n",
              "      (() => {\n",
              "      const buttonEl =\n",
<<<<<<< HEAD
              "        document.querySelector('#id_b0ca0a68-a5ed-4228-b97b-6c64ddc7844e button.colab-df-generate');\n",
=======
              "        document.querySelector('#id_f9b9a966-3d91-4755-a3c3-593df24b48f5 button.colab-df-generate');\n",
>>>>>>> 52c357f39ef657b820475cfd52664ee1d72dafc7
              "      buttonEl.style.display =\n",
              "        google.colab.kernel.accessAllowed ? 'block' : 'none';\n",
              "\n",
              "      buttonEl.onclick = () => {\n",
              "        google.colab.notebook.generateWithVariable('cv_results');\n",
              "      }\n",
              "      })();\n",
              "    </script>\n",
              "  </div>\n",
              "\n",
              "    </div>\n",
              "  </div>\n"
            ],
            "application/vnd.google.colaboratory.intrinsic+json": {
              "type": "dataframe",
              "variable_name": "cv_results",
              "summary": "{\n  \"name\": \"cv_results\",\n  \"rows\": 8,\n  \"fields\": [\n    {\n      \"column\": \"N\\u00famero de vizinhos\",\n      \"properties\": {\n        \"dtype\": \"number\",\n        \"std\": 2,\n        \"min\": 1,\n        \"max\": 8,\n        \"num_unique_values\": 8,\n        \"samples\": [\n          2,\n          6,\n          1\n        ],\n        \"semantic_type\": \"\",\n        \"description\": \"\"\n      }\n    },\n    {\n      \"column\": \"Acur\\u00e1cia\",\n      \"properties\": {\n        \"dtype\": \"number\",\n        \"std\": 0.005039526306789729,\n        \"min\": 0.9533333333333334,\n        \"max\": 0.9666666666666668,\n        \"num_unique_values\": 3,\n        \"samples\": [\n          0.9533333333333334,\n          0.96,\n          0.9666666666666668\n        ],\n        \"semantic_type\": \"\",\n        \"description\": \"\"\n      }\n    }\n  ]\n}"
            }
          },
          "metadata": {},
<<<<<<< HEAD
          "execution_count": 53
=======
          "execution_count": 80
>>>>>>> 52c357f39ef657b820475cfd52664ee1d72dafc7
        }
      ],
      "source": [
        "cv_results = pd.DataFrame({'Número de vizinhos': k_range, 'Acurácia': k_scores})\n",
        "cv_results"
      ]
    },
    {
      "cell_type": "code",
      "source": [],
      "metadata": {
        "id": "JE1hoATqyfIi"
      },
      "execution_count": null,
      "outputs": []
    }
  ],
  "metadata": {
    "colab": {
      "name": "Cópia de classification_project_1.ipynb",
      "provenance": []
    },
    "kernelspec": {
      "display_name": "Python 3.9.7 ('base')",
      "language": "python",
      "name": "python3"
    },
    "language_info": {
      "codemirror_mode": {
        "name": "ipython",
        "version": 3
      },
      "file_extension": ".py",
      "mimetype": "text/x-python",
      "name": "python",
      "nbconvert_exporter": "python",
      "pygments_lexer": "ipython3",
      "version": "3.9.7"
    },
    "vscode": {
      "interpreter": {
        "hash": "e4cce46d6be9934fbd27f9ca0432556941ea5bdf741d4f4d64c6cd7f8dfa8fba"
      }
    }
  },
  "nbformat": 4,
  "nbformat_minor": 0
}