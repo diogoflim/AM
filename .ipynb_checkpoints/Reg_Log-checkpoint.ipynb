{
 "cells": [
  {
   "cell_type": "markdown",
   "id": "875a6780-dc7d-4fc2-8037-8bd7e8f78f58",
   "metadata": {},
   "source": [
    "**TPP - UFF**\n",
    "\n",
    "**Aprendizado de Máquina e Decisões Dirigidas por Dados**\n",
    "\n",
    "Docente: Diogo Ferreira de Lima Silva"
   ]
  },
  {
   "cell_type": "markdown",
   "id": "10e401dd-993b-4d73-9803-76dcbab38b44",
   "metadata": {},
   "source": [
    "# Lembrando as Funções da Regressão Logística (aula 7)"
   ]
  },
  {
   "cell_type": "markdown",
   "id": "bb73cb62-d57a-4fd6-b6ca-fc4ff351b234",
   "metadata": {},
   "source": [
    "A Regressão Logística supõe:\n",
    "\n",
    "- **Problema de classificação binária**: temos $y_i \\in \\mathcal{C} =\\{0,1\\}$\n",
    "\n",
    "- $\\hat{f}(\\mathbf{x}_i)= \\hat{y}_i \\approx y_i=P(y_i=1|\\mathbf{x}_i)$\n",
    "\n",
    "Da segunda suposição, temos que a função que aprenderemos a partir dos dados deve estimar a probabilidade de uma entrada $\\mathbf{x}_i$ pertencer à classe 1. Nesse cenário, precisamos que:\n",
    "\n",
    "$$0<=\\hat{y}_i<=1$$\n"
   ]
  },
  {
   "cell_type": "markdown",
   "id": "b3a6e7bf-6c3e-49e1-8233-29bf7e4b3232",
   "metadata": {},
   "source": [
    "Assim, não podemos seguir com a mesma lógica do Perceptron, onde a classe de um exemplo era obtida a partir do sinal da equação $\\mathbf{w}^T \\mathbf{x}$. \n",
    "\n",
    "Agora, devemos aprender uma função que retorna a probabilidade acima. Para isso, usamos a função sigmoide.\n",
    "\n",
    "$$\\theta(\\mathbf{w}^T \\mathbf{x}) = \\frac{1}{1+ e^{-\\mathbf{w}^T \\mathbf{x}}}$$\n",
    "\n",
    "ou, usando $z = \\mathbf{w}^T \\mathbf(x)$:\n",
    "\n",
    "$$ \\theta(z)=\\frac{1}{1 + e^{-z}}$$"
   ]
  },
  {
   "cell_type": "markdown",
   "id": "e1d55038-b825-4689-aadb-04097c41021d",
   "metadata": {},
   "source": [
    "## Implementando a Função sigmoide"
   ]
  },
  {
   "cell_type": "code",
   "execution_count": 1,
   "id": "8d2c4a5b-a552-41a5-80e6-99e9a59e8dd3",
   "metadata": {},
   "outputs": [
    {
     "name": "stdout",
     "output_type": "stream",
     "text": [
      "Sigmoid(-1) =  0.2689414213699951\n",
      "Sigmoid(0) =  0.5\n",
      "Sigmoid(1) =  0.7310585786300049\n",
      "Sigmoid(10) =  0.9999546021312976\n"
     ]
    }
   ],
   "source": [
    "import numpy as np\n",
    "\n",
    "sigmoid = lambda z: 1/(1 + np.exp(-z)) # função sigmoid\n",
    "\n",
    "print ('Sigmoid(-1) = ', sigmoid(-1))\n",
    "print ('Sigmoid(0) = ', sigmoid(0))\n",
    "print ('Sigmoid(1) = ', sigmoid(1))\n",
    "print ('Sigmoid(10) = ', sigmoid(10))"
   ]
  },
  {
   "cell_type": "markdown",
   "id": "883d03cf-2362-4005-b309-651cf2729c79",
   "metadata": {},
   "source": [
    "## Visualizando a função sigmoide"
   ]
  },
  {
   "cell_type": "code",
   "execution_count": 2,
   "id": "bf272c9c-4d4c-4f1f-9aad-f3aef180f8f0",
   "metadata": {},
   "outputs": [
    {
     "data": {
      "text/plain": [
       "array([-20.        , -19.5959596 , -19.19191919, -18.78787879,\n",
       "       -18.38383838, -17.97979798, -17.57575758, -17.17171717,\n",
       "       -16.76767677, -16.36363636, -15.95959596, -15.55555556,\n",
       "       -15.15151515, -14.74747475, -14.34343434, -13.93939394,\n",
       "       -13.53535354, -13.13131313, -12.72727273, -12.32323232,\n",
       "       -11.91919192, -11.51515152, -11.11111111, -10.70707071,\n",
       "       -10.3030303 ,  -9.8989899 ,  -9.49494949,  -9.09090909,\n",
       "        -8.68686869,  -8.28282828,  -7.87878788,  -7.47474747,\n",
       "        -7.07070707,  -6.66666667,  -6.26262626,  -5.85858586,\n",
       "        -5.45454545,  -5.05050505,  -4.64646465,  -4.24242424,\n",
       "        -3.83838384,  -3.43434343,  -3.03030303,  -2.62626263,\n",
       "        -2.22222222,  -1.81818182,  -1.41414141,  -1.01010101,\n",
       "        -0.60606061,  -0.2020202 ,   0.2020202 ,   0.60606061,\n",
       "         1.01010101,   1.41414141,   1.81818182,   2.22222222,\n",
       "         2.62626263,   3.03030303,   3.43434343,   3.83838384,\n",
       "         4.24242424,   4.64646465,   5.05050505,   5.45454545,\n",
       "         5.85858586,   6.26262626,   6.66666667,   7.07070707,\n",
       "         7.47474747,   7.87878788,   8.28282828,   8.68686869,\n",
       "         9.09090909,   9.49494949,   9.8989899 ,  10.3030303 ,\n",
       "        10.70707071,  11.11111111,  11.51515152,  11.91919192,\n",
       "        12.32323232,  12.72727273,  13.13131313,  13.53535354,\n",
       "        13.93939394,  14.34343434,  14.74747475,  15.15151515,\n",
       "        15.55555556,  15.95959596,  16.36363636,  16.76767677,\n",
       "        17.17171717,  17.57575758,  17.97979798,  18.38383838,\n",
       "        18.78787879,  19.19191919,  19.5959596 ,  20.        ])"
      ]
     },
     "execution_count": 2,
     "metadata": {},
     "output_type": "execute_result"
    }
   ],
   "source": [
    "# Vamos criar um vetor de 100 pontos linearmente espaçados entre -20 e 20\n",
    " \n",
    "x = np.linspace(-20, 20, 100)  \n",
    "x\n"
   ]
  },
  {
   "cell_type": "code",
   "execution_count": 3,
   "id": "009cedc1-1c46-49dd-b504-9ddb63659b8c",
   "metadata": {},
   "outputs": [
    {
     "data": {
      "image/png": "[encoded data removed]",
      "text/plain": [
       "<Figure size 432x288 with 1 Axes>"
      ]
     },
     "metadata": {
      "needs_background": "light"
     },
     "output_type": "display_data"
    }
   ],
   "source": [
    "import matplotlib.pyplot as plt\n",
    "\n",
    "plt.plot(x, sigmoid(x))\n",
    "plt.xlabel(\"x\")\n",
    "plt.ylabel(\"Sigmoid(X)\")\n",
    "  \n",
    "plt.show()"
   ]
  },
  {
   "cell_type": "markdown",
   "id": "3be1d0dd-97db-411e-9255-a9846b84e745",
   "metadata": {},
   "source": [
    "Seja $z = \\theta(\\mathbf{w}^T \\mathbf{x})$. Temos:\n",
    "\n",
    "- Se $z\\rightarrow\\infty$, então $\\theta(z) \\approx \\frac{1}{1+0}=1$\n",
    "\n",
    "- Se $z\\rightarrow - \\infty$, então $\\theta(z) \\approx \\frac{1}{1+\\infty}=0$"
   ]
  },
  {
   "cell_type": "markdown",
   "id": "e17c9578-c010-4e4a-b279-a284b9eb4ac1",
   "metadata": {},
   "source": [
    "## Função Perda e Função Custo"
   ]
  },
  {
   "cell_type": "markdown",
   "id": "10c56f46-bf73-48d9-b8e5-2184c9c526b1",
   "metadata": {},
   "source": [
    "**Chegamos então a nossa suposição:**\n",
    "\n",
    "$$\\hat{f}(x)=\\hat{y}=\\theta(\\mathbf{w}^T \\mathbf{x})$$"
   ]
  },
  {
   "cell_type": "markdown",
   "id": "f56b19a0-1dc9-42e3-af64-c79e3576a3de",
   "metadata": {},
   "source": [
    "A nossa tarefa é, então, aprender o vetor de parâmetros $\\mathbf{w}$. Em Regressão Logística, fazemos isso minimizando uma função custo específica. \n"
   ]
  },
  {
   "cell_type": "markdown",
   "id": "e6737ef5-c151-446d-9d4a-32266e8429ac",
   "metadata": {},
   "source": [
    "### Entendendo a Função Perda"
   ]
  },
  {
   "cell_type": "markdown",
   "id": "f778e894-64a1-4dff-b8f1-6a1347239781",
   "metadata": {},
   "source": [
    "A perda para uma determinada observação $\\mathbf{x}_i$ é dada por:\n",
    "\n",
    "$$ L(\\hat{y}_i, y_i) = -[y_i\\times\\log{\\hat{y}_i + (1-y_i)\\times\\log{(1-\\hat{y}_i})}]$$\n",
    "\n"
   ]
  },
  {
   "cell_type": "markdown",
   "id": "b3fc31ff-e797-4fc8-a160-25594ff24c27",
   "metadata": {},
   "source": [
    " Podemos observar que essa função faz sentido analisando os 2 casos a seguir:"
   ]
  },
  {
   "cell_type": "markdown",
   "id": "79bd82d5-cb42-431d-b61f-9c42e177bacf",
   "metadata": {},
   "source": [
    "- **Caso 1:** $y_i=1$:\n",
    "$$ L(\\hat{y}_i, 1) = -[1 \\times \\log{\\hat{y}_i + (1-1)\\times\\log{(1-\\hat{y}_i})}]$$\n",
    "Ou seja:\n",
    "$$ L(\\hat{y}_i, 1) = -\\log{\\hat{y}_i}$$\n",
    "**Interpretação do caso 1**: Para minimizar a perda, queremos que $\\hat{y}_i$ seja o maior possível, assim, próximo de 1."
   ]
  },
  {
   "cell_type": "markdown",
   "id": "9b06ac79-95a8-436f-a896-b0890088639e",
   "metadata": {},
   "source": [
    "- **Caso 2:** $y_i=0$:\n",
    "\n",
    "$$ \\mathcal{L}(\\hat{y}_i, 0) = -[0 \\times \\log{\\hat{y}_i + (1-0)\\times\\log{(1-\\hat{y}_i})}]$$\n",
    "\n",
    "Ou seja:\n",
    "\n",
    "$$ \\mathcal{L}(\\hat{y}_i, 0) = -\\log{(1-\\hat{y}_i)}$$\n",
    "\n",
    "**Interpretação do caso 2**: Para minimizar a perda, queremos que $\\hat{y}_i$ seja o menor possível, assim, próximo de 0."
   ]
  },
  {
   "cell_type": "markdown",
   "id": "f34eb9e2-2ece-4677-a9e5-0b4c799240f6",
   "metadata": {},
   "source": [
    "### Entendendo a Função Custo"
   ]
  },
  {
   "cell_type": "markdown",
   "id": "e044d65f-0808-4c74-9eb7-167ca7bfab4f",
   "metadata": {},
   "source": [
    "Por sua vez, a função custo é dada pela média das perdas obtidas com os $n$ exemplos de treinamento. Dessa forma, temos:\n",
    "\n",
    "$$ J = \\frac{1}{n} \\sum_{i=1}^n \\mathcal{L}(\\hat{y}_i, y_i) $$\n"
   ]
  },
  {
   "cell_type": "markdown",
   "id": "36c76fea-25e5-4fb4-a674-c5382dc7fefe",
   "metadata": {},
   "source": [
    "## Gradiente Descendente\n",
    "\n",
    "### Aprendendo o vetor $\\mathbf{w}$"
   ]
  },
  {
   "cell_type": "markdown",
   "id": "c31b26b0-ee33-44af-a96e-dda01235b329",
   "metadata": {},
   "source": [
    "Para o treinamento, nos deparamos com um conjunto de dados do seguinte tipo:\n",
    "    \n",
    "$$\\mathcal{D}=\\{(\\mathbf{x}_1,y_1),(\\mathbf{x}_2,y_2),...,(\\mathbf{x}_n,y_n)\\}$$\n",
    "\n"
   ]
  },
  {
   "cell_type": "markdown",
   "id": "c27408af-54cf-465e-843f-7dcdd3d0fee3",
   "metadata": {},
   "source": [
    "Como visto em aula, podemos denotar o conjunto de treinamento com uma matriz de atributos $\\mathbf{X}$ e um vetor de rótulos $\\mathbf{y}$."
   ]
  },
  {
   "cell_type": "markdown",
   "id": "fae71e6f-e13c-45b8-a4c7-4d8991c4e552",
   "metadata": {},
   "source": [
    "A ideia do gradiente descendente é atualizar os parâmetros a cada passo do algoritmo conforme for a direção do gradiente da função custo em termos desses parâmetros. \n",
    "\n",
    "Temos:\n",
    "\n",
    "$$w_j = w_j - \\alpha \\times \\frac{\\partial J}{\\partial w_j}$$ "
   ]
  },
  {
   "cell_type": "code",
   "execution_count": null,
   "id": "541821b5-31c6-4889-a055-9f6515011bde",
   "metadata": {},
   "outputs": [],
   "source": []
  },
  {
   "cell_type": "code",
   "execution_count": null,
   "id": "991a7476-b95c-4a92-9b8b-6652435a97f8",
   "metadata": {},
   "outputs": [],
   "source": [
    "def propagate(w, b, X, Y):\n",
    "    \n",
    "    n = X.shape[1]\n",
    "    \n",
    "    A = sigmoid(np.dot(w.T,X)+b)\n",
    "    cost = -1/m * np.sum(Y*np.log(A) + (1-Y)*np.log(1-A))    # compute cost\n",
    "    \n",
    "    dw = (1/m)*np.dot(X, (A-Y).T)\n",
    "    db = (1/m)*np.sum(A-Y)\n",
    "    \n",
    "    assert(dw.shape == w.shape)\n",
    "    assert(db.dtype == float)\n",
    "    cost = np.squeeze(cost)\n",
    "    assert(cost.shape == ())\n",
    "    \n",
    "    grads = {\"dw\": dw,\n",
    "             \"db\": db}\n",
    "    \n",
    "    return grads, cost"
   ]
  },
  {
   "cell_type": "code",
   "execution_count": null,
   "id": "3b104bb1-88dd-4ed0-bf52-08c17e41eb39",
   "metadata": {},
   "outputs": [],
   "source": []
  },
  {
   "cell_type": "code",
   "execution_count": null,
   "id": "d3fdacb7-98a1-4b72-822b-18e748828723",
   "metadata": {},
   "outputs": [],
   "source": []
  },
  {
   "cell_type": "code",
   "execution_count": null,
   "id": "0de1698d-746f-435a-975c-3a3223ef6444",
   "metadata": {},
   "outputs": [],
   "source": []
  },
  {
   "cell_type": "code",
   "execution_count": null,
   "id": "66e6416b-8e34-4bc8-a57f-1399015dfb90",
   "metadata": {},
   "outputs": [],
   "source": []
  },
  {
   "cell_type": "code",
   "execution_count": null,
   "id": "bfe490bd-ea98-48c2-b702-7d6c3ac0ebc5",
   "metadata": {},
   "outputs": [],
   "source": []
  },
  {
   "cell_type": "code",
   "execution_count": null,
   "id": "cd3dca70-9e46-4b4e-9e00-862e1410df90",
   "metadata": {},
   "outputs": [],
   "source": []
  },
  {
   "cell_type": "code",
   "execution_count": null,
   "id": "336378ea-3ff1-4a37-83e8-5e89a140cc3c",
   "metadata": {},
   "outputs": [],
   "source": []
  },
  {
   "cell_type": "code",
   "execution_count": null,
   "id": "49327988-ee95-46f1-b6e3-99ed4415a509",
   "metadata": {},
   "outputs": [],
   "source": []
  },
  {
   "cell_type": "code",
   "execution_count": null,
   "id": "e3368ec1-72b9-4c8b-a6da-20e0481c85e1",
   "metadata": {},
   "outputs": [],
   "source": []
  },
  {
   "cell_type": "code",
   "execution_count": null,
   "id": "34dd13e8-0016-480a-a23d-05f5f27e3d24",
   "metadata": {},
   "outputs": [],
   "source": []
  },
  {
   "cell_type": "code",
   "execution_count": null,
   "id": "7f8b6005-e86a-47b0-8944-fa3dfbe6059a",
   "metadata": {},
   "outputs": [],
   "source": []
  },
  {
   "cell_type": "code",
   "execution_count": 8,
   "id": "558193cb-6042-4808-907c-68a6ce4a9403",
   "metadata": {},
   "outputs": [
    {
     "name": "stderr",
     "output_type": "stream",
     "text": [
      "C:\\Anaconda3\\lib\\site-packages\\sklearn\\linear_model\\_logistic.py:763: ConvergenceWarning: lbfgs failed to converge (status=1):\n",
      "STOP: TOTAL NO. of ITERATIONS REACHED LIMIT.\n",
      "\n",
      "Increase the number of iterations (max_iter) or scale the data as shown in:\n",
      "    https://scikit-learn.org/stable/modules/preprocessing.html\n",
      "Please also refer to the documentation for alternative solver options:\n",
      "    https://scikit-learn.org/stable/modules/linear_model.html#logistic-regression\n",
      "  n_iter_i = _check_optimize_result(\n"
     ]
    },
    {
     "data": {
      "text/plain": [
       "0.9733333333333334"
      ]
     },
     "execution_count": 8,
     "metadata": {},
     "output_type": "execute_result"
    }
   ],
   "source": [
    "from sklearn.datasets import load_iris\n",
    "from sklearn.linear_model import LogisticRegression\n",
    "\n",
    "X, y = load_iris(return_X_y=True)\n",
    "\n",
    "clf = LogisticRegression(random_state=0).fit(X, y)\n",
    "clf.predict(X[:2, :])\n",
    "clf.predict_proba(X[:2, :])\n",
    "clf.score(X, y)"
   ]
  },
  {
   "cell_type": "code",
   "execution_count": null,
   "id": "63de893d-f352-47ec-9767-6a07958cda36",
   "metadata": {},
   "outputs": [],
   "source": []
  }
 ],
 "metadata": {
  "kernelspec": {
   "display_name": "Python 3 (ipykernel)",
   "language": "python",
   "name": "python3"
  },
  "language_info": {
   "codemirror_mode": {
    "name": "ipython",
    "version": 3
   },
   "file_extension": ".py",
   "mimetype": "text/x-python",
   "name": "python",
   "nbconvert_exporter": "python",
   "pygments_lexer": "ipython3",
   "version": "3.9.7"
  }
 },
 "nbformat": 4,
 "nbformat_minor": 5
}
