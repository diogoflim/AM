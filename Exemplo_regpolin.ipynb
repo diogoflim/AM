{
 "cells": [
  {
   "cell_type": "markdown",
   "metadata": {},
   "source": [
    "[![Open In Colab](https://colab.research.google.com/assets/colab-badge.svg)](https://colab.research.google.com/github/diogoflim/AM/blob/main/Exemplo_regpolin.ipynb)\n"
   ]
  },
  {
   "cell_type": "markdown",
   "id": "8fe63fcc-8cf5-4706-acce-fb2c618730ef",
   "metadata": {},
   "source": [
    "# Regressão Polinomial"
   ]
  },
  {
   "cell_type": "markdown",
   "id": "c753bce6-2efa-45ae-bb65-47715774a2ff",
   "metadata": {},
   "source": [
    "Modelos de estrutura mais complexa que a estrutura de genérica do modelo linear podem, ainda, ser tratados por meio de regressão linear. \n",
    "\n",
    "Por exemplo, um modelo polinomial nas variáveis da regressão pode ser transformado em um modelo linear:\n",
    "\n",
    "$$y=w_0+w_1x_1+w_2x_1^2+w_3x_1^3+\\epsilon\\rightarrow y=w_0+w_1x_1+w_2x_2+w_3x_3+\\epsilon$$"
   ]
  },
  {
   "cell_type": "markdown",
   "id": "4e8720e6-42f1-4d20-a90b-449a60eff227",
   "metadata": {},
   "source": [
    "Além disso, efeitos de interação entre variáveis podem ser tratados de maneira linear, por exemplo, pode-se considerar o produto entre duas variáveis como uma nova variável. Dessa forma:\n",
    "\n",
    "\n",
    "$$y=w_0+w_1x_1+w_2x_1^2+w_3x_1x_2+\\epsilon\\rightarrow y=w_0+w_1x_1+w_2x_2+w_3x_3+\\epsilon$$\n",
    "\n",
    "\n"
   ]
  },
  {
   "cell_type": "markdown",
   "id": "4d5bc296-23d3-4a36-8aa7-9b6a57e10f70",
   "metadata": {},
   "source": [
    "## Interpretação"
   ]
  },
  {
   "cell_type": "markdown",
   "id": "c415b64a-3c7c-47c2-8e9f-1c0aa67e35ba",
   "metadata": {},
   "source": [
    "**Importante**: Embora estes modelos ainda sejam considerados de regressão linear, a forma da superfície gerada por eles não é linear.\n",
    "\n",
    "\n",
    "**Podemos encontrar modelos mais complexos com a mesma formulação aprendida na aula até aqui!**"
   ]
  },
  {
   "cell_type": "markdown",
   "id": "74e7f78a-7b6c-45c6-980a-4e351b3f6912",
   "metadata": {},
   "source": [
    "Em geral, qualquer modelo de regressão que seja linear em parâmetros ($\\mathbf{w}$) é um modelo de regressão linear, independentemente da forma da superfície que ele gera. \n"
   ]
  },
  {
   "cell_type": "markdown",
   "id": "a040a797-900f-4f29-9468-a8ecc6117317",
   "metadata": {},
   "source": [
    "# Exemplo"
   ]
  },
  {
   "cell_type": "code",
   "execution_count": 46,
   "metadata": {},
   "outputs": [],
   "source": [
    "import numpy as np\n",
    "import matplotlib.pyplot as plt\n",
    "from sklearn.linear_model import LinearRegression\n",
    "from sklearn.preprocessing import PolynomialFeatures, StandardScaler\n",
    "from sklearn.pipeline import Pipeline\n"
   ]
  },
  {
   "cell_type": "code",
   "execution_count": 59,
   "id": "a441d207-d2e3-43d2-8a3d-0bc29243388d",
   "metadata": {},
   "outputs": [],
   "source": [
    "n = 100\n",
    "X = 6 * np.random.rand(n, 1) - 3\n",
    "y = 0.5 * X**2 + X + 2 + np.random.randn(n, 1)"
   ]
  },
  {
   "cell_type": "code",
   "execution_count": 60,
   "id": "a1691f15-2325-456b-983e-838dc7285c51",
   "metadata": {},
   "outputs": [
    {
     "name": "stdout",
     "output_type": "stream",
     "text": [
      "[[ 1.10396041]\n",
      " [ 0.90121856]\n",
      " [-0.41480359]\n",
      " [ 1.29045688]\n",
      " [-0.87257294]]\n"
     ]
    }
   ],
   "source": [
    "print(X[:5])"
   ]
  },
  {
   "cell_type": "code",
   "execution_count": 61,
   "id": "6bbeee44-6d62-4a8a-bdfb-af5dee6aec07",
   "metadata": {},
   "outputs": [
    {
     "name": "stdout",
     "output_type": "stream",
     "text": [
      "[[1.40215088]\n",
      " [2.1728924 ]\n",
      " [1.09486696]\n",
      " [3.70706364]\n",
      " [1.611781  ]]\n"
     ]
    }
   ],
   "source": [
    "print(y[0:5])"
   ]
  },
  {
   "cell_type": "code",
   "execution_count": 62,
   "id": "c4bdac51-3e18-4bf2-abe1-e697bb95e546",
   "metadata": {},
   "outputs": [
    {
     "data": {
      "text/plain": [
       "[<matplotlib.lines.Line2D at 0x2327d270cd0>]"
      ]
     },
     "execution_count": 62,
     "metadata": {},
     "output_type": "execute_result"
    },
    {
     "data": {
      "image/png": "[encoded data removed]",
      "text/plain": [
       "<Figure size 432x288 with 1 Axes>"
      ]
     },
     "metadata": {
      "needs_background": "light"
     },
     "output_type": "display_data"
    }
   ],
   "source": [
    "plt.plot(X, y, \"b.\")\n"
   ]
  },
  {
   "cell_type": "markdown",
   "id": "ee0eab84-1a22-4f97-b708-53d572395310",
   "metadata": {},
   "source": [
    "## Transformando os atributos com sklearn"
   ]
  },
  {
   "cell_type": "markdown",
   "id": "297ed196-1468-4b2e-a061-08c5f1774011",
   "metadata": {},
   "source": [
    "Temos apenas 1 atributo em X. Porém, podemos perceber graficamente que nossa relação é não linear (uma parábola).\n",
    "\n",
    "Vamos adicionar um novo atributo a nossa matriz de modo que este receba o quadrado do nosso atributo original. "
   ]
  },
  {
   "cell_type": "code",
   "execution_count": 63,
   "id": "0cb09bb5-5c1a-40d2-8534-1356844c9561",
   "metadata": {},
   "outputs": [
    {
     "data": {
      "text/plain": [
       "array([[ 1.10396041],\n",
       "       [ 0.90121856],\n",
       "       [-0.41480359],\n",
       "       [ 1.29045688],\n",
       "       [-0.87257294],\n",
       "       [-2.06437172],\n",
       "       [ 1.62330439],\n",
       "       [-2.49006899],\n",
       "       [-0.13063405],\n",
       "       [-0.01180187]])"
      ]
     },
     "execution_count": 63,
     "metadata": {},
     "output_type": "execute_result"
    }
   ],
   "source": [
    "X[0:10]"
   ]
  },
  {
   "cell_type": "code",
   "execution_count": 64,
   "id": "c937c663-9434-42ac-a3b1-40782fa61a2f",
   "metadata": {},
   "outputs": [],
   "source": [
    "transf = PolynomialFeatures(degree=2, include_bias=False)\n",
    "X_2 = transf.fit_transform(X)\n"
   ]
  },
  {
   "cell_type": "code",
   "execution_count": 65,
   "id": "18f47e82-6530-40ac-b09a-de654cb62a57",
   "metadata": {},
   "outputs": [
    {
     "data": {
      "text/plain": [
       "array([[ 1.10396041e+00,  1.21872858e+00],\n",
       "       [ 9.01218564e-01,  8.12194900e-01],\n",
       "       [-4.14803590e-01,  1.72062018e-01],\n",
       "       [ 1.29045688e+00,  1.66527895e+00],\n",
       "       [-8.72572942e-01,  7.61383540e-01],\n",
       "       [-2.06437172e+00,  4.26163059e+00],\n",
       "       [ 1.62330439e+00,  2.63511716e+00],\n",
       "       [-2.49006899e+00,  6.20044358e+00],\n",
       "       [-1.30634052e-01,  1.70652556e-02],\n",
       "       [-1.18018704e-02,  1.39284146e-04]])"
      ]
     },
     "execution_count": 65,
     "metadata": {},
     "output_type": "execute_result"
    }
   ],
   "source": [
    "X_2[0:10]"
   ]
  },
  {
   "cell_type": "code",
   "execution_count": 66,
   "id": "826a2621-1d53-4df6-8464-864364a2c356",
   "metadata": {},
   "outputs": [
    {
     "name": "stdout",
     "output_type": "stream",
     "text": [
      "b = [2.05220085], w= [[1.05763939 0.50793545]]\n"
     ]
    }
   ],
   "source": [
    "lin_reg = LinearRegression()\n",
    "lin_reg.fit(X_2, y)\n",
    "\n",
    "print(f\"b = {lin_reg.intercept_}, w= {lin_reg.coef_}\")"
   ]
  },
  {
   "cell_type": "markdown",
   "id": "ac62b1bf-51af-4bf7-8695-6f822d81931b",
   "metadata": {},
   "source": [
    "**Digamos que recebemos 100 novos exemplos.**"
   ]
  },
  {
   "cell_type": "code",
   "execution_count": 67,
   "id": "b51f9faa-3684-4a3d-aa38-1de7253258d5",
   "metadata": {},
   "outputs": [],
   "source": [
    "X_new = np.linspace(-3, 3, 100).reshape(100, 1)"
   ]
  },
  {
   "cell_type": "code",
   "execution_count": 68,
   "id": "a086e97f-f2b1-4d05-ac08-2f39f98478cc",
   "metadata": {},
   "outputs": [],
   "source": [
    "X_new_2 = transf.transform(X_new)\n",
    "y_new_2 = lin_reg.predict(X_new_2)"
   ]
  },
  {
   "cell_type": "code",
   "execution_count": 69,
   "id": "643cf14e-fdd1-4937-b58f-2fdc52a39dc5",
   "metadata": {},
   "outputs": [
    {
     "data": {
      "image/png": "[encoded data removed]",
      "text/plain": [
       "<Figure size 432x288 with 1 Axes>"
      ]
     },
     "metadata": {
      "needs_background": "light"
     },
     "output_type": "display_data"
    }
   ],
   "source": [
    "plt.plot(X, y, \"b.\")\n",
    "plt.plot(X_new, y_new_2, \"r-\", linewidth=2, label=\"Predictions\")\n",
    "plt.xlabel(\"$x_1$\", fontsize=18)\n",
    "plt.ylabel(\"$y$\", rotation=0, fontsize=18)\n",
    "plt.legend(loc=\"upper left\", fontsize=14)\n",
    "plt.axis([-3, 3, 0, 10])\n",
    "plt.show()"
   ]
  },
  {
   "cell_type": "markdown",
   "id": "6ecc1115-3377-4a48-be22-9c1eeec7f821",
   "metadata": {},
   "source": [
    "## Analisando situações de overfitting e underfitting pelo hiperparâmetro \"degree\""
   ]
  },
  {
   "cell_type": "code",
   "execution_count": 74,
   "id": "8a200932-9fae-4cea-903a-a0011eb7b280",
   "metadata": {},
   "outputs": [
    {
     "data": {
      "image/png": "[encoded data removed]",
      "text/plain": [
       "<Figure size 432x288 with 1 Axes>"
      ]
     },
     "metadata": {
      "needs_background": "light"
     },
     "output_type": "display_data"
    }
   ],
   "source": [
    "for style, width, degree in ((\"g-\", 1, 300), (\"b--\", 2, 2), (\"r-+\", 2, 1)):\n",
    "    polybig_features = PolynomialFeatures(degree=degree, include_bias=False)\n",
    "    std_scaler = StandardScaler()\n",
    "    lin_reg = LinearRegression()\n",
    "    \n",
    "    polynomial_regression = Pipeline([\n",
    "            (\"poly_features\", polybig_features),\n",
    "            (\"std_scaler\", std_scaler),\n",
    "            (\"lin_reg\", lin_reg),\n",
    "        ])\n",
    "    \n",
    "    polynomial_regression.fit(X, y)\n",
    "    y_newbig = polynomial_regression.predict(X_new)\n",
    "    plt.plot(X_new, y_newbig, style, label=str(degree), linewidth=width)\n",
    "\n",
    "plt.plot(X, y, \"b.\", linewidth=3)\n",
    "plt.legend(loc=\"upper left\")\n",
    "plt.xlabel(\"$x_1$\", fontsize=18)\n",
    "plt.ylabel(\"$y$\", rotation=0, fontsize=18)\n",
    "plt.axis([-3, 3, 0, 10])\n",
    "plt.show()"
   ]
  }
 ],
 "metadata": {
  "kernelspec": {
   "display_name": "base",
   "language": "python",
   "name": "python3"
  },
  "language_info": {
   "codemirror_mode": {
    "name": "ipython",
    "version": 3
   },
   "file_extension": ".py",
   "mimetype": "text/x-python",
   "name": "python",
   "nbconvert_exporter": "python",
   "pygments_lexer": "ipython3",
   "version": "3.9.7"
  },
  "orig_nbformat": 4
 },
 "nbformat": 4,
 "nbformat_minor": 2
}
