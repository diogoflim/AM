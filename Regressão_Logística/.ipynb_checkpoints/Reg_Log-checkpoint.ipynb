{
 "cells": [
  {
   "cell_type": "markdown",
   "id": "875a6780-dc7d-4fc2-8037-8bd7e8f78f58",
   "metadata": {},
   "source": [
    "## **TPP - UFF**\n",
    "\n",
    "**Aprendizado de Máquina e Decisões Dirigidas por Dados**\n",
    "\n",
    "Docente: Diogo Ferreira de Lima Silva"
   ]
  },
  {
   "cell_type": "markdown",
   "id": "782d583e-b39a-4edc-9b38-659f9b363792",
   "metadata": {},
   "source": [
    "## Importando bibliotecas"
   ]
  },
  {
   "cell_type": "code",
   "execution_count": 1,
   "id": "e42a0904-3d18-4935-ba17-afd6c85255e7",
   "metadata": {},
   "outputs": [],
   "source": [
    "%load_ext autoreload\n",
    "%autoreload 2"
   ]
  },
  {
   "cell_type": "code",
   "execution_count": 2,
   "id": "1b60e05b-d478-4813-b146-7ac871e0d44d",
   "metadata": {},
   "outputs": [],
   "source": [
    "import numpy as np\n",
    "import pandas as pd\n",
    "import matplotlib.pyplot as plt\n",
    "import AM"
   ]
  },
  {
   "cell_type": "markdown",
   "id": "10e401dd-993b-4d73-9803-76dcbab38b44",
   "metadata": {},
   "source": [
    "# Lembrando as Funções da Regressão Logística"
   ]
  },
  {
   "cell_type": "markdown",
   "id": "bb73cb62-d57a-4fd6-b6ca-fc4ff351b234",
   "metadata": {},
   "source": [
    "A Regressão Logística supõe:\n",
    "\n",
    "- **Problema de classificação binária**: temos $y_i \\in \\mathcal{C} =\\{0,1\\}$\n",
    "\n",
    "- $\\hat{f}(\\mathbf{x}_i)= \\hat{y}_i \\approx y_i=P(y_i=1|\\mathbf{x}_i)$\n",
    "\n",
    "Da segunda suposição, temos que a função que aprenderemos a partir dos dados deve estimar a probabilidade de uma entrada $\\mathbf{x}_i$ pertencer à classe 1. Nesse cenário, precisamos que:\n",
    "\n",
    "$$0 \\leq \\hat{y}_i \\leq 1 $$\n"
   ]
  },
  {
   "cell_type": "markdown",
   "id": "b3a6e7bf-6c3e-49e1-8233-29bf7e4b3232",
   "metadata": {},
   "source": [
    "Assim, não podemos seguir com a mesma lógica do Perceptron, onde a classe de um exemplo era obtida a partir do sinal da equação $\\mathbf{w}^T \\mathbf{x}$. \n",
    "\n",
    "Agora, devemos aprender uma função que retorna a probabilidade acima. Para isso, usamos a função sigmoide.\n",
    "\n",
    "$$\\theta(\\mathbf{w}^T \\mathbf{x}) = \\frac{1}{1+ e^{-\\mathbf{w}^T \\mathbf{x}}}$$\n",
    "\n",
    "ou, usando $z = \\mathbf{w}^T \\mathbf{x}$:\n",
    "\n",
    "$$ \\theta(z)=\\frac{1}{1 + e^{-z}}$$"
   ]
  },
  {
   "cell_type": "markdown",
   "id": "e1d55038-b825-4689-aadb-04097c41021d",
   "metadata": {},
   "source": [
    "## Implementando a Função sigmoide"
   ]
  },
  {
   "cell_type": "code",
   "execution_count": 3,
   "id": "8d2c4a5b-a552-41a5-80e6-99e9a59e8dd3",
   "metadata": {},
   "outputs": [],
   "source": [
    "def sigmoid (z):\n",
    "    return 1/(1 + np.exp(-z)) "
   ]
  },
  {
   "cell_type": "code",
   "execution_count": 4,
   "id": "252757d3-7a81-4106-a931-b775f4c06da1",
   "metadata": {},
   "outputs": [
    {
     "name": "stdout",
     "output_type": "stream",
     "text": [
      "Sigmoid(-1) =  0.2689414213699951\n",
      "Sigmoid(0) =  0.5\n",
      "Sigmoid(1) =  0.7310585786300049\n",
      "Sigmoid(10) =  0.9999546021312976\n"
     ]
    }
   ],
   "source": [
    "print ('Sigmoid(-1) = ', sigmoid(-1))\n",
    "print ('Sigmoid(0) = ', sigmoid(0))\n",
    "print ('Sigmoid(1) = ', sigmoid(1))\n",
    "print ('Sigmoid(10) = ', sigmoid(10))"
   ]
  },
  {
   "cell_type": "markdown",
   "id": "883d03cf-2362-4005-b309-651cf2729c79",
   "metadata": {},
   "source": [
    "## Visualizando a função sigmoide\n",
    "\n",
    "Vamos criar um vetor de 100 pontos linearmente espaçados entre -20 e 20.\n",
    "\n",
    "Lembrando que a função sigmoide é aplicada em $z= \\mathbf{w}^T \\mathbf{x} + b$. Assim, o vetor acima representa valores de $z$."
   ]
  },
  {
   "cell_type": "code",
   "execution_count": 5,
   "id": "bf272c9c-4d4c-4f1f-9aad-f3aef180f8f0",
   "metadata": {},
   "outputs": [
    {
     "data": {
      "text/plain": [
       "array([-20.        , -19.5959596 , -19.19191919, -18.78787879,\n",
       "       -18.38383838, -17.97979798, -17.57575758, -17.17171717,\n",
       "       -16.76767677, -16.36363636, -15.95959596, -15.55555556,\n",
       "       -15.15151515, -14.74747475, -14.34343434, -13.93939394,\n",
       "       -13.53535354, -13.13131313, -12.72727273, -12.32323232,\n",
       "       -11.91919192, -11.51515152, -11.11111111, -10.70707071,\n",
       "       -10.3030303 ,  -9.8989899 ,  -9.49494949,  -9.09090909,\n",
       "        -8.68686869,  -8.28282828,  -7.87878788,  -7.47474747,\n",
       "        -7.07070707,  -6.66666667,  -6.26262626,  -5.85858586,\n",
       "        -5.45454545,  -5.05050505,  -4.64646465,  -4.24242424,\n",
       "        -3.83838384,  -3.43434343,  -3.03030303,  -2.62626263,\n",
       "        -2.22222222,  -1.81818182,  -1.41414141,  -1.01010101,\n",
       "        -0.60606061,  -0.2020202 ,   0.2020202 ,   0.60606061,\n",
       "         1.01010101,   1.41414141,   1.81818182,   2.22222222,\n",
       "         2.62626263,   3.03030303,   3.43434343,   3.83838384,\n",
       "         4.24242424,   4.64646465,   5.05050505,   5.45454545,\n",
       "         5.85858586,   6.26262626,   6.66666667,   7.07070707,\n",
       "         7.47474747,   7.87878788,   8.28282828,   8.68686869,\n",
       "         9.09090909,   9.49494949,   9.8989899 ,  10.3030303 ,\n",
       "        10.70707071,  11.11111111,  11.51515152,  11.91919192,\n",
       "        12.32323232,  12.72727273,  13.13131313,  13.53535354,\n",
       "        13.93939394,  14.34343434,  14.74747475,  15.15151515,\n",
       "        15.55555556,  15.95959596,  16.36363636,  16.76767677,\n",
       "        17.17171717,  17.57575758,  17.97979798,  18.38383838,\n",
       "        18.78787879,  19.19191919,  19.5959596 ,  20.        ])"
      ]
     },
     "execution_count": 5,
     "metadata": {},
     "output_type": "execute_result"
    }
   ],
   "source": [
    " \n",
    "z = np.linspace(-20, 20, 100)\n",
    "z\n"
   ]
  },
  {
   "cell_type": "code",
   "execution_count": 6,
   "id": "009cedc1-1c46-49dd-b504-9ddb63659b8c",
   "metadata": {},
   "outputs": [
    {
     "data": {
      "image/png": "[encoded data removed]",
      "text/plain": [
       "<Figure size 432x288 with 1 Axes>"
      ]
     },
     "metadata": {
      "needs_background": "light"
     },
     "output_type": "display_data"
    }
   ],
   "source": [
    "plt.plot(z, AM.sigmoid(z))\n",
    "plt.xlabel(\"z\")\n",
    "plt.ylabel(\"Sigmoid(z)\") \n",
    "plt.show()"
   ]
  },
  {
   "cell_type": "markdown",
   "id": "3be1d0dd-97db-411e-9255-a9846b84e745",
   "metadata": {},
   "source": [
    "Seja $z = \\theta(\\mathbf{w}^T \\mathbf{x})$. Temos:\n",
    "\n",
    "- Se $z\\rightarrow\\infty$, então $\\theta(z) \\approx \\frac{1}{1+0}=1$\n",
    "\n",
    "- Se $z\\rightarrow - \\infty$, então $\\theta(z) \\approx \\frac{1}{1+\\infty}=0$"
   ]
  },
  {
   "cell_type": "markdown",
   "id": "e17c9578-c010-4e4a-b279-a284b9eb4ac1",
   "metadata": {},
   "source": [
    "## Função Perda e Função Custo"
   ]
  },
  {
   "cell_type": "markdown",
   "id": "10c56f46-bf73-48d9-b8e5-2184c9c526b1",
   "metadata": {},
   "source": [
    "**Chegamos então a nossa suposição:**\n",
    "\n",
    "$$\\hat{f}(x)=\\hat{y}=\\theta(\\mathbf{w}^T \\mathbf{x})$$"
   ]
  },
  {
   "cell_type": "markdown",
   "id": "d9d2b7a7-0b83-4d7c-902c-56775257a02a",
   "metadata": {},
   "source": [
    "Nossa função pode ser entendida como uma função de ativação que será aplicada tal como o esquema a seguir:"
   ]
  },
  {
   "cell_type": "markdown",
   "id": "4a091de8-1732-4cec-ace8-52c56e1ed09c",
   "metadata": {},
   "source": [
    "![](esquema.png)\n",
    "\n",
    "fonte da imagem: https://sebastianraschka.com/faq/docs/logisticregr-neuralnet.html"
   ]
  },
  {
   "cell_type": "markdown",
   "id": "f56b19a0-1dc9-42e3-af64-c79e3576a3de",
   "metadata": {},
   "source": [
    "**A nossa tarefa é, então, aprender o vetor de parâmetros $\\mathbf{w}$. Em Regressão Logística, fazemos isso minimizando uma função custo específica.** \n"
   ]
  },
  {
   "cell_type": "markdown",
   "id": "e6737ef5-c151-446d-9d4a-32266e8429ac",
   "metadata": {},
   "source": [
    "### Entendendo a Função Perda"
   ]
  },
  {
   "cell_type": "markdown",
   "id": "f778e894-64a1-4dff-b8f1-6a1347239781",
   "metadata": {},
   "source": [
    "A perda para uma determinada observação $\\mathbf{x}_i$ é dada por:\n",
    "\n",
    "$$ L(\\hat{y}_i, y_i) = -[y_i\\times\\log{\\hat{y}_i + (1-y_i)\\times\\log{(1-\\hat{y}_i})}]$$\n",
    "\n"
   ]
  },
  {
   "cell_type": "markdown",
   "id": "b3fc31ff-e797-4fc8-a160-25594ff24c27",
   "metadata": {},
   "source": [
    " Podemos observar que essa função faz sentido analisando os 2 casos a seguir:"
   ]
  },
  {
   "cell_type": "markdown",
   "id": "79bd82d5-cb42-431d-b61f-9c42e177bacf",
   "metadata": {},
   "source": [
    "- **Caso 1:** $y_i=1$:\n",
    "$$ L(\\hat{y}_i, 1) = -[1 \\times \\log{\\hat{y}_i + (1-1)\\times\\log{(1-\\hat{y}_i})}]$$\n",
    "Ou seja:\n",
    "$$ L(\\hat{y}_i, 1) = -\\log{\\hat{y}_i}$$\n",
    "**Interpretação do caso 1**: Para minimizar a perda, queremos que $\\hat{y}_i$ seja o maior possível, assim, próximo de 1."
   ]
  },
  {
   "cell_type": "markdown",
   "id": "9b06ac79-95a8-436f-a896-b0890088639e",
   "metadata": {},
   "source": [
    "- **Caso 2:** $y_i=0$:\n",
    "\n",
    "$$ \\mathcal{L}(\\hat{y}_i, 0) = -[0 \\times \\log{\\hat{y}_i + (1-0)\\times\\log{(1-\\hat{y}_i})}]$$\n",
    "\n",
    "Ou seja:\n",
    "\n",
    "$$ \\mathcal{L}(\\hat{y}_i, 0) = -\\log{(1-\\hat{y}_i)}$$\n",
    "\n",
    "**Interpretação do caso 2**: Para minimizar a perda, queremos que $\\hat{y}_i$ seja o menor possível, assim, próximo de 0."
   ]
  },
  {
   "cell_type": "markdown",
   "id": "f34eb9e2-2ece-4677-a9e5-0b4c799240f6",
   "metadata": {},
   "source": [
    "### Entendendo a Função Custo"
   ]
  },
  {
   "cell_type": "markdown",
   "id": "e044d65f-0808-4c74-9eb7-167ca7bfab4f",
   "metadata": {},
   "source": [
    "Por sua vez, a função custo é dada pela média das perdas obtidas com os $n$ exemplos de treinamento. Dessa forma, temos:\n",
    "\n",
    "$$ J = \\frac{1}{n} \\sum_{i=1}^n \\mathcal{L}(\\hat{y}_i, y_i) $$\n"
   ]
  },
  {
   "cell_type": "markdown",
   "id": "36c76fea-25e5-4fb4-a674-c5382dc7fefe",
   "metadata": {},
   "source": [
    "## Gradiente Descendente\n",
    "\n",
    "### Aprendendo o vetor $\\mathbf{w}$"
   ]
  },
  {
   "cell_type": "markdown",
   "id": "c31b26b0-ee33-44af-a96e-dda01235b329",
   "metadata": {},
   "source": [
    "Para o treinamento, nos deparamos com um conjunto de dados do seguinte tipo:\n",
    "    \n",
    "$$\\mathcal{D}=\\{(\\mathbf{x}_1,y_1),(\\mathbf{x}_2,y_2),...,(\\mathbf{x}_n,y_n)\\}$$\n",
    "\n"
   ]
  },
  {
   "cell_type": "markdown",
   "id": "c27408af-54cf-465e-843f-7dcdd3d0fee3",
   "metadata": {},
   "source": [
    "Como visto em aula, podemos denotar o conjunto de treinamento com uma matriz de atributos $\\mathbf{X}$ e um vetor de rótulos $\\mathbf{y}$."
   ]
  },
  {
   "cell_type": "markdown",
   "id": "fae71e6f-e13c-45b8-a4c7-4d8991c4e552",
   "metadata": {},
   "source": [
    "A ideia do gradiente descendente é atualizar os parâmetros a cada passo do algoritmo conforme for a direção do gradiente da função custo em termos desses parâmetros. \n",
    "\n",
    "Temos:\n",
    "\n",
    "$$w_j = w_j - \\alpha \\times \\frac{\\partial J}{\\partial w_j}$$ \n",
    "\n",
    "- onde $\\alpha$ consiste em uma taxa de aprendizagem."
   ]
  },
  {
   "cell_type": "markdown",
   "id": "7c56e413",
   "metadata": {},
   "source": [
    "\n",
    "![](gradiente_descendente.png)\n",
    "\n",
    "Fonte da imagem: \n",
    "https://medium.com/data-hackers/gradientes-descendentes-na-pr%C3%A1tica-melhor-jeito-de-entender-740ef4ff6c43\n",
    "\n",
    "\n",
    "**A ideia é a seguinte:**\n",
    "\n",
    "- Se a derivada parcial é positiva, estamos \"à direita\" do mínimo e, assim, devemos reduzir o valor de $w_j$.\n",
    "- Se a derivada parcial é negativa, estamos \"à esquerda\" do mínimo e, assim, devemos reduzir o valor de $w_j$.  "
   ]
  },
  {
   "cell_type": "markdown",
   "id": "c9e0213d",
   "metadata": {},
   "source": [
    "### Pergunta: Qual o valor da derivada?"
   ]
  },
  {
   "cell_type": "markdown",
   "id": "b762b002",
   "metadata": {},
   "source": [
    "$$dw=\\frac{\\partial J}{\\partial w}$$"
   ]
  },
  {
   "cell_type": "markdown",
   "id": "16271fda",
   "metadata": {},
   "source": [
    "Para chegarmos ao valor da derivada parcial do custo em função de cada parâmetro $w$ fazemos um processo similar ao utilizado em **Redes Neurais**. Porém, no caso da Regressão Logística, temos um único neurônio em uma única camada."
   ]
  },
  {
   "cell_type": "markdown",
   "id": "8de344c7",
   "metadata": {},
   "source": [
    "**Processo para chegarmos ao custo:**\n",
    "\n",
    "1. Calculamos o produto interno $$z_i=\\mathbf{w}^T\\mathbf{x}_i$$\n",
    "2. Calculamos a função de ativação $$a_i=\\theta(z_i)$$\n",
    "3. Perda individual: $$ L(a_i, y_i) = -[y_i\\times\\log{a_i + (1-y_i)\\times\\log{(1-a_i})}]$$\n",
    "4. Custo total: $$ J = \\frac{1}{n} \\sum_{i=1}^n \\mathcal{L}(a_i, y_i) $$\n"
   ]
  },
  {
   "cell_type": "markdown",
   "id": "6234ea18",
   "metadata": {},
   "source": [
    "**Processo para chegarmos às derivadas parciais:**\n",
    "\n",
    "1. Derivada parcial da perda em função de $a_i$: \n",
    "$$da_i = \\frac{\\partial \\mathcal{L}}{\\partial a_i} =  -\\frac{y_i}{a_i} + \\frac{1-y_i}{1-a_i}$$\n",
    "\n",
    "2. Derivada parcial da perda em função de $z_i$: \n",
    "$$dz=\\frac{\\partial \\mathcal{L}}{\\partial z_i} = \\frac{\\partial \\mathcal{L}}{\\partial a_i} \\times \\frac{\\partial a_i}{\\partial z_i} = a_i - y_i$$\n",
    "\n",
    "\n",
    "2. Derivada parcial da perda em função de $w_i$: \n",
    "$$dw=\\frac{\\partial \\mathcal{L}}{\\partial w_j} = \\frac{\\partial \\mathcal{L}}{\\partial z_i} \\times \\frac{\\partial z_i}{\\partial w_j} = x_{ij}\\times dz_i $$\n",
    "\n",
    "\n",
    "4. **Considerando agora o custo total:**\n",
    "$$ \\frac{\\partial J}{\\partial w_j} = \\frac{1}{n} \\sum_{i=1}^n \\frac{\\partial \\mathcal{L}}{\\partial w_j} = \\frac{1}{n} \\sum_{i=1}^n x_{ij}\\times dz_i$$\n",
    "\n",
    "Para $w_0 = b$, uma vez que $x_0 = 1$, teríamos:\n",
    "\n",
    "$$\\frac{\\partial J}{\\partial w_0} = \\frac{1}{n} \\sum_{i=1}^n dz_i$$\n",
    "\n"
   ]
  },
  {
   "cell_type": "markdown",
   "id": "ef1e0428",
   "metadata": {},
   "source": [
    "### Implementando o Gradiente Descendente para Regressão Logística"
   ]
  },
  {
   "cell_type": "code",
   "execution_count": 7,
   "id": "e972c2f7-920f-4fd7-aa0a-6ae1b54116ee",
   "metadata": {},
   "outputs": [],
   "source": [
    "# Inicialização dos parâmetros\n",
    "\n",
    "def inicializa (d):\n",
    "    w = np.zeros(d)\n",
    "    b = 0\n",
    "    return w, b"
   ]
  },
  {
   "cell_type": "code",
   "execution_count": 8,
   "id": "aa034906-6506-4410-b146-e8a7a7219b1d",
   "metadata": {},
   "outputs": [
    {
     "data": {
      "text/plain": [
       "(array([0., 0., 0., 0., 0., 0., 0., 0., 0., 0.]), 0)"
      ]
     },
     "execution_count": 8,
     "metadata": {},
     "output_type": "execute_result"
    }
   ],
   "source": [
    "inicializa(10)"
   ]
  },
  {
   "cell_type": "code",
   "execution_count": 9,
   "id": "31e64a0b-08ec-4899-a41f-e4897351e4c6",
   "metadata": {},
   "outputs": [
    {
     "data": {
      "text/plain": [
       "(array([0., 0., 0., 0., 0., 0., 0., 0., 0., 0., 0., 0., 0., 0., 0., 0., 0.,\n",
       "        0., 0., 0.]),\n",
       " 0)"
      ]
     },
     "execution_count": 9,
     "metadata": {},
     "output_type": "execute_result"
    }
   ],
   "source": [
    "AM.inicializa_parametros(20)"
   ]
  },
  {
   "cell_type": "code",
   "execution_count": 10,
   "id": "d9abfc7b-3966-4181-a929-3f83df7bb736",
   "metadata": {},
   "outputs": [],
   "source": [
    "def fit (X_train, y_train, w, b, n_iter, taxa_aprendizado):\n",
    "    n = X_train.shape[0]\n",
    "    d = X_train.shape[1]\n",
    "    cost = []\n",
    "    \n",
    "    for i in range(n_iter):            \n",
    "        \n",
    "        Z = X_train.dot(w) + b\n",
    "        A = sigmoid(Z)\n",
    "        \n",
    "        #Calcula o custo e anexa a lista\n",
    "        J = (-1/n) * np.sum(y_train * np.log(A) + (1-y_train) * np.log(1-A))\n",
    "        \n",
    "        cost.append(J) \n",
    "\n",
    "        # Calcula dz\n",
    "        dz = (A - y_train.T)        \n",
    "        dz = np.reshape(dz, n)        \n",
    "        \n",
    "        #Calcula dw\n",
    "        dw = np.dot(X_train.T, dz)/n         \n",
    "        db = np.sum(dz)/n \n",
    "        \n",
    "        #Atualiza parâmetros\n",
    "        w = w - taxa_aprendizado * dw  \n",
    "        b = b - taxa_aprendizado * db      \n",
    "                       \n",
    "    return w, b, cost\n",
    "    "
   ]
  },
  {
   "cell_type": "markdown",
   "id": "8cf96d8a-ac99-46e7-94c9-36287ffbfdd7",
   "metadata": {},
   "source": [
    "## Aplicação"
   ]
  },
  {
   "cell_type": "markdown",
   "id": "eb4d35bf",
   "metadata": {},
   "source": [
    "Vamos aplicar Regressão Logística em um problema de classificação. \n",
    "\n",
    "Com base em informações provenietes de exames, queremos aprender uma função que prevê se o cancer é maligno ou benigno.\n",
    "\n",
    "Dados obtidos em: https://www.kaggle.com/code/kanncaa1/logistic-regression-implementation/data?select=data.csv"
   ]
  },
  {
   "cell_type": "code",
   "execution_count": 11,
   "id": "679df3cf",
   "metadata": {},
   "outputs": [
    {
     "data": {
      "text/html": [
       "<div>\n",
       "<style scoped>\n",
       "    .dataframe tbody tr th:only-of-type {\n",
       "        vertical-align: middle;\n",
       "    }\n",
       "\n",
       "    .dataframe tbody tr th {\n",
       "        vertical-align: top;\n",
       "    }\n",
       "\n",
       "    .dataframe thead th {\n",
       "        text-align: right;\n",
       "    }\n",
       "</style>\n",
       "<table border=\"1\" class=\"dataframe\">\n",
       "  <thead>\n",
       "    <tr style=\"text-align: right;\">\n",
       "      <th></th>\n",
       "      <th>id</th>\n",
       "      <th>diagnosis</th>\n",
       "      <th>radius_mean</th>\n",
       "      <th>texture_mean</th>\n",
       "      <th>perimeter_mean</th>\n",
       "      <th>area_mean</th>\n",
       "      <th>smoothness_mean</th>\n",
       "      <th>compactness_mean</th>\n",
       "      <th>concavity_mean</th>\n",
       "      <th>concave points_mean</th>\n",
       "      <th>...</th>\n",
       "      <th>texture_worst</th>\n",
       "      <th>perimeter_worst</th>\n",
       "      <th>area_worst</th>\n",
       "      <th>smoothness_worst</th>\n",
       "      <th>compactness_worst</th>\n",
       "      <th>concavity_worst</th>\n",
       "      <th>concave points_worst</th>\n",
       "      <th>symmetry_worst</th>\n",
       "      <th>fractal_dimension_worst</th>\n",
       "      <th>Unnamed: 32</th>\n",
       "    </tr>\n",
       "  </thead>\n",
       "  <tbody>\n",
       "    <tr>\n",
       "      <th>0</th>\n",
       "      <td>842302</td>\n",
       "      <td>M</td>\n",
       "      <td>17.99</td>\n",
       "      <td>10.38</td>\n",
       "      <td>122.80</td>\n",
       "      <td>1001.0</td>\n",
       "      <td>0.11840</td>\n",
       "      <td>0.27760</td>\n",
       "      <td>0.3001</td>\n",
       "      <td>0.14710</td>\n",
       "      <td>...</td>\n",
       "      <td>17.33</td>\n",
       "      <td>184.60</td>\n",
       "      <td>2019.0</td>\n",
       "      <td>0.1622</td>\n",
       "      <td>0.6656</td>\n",
       "      <td>0.7119</td>\n",
       "      <td>0.2654</td>\n",
       "      <td>0.4601</td>\n",
       "      <td>0.11890</td>\n",
       "      <td>NaN</td>\n",
       "    </tr>\n",
       "    <tr>\n",
       "      <th>1</th>\n",
       "      <td>842517</td>\n",
       "      <td>M</td>\n",
       "      <td>20.57</td>\n",
       "      <td>17.77</td>\n",
       "      <td>132.90</td>\n",
       "      <td>1326.0</td>\n",
       "      <td>0.08474</td>\n",
       "      <td>0.07864</td>\n",
       "      <td>0.0869</td>\n",
       "      <td>0.07017</td>\n",
       "      <td>...</td>\n",
       "      <td>23.41</td>\n",
       "      <td>158.80</td>\n",
       "      <td>1956.0</td>\n",
       "      <td>0.1238</td>\n",
       "      <td>0.1866</td>\n",
       "      <td>0.2416</td>\n",
       "      <td>0.1860</td>\n",
       "      <td>0.2750</td>\n",
       "      <td>0.08902</td>\n",
       "      <td>NaN</td>\n",
       "    </tr>\n",
       "    <tr>\n",
       "      <th>2</th>\n",
       "      <td>84300903</td>\n",
       "      <td>M</td>\n",
       "      <td>19.69</td>\n",
       "      <td>21.25</td>\n",
       "      <td>130.00</td>\n",
       "      <td>1203.0</td>\n",
       "      <td>0.10960</td>\n",
       "      <td>0.15990</td>\n",
       "      <td>0.1974</td>\n",
       "      <td>0.12790</td>\n",
       "      <td>...</td>\n",
       "      <td>25.53</td>\n",
       "      <td>152.50</td>\n",
       "      <td>1709.0</td>\n",
       "      <td>0.1444</td>\n",
       "      <td>0.4245</td>\n",
       "      <td>0.4504</td>\n",
       "      <td>0.2430</td>\n",
       "      <td>0.3613</td>\n",
       "      <td>0.08758</td>\n",
       "      <td>NaN</td>\n",
       "    </tr>\n",
       "    <tr>\n",
       "      <th>3</th>\n",
       "      <td>84348301</td>\n",
       "      <td>M</td>\n",
       "      <td>11.42</td>\n",
       "      <td>20.38</td>\n",
       "      <td>77.58</td>\n",
       "      <td>386.1</td>\n",
       "      <td>0.14250</td>\n",
       "      <td>0.28390</td>\n",
       "      <td>0.2414</td>\n",
       "      <td>0.10520</td>\n",
       "      <td>...</td>\n",
       "      <td>26.50</td>\n",
       "      <td>98.87</td>\n",
       "      <td>567.7</td>\n",
       "      <td>0.2098</td>\n",
       "      <td>0.8663</td>\n",
       "      <td>0.6869</td>\n",
       "      <td>0.2575</td>\n",
       "      <td>0.6638</td>\n",
       "      <td>0.17300</td>\n",
       "      <td>NaN</td>\n",
       "    </tr>\n",
       "    <tr>\n",
       "      <th>4</th>\n",
       "      <td>84358402</td>\n",
       "      <td>M</td>\n",
       "      <td>20.29</td>\n",
       "      <td>14.34</td>\n",
       "      <td>135.10</td>\n",
       "      <td>1297.0</td>\n",
       "      <td>0.10030</td>\n",
       "      <td>0.13280</td>\n",
       "      <td>0.1980</td>\n",
       "      <td>0.10430</td>\n",
       "      <td>...</td>\n",
       "      <td>16.67</td>\n",
       "      <td>152.20</td>\n",
       "      <td>1575.0</td>\n",
       "      <td>0.1374</td>\n",
       "      <td>0.2050</td>\n",
       "      <td>0.4000</td>\n",
       "      <td>0.1625</td>\n",
       "      <td>0.2364</td>\n",
       "      <td>0.07678</td>\n",
       "      <td>NaN</td>\n",
       "    </tr>\n",
       "  </tbody>\n",
       "</table>\n",
       "<p>5 rows × 33 columns</p>\n",
       "</div>"
      ],
      "text/plain": [
       "         id diagnosis  radius_mean  texture_mean  perimeter_mean  area_mean  \\\n",
       "0    842302         M        17.99         10.38          122.80     1001.0   \n",
       "1    842517         M        20.57         17.77          132.90     1326.0   \n",
       "2  84300903         M        19.69         21.25          130.00     1203.0   \n",
       "3  84348301         M        11.42         20.38           77.58      386.1   \n",
       "4  84358402         M        20.29         14.34          135.10     1297.0   \n",
       "\n",
       "   smoothness_mean  compactness_mean  concavity_mean  concave points_mean  \\\n",
       "0          0.11840           0.27760          0.3001              0.14710   \n",
       "1          0.08474           0.07864          0.0869              0.07017   \n",
       "2          0.10960           0.15990          0.1974              0.12790   \n",
       "3          0.14250           0.28390          0.2414              0.10520   \n",
       "4          0.10030           0.13280          0.1980              0.10430   \n",
       "\n",
       "   ...  texture_worst  perimeter_worst  area_worst  smoothness_worst  \\\n",
       "0  ...          17.33           184.60      2019.0            0.1622   \n",
       "1  ...          23.41           158.80      1956.0            0.1238   \n",
       "2  ...          25.53           152.50      1709.0            0.1444   \n",
       "3  ...          26.50            98.87       567.7            0.2098   \n",
       "4  ...          16.67           152.20      1575.0            0.1374   \n",
       "\n",
       "   compactness_worst  concavity_worst  concave points_worst  symmetry_worst  \\\n",
       "0             0.6656           0.7119                0.2654          0.4601   \n",
       "1             0.1866           0.2416                0.1860          0.2750   \n",
       "2             0.4245           0.4504                0.2430          0.3613   \n",
       "3             0.8663           0.6869                0.2575          0.6638   \n",
       "4             0.2050           0.4000                0.1625          0.2364   \n",
       "\n",
       "   fractal_dimension_worst  Unnamed: 32  \n",
       "0                  0.11890          NaN  \n",
       "1                  0.08902          NaN  \n",
       "2                  0.08758          NaN  \n",
       "3                  0.17300          NaN  \n",
       "4                  0.07678          NaN  \n",
       "\n",
       "[5 rows x 33 columns]"
      ]
     },
     "execution_count": 11,
     "metadata": {},
     "output_type": "execute_result"
    }
   ],
   "source": [
    "import pandas as pd\n",
    "dados = pd.read_csv(\"data.csv\")\n",
    "dados.head()"
   ]
  },
  {
   "cell_type": "code",
   "execution_count": 12,
   "id": "3594b172",
   "metadata": {},
   "outputs": [
    {
     "data": {
      "text/plain": [
       "(569, 33)"
      ]
     },
     "execution_count": 12,
     "metadata": {},
     "output_type": "execute_result"
    }
   ],
   "source": [
    "# Vejamos o número de exemplos do nosso banco de dados\n",
    "\n",
    "dados.shape"
   ]
  },
  {
   "cell_type": "code",
   "execution_count": 13,
   "id": "91df5d6c",
   "metadata": {},
   "outputs": [
    {
     "data": {
      "text/html": [
       "<div>\n",
       "<style scoped>\n",
       "    .dataframe tbody tr th:only-of-type {\n",
       "        vertical-align: middle;\n",
       "    }\n",
       "\n",
       "    .dataframe tbody tr th {\n",
       "        vertical-align: top;\n",
       "    }\n",
       "\n",
       "    .dataframe thead th {\n",
       "        text-align: right;\n",
       "    }\n",
       "</style>\n",
       "<table border=\"1\" class=\"dataframe\">\n",
       "  <thead>\n",
       "    <tr style=\"text-align: right;\">\n",
       "      <th></th>\n",
       "      <th>id</th>\n",
       "      <th>radius_mean</th>\n",
       "      <th>texture_mean</th>\n",
       "      <th>perimeter_mean</th>\n",
       "      <th>area_mean</th>\n",
       "      <th>smoothness_mean</th>\n",
       "      <th>compactness_mean</th>\n",
       "      <th>concavity_mean</th>\n",
       "      <th>concave points_mean</th>\n",
       "      <th>symmetry_mean</th>\n",
       "      <th>...</th>\n",
       "      <th>texture_worst</th>\n",
       "      <th>perimeter_worst</th>\n",
       "      <th>area_worst</th>\n",
       "      <th>smoothness_worst</th>\n",
       "      <th>compactness_worst</th>\n",
       "      <th>concavity_worst</th>\n",
       "      <th>concave points_worst</th>\n",
       "      <th>symmetry_worst</th>\n",
       "      <th>fractal_dimension_worst</th>\n",
       "      <th>Unnamed: 32</th>\n",
       "    </tr>\n",
       "  </thead>\n",
       "  <tbody>\n",
       "    <tr>\n",
       "      <th>count</th>\n",
       "      <td>5.690000e+02</td>\n",
       "      <td>569.000000</td>\n",
       "      <td>569.000000</td>\n",
       "      <td>569.000000</td>\n",
       "      <td>569.000000</td>\n",
       "      <td>569.000000</td>\n",
       "      <td>569.000000</td>\n",
       "      <td>569.000000</td>\n",
       "      <td>569.000000</td>\n",
       "      <td>569.000000</td>\n",
       "      <td>...</td>\n",
       "      <td>569.000000</td>\n",
       "      <td>569.000000</td>\n",
       "      <td>569.000000</td>\n",
       "      <td>569.000000</td>\n",
       "      <td>569.000000</td>\n",
       "      <td>569.000000</td>\n",
       "      <td>569.000000</td>\n",
       "      <td>569.000000</td>\n",
       "      <td>569.000000</td>\n",
       "      <td>0.0</td>\n",
       "    </tr>\n",
       "    <tr>\n",
       "      <th>mean</th>\n",
       "      <td>3.037183e+07</td>\n",
       "      <td>14.127292</td>\n",
       "      <td>19.289649</td>\n",
       "      <td>91.969033</td>\n",
       "      <td>654.889104</td>\n",
       "      <td>0.096360</td>\n",
       "      <td>0.104341</td>\n",
       "      <td>0.088799</td>\n",
       "      <td>0.048919</td>\n",
       "      <td>0.181162</td>\n",
       "      <td>...</td>\n",
       "      <td>25.677223</td>\n",
       "      <td>107.261213</td>\n",
       "      <td>880.583128</td>\n",
       "      <td>0.132369</td>\n",
       "      <td>0.254265</td>\n",
       "      <td>0.272188</td>\n",
       "      <td>0.114606</td>\n",
       "      <td>0.290076</td>\n",
       "      <td>0.083946</td>\n",
       "      <td>NaN</td>\n",
       "    </tr>\n",
       "    <tr>\n",
       "      <th>std</th>\n",
       "      <td>1.250206e+08</td>\n",
       "      <td>3.524049</td>\n",
       "      <td>4.301036</td>\n",
       "      <td>24.298981</td>\n",
       "      <td>351.914129</td>\n",
       "      <td>0.014064</td>\n",
       "      <td>0.052813</td>\n",
       "      <td>0.079720</td>\n",
       "      <td>0.038803</td>\n",
       "      <td>0.027414</td>\n",
       "      <td>...</td>\n",
       "      <td>6.146258</td>\n",
       "      <td>33.602542</td>\n",
       "      <td>569.356993</td>\n",
       "      <td>0.022832</td>\n",
       "      <td>0.157336</td>\n",
       "      <td>0.208624</td>\n",
       "      <td>0.065732</td>\n",
       "      <td>0.061867</td>\n",
       "      <td>0.018061</td>\n",
       "      <td>NaN</td>\n",
       "    </tr>\n",
       "    <tr>\n",
       "      <th>min</th>\n",
       "      <td>8.670000e+03</td>\n",
       "      <td>6.981000</td>\n",
       "      <td>9.710000</td>\n",
       "      <td>43.790000</td>\n",
       "      <td>143.500000</td>\n",
       "      <td>0.052630</td>\n",
       "      <td>0.019380</td>\n",
       "      <td>0.000000</td>\n",
       "      <td>0.000000</td>\n",
       "      <td>0.106000</td>\n",
       "      <td>...</td>\n",
       "      <td>12.020000</td>\n",
       "      <td>50.410000</td>\n",
       "      <td>185.200000</td>\n",
       "      <td>0.071170</td>\n",
       "      <td>0.027290</td>\n",
       "      <td>0.000000</td>\n",
       "      <td>0.000000</td>\n",
       "      <td>0.156500</td>\n",
       "      <td>0.055040</td>\n",
       "      <td>NaN</td>\n",
       "    </tr>\n",
       "    <tr>\n",
       "      <th>25%</th>\n",
       "      <td>8.692180e+05</td>\n",
       "      <td>11.700000</td>\n",
       "      <td>16.170000</td>\n",
       "      <td>75.170000</td>\n",
       "      <td>420.300000</td>\n",
       "      <td>0.086370</td>\n",
       "      <td>0.064920</td>\n",
       "      <td>0.029560</td>\n",
       "      <td>0.020310</td>\n",
       "      <td>0.161900</td>\n",
       "      <td>...</td>\n",
       "      <td>21.080000</td>\n",
       "      <td>84.110000</td>\n",
       "      <td>515.300000</td>\n",
       "      <td>0.116600</td>\n",
       "      <td>0.147200</td>\n",
       "      <td>0.114500</td>\n",
       "      <td>0.064930</td>\n",
       "      <td>0.250400</td>\n",
       "      <td>0.071460</td>\n",
       "      <td>NaN</td>\n",
       "    </tr>\n",
       "    <tr>\n",
       "      <th>50%</th>\n",
       "      <td>9.060240e+05</td>\n",
       "      <td>13.370000</td>\n",
       "      <td>18.840000</td>\n",
       "      <td>86.240000</td>\n",
       "      <td>551.100000</td>\n",
       "      <td>0.095870</td>\n",
       "      <td>0.092630</td>\n",
       "      <td>0.061540</td>\n",
       "      <td>0.033500</td>\n",
       "      <td>0.179200</td>\n",
       "      <td>...</td>\n",
       "      <td>25.410000</td>\n",
       "      <td>97.660000</td>\n",
       "      <td>686.500000</td>\n",
       "      <td>0.131300</td>\n",
       "      <td>0.211900</td>\n",
       "      <td>0.226700</td>\n",
       "      <td>0.099930</td>\n",
       "      <td>0.282200</td>\n",
       "      <td>0.080040</td>\n",
       "      <td>NaN</td>\n",
       "    </tr>\n",
       "    <tr>\n",
       "      <th>75%</th>\n",
       "      <td>8.813129e+06</td>\n",
       "      <td>15.780000</td>\n",
       "      <td>21.800000</td>\n",
       "      <td>104.100000</td>\n",
       "      <td>782.700000</td>\n",
       "      <td>0.105300</td>\n",
       "      <td>0.130400</td>\n",
       "      <td>0.130700</td>\n",
       "      <td>0.074000</td>\n",
       "      <td>0.195700</td>\n",
       "      <td>...</td>\n",
       "      <td>29.720000</td>\n",
       "      <td>125.400000</td>\n",
       "      <td>1084.000000</td>\n",
       "      <td>0.146000</td>\n",
       "      <td>0.339100</td>\n",
       "      <td>0.382900</td>\n",
       "      <td>0.161400</td>\n",
       "      <td>0.317900</td>\n",
       "      <td>0.092080</td>\n",
       "      <td>NaN</td>\n",
       "    </tr>\n",
       "    <tr>\n",
       "      <th>max</th>\n",
       "      <td>9.113205e+08</td>\n",
       "      <td>28.110000</td>\n",
       "      <td>39.280000</td>\n",
       "      <td>188.500000</td>\n",
       "      <td>2501.000000</td>\n",
       "      <td>0.163400</td>\n",
       "      <td>0.345400</td>\n",
       "      <td>0.426800</td>\n",
       "      <td>0.201200</td>\n",
       "      <td>0.304000</td>\n",
       "      <td>...</td>\n",
       "      <td>49.540000</td>\n",
       "      <td>251.200000</td>\n",
       "      <td>4254.000000</td>\n",
       "      <td>0.222600</td>\n",
       "      <td>1.058000</td>\n",
       "      <td>1.252000</td>\n",
       "      <td>0.291000</td>\n",
       "      <td>0.663800</td>\n",
       "      <td>0.207500</td>\n",
       "      <td>NaN</td>\n",
       "    </tr>\n",
       "  </tbody>\n",
       "</table>\n",
       "<p>8 rows × 32 columns</p>\n",
       "</div>"
      ],
      "text/plain": [
       "                 id  radius_mean  texture_mean  perimeter_mean    area_mean  \\\n",
       "count  5.690000e+02   569.000000    569.000000      569.000000   569.000000   \n",
       "mean   3.037183e+07    14.127292     19.289649       91.969033   654.889104   \n",
       "std    1.250206e+08     3.524049      4.301036       24.298981   351.914129   \n",
       "min    8.670000e+03     6.981000      9.710000       43.790000   143.500000   \n",
       "25%    8.692180e+05    11.700000     16.170000       75.170000   420.300000   \n",
       "50%    9.060240e+05    13.370000     18.840000       86.240000   551.100000   \n",
       "75%    8.813129e+06    15.780000     21.800000      104.100000   782.700000   \n",
       "max    9.113205e+08    28.110000     39.280000      188.500000  2501.000000   \n",
       "\n",
       "       smoothness_mean  compactness_mean  concavity_mean  concave points_mean  \\\n",
       "count       569.000000        569.000000      569.000000           569.000000   \n",
       "mean          0.096360          0.104341        0.088799             0.048919   \n",
       "std           0.014064          0.052813        0.079720             0.038803   \n",
       "min           0.052630          0.019380        0.000000             0.000000   \n",
       "25%           0.086370          0.064920        0.029560             0.020310   \n",
       "50%           0.095870          0.092630        0.061540             0.033500   \n",
       "75%           0.105300          0.130400        0.130700             0.074000   \n",
       "max           0.163400          0.345400        0.426800             0.201200   \n",
       "\n",
       "       symmetry_mean  ...  texture_worst  perimeter_worst   area_worst  \\\n",
       "count     569.000000  ...     569.000000       569.000000   569.000000   \n",
       "mean        0.181162  ...      25.677223       107.261213   880.583128   \n",
       "std         0.027414  ...       6.146258        33.602542   569.356993   \n",
       "min         0.106000  ...      12.020000        50.410000   185.200000   \n",
       "25%         0.161900  ...      21.080000        84.110000   515.300000   \n",
       "50%         0.179200  ...      25.410000        97.660000   686.500000   \n",
       "75%         0.195700  ...      29.720000       125.400000  1084.000000   \n",
       "max         0.304000  ...      49.540000       251.200000  4254.000000   \n",
       "\n",
       "       smoothness_worst  compactness_worst  concavity_worst  \\\n",
       "count        569.000000         569.000000       569.000000   \n",
       "mean           0.132369           0.254265         0.272188   \n",
       "std            0.022832           0.157336         0.208624   \n",
       "min            0.071170           0.027290         0.000000   \n",
       "25%            0.116600           0.147200         0.114500   \n",
       "50%            0.131300           0.211900         0.226700   \n",
       "75%            0.146000           0.339100         0.382900   \n",
       "max            0.222600           1.058000         1.252000   \n",
       "\n",
       "       concave points_worst  symmetry_worst  fractal_dimension_worst  \\\n",
       "count            569.000000      569.000000               569.000000   \n",
       "mean               0.114606        0.290076                 0.083946   \n",
       "std                0.065732        0.061867                 0.018061   \n",
       "min                0.000000        0.156500                 0.055040   \n",
       "25%                0.064930        0.250400                 0.071460   \n",
       "50%                0.099930        0.282200                 0.080040   \n",
       "75%                0.161400        0.317900                 0.092080   \n",
       "max                0.291000        0.663800                 0.207500   \n",
       "\n",
       "       Unnamed: 32  \n",
       "count          0.0  \n",
       "mean           NaN  \n",
       "std            NaN  \n",
       "min            NaN  \n",
       "25%            NaN  \n",
       "50%            NaN  \n",
       "75%            NaN  \n",
       "max            NaN  \n",
       "\n",
       "[8 rows x 32 columns]"
      ]
     },
     "execution_count": 13,
     "metadata": {},
     "output_type": "execute_result"
    }
   ],
   "source": [
    "dados.describe()"
   ]
  },
  {
   "cell_type": "markdown",
   "id": "88e1fd34",
   "metadata": {},
   "source": [
    "Com base na contagem acima, parece que temos problemas apenas na última coluna, com muitos dados faltantes. Podemos checar isso com a seguinte função:"
   ]
  },
  {
   "cell_type": "code",
   "execution_count": 14,
   "id": "a74b3b99",
   "metadata": {},
   "outputs": [
    {
     "data": {
      "text/plain": [
       "id                           0\n",
       "diagnosis                    0\n",
       "radius_mean                  0\n",
       "texture_mean                 0\n",
       "perimeter_mean               0\n",
       "area_mean                    0\n",
       "smoothness_mean              0\n",
       "compactness_mean             0\n",
       "concavity_mean               0\n",
       "concave points_mean          0\n",
       "symmetry_mean                0\n",
       "fractal_dimension_mean       0\n",
       "radius_se                    0\n",
       "texture_se                   0\n",
       "perimeter_se                 0\n",
       "area_se                      0\n",
       "smoothness_se                0\n",
       "compactness_se               0\n",
       "concavity_se                 0\n",
       "concave points_se            0\n",
       "symmetry_se                  0\n",
       "fractal_dimension_se         0\n",
       "radius_worst                 0\n",
       "texture_worst                0\n",
       "perimeter_worst              0\n",
       "area_worst                   0\n",
       "smoothness_worst             0\n",
       "compactness_worst            0\n",
       "concavity_worst              0\n",
       "concave points_worst         0\n",
       "symmetry_worst               0\n",
       "fractal_dimension_worst      0\n",
       "Unnamed: 32                569\n",
       "dtype: int64"
      ]
     },
     "execution_count": 14,
     "metadata": {},
     "output_type": "execute_result"
    }
   ],
   "source": [
    "dados.isnull().sum()"
   ]
  },
  {
   "cell_type": "markdown",
   "id": "203f77cb-855e-4c48-949f-dba6780742ef",
   "metadata": {},
   "source": [
    "Como a primeira coluna é apenas a id do paciente e não um atributo, ela também não será utilizada\n",
    "\n",
    "Além disso, transformaremos a coluna diagnosis para receber o valor 1 nos casos malignos e 0 nos casos benignos."
   ]
  },
  {
   "cell_type": "code",
   "execution_count": 15,
   "id": "6c14335e",
   "metadata": {},
   "outputs": [
    {
     "data": {
      "text/html": [
       "<div>\n",
       "<style scoped>\n",
       "    .dataframe tbody tr th:only-of-type {\n",
       "        vertical-align: middle;\n",
       "    }\n",
       "\n",
       "    .dataframe tbody tr th {\n",
       "        vertical-align: top;\n",
       "    }\n",
       "\n",
       "    .dataframe thead th {\n",
       "        text-align: right;\n",
       "    }\n",
       "</style>\n",
       "<table border=\"1\" class=\"dataframe\">\n",
       "  <thead>\n",
       "    <tr style=\"text-align: right;\">\n",
       "      <th></th>\n",
       "      <th>diagnosis</th>\n",
       "      <th>radius_mean</th>\n",
       "      <th>texture_mean</th>\n",
       "      <th>perimeter_mean</th>\n",
       "      <th>area_mean</th>\n",
       "      <th>smoothness_mean</th>\n",
       "      <th>compactness_mean</th>\n",
       "      <th>concavity_mean</th>\n",
       "      <th>concave points_mean</th>\n",
       "      <th>symmetry_mean</th>\n",
       "      <th>...</th>\n",
       "      <th>radius_worst</th>\n",
       "      <th>texture_worst</th>\n",
       "      <th>perimeter_worst</th>\n",
       "      <th>area_worst</th>\n",
       "      <th>smoothness_worst</th>\n",
       "      <th>compactness_worst</th>\n",
       "      <th>concavity_worst</th>\n",
       "      <th>concave points_worst</th>\n",
       "      <th>symmetry_worst</th>\n",
       "      <th>fractal_dimension_worst</th>\n",
       "    </tr>\n",
       "  </thead>\n",
       "  <tbody>\n",
       "    <tr>\n",
       "      <th>564</th>\n",
       "      <td>1</td>\n",
       "      <td>21.56</td>\n",
       "      <td>22.39</td>\n",
       "      <td>142.00</td>\n",
       "      <td>1479.0</td>\n",
       "      <td>0.11100</td>\n",
       "      <td>0.11590</td>\n",
       "      <td>0.24390</td>\n",
       "      <td>0.13890</td>\n",
       "      <td>0.1726</td>\n",
       "      <td>...</td>\n",
       "      <td>25.450</td>\n",
       "      <td>26.40</td>\n",
       "      <td>166.10</td>\n",
       "      <td>2027.0</td>\n",
       "      <td>0.14100</td>\n",
       "      <td>0.21130</td>\n",
       "      <td>0.4107</td>\n",
       "      <td>0.2216</td>\n",
       "      <td>0.2060</td>\n",
       "      <td>0.07115</td>\n",
       "    </tr>\n",
       "    <tr>\n",
       "      <th>565</th>\n",
       "      <td>1</td>\n",
       "      <td>20.13</td>\n",
       "      <td>28.25</td>\n",
       "      <td>131.20</td>\n",
       "      <td>1261.0</td>\n",
       "      <td>0.09780</td>\n",
       "      <td>0.10340</td>\n",
       "      <td>0.14400</td>\n",
       "      <td>0.09791</td>\n",
       "      <td>0.1752</td>\n",
       "      <td>...</td>\n",
       "      <td>23.690</td>\n",
       "      <td>38.25</td>\n",
       "      <td>155.00</td>\n",
       "      <td>1731.0</td>\n",
       "      <td>0.11660</td>\n",
       "      <td>0.19220</td>\n",
       "      <td>0.3215</td>\n",
       "      <td>0.1628</td>\n",
       "      <td>0.2572</td>\n",
       "      <td>0.06637</td>\n",
       "    </tr>\n",
       "    <tr>\n",
       "      <th>566</th>\n",
       "      <td>1</td>\n",
       "      <td>16.60</td>\n",
       "      <td>28.08</td>\n",
       "      <td>108.30</td>\n",
       "      <td>858.1</td>\n",
       "      <td>0.08455</td>\n",
       "      <td>0.10230</td>\n",
       "      <td>0.09251</td>\n",
       "      <td>0.05302</td>\n",
       "      <td>0.1590</td>\n",
       "      <td>...</td>\n",
       "      <td>18.980</td>\n",
       "      <td>34.12</td>\n",
       "      <td>126.70</td>\n",
       "      <td>1124.0</td>\n",
       "      <td>0.11390</td>\n",
       "      <td>0.30940</td>\n",
       "      <td>0.3403</td>\n",
       "      <td>0.1418</td>\n",
       "      <td>0.2218</td>\n",
       "      <td>0.07820</td>\n",
       "    </tr>\n",
       "    <tr>\n",
       "      <th>567</th>\n",
       "      <td>1</td>\n",
       "      <td>20.60</td>\n",
       "      <td>29.33</td>\n",
       "      <td>140.10</td>\n",
       "      <td>1265.0</td>\n",
       "      <td>0.11780</td>\n",
       "      <td>0.27700</td>\n",
       "      <td>0.35140</td>\n",
       "      <td>0.15200</td>\n",
       "      <td>0.2397</td>\n",
       "      <td>...</td>\n",
       "      <td>25.740</td>\n",
       "      <td>39.42</td>\n",
       "      <td>184.60</td>\n",
       "      <td>1821.0</td>\n",
       "      <td>0.16500</td>\n",
       "      <td>0.86810</td>\n",
       "      <td>0.9387</td>\n",
       "      <td>0.2650</td>\n",
       "      <td>0.4087</td>\n",
       "      <td>0.12400</td>\n",
       "    </tr>\n",
       "    <tr>\n",
       "      <th>568</th>\n",
       "      <td>0</td>\n",
       "      <td>7.76</td>\n",
       "      <td>24.54</td>\n",
       "      <td>47.92</td>\n",
       "      <td>181.0</td>\n",
       "      <td>0.05263</td>\n",
       "      <td>0.04362</td>\n",
       "      <td>0.00000</td>\n",
       "      <td>0.00000</td>\n",
       "      <td>0.1587</td>\n",
       "      <td>...</td>\n",
       "      <td>9.456</td>\n",
       "      <td>30.37</td>\n",
       "      <td>59.16</td>\n",
       "      <td>268.6</td>\n",
       "      <td>0.08996</td>\n",
       "      <td>0.06444</td>\n",
       "      <td>0.0000</td>\n",
       "      <td>0.0000</td>\n",
       "      <td>0.2871</td>\n",
       "      <td>0.07039</td>\n",
       "    </tr>\n",
       "  </tbody>\n",
       "</table>\n",
       "<p>5 rows × 31 columns</p>\n",
       "</div>"
      ],
      "text/plain": [
       "     diagnosis  radius_mean  texture_mean  perimeter_mean  area_mean  \\\n",
       "564          1        21.56         22.39          142.00     1479.0   \n",
       "565          1        20.13         28.25          131.20     1261.0   \n",
       "566          1        16.60         28.08          108.30      858.1   \n",
       "567          1        20.60         29.33          140.10     1265.0   \n",
       "568          0         7.76         24.54           47.92      181.0   \n",
       "\n",
       "     smoothness_mean  compactness_mean  concavity_mean  concave points_mean  \\\n",
       "564          0.11100           0.11590         0.24390              0.13890   \n",
       "565          0.09780           0.10340         0.14400              0.09791   \n",
       "566          0.08455           0.10230         0.09251              0.05302   \n",
       "567          0.11780           0.27700         0.35140              0.15200   \n",
       "568          0.05263           0.04362         0.00000              0.00000   \n",
       "\n",
       "     symmetry_mean  ...  radius_worst  texture_worst  perimeter_worst  \\\n",
       "564         0.1726  ...        25.450          26.40           166.10   \n",
       "565         0.1752  ...        23.690          38.25           155.00   \n",
       "566         0.1590  ...        18.980          34.12           126.70   \n",
       "567         0.2397  ...        25.740          39.42           184.60   \n",
       "568         0.1587  ...         9.456          30.37            59.16   \n",
       "\n",
       "     area_worst  smoothness_worst  compactness_worst  concavity_worst  \\\n",
       "564      2027.0           0.14100            0.21130           0.4107   \n",
       "565      1731.0           0.11660            0.19220           0.3215   \n",
       "566      1124.0           0.11390            0.30940           0.3403   \n",
       "567      1821.0           0.16500            0.86810           0.9387   \n",
       "568       268.6           0.08996            0.06444           0.0000   \n",
       "\n",
       "     concave points_worst  symmetry_worst  fractal_dimension_worst  \n",
       "564                0.2216          0.2060                  0.07115  \n",
       "565                0.1628          0.2572                  0.06637  \n",
       "566                0.1418          0.2218                  0.07820  \n",
       "567                0.2650          0.4087                  0.12400  \n",
       "568                0.0000          0.2871                  0.07039  \n",
       "\n",
       "[5 rows x 31 columns]"
      ]
     },
     "execution_count": 15,
     "metadata": {},
     "output_type": "execute_result"
    }
   ],
   "source": [
    "dados = pd.read_csv(\"data.csv\")\n",
    "\n",
    "# Jogando a primeira coluna e a última coluna fora\n",
    "dados.drop(['Unnamed: 32',\"id\"], axis=1, inplace=True)\n",
    "\n",
    "# Transformando os dados da coluna diagnosis\n",
    "dados.diagnosis = [1 if i == \"M\" else 0 for i in dados.diagnosis]\n",
    "\n",
    "dados.tail()"
   ]
  },
  {
   "cell_type": "code",
   "execution_count": 16,
   "id": "853cc60e",
   "metadata": {},
   "outputs": [
    {
     "data": {
      "text/plain": [
       "0    357\n",
       "1    212\n",
       "Name: diagnosis, dtype: int64"
      ]
     },
     "execution_count": 16,
     "metadata": {},
     "output_type": "execute_result"
    }
   ],
   "source": [
    "#Vejamos quantos exemplos são malignos \n",
    "\n",
    "dados.diagnosis.value_counts()"
   ]
  },
  {
   "cell_type": "markdown",
   "id": "1b92a213-1935-4771-827b-36d33fa8b17f",
   "metadata": {},
   "source": [
    "Separando o rótulo dos demais dados:"
   ]
  },
  {
   "cell_type": "code",
   "execution_count": 17,
   "id": "99c84db0",
   "metadata": {},
   "outputs": [],
   "source": [
    "y = dados.diagnosis.values\n",
    "X = dados.drop(['diagnosis'], axis=1)"
   ]
  },
  {
   "cell_type": "code",
   "execution_count": 18,
   "id": "f748c509-30ec-40d8-86bf-25635787dccb",
   "metadata": {},
   "outputs": [
    {
     "data": {
      "text/html": [
       "<div>\n",
       "<style scoped>\n",
       "    .dataframe tbody tr th:only-of-type {\n",
       "        vertical-align: middle;\n",
       "    }\n",
       "\n",
       "    .dataframe tbody tr th {\n",
       "        vertical-align: top;\n",
       "    }\n",
       "\n",
       "    .dataframe thead th {\n",
       "        text-align: right;\n",
       "    }\n",
       "</style>\n",
       "<table border=\"1\" class=\"dataframe\">\n",
       "  <thead>\n",
       "    <tr style=\"text-align: right;\">\n",
       "      <th></th>\n",
       "      <th>radius_mean</th>\n",
       "      <th>texture_mean</th>\n",
       "      <th>perimeter_mean</th>\n",
       "      <th>area_mean</th>\n",
       "      <th>smoothness_mean</th>\n",
       "      <th>compactness_mean</th>\n",
       "      <th>concavity_mean</th>\n",
       "      <th>concave points_mean</th>\n",
       "      <th>symmetry_mean</th>\n",
       "      <th>fractal_dimension_mean</th>\n",
       "      <th>...</th>\n",
       "      <th>radius_worst</th>\n",
       "      <th>texture_worst</th>\n",
       "      <th>perimeter_worst</th>\n",
       "      <th>area_worst</th>\n",
       "      <th>smoothness_worst</th>\n",
       "      <th>compactness_worst</th>\n",
       "      <th>concavity_worst</th>\n",
       "      <th>concave points_worst</th>\n",
       "      <th>symmetry_worst</th>\n",
       "      <th>fractal_dimension_worst</th>\n",
       "    </tr>\n",
       "  </thead>\n",
       "  <tbody>\n",
       "    <tr>\n",
       "      <th>0</th>\n",
       "      <td>17.99</td>\n",
       "      <td>10.38</td>\n",
       "      <td>122.80</td>\n",
       "      <td>1001.0</td>\n",
       "      <td>0.11840</td>\n",
       "      <td>0.27760</td>\n",
       "      <td>0.3001</td>\n",
       "      <td>0.14710</td>\n",
       "      <td>0.2419</td>\n",
       "      <td>0.07871</td>\n",
       "      <td>...</td>\n",
       "      <td>25.38</td>\n",
       "      <td>17.33</td>\n",
       "      <td>184.60</td>\n",
       "      <td>2019.0</td>\n",
       "      <td>0.1622</td>\n",
       "      <td>0.6656</td>\n",
       "      <td>0.7119</td>\n",
       "      <td>0.2654</td>\n",
       "      <td>0.4601</td>\n",
       "      <td>0.11890</td>\n",
       "    </tr>\n",
       "    <tr>\n",
       "      <th>1</th>\n",
       "      <td>20.57</td>\n",
       "      <td>17.77</td>\n",
       "      <td>132.90</td>\n",
       "      <td>1326.0</td>\n",
       "      <td>0.08474</td>\n",
       "      <td>0.07864</td>\n",
       "      <td>0.0869</td>\n",
       "      <td>0.07017</td>\n",
       "      <td>0.1812</td>\n",
       "      <td>0.05667</td>\n",
       "      <td>...</td>\n",
       "      <td>24.99</td>\n",
       "      <td>23.41</td>\n",
       "      <td>158.80</td>\n",
       "      <td>1956.0</td>\n",
       "      <td>0.1238</td>\n",
       "      <td>0.1866</td>\n",
       "      <td>0.2416</td>\n",
       "      <td>0.1860</td>\n",
       "      <td>0.2750</td>\n",
       "      <td>0.08902</td>\n",
       "    </tr>\n",
       "    <tr>\n",
       "      <th>2</th>\n",
       "      <td>19.69</td>\n",
       "      <td>21.25</td>\n",
       "      <td>130.00</td>\n",
       "      <td>1203.0</td>\n",
       "      <td>0.10960</td>\n",
       "      <td>0.15990</td>\n",
       "      <td>0.1974</td>\n",
       "      <td>0.12790</td>\n",
       "      <td>0.2069</td>\n",
       "      <td>0.05999</td>\n",
       "      <td>...</td>\n",
       "      <td>23.57</td>\n",
       "      <td>25.53</td>\n",
       "      <td>152.50</td>\n",
       "      <td>1709.0</td>\n",
       "      <td>0.1444</td>\n",
       "      <td>0.4245</td>\n",
       "      <td>0.4504</td>\n",
       "      <td>0.2430</td>\n",
       "      <td>0.3613</td>\n",
       "      <td>0.08758</td>\n",
       "    </tr>\n",
       "    <tr>\n",
       "      <th>3</th>\n",
       "      <td>11.42</td>\n",
       "      <td>20.38</td>\n",
       "      <td>77.58</td>\n",
       "      <td>386.1</td>\n",
       "      <td>0.14250</td>\n",
       "      <td>0.28390</td>\n",
       "      <td>0.2414</td>\n",
       "      <td>0.10520</td>\n",
       "      <td>0.2597</td>\n",
       "      <td>0.09744</td>\n",
       "      <td>...</td>\n",
       "      <td>14.91</td>\n",
       "      <td>26.50</td>\n",
       "      <td>98.87</td>\n",
       "      <td>567.7</td>\n",
       "      <td>0.2098</td>\n",
       "      <td>0.8663</td>\n",
       "      <td>0.6869</td>\n",
       "      <td>0.2575</td>\n",
       "      <td>0.6638</td>\n",
       "      <td>0.17300</td>\n",
       "    </tr>\n",
       "    <tr>\n",
       "      <th>4</th>\n",
       "      <td>20.29</td>\n",
       "      <td>14.34</td>\n",
       "      <td>135.10</td>\n",
       "      <td>1297.0</td>\n",
       "      <td>0.10030</td>\n",
       "      <td>0.13280</td>\n",
       "      <td>0.1980</td>\n",
       "      <td>0.10430</td>\n",
       "      <td>0.1809</td>\n",
       "      <td>0.05883</td>\n",
       "      <td>...</td>\n",
       "      <td>22.54</td>\n",
       "      <td>16.67</td>\n",
       "      <td>152.20</td>\n",
       "      <td>1575.0</td>\n",
       "      <td>0.1374</td>\n",
       "      <td>0.2050</td>\n",
       "      <td>0.4000</td>\n",
       "      <td>0.1625</td>\n",
       "      <td>0.2364</td>\n",
       "      <td>0.07678</td>\n",
       "    </tr>\n",
       "  </tbody>\n",
       "</table>\n",
       "<p>5 rows × 30 columns</p>\n",
       "</div>"
      ],
      "text/plain": [
       "   radius_mean  texture_mean  perimeter_mean  area_mean  smoothness_mean  \\\n",
       "0        17.99         10.38          122.80     1001.0          0.11840   \n",
       "1        20.57         17.77          132.90     1326.0          0.08474   \n",
       "2        19.69         21.25          130.00     1203.0          0.10960   \n",
       "3        11.42         20.38           77.58      386.1          0.14250   \n",
       "4        20.29         14.34          135.10     1297.0          0.10030   \n",
       "\n",
       "   compactness_mean  concavity_mean  concave points_mean  symmetry_mean  \\\n",
       "0           0.27760          0.3001              0.14710         0.2419   \n",
       "1           0.07864          0.0869              0.07017         0.1812   \n",
       "2           0.15990          0.1974              0.12790         0.2069   \n",
       "3           0.28390          0.2414              0.10520         0.2597   \n",
       "4           0.13280          0.1980              0.10430         0.1809   \n",
       "\n",
       "   fractal_dimension_mean  ...  radius_worst  texture_worst  perimeter_worst  \\\n",
       "0                 0.07871  ...         25.38          17.33           184.60   \n",
       "1                 0.05667  ...         24.99          23.41           158.80   \n",
       "2                 0.05999  ...         23.57          25.53           152.50   \n",
       "3                 0.09744  ...         14.91          26.50            98.87   \n",
       "4                 0.05883  ...         22.54          16.67           152.20   \n",
       "\n",
       "   area_worst  smoothness_worst  compactness_worst  concavity_worst  \\\n",
       "0      2019.0            0.1622             0.6656           0.7119   \n",
       "1      1956.0            0.1238             0.1866           0.2416   \n",
       "2      1709.0            0.1444             0.4245           0.4504   \n",
       "3       567.7            0.2098             0.8663           0.6869   \n",
       "4      1575.0            0.1374             0.2050           0.4000   \n",
       "\n",
       "   concave points_worst  symmetry_worst  fractal_dimension_worst  \n",
       "0                0.2654          0.4601                  0.11890  \n",
       "1                0.1860          0.2750                  0.08902  \n",
       "2                0.2430          0.3613                  0.08758  \n",
       "3                0.2575          0.6638                  0.17300  \n",
       "4                0.1625          0.2364                  0.07678  \n",
       "\n",
       "[5 rows x 30 columns]"
      ]
     },
     "execution_count": 18,
     "metadata": {},
     "output_type": "execute_result"
    }
   ],
   "source": [
    "X.head()"
   ]
  },
  {
   "cell_type": "code",
   "execution_count": 19,
   "id": "f586e7d1-856c-4ef1-a4ca-77b56d69ada0",
   "metadata": {},
   "outputs": [
    {
     "data": {
      "text/plain": [
       "array([1, 1, 1, 1, 1, 1, 1, 1, 1, 1, 1, 1, 1, 1, 1, 1, 1, 1, 1, 0, 0, 0,\n",
       "       1, 1, 1, 1, 1, 1, 1, 1, 1, 1, 1, 1, 1, 1, 1, 0, 1, 1, 1, 1, 1, 1,\n",
       "       1, 1, 0, 1, 0, 0, 0, 0, 0, 1, 1, 0, 1, 1, 0, 0, 0, 0, 1, 0, 1, 1,\n",
       "       0, 0, 0, 0, 1, 0, 1, 1, 0, 1, 0, 1, 1, 0, 0, 0, 1, 1, 0, 1, 1, 1,\n",
       "       0, 0, 0, 1, 0, 0, 1, 1, 0, 0, 0, 1, 1, 0, 0, 0, 0, 1, 0, 0, 1, 0,\n",
       "       0, 0, 0, 0, 0, 0, 0, 1, 1, 1, 0, 1, 1, 0, 0, 0, 1, 1, 0, 1, 0, 1,\n",
       "       1, 0, 1, 1, 0, 0, 1, 0, 0, 1, 0, 0, 0, 0, 1, 0, 0, 0, 0, 0, 0, 0,\n",
       "       0, 0, 1, 0, 0, 0, 0, 1, 1, 0, 1, 0, 0, 1, 1, 0, 0, 1, 1, 0, 0, 0,\n",
       "       0, 1, 0, 0, 1, 1, 1, 0, 1, 0, 1, 0, 0, 0, 1, 0, 0, 1, 1, 0, 1, 1,\n",
       "       1, 1, 0, 1, 1, 1, 0, 1, 0, 1, 0, 0, 1, 0, 1, 1, 1, 1, 0, 0, 1, 1,\n",
       "       0, 0, 0, 1, 0, 0, 0, 0, 0, 1, 1, 0, 0, 1, 0, 0, 1, 1, 0, 1, 0, 0,\n",
       "       0, 0, 1, 0, 0, 0, 0, 0, 1, 0, 1, 1, 1, 1, 1, 1, 1, 1, 1, 1, 1, 1,\n",
       "       1, 1, 0, 0, 0, 0, 0, 0, 1, 0, 1, 0, 0, 1, 0, 0, 1, 0, 1, 1, 0, 0,\n",
       "       0, 0, 0, 0, 0, 0, 0, 0, 0, 0, 0, 1, 0, 0, 1, 0, 1, 0, 0, 0, 0, 0,\n",
       "       0, 0, 0, 0, 0, 0, 0, 0, 0, 1, 0, 0, 0, 1, 0, 1, 0, 0, 0, 0, 1, 1,\n",
       "       1, 0, 0, 0, 0, 1, 0, 1, 0, 1, 0, 0, 0, 1, 0, 0, 0, 0, 0, 0, 0, 1,\n",
       "       1, 1, 0, 0, 0, 0, 0, 0, 0, 0, 0, 0, 0, 1, 1, 0, 1, 1, 1, 0, 1, 1,\n",
       "       0, 0, 0, 0, 0, 1, 0, 0, 0, 0, 0, 1, 0, 0, 0, 1, 0, 0, 1, 1, 0, 0,\n",
       "       0, 0, 0, 0, 1, 0, 0, 0, 0, 0, 0, 0, 1, 0, 0, 0, 0, 0, 1, 0, 0, 1,\n",
       "       0, 0, 0, 0, 0, 0, 0, 0, 0, 0, 0, 0, 1, 0, 1, 1, 0, 1, 0, 0, 0, 0,\n",
       "       0, 1, 0, 0, 1, 0, 1, 0, 0, 1, 0, 1, 0, 0, 0, 0, 0, 0, 0, 0, 1, 1,\n",
       "       0, 0, 0, 0, 0, 0, 1, 0, 0, 0, 0, 0, 0, 0, 0, 0, 0, 1, 0, 0, 0, 0,\n",
       "       0, 0, 0, 1, 0, 1, 0, 0, 1, 0, 0, 0, 0, 0, 1, 1, 0, 1, 0, 1, 0, 0,\n",
       "       0, 0, 0, 1, 0, 0, 1, 0, 1, 0, 1, 1, 0, 0, 0, 1, 0, 0, 0, 0, 0, 0,\n",
       "       0, 0, 0, 0, 0, 1, 0, 1, 1, 0, 0, 0, 0, 0, 0, 0, 0, 0, 0, 0, 0, 0,\n",
       "       0, 0, 0, 0, 0, 0, 0, 0, 0, 0, 0, 0, 1, 1, 1, 1, 1, 1, 0],\n",
       "      dtype=int64)"
      ]
     },
     "execution_count": 19,
     "metadata": {},
     "output_type": "execute_result"
    }
   ],
   "source": [
    "y"
   ]
  },
  {
   "cell_type": "markdown",
   "id": "23683a90-d6b7-467c-88c9-95c2ce4d1cf1",
   "metadata": {},
   "source": [
    "### Normalização "
   ]
  },
  {
   "cell_type": "code",
   "execution_count": 20,
   "id": "d5299ecc",
   "metadata": {},
   "outputs": [],
   "source": [
    "def normaliza_maxmin (M):\n",
    "    return (M - np.min(M))/(np.max(M)-np.min(M))"
   ]
  },
  {
   "cell_type": "code",
   "execution_count": 21,
   "id": "c5fc3351",
   "metadata": {},
   "outputs": [
    {
     "data": {
      "text/html": [
       "<div>\n",
       "<style scoped>\n",
       "    .dataframe tbody tr th:only-of-type {\n",
       "        vertical-align: middle;\n",
       "    }\n",
       "\n",
       "    .dataframe tbody tr th {\n",
       "        vertical-align: top;\n",
       "    }\n",
       "\n",
       "    .dataframe thead th {\n",
       "        text-align: right;\n",
       "    }\n",
       "</style>\n",
       "<table border=\"1\" class=\"dataframe\">\n",
       "  <thead>\n",
       "    <tr style=\"text-align: right;\">\n",
       "      <th></th>\n",
       "      <th>radius_mean</th>\n",
       "      <th>texture_mean</th>\n",
       "      <th>perimeter_mean</th>\n",
       "      <th>area_mean</th>\n",
       "      <th>smoothness_mean</th>\n",
       "      <th>compactness_mean</th>\n",
       "      <th>concavity_mean</th>\n",
       "      <th>concave points_mean</th>\n",
       "      <th>symmetry_mean</th>\n",
       "      <th>fractal_dimension_mean</th>\n",
       "      <th>...</th>\n",
       "      <th>radius_worst</th>\n",
       "      <th>texture_worst</th>\n",
       "      <th>perimeter_worst</th>\n",
       "      <th>area_worst</th>\n",
       "      <th>smoothness_worst</th>\n",
       "      <th>compactness_worst</th>\n",
       "      <th>concavity_worst</th>\n",
       "      <th>concave points_worst</th>\n",
       "      <th>symmetry_worst</th>\n",
       "      <th>fractal_dimension_worst</th>\n",
       "    </tr>\n",
       "  </thead>\n",
       "  <tbody>\n",
       "    <tr>\n",
       "      <th>0</th>\n",
       "      <td>0.521037</td>\n",
       "      <td>0.022658</td>\n",
       "      <td>0.545989</td>\n",
       "      <td>0.363733</td>\n",
       "      <td>0.593753</td>\n",
       "      <td>0.792037</td>\n",
       "      <td>0.703140</td>\n",
       "      <td>0.731113</td>\n",
       "      <td>0.686364</td>\n",
       "      <td>0.605518</td>\n",
       "      <td>...</td>\n",
       "      <td>0.620776</td>\n",
       "      <td>0.141525</td>\n",
       "      <td>0.668310</td>\n",
       "      <td>0.450698</td>\n",
       "      <td>0.601136</td>\n",
       "      <td>0.619292</td>\n",
       "      <td>0.568610</td>\n",
       "      <td>0.912027</td>\n",
       "      <td>0.598462</td>\n",
       "      <td>0.418864</td>\n",
       "    </tr>\n",
       "    <tr>\n",
       "      <th>1</th>\n",
       "      <td>0.643144</td>\n",
       "      <td>0.272574</td>\n",
       "      <td>0.615783</td>\n",
       "      <td>0.501591</td>\n",
       "      <td>0.289880</td>\n",
       "      <td>0.181768</td>\n",
       "      <td>0.203608</td>\n",
       "      <td>0.348757</td>\n",
       "      <td>0.379798</td>\n",
       "      <td>0.141323</td>\n",
       "      <td>...</td>\n",
       "      <td>0.606901</td>\n",
       "      <td>0.303571</td>\n",
       "      <td>0.539818</td>\n",
       "      <td>0.435214</td>\n",
       "      <td>0.347553</td>\n",
       "      <td>0.154563</td>\n",
       "      <td>0.192971</td>\n",
       "      <td>0.639175</td>\n",
       "      <td>0.233590</td>\n",
       "      <td>0.222878</td>\n",
       "    </tr>\n",
       "    <tr>\n",
       "      <th>2</th>\n",
       "      <td>0.601496</td>\n",
       "      <td>0.390260</td>\n",
       "      <td>0.595743</td>\n",
       "      <td>0.449417</td>\n",
       "      <td>0.514309</td>\n",
       "      <td>0.431017</td>\n",
       "      <td>0.462512</td>\n",
       "      <td>0.635686</td>\n",
       "      <td>0.509596</td>\n",
       "      <td>0.211247</td>\n",
       "      <td>...</td>\n",
       "      <td>0.556386</td>\n",
       "      <td>0.360075</td>\n",
       "      <td>0.508442</td>\n",
       "      <td>0.374508</td>\n",
       "      <td>0.483590</td>\n",
       "      <td>0.385375</td>\n",
       "      <td>0.359744</td>\n",
       "      <td>0.835052</td>\n",
       "      <td>0.403706</td>\n",
       "      <td>0.213433</td>\n",
       "    </tr>\n",
       "    <tr>\n",
       "      <th>3</th>\n",
       "      <td>0.210090</td>\n",
       "      <td>0.360839</td>\n",
       "      <td>0.233501</td>\n",
       "      <td>0.102906</td>\n",
       "      <td>0.811321</td>\n",
       "      <td>0.811361</td>\n",
       "      <td>0.565604</td>\n",
       "      <td>0.522863</td>\n",
       "      <td>0.776263</td>\n",
       "      <td>1.000000</td>\n",
       "      <td>...</td>\n",
       "      <td>0.248310</td>\n",
       "      <td>0.385928</td>\n",
       "      <td>0.241347</td>\n",
       "      <td>0.094008</td>\n",
       "      <td>0.915472</td>\n",
       "      <td>0.814012</td>\n",
       "      <td>0.548642</td>\n",
       "      <td>0.884880</td>\n",
       "      <td>1.000000</td>\n",
       "      <td>0.773711</td>\n",
       "    </tr>\n",
       "    <tr>\n",
       "      <th>4</th>\n",
       "      <td>0.629893</td>\n",
       "      <td>0.156578</td>\n",
       "      <td>0.630986</td>\n",
       "      <td>0.489290</td>\n",
       "      <td>0.430351</td>\n",
       "      <td>0.347893</td>\n",
       "      <td>0.463918</td>\n",
       "      <td>0.518390</td>\n",
       "      <td>0.378283</td>\n",
       "      <td>0.186816</td>\n",
       "      <td>...</td>\n",
       "      <td>0.519744</td>\n",
       "      <td>0.123934</td>\n",
       "      <td>0.506948</td>\n",
       "      <td>0.341575</td>\n",
       "      <td>0.437364</td>\n",
       "      <td>0.172415</td>\n",
       "      <td>0.319489</td>\n",
       "      <td>0.558419</td>\n",
       "      <td>0.157500</td>\n",
       "      <td>0.142595</td>\n",
       "    </tr>\n",
       "    <tr>\n",
       "      <th>...</th>\n",
       "      <td>...</td>\n",
       "      <td>...</td>\n",
       "      <td>...</td>\n",
       "      <td>...</td>\n",
       "      <td>...</td>\n",
       "      <td>...</td>\n",
       "      <td>...</td>\n",
       "      <td>...</td>\n",
       "      <td>...</td>\n",
       "      <td>...</td>\n",
       "      <td>...</td>\n",
       "      <td>...</td>\n",
       "      <td>...</td>\n",
       "      <td>...</td>\n",
       "      <td>...</td>\n",
       "      <td>...</td>\n",
       "      <td>...</td>\n",
       "      <td>...</td>\n",
       "      <td>...</td>\n",
       "      <td>...</td>\n",
       "      <td>...</td>\n",
       "    </tr>\n",
       "    <tr>\n",
       "      <th>564</th>\n",
       "      <td>0.690000</td>\n",
       "      <td>0.428813</td>\n",
       "      <td>0.678668</td>\n",
       "      <td>0.566490</td>\n",
       "      <td>0.526948</td>\n",
       "      <td>0.296055</td>\n",
       "      <td>0.571462</td>\n",
       "      <td>0.690358</td>\n",
       "      <td>0.336364</td>\n",
       "      <td>0.132056</td>\n",
       "      <td>...</td>\n",
       "      <td>0.623266</td>\n",
       "      <td>0.383262</td>\n",
       "      <td>0.576174</td>\n",
       "      <td>0.452664</td>\n",
       "      <td>0.461137</td>\n",
       "      <td>0.178527</td>\n",
       "      <td>0.328035</td>\n",
       "      <td>0.761512</td>\n",
       "      <td>0.097575</td>\n",
       "      <td>0.105667</td>\n",
       "    </tr>\n",
       "    <tr>\n",
       "      <th>565</th>\n",
       "      <td>0.622320</td>\n",
       "      <td>0.626987</td>\n",
       "      <td>0.604036</td>\n",
       "      <td>0.474019</td>\n",
       "      <td>0.407782</td>\n",
       "      <td>0.257714</td>\n",
       "      <td>0.337395</td>\n",
       "      <td>0.486630</td>\n",
       "      <td>0.349495</td>\n",
       "      <td>0.113100</td>\n",
       "      <td>...</td>\n",
       "      <td>0.560655</td>\n",
       "      <td>0.699094</td>\n",
       "      <td>0.520892</td>\n",
       "      <td>0.379915</td>\n",
       "      <td>0.300007</td>\n",
       "      <td>0.159997</td>\n",
       "      <td>0.256789</td>\n",
       "      <td>0.559450</td>\n",
       "      <td>0.198502</td>\n",
       "      <td>0.074315</td>\n",
       "    </tr>\n",
       "    <tr>\n",
       "      <th>566</th>\n",
       "      <td>0.455251</td>\n",
       "      <td>0.621238</td>\n",
       "      <td>0.445788</td>\n",
       "      <td>0.303118</td>\n",
       "      <td>0.288165</td>\n",
       "      <td>0.254340</td>\n",
       "      <td>0.216753</td>\n",
       "      <td>0.263519</td>\n",
       "      <td>0.267677</td>\n",
       "      <td>0.137321</td>\n",
       "      <td>...</td>\n",
       "      <td>0.393099</td>\n",
       "      <td>0.589019</td>\n",
       "      <td>0.379949</td>\n",
       "      <td>0.230731</td>\n",
       "      <td>0.282177</td>\n",
       "      <td>0.273705</td>\n",
       "      <td>0.271805</td>\n",
       "      <td>0.487285</td>\n",
       "      <td>0.128721</td>\n",
       "      <td>0.151909</td>\n",
       "    </tr>\n",
       "    <tr>\n",
       "      <th>567</th>\n",
       "      <td>0.644564</td>\n",
       "      <td>0.663510</td>\n",
       "      <td>0.665538</td>\n",
       "      <td>0.475716</td>\n",
       "      <td>0.588336</td>\n",
       "      <td>0.790197</td>\n",
       "      <td>0.823336</td>\n",
       "      <td>0.755467</td>\n",
       "      <td>0.675253</td>\n",
       "      <td>0.425442</td>\n",
       "      <td>...</td>\n",
       "      <td>0.633582</td>\n",
       "      <td>0.730277</td>\n",
       "      <td>0.668310</td>\n",
       "      <td>0.402035</td>\n",
       "      <td>0.619626</td>\n",
       "      <td>0.815758</td>\n",
       "      <td>0.749760</td>\n",
       "      <td>0.910653</td>\n",
       "      <td>0.497142</td>\n",
       "      <td>0.452315</td>\n",
       "    </tr>\n",
       "    <tr>\n",
       "      <th>568</th>\n",
       "      <td>0.036869</td>\n",
       "      <td>0.501522</td>\n",
       "      <td>0.028540</td>\n",
       "      <td>0.015907</td>\n",
       "      <td>0.000000</td>\n",
       "      <td>0.074351</td>\n",
       "      <td>0.000000</td>\n",
       "      <td>0.000000</td>\n",
       "      <td>0.266162</td>\n",
       "      <td>0.187026</td>\n",
       "      <td>...</td>\n",
       "      <td>0.054287</td>\n",
       "      <td>0.489072</td>\n",
       "      <td>0.043578</td>\n",
       "      <td>0.020497</td>\n",
       "      <td>0.124084</td>\n",
       "      <td>0.036043</td>\n",
       "      <td>0.000000</td>\n",
       "      <td>0.000000</td>\n",
       "      <td>0.257441</td>\n",
       "      <td>0.100682</td>\n",
       "    </tr>\n",
       "  </tbody>\n",
       "</table>\n",
       "<p>569 rows × 30 columns</p>\n",
       "</div>"
      ],
      "text/plain": [
       "     radius_mean  texture_mean  perimeter_mean  area_mean  smoothness_mean  \\\n",
       "0       0.521037      0.022658        0.545989   0.363733         0.593753   \n",
       "1       0.643144      0.272574        0.615783   0.501591         0.289880   \n",
       "2       0.601496      0.390260        0.595743   0.449417         0.514309   \n",
       "3       0.210090      0.360839        0.233501   0.102906         0.811321   \n",
       "4       0.629893      0.156578        0.630986   0.489290         0.430351   \n",
       "..           ...           ...             ...        ...              ...   \n",
       "564     0.690000      0.428813        0.678668   0.566490         0.526948   \n",
       "565     0.622320      0.626987        0.604036   0.474019         0.407782   \n",
       "566     0.455251      0.621238        0.445788   0.303118         0.288165   \n",
       "567     0.644564      0.663510        0.665538   0.475716         0.588336   \n",
       "568     0.036869      0.501522        0.028540   0.015907         0.000000   \n",
       "\n",
       "     compactness_mean  concavity_mean  concave points_mean  symmetry_mean  \\\n",
       "0            0.792037        0.703140             0.731113       0.686364   \n",
       "1            0.181768        0.203608             0.348757       0.379798   \n",
       "2            0.431017        0.462512             0.635686       0.509596   \n",
       "3            0.811361        0.565604             0.522863       0.776263   \n",
       "4            0.347893        0.463918             0.518390       0.378283   \n",
       "..                ...             ...                  ...            ...   \n",
       "564          0.296055        0.571462             0.690358       0.336364   \n",
       "565          0.257714        0.337395             0.486630       0.349495   \n",
       "566          0.254340        0.216753             0.263519       0.267677   \n",
       "567          0.790197        0.823336             0.755467       0.675253   \n",
       "568          0.074351        0.000000             0.000000       0.266162   \n",
       "\n",
       "     fractal_dimension_mean  ...  radius_worst  texture_worst  \\\n",
       "0                  0.605518  ...      0.620776       0.141525   \n",
       "1                  0.141323  ...      0.606901       0.303571   \n",
       "2                  0.211247  ...      0.556386       0.360075   \n",
       "3                  1.000000  ...      0.248310       0.385928   \n",
       "4                  0.186816  ...      0.519744       0.123934   \n",
       "..                      ...  ...           ...            ...   \n",
       "564                0.132056  ...      0.623266       0.383262   \n",
       "565                0.113100  ...      0.560655       0.699094   \n",
       "566                0.137321  ...      0.393099       0.589019   \n",
       "567                0.425442  ...      0.633582       0.730277   \n",
       "568                0.187026  ...      0.054287       0.489072   \n",
       "\n",
       "     perimeter_worst  area_worst  smoothness_worst  compactness_worst  \\\n",
       "0           0.668310    0.450698          0.601136           0.619292   \n",
       "1           0.539818    0.435214          0.347553           0.154563   \n",
       "2           0.508442    0.374508          0.483590           0.385375   \n",
       "3           0.241347    0.094008          0.915472           0.814012   \n",
       "4           0.506948    0.341575          0.437364           0.172415   \n",
       "..               ...         ...               ...                ...   \n",
       "564         0.576174    0.452664          0.461137           0.178527   \n",
       "565         0.520892    0.379915          0.300007           0.159997   \n",
       "566         0.379949    0.230731          0.282177           0.273705   \n",
       "567         0.668310    0.402035          0.619626           0.815758   \n",
       "568         0.043578    0.020497          0.124084           0.036043   \n",
       "\n",
       "     concavity_worst  concave points_worst  symmetry_worst  \\\n",
       "0           0.568610              0.912027        0.598462   \n",
       "1           0.192971              0.639175        0.233590   \n",
       "2           0.359744              0.835052        0.403706   \n",
       "3           0.548642              0.884880        1.000000   \n",
       "4           0.319489              0.558419        0.157500   \n",
       "..               ...                   ...             ...   \n",
       "564         0.328035              0.761512        0.097575   \n",
       "565         0.256789              0.559450        0.198502   \n",
       "566         0.271805              0.487285        0.128721   \n",
       "567         0.749760              0.910653        0.497142   \n",
       "568         0.000000              0.000000        0.257441   \n",
       "\n",
       "     fractal_dimension_worst  \n",
       "0                   0.418864  \n",
       "1                   0.222878  \n",
       "2                   0.213433  \n",
       "3                   0.773711  \n",
       "4                   0.142595  \n",
       "..                       ...  \n",
       "564                 0.105667  \n",
       "565                 0.074315  \n",
       "566                 0.151909  \n",
       "567                 0.452315  \n",
       "568                 0.100682  \n",
       "\n",
       "[569 rows x 30 columns]"
      ]
     },
     "execution_count": 21,
     "metadata": {},
     "output_type": "execute_result"
    }
   ],
   "source": [
    "X = normaliza_maxmin (X) \n",
    "X"
   ]
  },
  {
   "cell_type": "markdown",
   "id": "563234a6-7cf6-4f41-a1a8-545efcc32b9a",
   "metadata": {},
   "source": [
    "### Dividindo em dados de treinamento e teste"
   ]
  },
  {
   "cell_type": "code",
   "execution_count": 22,
   "id": "19ab0d73",
   "metadata": {},
   "outputs": [],
   "source": [
    "from sklearn.model_selection import train_test_split\n",
    "\n",
    "X_train, X_test, y_train, y_test = train_test_split(X, y, test_size=0.15, random_state=0)\n"
   ]
  },
  {
   "cell_type": "code",
   "execution_count": 23,
   "id": "218290e4",
   "metadata": {},
   "outputs": [
    {
     "data": {
      "text/plain": [
       "(86, 30)"
      ]
     },
     "execution_count": 23,
     "metadata": {},
     "output_type": "execute_result"
    }
   ],
   "source": [
    "X_test.shape"
   ]
  },
  {
   "cell_type": "code",
   "execution_count": 24,
   "id": "16e16be4-1cdb-49cc-8c69-e4c3cb0da607",
   "metadata": {},
   "outputs": [
    {
     "data": {
      "text/plain": [
       "array([0, 0, 1, 1, 0, 1, 0, 1, 0, 0, 1, 0, 0, 0, 0, 0, 0, 0, 1, 0, 1, 0,\n",
       "       1, 1, 0, 1, 1, 0, 0, 0, 0, 0, 0, 0, 0, 0, 1, 0, 1, 0, 0, 0, 0, 0,\n",
       "       1, 0, 0, 0, 0, 0, 0, 1, 1, 0, 0, 0, 1, 0, 0, 1, 0, 1, 0, 0, 0, 0,\n",
       "       0, 0, 0, 1, 0, 1, 0, 1, 1, 0, 0, 1, 0, 1, 1, 1, 0, 0, 0, 0, 0, 0,\n",
       "       1, 0, 0, 0, 0, 1, 1, 0, 0, 1, 0, 0, 0, 0, 1, 0, 0, 1, 1, 0, 0, 1,\n",
       "       1, 0, 0, 1, 0, 0, 1, 1, 1, 0, 0, 0, 1, 0, 0, 0, 0, 0, 1, 0, 1, 0,\n",
       "       1, 0, 1, 0, 1, 0, 0, 0, 0, 1, 0, 1, 0, 0, 0, 1, 0, 0, 0, 1, 0, 0,\n",
       "       1, 1, 0, 1, 0, 1, 0, 1, 1, 1, 1, 0, 1, 0, 1, 0, 1, 0, 1, 0, 0, 1,\n",
       "       0, 0, 0, 0, 0, 0, 0, 0, 0, 0, 0, 0, 0, 1, 0, 0, 0, 1, 0, 0, 0, 0,\n",
       "       0, 0, 1, 0, 1, 0, 0, 1, 0, 1, 1, 0, 1, 1, 0, 0, 1, 0, 0, 0, 1, 0,\n",
       "       0, 0, 0, 0, 1, 1, 0, 0, 0, 0, 1, 1, 0, 0, 0, 0, 1, 0, 0, 1, 0, 0,\n",
       "       1, 0, 1, 0, 0, 0, 0, 1, 1, 1, 1, 0, 1, 0, 1, 1, 0, 0, 0, 0, 0, 1,\n",
       "       0, 0, 1, 0, 0, 1, 1, 0, 0, 0, 1, 1, 0, 0, 1, 0, 0, 0, 1, 0, 1, 0,\n",
       "       1, 1, 1, 1, 0, 0, 0, 0, 1, 1, 0, 0, 0, 0, 0, 1, 0, 0, 1, 0, 0, 1,\n",
       "       1, 1, 1, 0, 0, 1, 0, 0, 0, 1, 1, 0, 0, 0, 0, 0, 1, 1, 1, 0, 1, 1,\n",
       "       0, 0, 0, 0, 0, 0, 1, 0, 0, 0, 0, 0, 0, 1, 1, 0, 1, 0, 1, 1, 0, 0,\n",
       "       0, 0, 0, 1, 1, 1, 0, 0, 1, 1, 0, 0, 1, 0, 1, 1, 0, 1, 0, 0, 0, 0,\n",
       "       0, 0, 0, 1, 1, 0, 0, 0, 1, 0, 0, 0, 0, 1, 0, 1, 1, 1, 0, 1, 0, 1,\n",
       "       0, 1, 1, 0, 0, 0, 0, 0, 0, 0, 0, 1, 1, 1, 1, 1, 0, 0, 0, 0, 0, 0,\n",
       "       0, 1, 0, 1, 0, 0, 0, 0, 0, 1, 1, 1, 0, 1, 0, 0, 1, 1, 1, 1, 0, 1,\n",
       "       1, 1, 0, 1, 0, 1, 0, 0, 1, 1, 0, 1, 0, 0, 0, 0, 1, 0, 0, 1, 0, 0,\n",
       "       0, 1, 1, 0, 0, 0, 1, 0, 0, 1, 0, 0, 0, 0, 0, 1, 1, 1, 0, 0, 0],\n",
       "      dtype=int64)"
      ]
     },
     "execution_count": 24,
     "metadata": {},
     "output_type": "execute_result"
    }
   ],
   "source": [
    "y_train"
   ]
  },
  {
   "cell_type": "markdown",
   "id": "be58579a-f3c7-4712-a4b0-cde337dad3e4",
   "metadata": {},
   "source": [
    "## Aplicando as nossas funções"
   ]
  },
  {
   "cell_type": "code",
   "execution_count": 25,
   "id": "1dc3adff-0ba8-4f42-ab02-7d016809effa",
   "metadata": {},
   "outputs": [],
   "source": [
    "w, b = AM.inicializa_parametros(X_train.shape[1])\n"
   ]
  },
  {
   "cell_type": "code",
   "execution_count": 26,
   "id": "c75b9802-9531-4817-910a-72382a8a4780",
   "metadata": {},
   "outputs": [
    {
     "name": "stdout",
     "output_type": "stream",
     "text": [
      "[0. 0. 0. 0. 0. 0. 0. 0. 0. 0. 0. 0. 0. 0. 0. 0. 0. 0. 0. 0. 0. 0. 0. 0.\n",
      " 0. 0. 0. 0. 0. 0.]\n",
      "30\n",
      "0\n"
     ]
    }
   ],
   "source": [
    "print (w)\n",
    "print(len(w)) # número de termos no vetor w\n",
    "print(b)"
   ]
  },
  {
   "cell_type": "code",
   "execution_count": 27,
   "id": "db5eb9cc-1bd2-4eb5-bf93-048c5dbb7c53",
   "metadata": {},
   "outputs": [],
   "source": [
    "w_final, b_final, custo = AM.fit(X_train, y_train, w, b, 100, 0.5)"
   ]
  },
  {
   "cell_type": "code",
   "execution_count": 28,
   "id": "fb959bc7-5d30-4e8a-9213-1f49e004fc8c",
   "metadata": {},
   "outputs": [
    {
     "data": {
      "text/plain": [
       "array([ 0.56876205,  0.06185111,  0.61541003,  0.68687569, -0.36730092,\n",
       "        0.49872557,  1.04339773,  1.24252588, -0.29840877, -0.71072816,\n",
       "        0.44983254, -0.4116379 ,  0.38898488,  0.39916851, -0.47046209,\n",
       "       -0.03306312, -0.03822516, -0.05131085, -0.40135101, -0.21232921,\n",
       "        0.87792872,  0.2202874 ,  0.86817775,  0.80904379, -0.04716305,\n",
       "        0.58987225,  0.79706178,  1.26415284,  0.12939793,  0.05463272])"
      ]
     },
     "execution_count": 28,
     "metadata": {},
     "output_type": "execute_result"
    }
   ],
   "source": [
    "w_final"
   ]
  },
  {
   "cell_type": "code",
   "execution_count": 29,
   "id": "b9b908a5-ceef-4a6f-a50f-88330396a974",
   "metadata": {},
   "outputs": [
    {
     "data": {
      "text/plain": [
       "-2.6149231460578006"
      ]
     },
     "execution_count": 29,
     "metadata": {},
     "output_type": "execute_result"
    }
   ],
   "source": [
    "b_final"
   ]
  },
  {
   "cell_type": "code",
   "execution_count": 30,
   "id": "47a38c3b-631c-42ff-8989-dd889740e030",
   "metadata": {},
   "outputs": [
    {
     "data": {
      "text/plain": [
       "[0.6931471805599453,\n",
       " 0.6772331909561761,\n",
       " 0.6632270440370427,\n",
       " 0.6502599080192571,\n",
       " 0.6379983037657122,\n",
       " 0.6263052112403193,\n",
       " 0.6151158952016795,\n",
       " 0.604392496741101,\n",
       " 0.5941074553574115,\n",
       " 0.5842374811276427,\n",
       " 0.5747613793528213,\n",
       " 0.5656592738041469,\n",
       " 0.5569123313031249,\n",
       " 0.5485026611225908,\n",
       " 0.5404132715801079,\n",
       " 0.532628042370608,\n",
       " 0.5251316987805965,\n",
       " 0.5179097837849229,\n",
       " 0.5109486274359644,\n",
       " 0.5042353140361462,\n",
       " 0.4977576478400444,\n",
       " 0.49150411800735455,\n",
       " 0.4854638634194665,\n",
       " 0.47962663784990733,\n",
       " 0.4739827758658983,\n",
       " 0.4685231597413151,\n",
       " 0.4632391875810571,\n",
       " 0.4581227427917551,\n",
       " 0.4531661649818537,\n",
       " 0.44836222233333706,\n",
       " 0.4437040854558093,\n",
       " 0.43918530270964634,\n",
       " 0.4347997769670548,\n",
       " 0.43054174376690685,\n",
       " 0.4264057508101676,\n",
       " 0.42238663873675536,\n",
       " 0.4184795231211043,\n",
       " 0.4146797776219869,\n",
       " 0.4109830182218473,\n",
       " 0.4073850884916542,\n",
       " 0.4038820458188117,\n",
       " 0.40047014853775176,\n",
       " 0.3971458439052938,\n",
       " 0.39390575686556495,\n",
       " 0.3907466795521147,\n",
       " 0.38766556147776055,\n",
       " 0.3846595003655993,\n",
       " 0.38172573357747,\n",
       " 0.37886163009892226,\n",
       " 0.3760646830424192,\n",
       " 0.3733325026330487,\n",
       " 0.37066280964344733,\n",
       " 0.3680534292469322,\n",
       " 0.3655022852599951,\n",
       " 0.36300739474734706,\n",
       " 0.36056686296459456,\n",
       " 0.3581788786154085,\n",
       " 0.35584170940169907,\n",
       " 0.3535536978468517,\n",
       " 0.35131325737351116,\n",
       " 0.34911886861873354,\n",
       " 0.3469690759705571,\n",
       " 0.34486248431119354,\n",
       " 0.3427977559530967,\n",
       " 0.3407736077551552,\n",
       " 0.3387888084071611,\n",
       " 0.3368421758715529,\n",
       " 0.33493257497221157,\n",
       " 0.3330589151208091,\n",
       " 0.33122014817188056,\n",
       " 0.32941526639840685,\n",
       " 0.32764330058027136,\n",
       " 0.3259033181984819,\n",
       " 0.3241944217285423,\n",
       " 0.3225157470268117,\n",
       " 0.32086646180411316,\n",
       " 0.3192457641812409,\n",
       " 0.31765288132138053,\n",
       " 0.31608706813478943,\n",
       " 0.3145476060513989,\n",
       " 0.3130338018572839,\n",
       " 0.3115449865912193,\n",
       " 0.31008051449778706,\n",
       " 0.30863976203372917,\n",
       " 0.30722212692445866,\n",
       " 0.30582702726783856,\n",
       " 0.3044539006825235,\n",
       " 0.30310220349833206,\n",
       " 0.301771409986279,\n",
       " 0.30046101162604455,\n",
       " 0.2991705164087967,\n",
       " 0.2978994481734145,\n",
       " 0.296647345974277,\n",
       " 0.29541376347889925,\n",
       " 0.29419826839379876,\n",
       " 0.2930004419170749,\n",
       " 0.29181987821627514,\n",
       " 0.29065618393020626,\n",
       " 0.28950897769343137,\n",
       " 0.2883778896822639]"
      ]
     },
     "execution_count": 30,
     "metadata": {},
     "output_type": "execute_result"
    }
   ],
   "source": [
    "custo"
   ]
  },
  {
   "cell_type": "code",
   "execution_count": 31,
   "id": "43b44cb4-100b-42f5-9ba9-c0bdb759bbb6",
   "metadata": {},
   "outputs": [
    {
     "data": {
      "text/plain": [
       "[0.6931471805599453,\n",
       " 0.6772331909561761,\n",
       " 0.6632270440370427,\n",
       " 0.6502599080192571,\n",
       " 0.6379983037657122,\n",
       " 0.6263052112403193,\n",
       " 0.6151158952016795,\n",
       " 0.604392496741101,\n",
       " 0.5941074553574115,\n",
       " 0.5842374811276427]"
      ]
     },
     "execution_count": 31,
     "metadata": {},
     "output_type": "execute_result"
    }
   ],
   "source": [
    "custo[0:10]"
   ]
  },
  {
   "cell_type": "markdown",
   "id": "e4e8d05f-b620-4fee-81a8-4b06c903a7ff",
   "metadata": {},
   "source": [
    "### Aplicando o modelo nos dados de teste"
   ]
  },
  {
   "cell_type": "code",
   "execution_count": 32,
   "id": "3722d258",
   "metadata": {},
   "outputs": [],
   "source": [
    "def previsao(X_test, w_final, b_final):    \n",
    "        Z = X_test.dot(w_final) + b_final\n",
    "        A = sigmoid(Z)        \n",
    "        y_previsto = np.where(A > 0.5, 1, 0)        \n",
    "        return A, y_previsto"
   ]
  },
  {
   "cell_type": "code",
   "execution_count": 33,
   "id": "a38608ca-d254-4c16-858c-01ed2b325ba6",
   "metadata": {},
   "outputs": [
    {
     "data": {
      "text/plain": [
       "array([1, 0, 0, 0, 0, 0, 0, 0, 0, 0, 0, 0, 0, 0, 0, 1, 0, 1, 1, 1, 0, 1,\n",
       "       0, 0, 1, 0, 0, 1, 0, 1, 0, 1, 0, 1, 0, 1, 0, 1, 0, 1, 0, 0, 0, 0,\n",
       "       0, 1, 0, 0, 0, 1, 1, 1, 1, 0, 0, 0, 0, 0, 0, 1, 0, 1, 0, 0, 1, 0,\n",
       "       1, 1, 1, 0, 0, 1, 0, 0, 1, 0, 0, 0, 0, 0, 1, 1, 1, 0, 1, 0])"
      ]
     },
     "execution_count": 33,
     "metadata": {},
     "output_type": "execute_result"
    }
   ],
   "source": [
    "A_test, y_previsto = AM.previsao (X_test, w_final, b_final)\n",
    "\n",
    "y_previsto"
   ]
  },
  {
   "cell_type": "code",
   "execution_count": 34,
   "id": "11c917f6-df68-4258-bab8-2f980cde206f",
   "metadata": {},
   "outputs": [
    {
     "data": {
      "text/plain": [
       "array([1, 0, 0, 0, 0, 0, 0, 0, 0, 0, 0, 0, 0, 0, 0, 1, 0, 1, 1, 1, 1, 1,\n",
       "       0, 0, 1, 0, 0, 1, 0, 1, 0, 1, 0, 1, 0, 1, 0, 1, 0, 1, 1, 0, 1, 0,\n",
       "       0, 1, 0, 0, 0, 1, 1, 1, 1, 0, 0, 0, 0, 0, 0, 1, 1, 1, 0, 0, 1, 0,\n",
       "       1, 1, 1, 0, 0, 1, 0, 1, 1, 0, 0, 0, 0, 0, 1, 1, 1, 0, 1, 0],\n",
       "      dtype=int64)"
      ]
     },
     "execution_count": 34,
     "metadata": {},
     "output_type": "execute_result"
    }
   ],
   "source": [
    "y_test"
   ]
  },
  {
   "cell_type": "code",
   "execution_count": 35,
   "id": "a8eaff3e",
   "metadata": {},
   "outputs": [],
   "source": [
    "def acuracia(y_test, y_previsto):\n",
    "    n=len(y_test)\n",
    "    conta_correto = 0\n",
    "    for i in range(n):\n",
    "        if y_test[i] == y_previsto[i]:\n",
    "            conta_correto += 1\n",
    "    return conta_correto / n"
   ]
  },
  {
   "cell_type": "code",
   "execution_count": 36,
   "id": "793b53a5",
   "metadata": {},
   "outputs": [
    {
     "data": {
      "text/plain": [
       "0.9418604651162791"
      ]
     },
     "execution_count": 36,
     "metadata": {},
     "output_type": "execute_result"
    }
   ],
   "source": [
    "AM.acuracia(y_test, y_previsto)"
   ]
  },
  {
   "cell_type": "code",
   "execution_count": 37,
   "id": "2cb6a0e1-f9d8-4aad-8a7e-f9a588dfb310",
   "metadata": {},
   "outputs": [],
   "source": [
    "J_test = (-1/len(y_test)) * np.sum (y_test * np.log(A_test) + (1-y_test) * np.log(1-A_test))"
   ]
  },
  {
   "cell_type": "code",
   "execution_count": 38,
   "id": "2877276c-6215-425e-bd44-f71db0dae8d2",
   "metadata": {},
   "outputs": [
    {
     "data": {
      "text/plain": [
       "0.28530866254185905"
      ]
     },
     "execution_count": 38,
     "metadata": {},
     "output_type": "execute_result"
    }
   ],
   "source": [
    "J_test"
   ]
  },
  {
   "cell_type": "markdown",
   "id": "91b9e855-01dd-4e9c-81c6-b880ce0dfd70",
   "metadata": {},
   "source": [
    "## Regressão Logística usando o sklearn"
   ]
  },
  {
   "cell_type": "code",
   "execution_count": 39,
   "id": "32e197ce-96c8-4044-994a-3abc5be80e0e",
   "metadata": {},
   "outputs": [],
   "source": [
    "from sklearn.linear_model import LogisticRegression"
   ]
  },
  {
   "cell_type": "code",
   "execution_count": 40,
   "id": "6b3bee70-3101-4b98-9aa9-74cedf6b6561",
   "metadata": {},
   "outputs": [
    {
     "data": {
      "text/plain": [
       "LogisticRegression()"
      ]
     },
     "execution_count": 40,
     "metadata": {},
     "output_type": "execute_result"
    }
   ],
   "source": [
    "modelo_LR = LogisticRegression()\n",
    "modelo_LR"
   ]
  },
  {
   "cell_type": "code",
   "execution_count": 41,
   "id": "9364604d-a296-4e63-9779-175fbdd3ce1e",
   "metadata": {},
   "outputs": [
    {
     "data": {
      "text/plain": [
       "LogisticRegression()"
      ]
     },
     "execution_count": 41,
     "metadata": {},
     "output_type": "execute_result"
    }
   ],
   "source": [
    "modelo_LR.fit(X_train, y_train)"
   ]
  },
  {
   "cell_type": "code",
   "execution_count": 42,
   "id": "e92e2a01-6129-4fc3-9596-c44ebd90297b",
   "metadata": {},
   "outputs": [
    {
     "data": {
      "text/plain": [
       "array([1, 0, 0, 0, 0, 0, 0, 0, 0, 0, 0, 0, 0, 0, 0, 1, 0, 1, 1, 1, 1, 1,\n",
       "       0, 0, 1, 0, 0, 1, 0, 1, 0, 1, 0, 1, 0, 1, 0, 1, 0, 1, 0, 0, 1, 0,\n",
       "       0, 1, 0, 0, 0, 1, 1, 1, 1, 0, 0, 0, 0, 0, 0, 1, 1, 1, 0, 0, 1, 0,\n",
       "       1, 1, 1, 0, 0, 1, 0, 0, 1, 0, 0, 0, 0, 0, 1, 1, 1, 0, 1, 0],\n",
       "      dtype=int64)"
      ]
     },
     "execution_count": 42,
     "metadata": {},
     "output_type": "execute_result"
    }
   ],
   "source": [
    "modelo_LR.predict(X_test)"
   ]
  },
  {
   "cell_type": "code",
   "execution_count": 43,
   "id": "3eddc985-256d-455d-b2e5-cf6a75490614",
   "metadata": {},
   "outputs": [
    {
     "data": {
      "text/plain": [
       "0.9767441860465116"
      ]
     },
     "execution_count": 43,
     "metadata": {},
     "output_type": "execute_result"
    }
   ],
   "source": [
    "modelo_LR.score(X_test, y_test)"
   ]
  },
  {
   "cell_type": "code",
   "execution_count": 44,
   "id": "f79afc9a",
   "metadata": {},
   "outputs": [
    {
     "data": {
      "text/plain": [
       "0.9767441860465116"
      ]
     },
     "execution_count": 44,
     "metadata": {},
     "output_type": "execute_result"
    }
   ],
   "source": [
    "# Tudo em 1 linha de código\n",
    "\n",
    "LogisticRegression().fit(X_train,y_train).score(X_test,y_test)"
   ]
  },
  {
   "cell_type": "markdown",
   "id": "20083c8c-057f-4e70-ad43-51057c5ec955",
   "metadata": {},
   "source": [
    "## Cross validation na Regressão Logística"
   ]
  },
  {
   "cell_type": "code",
   "execution_count": 45,
   "id": "bdaee639-e6be-4cb3-9876-d0d8e63be74a",
   "metadata": {},
   "outputs": [
    {
     "name": "stdout",
     "output_type": "stream",
     "text": [
      "[0.95614035 0.96491228 0.97368421 0.95614035 0.96460177]\n",
      "0.9630957925787922\n"
     ]
    }
   ],
   "source": [
    "from sklearn.model_selection import cross_val_score\n",
    "modelo = LogisticRegression()\n",
    "resultados = cross_val_score (modelo, X, y, cv=5)\n",
    "print(resultados)\n",
    "print(resultados.mean())"
   ]
  },
  {
   "cell_type": "markdown",
   "id": "41cc0fd7-8cae-4d88-a322-1fe67600e834",
   "metadata": {},
   "source": [
    "## k-NN  usando o sklearn"
   ]
  },
  {
   "cell_type": "code",
   "execution_count": 46,
   "id": "7988daee-38c5-4ffb-9290-53f38986e656",
   "metadata": {},
   "outputs": [
    {
     "data": {
      "text/plain": [
       "array([1, 0, 0, 0, 0, 0, 0, 0, 0, 0, 0, 0, 0, 1, 0, 1, 0, 1, 1, 1, 1, 1,\n",
       "       0, 0, 1, 0, 0, 1, 0, 1, 0, 1, 0, 1, 0, 1, 0, 1, 0, 1, 0, 0, 1, 0,\n",
       "       0, 1, 0, 0, 0, 1, 1, 1, 1, 0, 0, 0, 0, 0, 0, 1, 1, 1, 0, 0, 1, 0,\n",
       "       1, 1, 1, 0, 0, 1, 0, 0, 1, 0, 0, 0, 0, 0, 1, 1, 1, 0, 1, 0],\n",
       "      dtype=int64)"
      ]
     },
     "execution_count": 46,
     "metadata": {},
     "output_type": "execute_result"
    }
   ],
   "source": [
    "from sklearn.neighbors import KNeighborsClassifier\n",
    "\n",
    "modelo = KNeighborsClassifier(n_neighbors=5)\n",
    "modelo.fit(X_train, y_train)\n",
    "modelo.predict(X_test)"
   ]
  },
  {
   "cell_type": "code",
   "execution_count": 47,
   "id": "87a8c8d6-351c-4589-9bd4-662ced6f0adf",
   "metadata": {},
   "outputs": [
    {
     "data": {
      "text/plain": [
       "0.9651162790697675"
      ]
     },
     "execution_count": 47,
     "metadata": {},
     "output_type": "execute_result"
    }
   ],
   "source": [
    "modelo.score(X_test, y_test)"
   ]
  },
  {
   "cell_type": "markdown",
   "id": "a059f026-9975-40cc-a7e8-29ae3ae39710",
   "metadata": {},
   "source": [
    "## k-NN cross validation"
   ]
  },
  {
   "cell_type": "markdown",
   "id": "7374bf1b-0fff-4a33-bea3-ff7a9dbdac88",
   "metadata": {},
   "source": [
    "Vamos testar a validação cruzada com diferentes números de vizinhos no k-NN."
   ]
  },
  {
   "cell_type": "code",
   "execution_count": 48,
   "id": "c2395eba-579d-4ebd-b8af-24a1568495a2",
   "metadata": {},
   "outputs": [
    {
     "name": "stdout",
     "output_type": "stream",
     "text": [
      "Para k = 1 , obtivemos uma acurácia de  0.9542293233082708\n",
      "Para k = 2 , obtivemos uma acurácia de  0.9578007518796993\n",
      "Para k = 3 , obtivemos uma acurácia de  0.9701127819548871\n",
      "Para k = 4 , obtivemos uma acurácia de  0.9683897243107769\n",
      "Para k = 5 , obtivemos uma acurácia de  0.9666353383458647\n",
      "Para k = 6 , obtivemos uma acurácia de  0.9683897243107769\n",
      "Para k = 7 , obtivemos uma acurácia de  0.9666040100250626\n",
      "Para k = 8 , obtivemos uma acurácia de  0.9666353383458647\n",
      "Para k = 9 , obtivemos uma acurácia de  0.9666353383458647\n",
      "Para k = 10 , obtivemos uma acurácia de  0.9683897243107769\n",
      "Para k = 11 , obtivemos uma acurácia de  0.9718984962406015\n",
      "Para k = 12 , obtivemos uma acurácia de  0.9683583959899748\n",
      "Para k = 13 , obtivemos uma acurácia de  0.9701127819548871\n",
      "Para k = 14 , obtivemos uma acurácia de  0.9648496240601503\n",
      "Para k = 15 , obtivemos uma acurácia de  0.9701127819548871\n",
      "Para k = 16 , obtivemos uma acurácia de  0.9648496240601503\n",
      "Para k = 17 , obtivemos uma acurácia de  0.9701127819548871\n",
      "Para k = 18 , obtivemos uma acurácia de  0.9613408521303256\n",
      "Para k = 19 , obtivemos uma acurácia de  0.963095238095238\n",
      "Para k = 20 , obtivemos uma acurácia de  0.9595864661654134\n"
     ]
    }
   ],
   "source": [
    "k_range = range(1, 21)\n",
    "\n",
    "k_scores = []\n",
    "\n",
    "for k in k_range:\n",
    "    knn = KNeighborsClassifier(n_neighbors=k)\n",
    "    scores = cross_val_score(knn, X, y, cv=10, scoring='accuracy')\n",
    "    k_scores.append(scores.mean())\n",
    "    print(\"Para k =\", k, \", obtivemos uma acurácia de \", scores.mean())"
   ]
  },
  {
   "cell_type": "code",
   "execution_count": 49,
   "id": "12d877c9-c2e0-45b1-92c6-ffe54fd214dc",
   "metadata": {},
   "outputs": [
    {
     "data": {
      "image/png": "[encoded data removed]",
      "text/plain": [
       "<Figure size 432x288 with 1 Axes>"
      ]
     },
     "metadata": {
      "needs_background": "light"
     },
     "output_type": "display_data"
    }
   ],
   "source": [
    "plt.plot(k_range, k_scores)\n",
    "plt.xticks([i for i in k_range])\n",
    "plt.show()"
   ]
  },
  {
   "cell_type": "markdown",
   "id": "e6a2bf01-d3d5-4fd4-ac9e-dc6b23950d98",
   "metadata": {},
   "source": [
    "## Perceptron usando o sklearn"
   ]
  },
  {
   "cell_type": "code",
   "execution_count": 50,
   "id": "857e3970-9fc2-40d6-9211-b2e3cd8c878e",
   "metadata": {},
   "outputs": [
    {
     "data": {
      "text/plain": [
       "0.8604651162790697"
      ]
     },
     "execution_count": 50,
     "metadata": {},
     "output_type": "execute_result"
    }
   ],
   "source": [
    "from sklearn.linear_model import Perceptron\n",
    "\n",
    "modelo_P = Perceptron()\n",
    "modelo_P.fit(X_train, y_train)\n",
    "modelo_P.score(X_test, y_test)"
   ]
  },
  {
   "cell_type": "markdown",
   "id": "918e6e0d-e34b-4d60-8360-232733c7d6e7",
   "metadata": {},
   "source": [
    "## Naive Bayes usando o sklearn"
   ]
  },
  {
   "cell_type": "code",
   "execution_count": 51,
   "id": "ee33034f-669a-4294-ae33-ab299e779a57",
   "metadata": {},
   "outputs": [
    {
     "data": {
      "text/plain": [
       "array([1, 0, 0, 0, 0, 0, 0, 0, 0, 0, 1, 0, 0, 1, 1, 1, 1, 1, 1, 1, 1, 1,\n",
       "       0, 0, 1, 0, 0, 1, 0, 1, 0, 1, 0, 1, 0, 1, 0, 1, 0, 1, 0, 0, 1, 0,\n",
       "       1, 1, 0, 0, 0, 1, 1, 1, 1, 0, 0, 0, 0, 0, 0, 1, 1, 1, 0, 0, 1, 0,\n",
       "       1, 1, 1, 0, 0, 1, 0, 0, 1, 0, 0, 0, 0, 0, 1, 1, 1, 0, 1, 0],\n",
       "      dtype=int64)"
      ]
     },
     "execution_count": 51,
     "metadata": {},
     "output_type": "execute_result"
    }
   ],
   "source": [
    "from sklearn.naive_bayes import GaussianNB\n",
    "modelo_NB = GaussianNB()\n",
    "modelo_NB.fit(X_train, y_train)\n",
    "modelo_NB.predict(X_test)"
   ]
  },
  {
   "cell_type": "code",
   "execution_count": 52,
   "id": "331e974d-ac12-4058-b592-550f4f093e78",
   "metadata": {},
   "outputs": [
    {
     "data": {
      "text/plain": [
       "0.9186046511627907"
      ]
     },
     "execution_count": 52,
     "metadata": {},
     "output_type": "execute_result"
    }
   ],
   "source": [
    "modelo_NB.score(X_test, y_test)"
   ]
  },
  {
   "cell_type": "markdown",
   "id": "69a51539-efdc-4d79-a3fa-d35bd7f095c8",
   "metadata": {},
   "source": [
    "## SVM com sklearn"
   ]
  },
  {
   "cell_type": "code",
   "execution_count": 53,
   "id": "776a0935-112e-4377-b86e-c64dc388bef1",
   "metadata": {},
   "outputs": [
    {
     "data": {
      "text/plain": [
       "array([1, 0, 0, 0, 0, 0, 0, 0, 0, 0, 0, 0, 0, 0, 0, 1, 0, 1, 1, 1, 1, 1,\n",
       "       0, 0, 1, 0, 0, 1, 0, 1, 0, 1, 0, 1, 0, 1, 0, 1, 0, 1, 1, 0, 1, 0,\n",
       "       0, 1, 0, 0, 0, 1, 1, 1, 1, 0, 0, 0, 0, 0, 0, 1, 1, 1, 0, 0, 1, 0,\n",
       "       1, 1, 1, 0, 0, 1, 0, 1, 1, 0, 0, 0, 0, 0, 1, 1, 1, 0, 1, 0],\n",
       "      dtype=int64)"
      ]
     },
     "execution_count": 53,
     "metadata": {},
     "output_type": "execute_result"
    }
   ],
   "source": [
    "from sklearn import svm\n",
    "modelo_SVM = svm.SVC()\n",
    "modelo_SVM.fit(X_train, y_train)\n",
    "modelo_SVM.predict(X_test)"
   ]
  },
  {
   "cell_type": "code",
   "execution_count": 54,
   "id": "15179751-c3e5-4bf4-b0d9-714e7f7c35ee",
   "metadata": {},
   "outputs": [
    {
     "data": {
      "text/plain": [
       "1.0"
      ]
     },
     "execution_count": 54,
     "metadata": {},
     "output_type": "execute_result"
    }
   ],
   "source": [
    "modelo_SVM.score(X_test, y_test)"
   ]
  }
 ],
 "metadata": {
  "interpreter": {
   "hash": "e4cce46d6be9934fbd27f9ca0432556941ea5bdf741d4f4d64c6cd7f8dfa8fba"
  },
  "kernelspec": {
   "display_name": "Python 3 (ipykernel)",
   "language": "python",
   "name": "python3"
  },
  "language_info": {
   "codemirror_mode": {
    "name": "ipython",
    "version": 3
   },
   "file_extension": ".py",
   "mimetype": "text/x-python",
   "name": "python",
   "nbconvert_exporter": "python",
   "pygments_lexer": "ipython3",
   "version": "3.9.7"
  }
 },
 "nbformat": 4,
 "nbformat_minor": 5
}
