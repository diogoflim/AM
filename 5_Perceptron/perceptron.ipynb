{
 "cells": [
  {
   "cell_type": "markdown",
   "id": "312233b5",
   "metadata": {},
   "source": [
    "[![Open In Colab](https://colab.research.google.com/assets/colab-badge.svg)](https://colab.research.google.com/github/diogoflim/AM/blob/main/5_Perceptron/perceptron.ipynb)\n"
   ]
  },
  {
   "attachments": {},
   "cell_type": "markdown",
   "id": "2c21e6e8-ca56-42bd-9f00-6409f8a17dca",
   "metadata": {
    "tags": []
   },
   "source": [
    "# Aprendizado de máquina e decisões dirigidas por dados\n",
    "**Professor: Diogo Ferreira de Lima Silva**\n",
    "\n",
    "**TPP - UFF**\n",
    "\n",
    "Exemplos baeados em:\n",
    "- Geron, Aurélien. Hands-On Machine Learning with Scikit-Learn, Keras & TensorFlow. Third Edition, 2021. https://github.com/ageron/handson-ml3"
   ]
  },
  {
   "attachments": {},
   "cell_type": "markdown",
   "metadata": {},
   "source": [
    "# Perceptron"
   ]
  },
  {
   "cell_type": "code",
   "execution_count": 1,
   "metadata": {},
   "outputs": [],
   "source": [
    "# Download libraries\n",
    " \n",
    "import pandas as pd\n",
    "import numpy as np\n",
    "from sklearn.datasets import load_iris\n",
    "from sklearn.linear_model import Perceptron\n",
    "from sklearn.model_selection import train_test_split\n",
    "from sklearn.metrics import accuracy_score\n"
   ]
  },
  {
   "cell_type": "code",
   "execution_count": 69,
   "metadata": {},
   "outputs": [
    {
     "data": {
      "text/plain": [
       "dict_keys(['data', 'target', 'frame', 'target_names', 'DESCR', 'feature_names', 'filename', 'data_module'])"
      ]
     },
     "execution_count": 69,
     "metadata": {},
     "output_type": "execute_result"
    }
   ],
   "source": [
    "dados = load_iris() # load the Iris dataset into a dictionary\n",
    "dados.keys()"
   ]
  },
  {
   "cell_type": "code",
   "execution_count": 70,
   "metadata": {},
   "outputs": [
    {
     "data": {
      "text/plain": [
       "array([0, 0, 0, 0, 0, 0, 0, 0, 0, 0, 0, 0, 0, 0, 0, 0, 0, 0, 0, 0, 0, 0,\n",
       "       0, 0, 0, 0, 0, 0, 0, 0, 0, 0, 0, 0, 0, 0, 0, 0, 0, 0, 0, 0, 0, 0,\n",
       "       0, 0, 0, 0, 0, 0, 1, 1, 1, 1, 1, 1, 1, 1, 1, 1, 1, 1, 1, 1, 1, 1,\n",
       "       1, 1, 1, 1, 1, 1, 1, 1, 1, 1, 1, 1, 1, 1, 1, 1, 1, 1, 1, 1, 1, 1,\n",
       "       1, 1, 1, 1, 1, 1, 1, 1, 1, 1, 1, 1, 2, 2, 2, 2, 2, 2, 2, 2, 2, 2,\n",
       "       2, 2, 2, 2, 2, 2, 2, 2, 2, 2, 2, 2, 2, 2, 2, 2, 2, 2, 2, 2, 2, 2,\n",
       "       2, 2, 2, 2, 2, 2, 2, 2, 2, 2, 2, 2, 2, 2, 2, 2, 2, 2])"
      ]
     },
     "execution_count": 70,
     "metadata": {},
     "output_type": "execute_result"
    }
   ],
   "source": [
    "dados.target"
   ]
  },
  {
   "cell_type": "code",
   "execution_count": 71,
   "metadata": {},
   "outputs": [
    {
     "data": {
      "text/plain": [
       "array(['setosa', 'versicolor', 'virginica'], dtype='<U10')"
      ]
     },
     "execution_count": 71,
     "metadata": {},
     "output_type": "execute_result"
    }
   ],
   "source": [
    "dados.target_names"
   ]
  },
  {
   "cell_type": "code",
   "execution_count": 72,
   "metadata": {},
   "outputs": [],
   "source": [
    "X = dados.data\n",
    "y = dados.target == 0 # O experimento será de classificação binária com a questão: a flor é da espécie setosa?"
   ]
  },
  {
   "cell_type": "code",
   "execution_count": 73,
   "metadata": {},
   "outputs": [
    {
     "name": "stdout",
     "output_type": "stream",
     "text": [
      "As 10 primeiras linhas de X são:\n",
      "[[5.1 3.5 1.4 0.2]\n",
      " [4.9 3.  1.4 0.2]\n",
      " [4.7 3.2 1.3 0.2]\n",
      " [4.6 3.1 1.5 0.2]\n",
      " [5.  3.6 1.4 0.2]\n",
      " [5.4 3.9 1.7 0.4]\n",
      " [4.6 3.4 1.4 0.3]\n",
      " [5.  3.4 1.5 0.2]\n",
      " [4.4 2.9 1.4 0.2]\n",
      " [4.9 3.1 1.5 0.1]]\n",
      " ----------------\n",
      "y = [ True  True  True  True  True  True  True  True  True  True  True  True\n",
      "  True  True  True  True  True  True  True  True  True  True  True  True\n",
      "  True  True  True  True  True  True  True  True  True  True  True  True\n",
      "  True  True  True  True  True  True  True  True  True  True  True  True\n",
      "  True  True False False False False False False False False False False\n",
      " False False False False False False False False False False False False\n",
      " False False False False False False False False False False False False\n",
      " False False False False False False False False False False False False\n",
      " False False False False False False False False False False False False\n",
      " False False False False False False False False False False False False\n",
      " False False False False False False False False False False False False\n",
      " False False False False False False False False False False False False\n",
      " False False False False False False]\n"
     ]
    }
   ],
   "source": [
    "print(f\"As 10 primeiras linhas de X são:\\n{X[:10]}\\n ----------------\\ny = {y}\")"
   ]
  },
  {
   "cell_type": "code",
   "execution_count": 74,
   "metadata": {},
   "outputs": [
    {
     "name": "stdout",
     "output_type": "stream",
     "text": [
      "O shape da matriz X é: (150, 4)\n",
      "O vetor y tem 150 valores\n"
     ]
    }
   ],
   "source": [
    "print(f\"O shape da matriz X é: {X.shape}\\nO vetor y tem {len(y)} valores\")\n"
   ]
  },
  {
   "cell_type": "code",
   "execution_count": 75,
   "metadata": {},
   "outputs": [],
   "source": [
    "X_train, X_test, y_train, y_test = train_test_split (X, y, test_size = 0.25, stratify = y, random_state = 42)"
   ]
  },
  {
   "cell_type": "code",
   "execution_count": 76,
   "metadata": {},
   "outputs": [
    {
     "data": {
      "text/plain": [
       "Perceptron(random_state=42)"
      ]
     },
     "execution_count": 76,
     "metadata": {},
     "output_type": "execute_result"
    }
   ],
   "source": [
    "modelo = Perceptron(random_state= 42)\n",
    "modelo.fit(X_train, y_train)"
   ]
  },
  {
   "cell_type": "code",
   "execution_count": 77,
   "metadata": {},
   "outputs": [],
   "source": [
    "y_pred = modelo.predict(X_test)"
   ]
  },
  {
   "cell_type": "code",
   "execution_count": 78,
   "metadata": {},
   "outputs": [
    {
     "data": {
      "text/plain": [
       "1.0"
      ]
     },
     "execution_count": 78,
     "metadata": {},
     "output_type": "execute_result"
    }
   ],
   "source": [
    "accuracy_score(y_true = y_test, y_pred=y_pred)"
   ]
  },
  {
   "attachments": {},
   "cell_type": "markdown",
   "metadata": {},
   "source": [
    "# Exercício - Parte 1\n",
    "\n",
    "1. Repita o experimento acima, aplicando o Perceptron, porém:\n",
    "    - Alterando o random_state para o seu número na frequência e escolhendo outro tipo de planta para o teste"
   ]
  },
  {
   "attachments": {},
   "cell_type": "markdown",
   "metadata": {},
   "source": [
    "# Exercício - Parte 2\n",
    "\n",
    "1. Aplique o algoritmo do Perceptron aos dados obtidos de diabetes.csv.\n",
    "    - O seu modelo deve ser chamado de modelo_# onde # é o seu número na frequência da disciplina.\n",
    "    - Altere o random_state para o seu número na frequência.\n",
    "    - Qual a acurácia foi encontrada no conjunto de teste?\n",
    "\n",
    "2. Aplique uma normalização à matriz de atributos X. A nova matriz deve se chamar X_norm\n",
    "\n",
    "3. Repita o experimento  como uma etapa de pré-processamento.\n",
    "    - Crie um novo modelo, chamado modeloQ3_# onde # é o seu número na frequência da disciplina.\n",
    "    - Treine o modelo nos dados normalizados.\n",
    "    - Indique se o novo modelo possui uma maior acurácia. "
   ]
  },
  {
   "attachments": {},
   "cell_type": "markdown",
   "metadata": {},
   "source": [
    "# Multilayer Perceptron (MLP)"
   ]
  },
  {
   "attachments": {},
   "cell_type": "markdown",
   "metadata": {},
   "source": [
    "### Um problema de Regressão"
   ]
  },
  {
   "cell_type": "code",
   "execution_count": 167,
   "metadata": {},
   "outputs": [],
   "source": [
    "from sklearn.datasets import fetch_california_housing\n",
    "from sklearn.metrics import mean_squared_error\n",
    "from sklearn.model_selection import train_test_split\n",
    "from sklearn.neural_network import MLPRegressor\n",
    "from sklearn.pipeline import make_pipeline\n",
    "from sklearn.preprocessing import StandardScaler"
   ]
  },
  {
   "cell_type": "code",
   "execution_count": 168,
   "metadata": {},
   "outputs": [
    {
     "name": "stdout",
     "output_type": "stream",
     "text": [
      "dict_keys(['data', 'target', 'frame', 'target_names', 'feature_names', 'DESCR'])\n",
      "['MedInc', 'HouseAge', 'AveRooms', 'AveBedrms', 'Population', 'AveOccup', 'Latitude', 'Longitude']\n",
      "['MedHouseVal']\n"
     ]
    }
   ],
   "source": [
    "dados = fetch_california_housing()\n",
    "print(dados.keys())\n",
    "print(dados.feature_names)\n",
    "print(dados.target_names)"
   ]
  },
  {
   "cell_type": "code",
   "execution_count": 170,
   "metadata": {},
   "outputs": [],
   "source": [
    "X = dados.data\n",
    "y = dados.target"
   ]
  },
  {
   "cell_type": "code",
   "execution_count": 171,
   "metadata": {},
   "outputs": [],
   "source": [
    "X_train_full, X_test, y_train_full, y_test = train_test_split(X,y,random_state=42)\n",
    "\n",
    "X_train, X_valid, y_train, y_valid = train_test_split(X_train_full, y_train_full, random_state=42) "
   ]
  },
  {
   "cell_type": "code",
   "execution_count": 172,
   "metadata": {},
   "outputs": [
    {
     "name": "stdout",
     "output_type": "stream",
     "text": [
      " (15480, 8)\n",
      " (15480,)\n",
      " (11610, 8)\n",
      " (11610,)\n",
      " (3870, 8)\n",
      " (3870,)\n",
      " (5160, 8)\n",
      " (5160,)\n"
     ]
    }
   ],
   "source": [
    "print(f\" {X_train_full.shape}\\n {y_train_full.shape}\\n {X_train.shape}\\n {y_train.shape}\\n {X_valid.shape}\\n {y_valid.shape}\\n {X_test.shape}\\n {y_test.shape}\")"
   ]
  },
  {
   "cell_type": "code",
   "execution_count": 173,
   "metadata": {},
   "outputs": [],
   "source": [
    "modelo = MLPRegressor(hidden_layer_sizes=[50,50,50], random_state=42)\n",
    "pipeline = make_pipeline(StandardScaler(), modelo)\n",
    "pipeline.fit(X_train, y_train)\n",
    "y_pred = pipeline.predict(X_valid)\n",
    "erro_rmse = mean_squared_error(y_valid,y_pred,squared=False)"
   ]
  },
  {
   "cell_type": "code",
   "execution_count": 174,
   "metadata": {},
   "outputs": [
    {
     "data": {
      "text/plain": [
       "0.5053326657968523"
      ]
     },
     "execution_count": 174,
     "metadata": {},
     "output_type": "execute_result"
    }
   ],
   "source": [
    "erro_rmse"
   ]
  },
  {
   "attachments": {},
   "cell_type": "markdown",
   "metadata": {},
   "source": [
    "Apesar de simples, o MLPRegressor so sklearn é bem limitado.\n",
    "\n",
    "- Não aceita funções de ativação;\n",
    "- suporta apenas o erro do tipo rmse\n",
    "\n",
    "Com TensorFlow e Keras, temos muito mais opções!"
   ]
  },
  {
   "attachments": {},
   "cell_type": "markdown",
   "metadata": {},
   "source": [
    "# Tensorflow + Keras\n",
    "\n",
    "## Regressão\n",
    "\n",
    "Vamos solucionar o problema acima usando TensorFlow e Keras"
   ]
  },
  {
   "cell_type": "code",
   "execution_count": 189,
   "metadata": {},
   "outputs": [],
   "source": [
    "import tensorflow as tf\n",
    "from tensorflow.keras.layers import Dense"
   ]
  },
  {
   "cell_type": "code",
   "execution_count": 190,
   "metadata": {},
   "outputs": [
    {
     "name": "stdout",
     "output_type": "stream",
     "text": [
      "Epoch 1/20\n",
      "363/363 [==============================] - 2s 3ms/step - loss: 0.7207 - root_mean_squared_error: 0.8489 - val_loss: 0.5803 - val_root_mean_squared_error: 0.7618\n",
      "Epoch 2/20\n",
      "363/363 [==============================] - 1s 3ms/step - loss: 0.4185 - root_mean_squared_error: 0.6469 - val_loss: 2.0069 - val_root_mean_squared_error: 1.4167\n",
      "Epoch 3/20\n",
      "363/363 [==============================] - 1s 3ms/step - loss: 0.4155 - root_mean_squared_error: 0.6446 - val_loss: 0.6740 - val_root_mean_squared_error: 0.8210\n",
      "Epoch 4/20\n",
      "363/363 [==============================] - 1s 3ms/step - loss: 0.3717 - root_mean_squared_error: 0.6096 - val_loss: 0.6426 - val_root_mean_squared_error: 0.8016\n",
      "Epoch 5/20\n",
      "363/363 [==============================] - 1s 3ms/step - loss: 0.3610 - root_mean_squared_error: 0.6008 - val_loss: 0.4109 - val_root_mean_squared_error: 0.6410\n",
      "Epoch 6/20\n",
      "363/363 [==============================] - 1s 3ms/step - loss: 0.3517 - root_mean_squared_error: 0.5931 - val_loss: 0.4394 - val_root_mean_squared_error: 0.6629\n",
      "Epoch 7/20\n",
      "363/363 [==============================] - 1s 3ms/step - loss: 0.3440 - root_mean_squared_error: 0.5865 - val_loss: 0.3393 - val_root_mean_squared_error: 0.5825\n",
      "Epoch 8/20\n",
      "363/363 [==============================] - 1s 3ms/step - loss: 0.3369 - root_mean_squared_error: 0.5804 - val_loss: 0.3463 - val_root_mean_squared_error: 0.5885\n",
      "Epoch 9/20\n",
      "363/363 [==============================] - 1s 3ms/step - loss: 0.3303 - root_mean_squared_error: 0.5747 - val_loss: 0.4146 - val_root_mean_squared_error: 0.6439\n",
      "Epoch 10/20\n",
      "363/363 [==============================] - 1s 3ms/step - loss: 0.3312 - root_mean_squared_error: 0.5755 - val_loss: 0.3170 - val_root_mean_squared_error: 0.5631\n",
      "Epoch 11/20\n",
      "363/363 [==============================] - 1s 2ms/step - loss: 0.3242 - root_mean_squared_error: 0.5694 - val_loss: 0.3228 - val_root_mean_squared_error: 0.5682\n",
      "Epoch 12/20\n",
      "363/363 [==============================] - 1s 3ms/step - loss: 0.3196 - root_mean_squared_error: 0.5653 - val_loss: 0.3772 - val_root_mean_squared_error: 0.6141\n",
      "Epoch 13/20\n",
      "363/363 [==============================] - 1s 3ms/step - loss: 0.3149 - root_mean_squared_error: 0.5611 - val_loss: 0.3059 - val_root_mean_squared_error: 0.5531\n",
      "Epoch 14/20\n",
      "363/363 [==============================] - 1s 2ms/step - loss: 0.3113 - root_mean_squared_error: 0.5579 - val_loss: 0.2979 - val_root_mean_squared_error: 0.5458\n",
      "Epoch 15/20\n",
      "363/363 [==============================] - 1s 2ms/step - loss: 0.3084 - root_mean_squared_error: 0.5553 - val_loss: 0.2941 - val_root_mean_squared_error: 0.5423\n",
      "Epoch 16/20\n",
      "363/363 [==============================] - 1s 3ms/step - loss: 0.3161 - root_mean_squared_error: 0.5622 - val_loss: 0.3844 - val_root_mean_squared_error: 0.6200\n",
      "Epoch 17/20\n",
      "363/363 [==============================] - 1s 3ms/step - loss: 0.3101 - root_mean_squared_error: 0.5568 - val_loss: 0.4765 - val_root_mean_squared_error: 0.6903\n",
      "Epoch 18/20\n",
      "363/363 [==============================] - 1s 3ms/step - loss: 0.3049 - root_mean_squared_error: 0.5522 - val_loss: 0.2881 - val_root_mean_squared_error: 0.5368\n",
      "Epoch 19/20\n",
      "363/363 [==============================] - 1s 3ms/step - loss: 0.3021 - root_mean_squared_error: 0.5496 - val_loss: 0.3190 - val_root_mean_squared_error: 0.5648\n",
      "Epoch 20/20\n",
      "363/363 [==============================] - 1s 3ms/step - loss: 0.2990 - root_mean_squared_error: 0.5468 - val_loss: 0.3440 - val_root_mean_squared_error: 0.5865\n"
     ]
    }
   ],
   "source": [
    "tf.random.set_seed(42)\n",
    "\n",
    "# Criando uma camada de normalização. \n",
    "# Passamos como informação da quantidade de atributos\n",
    "norm = tf.keras.layers.Normalization(input_shape = X_train.shape[1:])\n",
    "\n",
    "# Agora vamos criar o modelo como uma sequência de camadas.\n",
    "# Agora também podemos usar funções de ativação!! Usaremos a relu\n",
    "modelo = tf.keras.Sequential([norm,\n",
    "                                Dense(50, activation = \"relu\"),\n",
    "                                Dense(50, activation = \"relu\"),\n",
    "                                Dense(50, activation = \"relu\"),\n",
    "                                Dense(1) # Camada de output\n",
    "                                ])\n",
    "\n",
    "# Em seguida, compilamos o modelo escolhendo a função perda, um otimizador, e métricas que queremos calcular\n",
    "\n",
    "modelo.compile(loss = \"mse\", # equivalente a tf.keras.losses.mean_squared_error, \n",
    "                optimizer = \"sgd\",  # equivalente a tf.keras.optimizers.SGD(), \n",
    "                metrics = [\"RootMeanSquaredError\"])\n",
    "\n",
    "norm.adapt(X_train) # A camada norm deve adptar-se aos dados de entrada (pega os parâmetros para a normalização)\n",
    "\n",
    "treinamento_historico = modelo.fit(X_train, y_train, epochs = 20, validation_data = (X_valid, y_valid))"
   ]
  },
  {
   "cell_type": "code",
   "execution_count": 195,
   "metadata": {},
   "outputs": [
    {
     "data": {
      "text/html": [
       "<div>\n",
       "<style scoped>\n",
       "    .dataframe tbody tr th:only-of-type {\n",
       "        vertical-align: middle;\n",
       "    }\n",
       "\n",
       "    .dataframe tbody tr th {\n",
       "        vertical-align: top;\n",
       "    }\n",
       "\n",
       "    .dataframe thead th {\n",
       "        text-align: right;\n",
       "    }\n",
       "</style>\n",
       "<table border=\"1\" class=\"dataframe\">\n",
       "  <thead>\n",
       "    <tr style=\"text-align: right;\">\n",
       "      <th></th>\n",
       "      <th>loss</th>\n",
       "      <th>root_mean_squared_error</th>\n",
       "      <th>val_loss</th>\n",
       "      <th>val_root_mean_squared_error</th>\n",
       "    </tr>\n",
       "  </thead>\n",
       "  <tbody>\n",
       "    <tr>\n",
       "      <th>0</th>\n",
       "      <td>0.720697</td>\n",
       "      <td>0.848938</td>\n",
       "      <td>0.580312</td>\n",
       "      <td>0.761782</td>\n",
       "    </tr>\n",
       "    <tr>\n",
       "      <th>1</th>\n",
       "      <td>0.418475</td>\n",
       "      <td>0.646897</td>\n",
       "      <td>2.006941</td>\n",
       "      <td>1.416665</td>\n",
       "    </tr>\n",
       "    <tr>\n",
       "      <th>2</th>\n",
       "      <td>0.415501</td>\n",
       "      <td>0.644594</td>\n",
       "      <td>0.674010</td>\n",
       "      <td>0.820981</td>\n",
       "    </tr>\n",
       "    <tr>\n",
       "      <th>3</th>\n",
       "      <td>0.371653</td>\n",
       "      <td>0.609634</td>\n",
       "      <td>0.642585</td>\n",
       "      <td>0.801614</td>\n",
       "    </tr>\n",
       "    <tr>\n",
       "      <th>4</th>\n",
       "      <td>0.360979</td>\n",
       "      <td>0.600816</td>\n",
       "      <td>0.410878</td>\n",
       "      <td>0.640998</td>\n",
       "    </tr>\n",
       "    <tr>\n",
       "      <th>5</th>\n",
       "      <td>0.351747</td>\n",
       "      <td>0.593083</td>\n",
       "      <td>0.439391</td>\n",
       "      <td>0.662866</td>\n",
       "    </tr>\n",
       "    <tr>\n",
       "      <th>6</th>\n",
       "      <td>0.343994</td>\n",
       "      <td>0.586510</td>\n",
       "      <td>0.339256</td>\n",
       "      <td>0.582457</td>\n",
       "    </tr>\n",
       "    <tr>\n",
       "      <th>7</th>\n",
       "      <td>0.336861</td>\n",
       "      <td>0.580397</td>\n",
       "      <td>0.346325</td>\n",
       "      <td>0.588494</td>\n",
       "    </tr>\n",
       "    <tr>\n",
       "      <th>8</th>\n",
       "      <td>0.330321</td>\n",
       "      <td>0.574736</td>\n",
       "      <td>0.414573</td>\n",
       "      <td>0.643874</td>\n",
       "    </tr>\n",
       "    <tr>\n",
       "      <th>9</th>\n",
       "      <td>0.331231</td>\n",
       "      <td>0.575526</td>\n",
       "      <td>0.317044</td>\n",
       "      <td>0.563067</td>\n",
       "    </tr>\n",
       "    <tr>\n",
       "      <th>10</th>\n",
       "      <td>0.324162</td>\n",
       "      <td>0.569352</td>\n",
       "      <td>0.322827</td>\n",
       "      <td>0.568179</td>\n",
       "    </tr>\n",
       "    <tr>\n",
       "      <th>11</th>\n",
       "      <td>0.319563</td>\n",
       "      <td>0.565299</td>\n",
       "      <td>0.377176</td>\n",
       "      <td>0.614146</td>\n",
       "    </tr>\n",
       "    <tr>\n",
       "      <th>12</th>\n",
       "      <td>0.314883</td>\n",
       "      <td>0.561145</td>\n",
       "      <td>0.305945</td>\n",
       "      <td>0.553123</td>\n",
       "    </tr>\n",
       "    <tr>\n",
       "      <th>13</th>\n",
       "      <td>0.311263</td>\n",
       "      <td>0.557910</td>\n",
       "      <td>0.297946</td>\n",
       "      <td>0.545845</td>\n",
       "    </tr>\n",
       "    <tr>\n",
       "      <th>14</th>\n",
       "      <td>0.308390</td>\n",
       "      <td>0.555329</td>\n",
       "      <td>0.294139</td>\n",
       "      <td>0.542346</td>\n",
       "    </tr>\n",
       "    <tr>\n",
       "      <th>15</th>\n",
       "      <td>0.316120</td>\n",
       "      <td>0.562245</td>\n",
       "      <td>0.384368</td>\n",
       "      <td>0.619974</td>\n",
       "    </tr>\n",
       "    <tr>\n",
       "      <th>16</th>\n",
       "      <td>0.310062</td>\n",
       "      <td>0.556832</td>\n",
       "      <td>0.476532</td>\n",
       "      <td>0.690313</td>\n",
       "    </tr>\n",
       "    <tr>\n",
       "      <th>17</th>\n",
       "      <td>0.304919</td>\n",
       "      <td>0.552195</td>\n",
       "      <td>0.288132</td>\n",
       "      <td>0.536779</td>\n",
       "    </tr>\n",
       "    <tr>\n",
       "      <th>18</th>\n",
       "      <td>0.302051</td>\n",
       "      <td>0.549592</td>\n",
       "      <td>0.319027</td>\n",
       "      <td>0.564825</td>\n",
       "    </tr>\n",
       "    <tr>\n",
       "      <th>19</th>\n",
       "      <td>0.299018</td>\n",
       "      <td>0.546826</td>\n",
       "      <td>0.343997</td>\n",
       "      <td>0.586513</td>\n",
       "    </tr>\n",
       "  </tbody>\n",
       "</table>\n",
       "</div>"
      ],
      "text/plain": [
       "        loss  root_mean_squared_error  val_loss  val_root_mean_squared_error\n",
       "0   0.720697                 0.848938  0.580312                     0.761782\n",
       "1   0.418475                 0.646897  2.006941                     1.416665\n",
       "2   0.415501                 0.644594  0.674010                     0.820981\n",
       "3   0.371653                 0.609634  0.642585                     0.801614\n",
       "4   0.360979                 0.600816  0.410878                     0.640998\n",
       "5   0.351747                 0.593083  0.439391                     0.662866\n",
       "6   0.343994                 0.586510  0.339256                     0.582457\n",
       "7   0.336861                 0.580397  0.346325                     0.588494\n",
       "8   0.330321                 0.574736  0.414573                     0.643874\n",
       "9   0.331231                 0.575526  0.317044                     0.563067\n",
       "10  0.324162                 0.569352  0.322827                     0.568179\n",
       "11  0.319563                 0.565299  0.377176                     0.614146\n",
       "12  0.314883                 0.561145  0.305945                     0.553123\n",
       "13  0.311263                 0.557910  0.297946                     0.545845\n",
       "14  0.308390                 0.555329  0.294139                     0.542346\n",
       "15  0.316120                 0.562245  0.384368                     0.619974\n",
       "16  0.310062                 0.556832  0.476532                     0.690313\n",
       "17  0.304919                 0.552195  0.288132                     0.536779\n",
       "18  0.302051                 0.549592  0.319027                     0.564825\n",
       "19  0.299018                 0.546826  0.343997                     0.586513"
      ]
     },
     "execution_count": 195,
     "metadata": {},
     "output_type": "execute_result"
    }
   ],
   "source": [
    "historico_df = pd.DataFrame(treinamento_historico.history)\n",
    "historico_df"
   ]
  },
  {
   "cell_type": "code",
   "execution_count": 204,
   "metadata": {},
   "outputs": [
    {
     "data": {
      "text/plain": [
       "<AxesSubplot: xlabel='Epochs'>"
      ]
     },
     "execution_count": 204,
     "metadata": {},
     "output_type": "execute_result"
    },
    {
     "data": {
      "image/png": "[encoded data removed]",
      "text/plain": [
       "<Figure size 640x480 with 1 Axes>"
      ]
     },
     "metadata": {},
     "output_type": "display_data"
    }
   ],
   "source": [
    "historico_df.plot(style = [\"r--\", \"r-*\", \"b--\", \"b-*\"],\n",
    "                    xlim = (0,20), xlabel= \"Epochs\")"
   ]
  },
  {
   "attachments": {},
   "cell_type": "markdown",
   "metadata": {},
   "source": [
    "## Multiclass classification"
   ]
  },
  {
   "attachments": {},
   "cell_type": "markdown",
   "metadata": {},
   "source": [
    "Utilizaremos o conjunto de dados \"fashion_mnist\", que consiste em um problema de classificação de imagens em produtos de vestuário."
   ]
  },
  {
   "cell_type": "code",
   "execution_count": 115,
   "metadata": {},
   "outputs": [
    {
     "data": {
      "text/plain": [
       "((array([[[0, 0, 0, ..., 0, 0, 0],\n",
       "          [0, 0, 0, ..., 0, 0, 0],\n",
       "          [0, 0, 0, ..., 0, 0, 0],\n",
       "          ...,\n",
       "          [0, 0, 0, ..., 0, 0, 0],\n",
       "          [0, 0, 0, ..., 0, 0, 0],\n",
       "          [0, 0, 0, ..., 0, 0, 0]],\n",
       "  \n",
       "         [[0, 0, 0, ..., 0, 0, 0],\n",
       "          [0, 0, 0, ..., 0, 0, 0],\n",
       "          [0, 0, 0, ..., 0, 0, 0],\n",
       "          ...,\n",
       "          [0, 0, 0, ..., 0, 0, 0],\n",
       "          [0, 0, 0, ..., 0, 0, 0],\n",
       "          [0, 0, 0, ..., 0, 0, 0]],\n",
       "  \n",
       "         [[0, 0, 0, ..., 0, 0, 0],\n",
       "          [0, 0, 0, ..., 0, 0, 0],\n",
       "          [0, 0, 0, ..., 0, 0, 0],\n",
       "          ...,\n",
       "          [0, 0, 0, ..., 0, 0, 0],\n",
       "          [0, 0, 0, ..., 0, 0, 0],\n",
       "          [0, 0, 0, ..., 0, 0, 0]],\n",
       "  \n",
       "         ...,\n",
       "  \n",
       "         [[0, 0, 0, ..., 0, 0, 0],\n",
       "          [0, 0, 0, ..., 0, 0, 0],\n",
       "          [0, 0, 0, ..., 0, 0, 0],\n",
       "          ...,\n",
       "          [0, 0, 0, ..., 0, 0, 0],\n",
       "          [0, 0, 0, ..., 0, 0, 0],\n",
       "          [0, 0, 0, ..., 0, 0, 0]],\n",
       "  \n",
       "         [[0, 0, 0, ..., 0, 0, 0],\n",
       "          [0, 0, 0, ..., 0, 0, 0],\n",
       "          [0, 0, 0, ..., 0, 0, 0],\n",
       "          ...,\n",
       "          [0, 0, 0, ..., 0, 0, 0],\n",
       "          [0, 0, 0, ..., 0, 0, 0],\n",
       "          [0, 0, 0, ..., 0, 0, 0]],\n",
       "  \n",
       "         [[0, 0, 0, ..., 0, 0, 0],\n",
       "          [0, 0, 0, ..., 0, 0, 0],\n",
       "          [0, 0, 0, ..., 0, 0, 0],\n",
       "          ...,\n",
       "          [0, 0, 0, ..., 0, 0, 0],\n",
       "          [0, 0, 0, ..., 0, 0, 0],\n",
       "          [0, 0, 0, ..., 0, 0, 0]]], dtype=uint8),\n",
       "  array([9, 0, 0, ..., 3, 0, 5], dtype=uint8)),\n",
       " (array([[[0, 0, 0, ..., 0, 0, 0],\n",
       "          [0, 0, 0, ..., 0, 0, 0],\n",
       "          [0, 0, 0, ..., 0, 0, 0],\n",
       "          ...,\n",
       "          [0, 0, 0, ..., 0, 0, 0],\n",
       "          [0, 0, 0, ..., 0, 0, 0],\n",
       "          [0, 0, 0, ..., 0, 0, 0]],\n",
       "  \n",
       "         [[0, 0, 0, ..., 0, 0, 0],\n",
       "          [0, 0, 0, ..., 0, 0, 0],\n",
       "          [0, 0, 0, ..., 0, 0, 0],\n",
       "          ...,\n",
       "          [0, 0, 0, ..., 0, 0, 0],\n",
       "          [0, 0, 0, ..., 0, 0, 0],\n",
       "          [0, 0, 0, ..., 0, 0, 0]],\n",
       "  \n",
       "         [[0, 0, 0, ..., 0, 0, 0],\n",
       "          [0, 0, 0, ..., 0, 0, 0],\n",
       "          [0, 0, 0, ..., 0, 0, 0],\n",
       "          ...,\n",
       "          [0, 0, 0, ..., 0, 0, 0],\n",
       "          [0, 0, 0, ..., 0, 0, 0],\n",
       "          [0, 0, 0, ..., 0, 0, 0]],\n",
       "  \n",
       "         ...,\n",
       "  \n",
       "         [[0, 0, 0, ..., 0, 0, 0],\n",
       "          [0, 0, 0, ..., 0, 0, 0],\n",
       "          [0, 0, 0, ..., 0, 0, 0],\n",
       "          ...,\n",
       "          [0, 0, 0, ..., 0, 0, 0],\n",
       "          [0, 0, 0, ..., 0, 0, 0],\n",
       "          [0, 0, 0, ..., 0, 0, 0]],\n",
       "  \n",
       "         [[0, 0, 0, ..., 0, 0, 0],\n",
       "          [0, 0, 0, ..., 0, 0, 0],\n",
       "          [0, 0, 0, ..., 0, 0, 0],\n",
       "          ...,\n",
       "          [0, 0, 0, ..., 0, 0, 0],\n",
       "          [0, 0, 0, ..., 0, 0, 0],\n",
       "          [0, 0, 0, ..., 0, 0, 0]],\n",
       "  \n",
       "         [[0, 0, 0, ..., 0, 0, 0],\n",
       "          [0, 0, 0, ..., 0, 0, 0],\n",
       "          [0, 0, 0, ..., 0, 0, 0],\n",
       "          ...,\n",
       "          [0, 0, 0, ..., 0, 0, 0],\n",
       "          [0, 0, 0, ..., 0, 0, 0],\n",
       "          [0, 0, 0, ..., 0, 0, 0]]], dtype=uint8),\n",
       "  array([9, 2, 1, ..., 8, 1, 5], dtype=uint8)))"
      ]
     },
     "execution_count": 115,
     "metadata": {},
     "output_type": "execute_result"
    }
   ],
   "source": [
    "dados = tf.keras.datasets.fashion_mnist.load_data()\n",
    "dados"
   ]
  },
  {
   "cell_type": "code",
   "execution_count": 116,
   "metadata": {},
   "outputs": [],
   "source": [
    "(X_train_full, y_train_full), (X_test, y_test) = dados"
   ]
  },
  {
   "cell_type": "code",
   "execution_count": 117,
   "metadata": {},
   "outputs": [
    {
     "data": {
      "text/plain": [
       "(60000, 28, 28)"
      ]
     },
     "execution_count": 117,
     "metadata": {},
     "output_type": "execute_result"
    }
   ],
   "source": [
    "X_train_full.shape"
   ]
  },
  {
   "attachments": {},
   "cell_type": "markdown",
   "metadata": {},
   "source": [
    "Na célula acima, percebe-se que temos 60000 exemplos de treinamento.\n",
    "\n",
    "Cada instância está organizada em uma matriz de pixels de dimensão $28\\times28$"
   ]
  },
  {
   "cell_type": "code",
   "execution_count": 118,
   "metadata": {},
   "outputs": [
    {
     "data": {
      "text/plain": [
       "(60000,)"
      ]
     },
     "execution_count": 118,
     "metadata": {},
     "output_type": "execute_result"
    }
   ],
   "source": [
    "y_train_full.shape"
   ]
  },
  {
   "cell_type": "code",
   "execution_count": 119,
   "metadata": {},
   "outputs": [
    {
     "data": {
      "text/plain": [
       "array([9, 0, 0, ..., 3, 0, 5], dtype=uint8)"
      ]
     },
     "execution_count": 119,
     "metadata": {},
     "output_type": "execute_result"
    }
   ],
   "source": [
    "y_train_full"
   ]
  },
  {
   "cell_type": "code",
   "execution_count": 120,
   "metadata": {},
   "outputs": [],
   "source": [
    "target_names = [\"camiseta/top\", \"calça\", \"jaqueta\", \"vestido\", \"casaco\", \n",
    "\"chinelo/sandália\", \"camisa_social\", \"sapatenis\", \"bolsa\", \"bota\"] "
   ]
  },
  {
   "cell_type": "code",
   "execution_count": 121,
   "metadata": {},
   "outputs": [],
   "source": [
    "X_train, X_valid, y_train, y_valid = train_test_split(X_train_full, y_train_full, random_state=42)"
   ]
  },
  {
   "cell_type": "code",
   "execution_count": 128,
   "metadata": {},
   "outputs": [],
   "source": [
    "X_train, X_valid, X_test = X_train/255. , X_valid/255. , X_test/255. "
   ]
  },
  {
   "cell_type": "code",
   "execution_count": 129,
   "metadata": {},
   "outputs": [],
   "source": [
    "tf.random.set_seed(42)\n",
    "\n",
    "#instanciando o modelo\n",
    "modelo = tf.keras.Sequential([\n",
    "    tf.keras.layers.Input(shape = [28,28]), #camada de input adicionada\n",
    "    tf.keras.layers.Flatten(), # A camada chamada \"Flatten\" passa cada instância (matrix 28x28) para um vetor de tamanho 784\n",
    "    tf.keras.layers.Dense(300, activation = \"relu\"), # uma camada de 300 neurônios com ativação relu\n",
    "    tf.keras.layers.Dense(100, activation = \"relu\"), # uma camada de 100 neurônios com ativação relu\n",
    "    tf.keras.layers.Dense(10, activation = \"softmax\") # uma camada de output de 10 neurônios com ativação softmax\n",
    "])"
   ]
  },
  {
   "cell_type": "code",
   "execution_count": 130,
   "metadata": {},
   "outputs": [
    {
     "name": "stdout",
     "output_type": "stream",
     "text": [
      "Model: \"sequential_5\"\n",
      "_________________________________________________________________\n",
      " Layer (type)                Output Shape              Param #   \n",
      "=================================================================\n",
      " flatten_5 (Flatten)         (None, 784)               0         \n",
      "                                                                 \n",
      " dense_15 (Dense)            (None, 300)               235500    \n",
      "                                                                 \n",
      " dense_16 (Dense)            (None, 100)               30100     \n",
      "                                                                 \n",
      " dense_17 (Dense)            (None, 10)                1010      \n",
      "                                                                 \n",
      "=================================================================\n",
      "Total params: 266,610\n",
      "Trainable params: 266,610\n",
      "Non-trainable params: 0\n",
      "_________________________________________________________________\n"
     ]
    }
   ],
   "source": [
    "modelo.summary()"
   ]
  },
  {
   "attachments": {},
   "cell_type": "markdown",
   "metadata": {},
   "source": [
    "**Questão**: Porque a camada dense_1 possui 30100 parâmetros?"
   ]
  },
  {
   "cell_type": "code",
   "execution_count": 131,
   "metadata": {},
   "outputs": [
    {
     "data": {
      "text/plain": [
       "[array([[ 0.04602376, -0.0038019 ,  0.10557164, ...,  0.05382182,\n",
       "         -0.09810888,  0.10975555],\n",
       "        [-0.0131605 , -0.0401491 , -0.01301397, ..., -0.06764732,\n",
       "         -0.05142808, -0.10832162],\n",
       "        [ 0.0748878 ,  0.11689269,  0.06693598, ...,  0.04704887,\n",
       "         -0.04119989,  0.1031863 ],\n",
       "        ...,\n",
       "        [-0.08606555,  0.1186113 , -0.11932244, ...,  0.1080649 ,\n",
       "         -0.10135629,  0.05048553],\n",
       "        [-0.1144025 , -0.06622341,  0.00440084, ..., -0.00439373,\n",
       "          0.01447021,  0.02337808],\n",
       "        [-0.10965011,  0.05632766,  0.11904002, ..., -0.0713827 ,\n",
       "          0.11915682, -0.10558839]], dtype=float32),\n",
       " array([0., 0., 0., 0., 0., 0., 0., 0., 0., 0., 0., 0., 0., 0., 0., 0., 0.,\n",
       "        0., 0., 0., 0., 0., 0., 0., 0., 0., 0., 0., 0., 0., 0., 0., 0., 0.,\n",
       "        0., 0., 0., 0., 0., 0., 0., 0., 0., 0., 0., 0., 0., 0., 0., 0., 0.,\n",
       "        0., 0., 0., 0., 0., 0., 0., 0., 0., 0., 0., 0., 0., 0., 0., 0., 0.,\n",
       "        0., 0., 0., 0., 0., 0., 0., 0., 0., 0., 0., 0., 0., 0., 0., 0., 0.,\n",
       "        0., 0., 0., 0., 0., 0., 0., 0., 0., 0., 0., 0., 0., 0., 0.],\n",
       "       dtype=float32)]"
      ]
     },
     "execution_count": 131,
     "metadata": {},
     "output_type": "execute_result"
    }
   ],
   "source": [
    "# Para acessar os parâmetros de uma camada, pode-se usar\n",
    "\n",
    "params = modelo.layers[2].get_weights()\n",
    "params"
   ]
  },
  {
   "cell_type": "code",
   "execution_count": 132,
   "metadata": {},
   "outputs": [
    {
     "name": "stdout",
     "output_type": "stream",
     "text": [
      "weights = [[ 0.04602376 -0.0038019   0.10557164 ...  0.05382182 -0.09810888\n",
      "   0.10975555]\n",
      " [-0.0131605  -0.0401491  -0.01301397 ... -0.06764732 -0.05142808\n",
      "  -0.10832162]\n",
      " [ 0.0748878   0.11689269  0.06693598 ...  0.04704887 -0.04119989\n",
      "   0.1031863 ]\n",
      " ...\n",
      " [-0.08606555  0.1186113  -0.11932244 ...  0.1080649  -0.10135629\n",
      "   0.05048553]\n",
      " [-0.1144025  -0.06622341  0.00440084 ... -0.00439373  0.01447021\n",
      "   0.02337808]\n",
      " [-0.10965011  0.05632766  0.11904002 ... -0.0713827   0.11915682\n",
      "  -0.10558839]]\n",
      "bias = [0. 0. 0. 0. 0. 0. 0. 0. 0. 0. 0. 0. 0. 0. 0. 0. 0. 0. 0. 0. 0. 0. 0. 0.\n",
      " 0. 0. 0. 0. 0. 0. 0. 0. 0. 0. 0. 0. 0. 0. 0. 0. 0. 0. 0. 0. 0. 0. 0. 0.\n",
      " 0. 0. 0. 0. 0. 0. 0. 0. 0. 0. 0. 0. 0. 0. 0. 0. 0. 0. 0. 0. 0. 0. 0. 0.\n",
      " 0. 0. 0. 0. 0. 0. 0. 0. 0. 0. 0. 0. 0. 0. 0. 0. 0. 0. 0. 0. 0. 0. 0. 0.\n",
      " 0. 0. 0. 0.]\n"
     ]
    }
   ],
   "source": [
    "print(f\"weights = {params[0]}\\nbias = {params[1]}\")"
   ]
  },
  {
   "attachments": {},
   "cell_type": "markdown",
   "metadata": {},
   "source": [
    "Vamos definir agora a função perda e o otimizador"
   ]
  },
  {
   "cell_type": "code",
   "execution_count": 133,
   "metadata": {},
   "outputs": [],
   "source": [
    "modelo.compile(loss = \"sparse_categorical_crossentropy\",\n",
    "                optimizer = \"sgd\",\n",
    "                metrics = [\"accuracy\"])"
   ]
  },
  {
   "cell_type": "code",
   "execution_count": 134,
   "metadata": {},
   "outputs": [
    {
     "name": "stdout",
     "output_type": "stream",
     "text": [
      "Epoch 1/50\n",
      "1407/1407 [==============================] - 6s 4ms/step - loss: 0.7612 - accuracy: 0.7531 - val_loss: 0.5984 - val_accuracy: 0.7908\n",
      "Epoch 2/50\n",
      "1407/1407 [==============================] - 5s 4ms/step - loss: 0.5004 - accuracy: 0.8270 - val_loss: 0.5253 - val_accuracy: 0.8167\n",
      "Epoch 3/50\n",
      "1407/1407 [==============================] - 5s 4ms/step - loss: 0.4536 - accuracy: 0.8414 - val_loss: 0.4797 - val_accuracy: 0.8332\n",
      "Epoch 4/50\n",
      "1407/1407 [==============================] - 5s 4ms/step - loss: 0.4242 - accuracy: 0.8521 - val_loss: 0.4548 - val_accuracy: 0.8384\n",
      "Epoch 5/50\n",
      "1407/1407 [==============================] - 5s 4ms/step - loss: 0.4048 - accuracy: 0.8585 - val_loss: 0.5566 - val_accuracy: 0.7999\n",
      "Epoch 6/50\n",
      "1407/1407 [==============================] - 5s 4ms/step - loss: 0.3879 - accuracy: 0.8641 - val_loss: 0.4098 - val_accuracy: 0.8564\n",
      "Epoch 7/50\n",
      "1407/1407 [==============================] - 5s 4ms/step - loss: 0.3737 - accuracy: 0.8679 - val_loss: 0.4356 - val_accuracy: 0.8459\n",
      "Epoch 8/50\n",
      "1407/1407 [==============================] - 5s 4ms/step - loss: 0.3625 - accuracy: 0.8713 - val_loss: 0.4890 - val_accuracy: 0.8309\n",
      "Epoch 9/50\n",
      "1407/1407 [==============================] - 5s 4ms/step - loss: 0.3524 - accuracy: 0.8746 - val_loss: 0.3682 - val_accuracy: 0.8695\n",
      "Epoch 10/50\n",
      "1407/1407 [==============================] - 5s 4ms/step - loss: 0.3421 - accuracy: 0.8779 - val_loss: 0.3646 - val_accuracy: 0.8702\n",
      "Epoch 11/50\n",
      "1407/1407 [==============================] - 5s 4ms/step - loss: 0.3336 - accuracy: 0.8803 - val_loss: 0.3722 - val_accuracy: 0.8693\n",
      "Epoch 12/50\n",
      "1407/1407 [==============================] - 5s 4ms/step - loss: 0.3257 - accuracy: 0.8825 - val_loss: 0.3659 - val_accuracy: 0.8683\n",
      "Epoch 13/50\n",
      "1407/1407 [==============================] - 5s 4ms/step - loss: 0.3180 - accuracy: 0.8858 - val_loss: 0.3594 - val_accuracy: 0.8737\n",
      "Epoch 14/50\n",
      "1407/1407 [==============================] - 5s 4ms/step - loss: 0.3120 - accuracy: 0.8872 - val_loss: 0.3512 - val_accuracy: 0.8755\n",
      "Epoch 15/50\n",
      "1407/1407 [==============================] - 5s 4ms/step - loss: 0.3040 - accuracy: 0.8907 - val_loss: 0.3636 - val_accuracy: 0.8699\n",
      "Epoch 16/50\n",
      "1407/1407 [==============================] - 5s 4ms/step - loss: 0.2986 - accuracy: 0.8930 - val_loss: 0.3484 - val_accuracy: 0.8753\n",
      "Epoch 17/50\n",
      "1407/1407 [==============================] - 6s 4ms/step - loss: 0.2926 - accuracy: 0.8956 - val_loss: 0.3295 - val_accuracy: 0.8833\n",
      "Epoch 18/50\n",
      "1407/1407 [==============================] - 5s 4ms/step - loss: 0.2872 - accuracy: 0.8963 - val_loss: 0.3325 - val_accuracy: 0.8791\n",
      "Epoch 19/50\n",
      "1407/1407 [==============================] - 5s 4ms/step - loss: 0.2803 - accuracy: 0.8992 - val_loss: 0.3961 - val_accuracy: 0.8626\n",
      "Epoch 20/50\n",
      "1407/1407 [==============================] - 6s 4ms/step - loss: 0.2768 - accuracy: 0.9010 - val_loss: 0.3289 - val_accuracy: 0.8821\n",
      "Epoch 21/50\n",
      "1407/1407 [==============================] - 5s 4ms/step - loss: 0.2716 - accuracy: 0.9030 - val_loss: 0.3425 - val_accuracy: 0.8765\n",
      "Epoch 22/50\n",
      "1407/1407 [==============================] - 5s 4ms/step - loss: 0.2653 - accuracy: 0.9044 - val_loss: 0.3399 - val_accuracy: 0.8792\n",
      "Epoch 23/50\n",
      "1407/1407 [==============================] - 5s 4ms/step - loss: 0.2617 - accuracy: 0.9058 - val_loss: 0.3897 - val_accuracy: 0.8589\n",
      "Epoch 24/50\n",
      "1407/1407 [==============================] - 5s 4ms/step - loss: 0.2574 - accuracy: 0.9077 - val_loss: 0.3240 - val_accuracy: 0.8850\n",
      "Epoch 25/50\n",
      "1407/1407 [==============================] - 5s 4ms/step - loss: 0.2528 - accuracy: 0.9095 - val_loss: 0.3415 - val_accuracy: 0.8787\n",
      "Epoch 26/50\n",
      "1407/1407 [==============================] - 5s 4ms/step - loss: 0.2484 - accuracy: 0.9116 - val_loss: 0.3676 - val_accuracy: 0.8659\n",
      "Epoch 27/50\n",
      "1407/1407 [==============================] - 5s 4ms/step - loss: 0.2442 - accuracy: 0.9127 - val_loss: 0.3089 - val_accuracy: 0.8904\n",
      "Epoch 28/50\n",
      "1407/1407 [==============================] - 6s 4ms/step - loss: 0.2398 - accuracy: 0.9151 - val_loss: 0.3449 - val_accuracy: 0.8784\n",
      "Epoch 29/50\n",
      "1407/1407 [==============================] - 5s 4ms/step - loss: 0.2360 - accuracy: 0.9149 - val_loss: 0.3442 - val_accuracy: 0.8797\n",
      "Epoch 30/50\n",
      "1407/1407 [==============================] - 6s 4ms/step - loss: 0.2325 - accuracy: 0.9161 - val_loss: 0.3522 - val_accuracy: 0.8785\n",
      "Epoch 31/50\n",
      "1407/1407 [==============================] - 5s 4ms/step - loss: 0.2279 - accuracy: 0.9182 - val_loss: 0.3086 - val_accuracy: 0.8912\n",
      "Epoch 32/50\n",
      "1407/1407 [==============================] - 5s 4ms/step - loss: 0.2259 - accuracy: 0.9188 - val_loss: 0.3261 - val_accuracy: 0.8851\n",
      "Epoch 33/50\n",
      "1407/1407 [==============================] - 5s 4ms/step - loss: 0.2211 - accuracy: 0.9207 - val_loss: 0.3128 - val_accuracy: 0.8897\n",
      "Epoch 34/50\n",
      "1407/1407 [==============================] - 5s 4ms/step - loss: 0.2172 - accuracy: 0.9225 - val_loss: 0.4347 - val_accuracy: 0.8526\n",
      "Epoch 35/50\n",
      "1407/1407 [==============================] - 5s 4ms/step - loss: 0.2144 - accuracy: 0.9224 - val_loss: 0.3083 - val_accuracy: 0.8910\n",
      "Epoch 36/50\n",
      "1407/1407 [==============================] - 6s 4ms/step - loss: 0.2108 - accuracy: 0.9243 - val_loss: 0.3365 - val_accuracy: 0.8837\n",
      "Epoch 37/50\n",
      "1407/1407 [==============================] - 6s 4ms/step - loss: 0.2070 - accuracy: 0.9249 - val_loss: 0.3193 - val_accuracy: 0.8869\n",
      "Epoch 38/50\n",
      "1407/1407 [==============================] - 8s 5ms/step - loss: 0.2031 - accuracy: 0.9277 - val_loss: 0.3045 - val_accuracy: 0.8915\n",
      "Epoch 39/50\n",
      "1407/1407 [==============================] - 6s 4ms/step - loss: 0.2007 - accuracy: 0.9280 - val_loss: 0.4311 - val_accuracy: 0.8515\n",
      "Epoch 40/50\n",
      "1407/1407 [==============================] - 6s 4ms/step - loss: 0.1983 - accuracy: 0.9296 - val_loss: 0.3067 - val_accuracy: 0.8917\n",
      "Epoch 41/50\n",
      "1407/1407 [==============================] - 8s 5ms/step - loss: 0.1941 - accuracy: 0.9312 - val_loss: 0.3541 - val_accuracy: 0.8785\n",
      "Epoch 42/50\n",
      "1407/1407 [==============================] - 6s 4ms/step - loss: 0.1911 - accuracy: 0.9309 - val_loss: 0.3097 - val_accuracy: 0.8930\n",
      "Epoch 43/50\n",
      "1407/1407 [==============================] - 5s 4ms/step - loss: 0.1887 - accuracy: 0.9328 - val_loss: 0.4642 - val_accuracy: 0.8517\n",
      "Epoch 44/50\n",
      "1407/1407 [==============================] - 5s 4ms/step - loss: 0.1867 - accuracy: 0.9337 - val_loss: 0.3092 - val_accuracy: 0.8924\n",
      "Epoch 45/50\n",
      "1407/1407 [==============================] - 6s 4ms/step - loss: 0.1836 - accuracy: 0.9331 - val_loss: 0.3275 - val_accuracy: 0.8846\n",
      "Epoch 46/50\n",
      "1407/1407 [==============================] - 5s 4ms/step - loss: 0.1800 - accuracy: 0.9363 - val_loss: 0.3061 - val_accuracy: 0.8933\n",
      "Epoch 47/50\n",
      "1407/1407 [==============================] - 5s 4ms/step - loss: 0.1761 - accuracy: 0.9373 - val_loss: 0.3168 - val_accuracy: 0.8921\n",
      "Epoch 48/50\n",
      "1407/1407 [==============================] - 5s 4ms/step - loss: 0.1739 - accuracy: 0.9388 - val_loss: 0.3143 - val_accuracy: 0.8896\n",
      "Epoch 49/50\n",
      "1407/1407 [==============================] - 6s 4ms/step - loss: 0.1710 - accuracy: 0.9394 - val_loss: 0.3031 - val_accuracy: 0.8945\n",
      "Epoch 50/50\n",
      "1407/1407 [==============================] - 6s 4ms/step - loss: 0.1690 - accuracy: 0.9393 - val_loss: 0.3698 - val_accuracy: 0.8803\n"
     ]
    }
   ],
   "source": [
    "treinamento = modelo.fit(X_train, y_train, epochs=50, validation_data=(X_valid,y_valid))"
   ]
  },
  {
   "cell_type": "code",
   "execution_count": 140,
   "metadata": {},
   "outputs": [
    {
     "data": {
      "text/html": [
       "<div>\n",
       "<style scoped>\n",
       "    .dataframe tbody tr th:only-of-type {\n",
       "        vertical-align: middle;\n",
       "    }\n",
       "\n",
       "    .dataframe tbody tr th {\n",
       "        vertical-align: top;\n",
       "    }\n",
       "\n",
       "    .dataframe thead th {\n",
       "        text-align: right;\n",
       "    }\n",
       "</style>\n",
       "<table border=\"1\" class=\"dataframe\">\n",
       "  <thead>\n",
       "    <tr style=\"text-align: right;\">\n",
       "      <th></th>\n",
       "      <th>loss</th>\n",
       "      <th>accuracy</th>\n",
       "      <th>val_loss</th>\n",
       "      <th>val_accuracy</th>\n",
       "    </tr>\n",
       "  </thead>\n",
       "  <tbody>\n",
       "    <tr>\n",
       "      <th>45</th>\n",
       "      <td>0.179969</td>\n",
       "      <td>0.936289</td>\n",
       "      <td>0.306076</td>\n",
       "      <td>0.893267</td>\n",
       "    </tr>\n",
       "    <tr>\n",
       "      <th>46</th>\n",
       "      <td>0.176110</td>\n",
       "      <td>0.937311</td>\n",
       "      <td>0.316777</td>\n",
       "      <td>0.892067</td>\n",
       "    </tr>\n",
       "    <tr>\n",
       "      <th>47</th>\n",
       "      <td>0.173896</td>\n",
       "      <td>0.938844</td>\n",
       "      <td>0.314264</td>\n",
       "      <td>0.889600</td>\n",
       "    </tr>\n",
       "    <tr>\n",
       "      <th>48</th>\n",
       "      <td>0.170961</td>\n",
       "      <td>0.939422</td>\n",
       "      <td>0.303143</td>\n",
       "      <td>0.894467</td>\n",
       "    </tr>\n",
       "    <tr>\n",
       "      <th>49</th>\n",
       "      <td>0.169014</td>\n",
       "      <td>0.939289</td>\n",
       "      <td>0.369772</td>\n",
       "      <td>0.880267</td>\n",
       "    </tr>\n",
       "  </tbody>\n",
       "</table>\n",
       "</div>"
      ],
      "text/plain": [
       "        loss  accuracy  val_loss  val_accuracy\n",
       "45  0.179969  0.936289  0.306076      0.893267\n",
       "46  0.176110  0.937311  0.316777      0.892067\n",
       "47  0.173896  0.938844  0.314264      0.889600\n",
       "48  0.170961  0.939422  0.303143      0.894467\n",
       "49  0.169014  0.939289  0.369772      0.880267"
      ]
     },
     "execution_count": 140,
     "metadata": {},
     "output_type": "execute_result"
    }
   ],
   "source": [
    "treinamento_historico = pd.DataFrame(treinamento.history)\n",
    "treinamento_historico.tail()"
   ]
  },
  {
   "cell_type": "code",
   "execution_count": 141,
   "metadata": {},
   "outputs": [
    {
     "data": {
      "text/plain": [
       "<AxesSubplot: >"
      ]
     },
     "execution_count": 141,
     "metadata": {},
     "output_type": "execute_result"
    },
    {
     "data": {
      "image/png": "[encoded data removed]",
      "text/plain": [
       "<Figure size 640x480 with 1 Axes>"
      ]
     },
     "metadata": {},
     "output_type": "display_data"
    }
   ],
   "source": [
    "treinamento_historico.plot()"
   ]
  },
  {
   "cell_type": "code",
   "execution_count": 164,
   "metadata": {},
   "outputs": [
    {
     "data": {
      "text/plain": [
       "<AxesSubplot: xlabel='Epoch'>"
      ]
     },
     "execution_count": 164,
     "metadata": {},
     "output_type": "execute_result"
    },
    {
     "data": {
      "image/png": "[encoded data removed]",
      "text/plain": [
       "<Figure size 800x500 with 1 Axes>"
      ]
     },
     "metadata": {},
     "output_type": "display_data"
    }
   ],
   "source": [
    "treinamento_historico.plot(figsize = (8,5),xlim=[0,49], ylim=[0,1], grid=True, xlabel=\"Epoch\", \n",
    "                            style = [\"r-\", \"r-*\", \"b-\", \"b-*\"])"
   ]
  },
  {
   "cell_type": "code",
   "execution_count": 165,
   "metadata": {},
   "outputs": [
    {
     "name": "stdout",
     "output_type": "stream",
     "text": [
      "313/313 [==============================] - 1s 4ms/step - loss: 0.3996 - accuracy: 0.8706\n"
     ]
    },
    {
     "data": {
      "text/plain": [
       "[0.3995806574821472, 0.8705999851226807]"
      ]
     },
     "execution_count": 165,
     "metadata": {},
     "output_type": "execute_result"
    }
   ],
   "source": [
    "modelo.evaluate(X_test, y_test)"
   ]
  },
  {
   "attachments": {},
   "cell_type": "markdown",
   "metadata": {},
   "source": [
    "- Nossa perda calculada para a \"sparse_categorical_crossentropy\" foi de 0,3996.\n",
    "- A acurácia no conjunto de teste foi de 87,06%"
   ]
  },
  {
   "attachments": {},
   "cell_type": "markdown",
   "metadata": {},
   "source": [
    "# Functional API\n",
    "\n",
    "Também é possível formar estruturas mais complexas no Keras por meio do Functional API. Nesse caso, as camadas são construídas em formato de funções cujos inputs são as camadas anteriores."
   ]
  },
  {
   "cell_type": "markdown",
   "metadata": {},
   "source": []
  }
 ],
 "metadata": {
  "kernelspec": {
   "display_name": "Python 3.9.7 ('base')",
   "language": "python",
   "name": "python3"
  },
  "language_info": {
   "codemirror_mode": {
    "name": "ipython",
    "version": 3
   },
   "file_extension": ".py",
   "mimetype": "text/x-python",
   "name": "python",
   "nbconvert_exporter": "python",
   "pygments_lexer": "ipython3",
   "version": "3.9.7"
  },
  "orig_nbformat": 4,
  "vscode": {
   "interpreter": {
    "hash": "e4cce46d6be9934fbd27f9ca0432556941ea5bdf741d4f4d64c6cd7f8dfa8fba"
   }
  }
 },
 "nbformat": 4,
 "nbformat_minor": 2
}
