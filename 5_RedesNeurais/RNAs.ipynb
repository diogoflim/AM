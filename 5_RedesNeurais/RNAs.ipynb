{
 "cells": [
  {
   "attachments": {},
   "cell_type": "markdown",
   "id": "312233b5",
   "metadata": {},
   "source": [
    "[![Open In Colab](https://colab.research.google.com/assets/colab-badge.svg)](https://colab.research.google.com/github/diogoflim/AM/blob/main/5_RedesNeurais/RNAs.ipynb)\n"
   ]
  },
  {
   "attachments": {},
   "cell_type": "markdown",
   "id": "2c21e6e8-ca56-42bd-9f00-6409f8a17dca",
   "metadata": {
    "tags": []
   },
   "source": [
    "# Aprendizado de máquina e decisões dirigidas por dados\n",
    "**Professor: Diogo Ferreira de Lima Silva**\n",
    "\n",
    "**TPP - UFF**\n",
    "\n",
    "Exemplos baeados em:\n",
    "- Geron, Aurélien. Hands-On Machine Learning with Scikit-Learn, Keras & TensorFlow. Third Edition, 2021. https://github.com/ageron/handson-ml3"
   ]
  },
  {
   "attachments": {},
   "cell_type": "markdown",
   "metadata": {},
   "source": [
    "# Deep Learning"
   ]
  },
  {
   "attachments": {},
   "cell_type": "markdown",
   "metadata": {},
   "source": [
    "# Multilayer Perceptron (MLP)\n",
    "\n",
    "Dando prossegumento ao estudo de redes neurais, vamos analisar o uso do Perceptron com várias camadas. Inicialmente, estudaremos um problema de regressão."
   ]
  },
  {
   "attachments": {},
   "cell_type": "markdown",
   "metadata": {},
   "source": [
    "### Um problema de Regressão"
   ]
  },
  {
   "cell_type": "code",
   "execution_count": 1,
   "metadata": {},
   "outputs": [],
   "source": [
    "import pandas as pd\n",
    "import numpy as np\n",
    "from sklearn.datasets import fetch_california_housing\n",
    "from sklearn.metrics import mean_squared_error\n",
    "from sklearn.model_selection import train_test_split\n",
    "from sklearn.neural_network import MLPRegressor\n",
    "from sklearn.pipeline import make_pipeline\n",
    "from sklearn.preprocessing import StandardScaler"
   ]
  },
  {
   "attachments": {},
   "cell_type": "markdown",
   "metadata": {},
   "source": [
    "O método MLPRegressor da biblioteca sklearn é uma maneira simples de aplicar um MultiLayer Perceptron. \n",
    "\n",
    "Vejamos a aplicação para um conjunto de dados de relacionados a apartamentos, cujo atributo alvo consiste no preço. O conjunto de dados está disponível em sklearn.datasets."
   ]
  },
  {
   "cell_type": "code",
   "execution_count": 2,
   "metadata": {},
   "outputs": [
    {
     "name": "stdout",
     "output_type": "stream",
     "text": [
      "dict_keys(['data', 'target', 'frame', 'target_names', 'feature_names', 'DESCR'])\n",
      "['MedInc', 'HouseAge', 'AveRooms', 'AveBedrms', 'Population', 'AveOccup', 'Latitude', 'Longitude']\n",
      "['MedHouseVal']\n"
     ]
    }
   ],
   "source": [
    "dados = fetch_california_housing()\n",
    "print(dados.keys())\n",
    "print(dados.feature_names)\n",
    "print(dados.target_names)"
   ]
  },
  {
   "cell_type": "code",
   "execution_count": 3,
   "metadata": {},
   "outputs": [],
   "source": [
    "X = dados.data\n",
    "y = dados.target"
   ]
  },
  {
   "cell_type": "code",
   "execution_count": 6,
   "metadata": {},
   "outputs": [
    {
     "data": {
      "text/plain": [
       "array([4.526, 3.585, 3.521, 3.413, 3.422, 2.697, 2.992, 2.414, 2.267,\n",
       "       2.611, 2.815, 2.418, 2.135, 1.913, 1.592, 1.4  , 1.525, 1.555,\n",
       "       1.587, 1.629])"
      ]
     },
     "execution_count": 6,
     "metadata": {},
     "output_type": "execute_result"
    }
   ],
   "source": [
    "# imprima os 20 primeiros valores do vetor y\n",
    "y[:20]"
   ]
  },
  {
   "cell_type": "code",
   "execution_count": 9,
   "metadata": {},
   "outputs": [
    {
     "data": {
      "text/html": [
       "<div>\n",
       "<style scoped>\n",
       "    .dataframe tbody tr th:only-of-type {\n",
       "        vertical-align: middle;\n",
       "    }\n",
       "\n",
       "    .dataframe tbody tr th {\n",
       "        vertical-align: top;\n",
       "    }\n",
       "\n",
       "    .dataframe thead th {\n",
       "        text-align: right;\n",
       "    }\n",
       "</style>\n",
       "<table border=\"1\" class=\"dataframe\">\n",
       "  <thead>\n",
       "    <tr style=\"text-align: right;\">\n",
       "      <th></th>\n",
       "      <th>0</th>\n",
       "      <th>1</th>\n",
       "      <th>2</th>\n",
       "      <th>3</th>\n",
       "      <th>4</th>\n",
       "      <th>5</th>\n",
       "      <th>6</th>\n",
       "      <th>7</th>\n",
       "    </tr>\n",
       "  </thead>\n",
       "  <tbody>\n",
       "    <tr>\n",
       "      <th>0</th>\n",
       "      <td>8.3252</td>\n",
       "      <td>41.0</td>\n",
       "      <td>6.984127</td>\n",
       "      <td>1.023810</td>\n",
       "      <td>322.0</td>\n",
       "      <td>2.555556</td>\n",
       "      <td>37.88</td>\n",
       "      <td>-122.23</td>\n",
       "    </tr>\n",
       "    <tr>\n",
       "      <th>1</th>\n",
       "      <td>8.3014</td>\n",
       "      <td>21.0</td>\n",
       "      <td>6.238137</td>\n",
       "      <td>0.971880</td>\n",
       "      <td>2401.0</td>\n",
       "      <td>2.109842</td>\n",
       "      <td>37.86</td>\n",
       "      <td>-122.22</td>\n",
       "    </tr>\n",
       "    <tr>\n",
       "      <th>2</th>\n",
       "      <td>7.2574</td>\n",
       "      <td>52.0</td>\n",
       "      <td>8.288136</td>\n",
       "      <td>1.073446</td>\n",
       "      <td>496.0</td>\n",
       "      <td>2.802260</td>\n",
       "      <td>37.85</td>\n",
       "      <td>-122.24</td>\n",
       "    </tr>\n",
       "    <tr>\n",
       "      <th>3</th>\n",
       "      <td>5.6431</td>\n",
       "      <td>52.0</td>\n",
       "      <td>5.817352</td>\n",
       "      <td>1.073059</td>\n",
       "      <td>558.0</td>\n",
       "      <td>2.547945</td>\n",
       "      <td>37.85</td>\n",
       "      <td>-122.25</td>\n",
       "    </tr>\n",
       "    <tr>\n",
       "      <th>4</th>\n",
       "      <td>3.8462</td>\n",
       "      <td>52.0</td>\n",
       "      <td>6.281853</td>\n",
       "      <td>1.081081</td>\n",
       "      <td>565.0</td>\n",
       "      <td>2.181467</td>\n",
       "      <td>37.85</td>\n",
       "      <td>-122.25</td>\n",
       "    </tr>\n",
       "    <tr>\n",
       "      <th>...</th>\n",
       "      <td>...</td>\n",
       "      <td>...</td>\n",
       "      <td>...</td>\n",
       "      <td>...</td>\n",
       "      <td>...</td>\n",
       "      <td>...</td>\n",
       "      <td>...</td>\n",
       "      <td>...</td>\n",
       "    </tr>\n",
       "    <tr>\n",
       "      <th>20635</th>\n",
       "      <td>1.5603</td>\n",
       "      <td>25.0</td>\n",
       "      <td>5.045455</td>\n",
       "      <td>1.133333</td>\n",
       "      <td>845.0</td>\n",
       "      <td>2.560606</td>\n",
       "      <td>39.48</td>\n",
       "      <td>-121.09</td>\n",
       "    </tr>\n",
       "    <tr>\n",
       "      <th>20636</th>\n",
       "      <td>2.5568</td>\n",
       "      <td>18.0</td>\n",
       "      <td>6.114035</td>\n",
       "      <td>1.315789</td>\n",
       "      <td>356.0</td>\n",
       "      <td>3.122807</td>\n",
       "      <td>39.49</td>\n",
       "      <td>-121.21</td>\n",
       "    </tr>\n",
       "    <tr>\n",
       "      <th>20637</th>\n",
       "      <td>1.7000</td>\n",
       "      <td>17.0</td>\n",
       "      <td>5.205543</td>\n",
       "      <td>1.120092</td>\n",
       "      <td>1007.0</td>\n",
       "      <td>2.325635</td>\n",
       "      <td>39.43</td>\n",
       "      <td>-121.22</td>\n",
       "    </tr>\n",
       "    <tr>\n",
       "      <th>20638</th>\n",
       "      <td>1.8672</td>\n",
       "      <td>18.0</td>\n",
       "      <td>5.329513</td>\n",
       "      <td>1.171920</td>\n",
       "      <td>741.0</td>\n",
       "      <td>2.123209</td>\n",
       "      <td>39.43</td>\n",
       "      <td>-121.32</td>\n",
       "    </tr>\n",
       "    <tr>\n",
       "      <th>20639</th>\n",
       "      <td>2.3886</td>\n",
       "      <td>16.0</td>\n",
       "      <td>5.254717</td>\n",
       "      <td>1.162264</td>\n",
       "      <td>1387.0</td>\n",
       "      <td>2.616981</td>\n",
       "      <td>39.37</td>\n",
       "      <td>-121.24</td>\n",
       "    </tr>\n",
       "  </tbody>\n",
       "</table>\n",
       "<p>20640 rows × 8 columns</p>\n",
       "</div>"
      ],
      "text/plain": [
       "            0     1         2         3       4         5      6       7\n",
       "0      8.3252  41.0  6.984127  1.023810   322.0  2.555556  37.88 -122.23\n",
       "1      8.3014  21.0  6.238137  0.971880  2401.0  2.109842  37.86 -122.22\n",
       "2      7.2574  52.0  8.288136  1.073446   496.0  2.802260  37.85 -122.24\n",
       "3      5.6431  52.0  5.817352  1.073059   558.0  2.547945  37.85 -122.25\n",
       "4      3.8462  52.0  6.281853  1.081081   565.0  2.181467  37.85 -122.25\n",
       "...       ...   ...       ...       ...     ...       ...    ...     ...\n",
       "20635  1.5603  25.0  5.045455  1.133333   845.0  2.560606  39.48 -121.09\n",
       "20636  2.5568  18.0  6.114035  1.315789   356.0  3.122807  39.49 -121.21\n",
       "20637  1.7000  17.0  5.205543  1.120092  1007.0  2.325635  39.43 -121.22\n",
       "20638  1.8672  18.0  5.329513  1.171920   741.0  2.123209  39.43 -121.32\n",
       "20639  2.3886  16.0  5.254717  1.162264  1387.0  2.616981  39.37 -121.24\n",
       "\n",
       "[20640 rows x 8 columns]"
      ]
     },
     "execution_count": 9,
     "metadata": {},
     "output_type": "execute_result"
    }
   ],
   "source": [
    "pd.DataFrame(X)"
   ]
  },
  {
   "attachments": {},
   "cell_type": "markdown",
   "metadata": {},
   "source": [
    "Vamos separar os dados em 3 conjuntos: treinamento, validação e teste."
   ]
  },
  {
   "cell_type": "code",
   "execution_count": 10,
   "metadata": {},
   "outputs": [],
   "source": [
    "X_train_full, X_test, y_train_full, y_test = train_test_split(X,y,random_state=42)\n",
    "X_train, X_valid, y_train, y_valid = train_test_split(X_train_full, y_train_full, random_state=42) "
   ]
  },
  {
   "cell_type": "code",
   "execution_count": 20,
   "metadata": {},
   "outputs": [
    {
     "name": "stdout",
     "output_type": "stream",
     "text": [
      "Shape da matriz de atributos do conjunto total de dados: (15480, 8)\n",
      "Shape do vetor de rótulos do conjunto total de dados: (15480,)\n",
      "Shape da matriz de atributos do conjunto de treinamento:(11610, 8)\n",
      "Shape do vetor de rótulos do conjunto treinamento:(11610,)\n",
      "Shape da matriz de atributos do conjunto de validação:(3870, 8)\n",
      "Shape do vetor de rótulos do conjunto validação: (3870,)\n",
      "Shape da matriz de atributos do conjunto de teste:(5160, 8)\n",
      "Shape do vetor de rótulos do conjunto teste: (5160,)\n"
     ]
    }
   ],
   "source": [
    "print(f\"Shape da matriz de atributos do conjunto total de dados: {X_train_full.shape}\\n\\\n",
    "Shape do vetor de rótulos do conjunto total de dados: {y_train_full.shape}\\n\\\n",
    "Shape da matriz de atributos do conjunto de treinamento:{X_train.shape}\\n\\\n",
    "Shape do vetor de rótulos do conjunto treinamento:{y_train.shape}\\n\\\n",
    "Shape da matriz de atributos do conjunto de validação:{X_valid.shape}\\n\\\n",
    "Shape do vetor de rótulos do conjunto validação: {y_valid.shape}\\n\\\n",
    "Shape da matriz de atributos do conjunto de teste:{X_test.shape}\\n\\\n",
    "Shape do vetor de rótulos do conjunto teste: {y_test.shape}\")"
   ]
  },
  {
   "attachments": {},
   "cell_type": "markdown",
   "metadata": {},
   "source": [
    "O modelo é treinado a seguir:"
   ]
  },
  {
   "cell_type": "code",
   "execution_count": 21,
   "metadata": {},
   "outputs": [],
   "source": [
    "modelo = MLPRegressor(hidden_layer_sizes=[50,50,50], random_state=42)\n",
    "pipeline = make_pipeline (StandardScaler(), modelo) # Inclui uma normalização antes da passagem pelas camadas de percepton.\n",
    "pipeline.fit(X_train, y_train)\n",
    "y_pred = pipeline.predict(X_valid)\n",
    "erro_rmse = mean_squared_error(y_valid,y_pred,squared=False)"
   ]
  },
  {
   "cell_type": "code",
   "execution_count": 22,
   "metadata": {},
   "outputs": [
    {
     "data": {
      "text/plain": [
       "0.5053326657968639"
      ]
     },
     "execution_count": 22,
     "metadata": {},
     "output_type": "execute_result"
    }
   ],
   "source": [
    "erro_rmse"
   ]
  },
  {
   "attachments": {},
   "cell_type": "markdown",
   "metadata": {},
   "source": [
    "Apesar de simples, o MLPRegressor do sklearn é limitado.\n",
    "\n",
    "- Não aceita funções de ativação diferentes;\n",
    "- suporta apenas o erro do tipo rmse;\n",
    "\n",
    "Com TensorFlow e Keras, temos muito mais opções!"
   ]
  },
  {
   "attachments": {},
   "cell_type": "markdown",
   "metadata": {},
   "source": [
    "# Tensorflow + Keras\n",
    "\n",
    "## Regressão\n",
    "\n",
    "Vamos solucionar o problema acima usando TensorFlow e Keras"
   ]
  },
  {
   "cell_type": "code",
   "execution_count": 28,
   "metadata": {},
   "outputs": [],
   "source": [
    "import tensorflow as tf\n",
    "from tensorflow.keras.layers import Dense, Normalization\n",
    "from tensorflow.keras import Sequential"
   ]
  },
  {
   "cell_type": "code",
   "execution_count": 29,
   "metadata": {},
   "outputs": [
    {
     "name": "stdout",
     "output_type": "stream",
     "text": [
      "Epoch 1/20\n",
      "363/363 [==============================] - 1s 2ms/step - loss: 0.7372 - root_mean_squared_error: 0.8586 - val_loss: 0.8721 - val_root_mean_squared_error: 0.9339\n",
      "Epoch 2/20\n",
      "363/363 [==============================] - 1s 2ms/step - loss: 0.4029 - root_mean_squared_error: 0.6348 - val_loss: 3.2164 - val_root_mean_squared_error: 1.7934\n",
      "Epoch 3/20\n",
      "363/363 [==============================] - 1s 2ms/step - loss: 0.4119 - root_mean_squared_error: 0.6418 - val_loss: 1.0569 - val_root_mean_squared_error: 1.0281\n",
      "Epoch 4/20\n",
      "363/363 [==============================] - 1s 2ms/step - loss: 0.3706 - root_mean_squared_error: 0.6088 - val_loss: 2.4482 - val_root_mean_squared_error: 1.5647\n",
      "Epoch 5/20\n",
      "363/363 [==============================] - 1s 2ms/step - loss: 0.3569 - root_mean_squared_error: 0.5974 - val_loss: 1.3741 - val_root_mean_squared_error: 1.1722\n",
      "Epoch 6/20\n",
      "363/363 [==============================] - 1s 2ms/step - loss: 0.3529 - root_mean_squared_error: 0.5940 - val_loss: 0.6612 - val_root_mean_squared_error: 0.8132\n",
      "Epoch 7/20\n",
      "363/363 [==============================] - 1s 2ms/step - loss: 0.3397 - root_mean_squared_error: 0.5828 - val_loss: 1.2342 - val_root_mean_squared_error: 1.1110\n",
      "Epoch 8/20\n",
      "363/363 [==============================] - 1s 2ms/step - loss: 0.3377 - root_mean_squared_error: 0.5811 - val_loss: 1.4155 - val_root_mean_squared_error: 1.1898\n",
      "Epoch 9/20\n",
      "363/363 [==============================] - 1s 2ms/step - loss: 0.3358 - root_mean_squared_error: 0.5795 - val_loss: 0.3147 - val_root_mean_squared_error: 0.5610\n",
      "Epoch 10/20\n",
      "363/363 [==============================] - 1s 2ms/step - loss: 0.3238 - root_mean_squared_error: 0.5691 - val_loss: 0.3330 - val_root_mean_squared_error: 0.5770\n",
      "Epoch 11/20\n",
      "363/363 [==============================] - 1s 2ms/step - loss: 0.3217 - root_mean_squared_error: 0.5672 - val_loss: 0.4107 - val_root_mean_squared_error: 0.6409\n",
      "Epoch 12/20\n",
      "363/363 [==============================] - 1s 2ms/step - loss: 0.3195 - root_mean_squared_error: 0.5652 - val_loss: 0.3044 - val_root_mean_squared_error: 0.5517\n",
      "Epoch 13/20\n",
      "363/363 [==============================] - 1s 2ms/step - loss: 0.3144 - root_mean_squared_error: 0.5607 - val_loss: 0.3403 - val_root_mean_squared_error: 0.5834\n",
      "Epoch 14/20\n",
      "363/363 [==============================] - 1s 2ms/step - loss: 0.3118 - root_mean_squared_error: 0.5584 - val_loss: 0.3007 - val_root_mean_squared_error: 0.5483\n",
      "Epoch 15/20\n",
      "363/363 [==============================] - 1s 2ms/step - loss: 0.3095 - root_mean_squared_error: 0.5563 - val_loss: 0.3648 - val_root_mean_squared_error: 0.6040\n",
      "Epoch 16/20\n",
      "363/363 [==============================] - 1s 2ms/step - loss: 0.3067 - root_mean_squared_error: 0.5538 - val_loss: 0.3022 - val_root_mean_squared_error: 0.5497\n",
      "Epoch 17/20\n",
      "363/363 [==============================] - 1s 2ms/step - loss: 0.3041 - root_mean_squared_error: 0.5515 - val_loss: 0.3061 - val_root_mean_squared_error: 0.5533\n",
      "Epoch 18/20\n",
      "363/363 [==============================] - 1s 2ms/step - loss: 0.3024 - root_mean_squared_error: 0.5499 - val_loss: 0.3021 - val_root_mean_squared_error: 0.5496\n",
      "Epoch 19/20\n",
      "363/363 [==============================] - 1s 1ms/step - loss: 0.3019 - root_mean_squared_error: 0.5494 - val_loss: 0.3373 - val_root_mean_squared_error: 0.5807\n",
      "Epoch 20/20\n",
      "363/363 [==============================] - 1s 1ms/step - loss: 0.3000 - root_mean_squared_error: 0.5477 - val_loss: 0.3139 - val_root_mean_squared_error: 0.5603\n"
     ]
    }
   ],
   "source": [
    "tf.keras.backend.clear_session() #limpa a sessão caso tenhamos usado o tensorflow anteriormente no notebook  \n",
    "tf.random.set_seed(42)\n",
    "\n",
    "# Criando uma camada de normalização. \n",
    "# Passamos como informação da quantidade de atributos\n",
    "norm = Normalization(input_shape = X_train.shape[1:])\n",
    "\n",
    "# Agora vamos criar o modelo como uma sequência de camadas.\n",
    "# Também podemos usar funções de ativação!! Usaremos a relu. Modelaremos uma rede com 3 camadas de 50 nós\n",
    "M1 = Sequential([norm,\n",
    "                    Dense(50, activation = \"relu\"),\n",
    "                    Dense(50, activation = \"relu\"),\n",
    "                    Dense(50, activation = \"relu\"),\n",
    "                    Dense(1) # Camada de output\n",
    "                ])\n",
    "\n",
    "# Em seguida, devemos compilar o modelo escolhendo a função perda, um otimizador, e métricas que queremos calcular\n",
    "\n",
    "M1.compile(loss = \"mse\", # equivalente a tf.keras.losses.mean_squared_error, \n",
    "            optimizer = \"sgd\",  # equivalente a tf.keras.optimizers.SGD(), \n",
    "            metrics = [\"RootMeanSquaredError\"]) # Uma métrica adicional\n",
    "\n",
    "norm.adapt(X_train) # A camada norm deve adptar-se aos dados de entrada (parâmetros usados para a normalização)\n",
    "\n",
    "treinamento_historico = M1.fit(X_train, y_train, epochs = 20, validation_data = (X_valid, y_valid))"
   ]
  },
  {
   "cell_type": "code",
   "execution_count": 30,
   "metadata": {},
   "outputs": [
    {
     "data": {
      "text/html": [
       "<div>\n",
       "<style scoped>\n",
       "    .dataframe tbody tr th:only-of-type {\n",
       "        vertical-align: middle;\n",
       "    }\n",
       "\n",
       "    .dataframe tbody tr th {\n",
       "        vertical-align: top;\n",
       "    }\n",
       "\n",
       "    .dataframe thead th {\n",
       "        text-align: right;\n",
       "    }\n",
       "</style>\n",
       "<table border=\"1\" class=\"dataframe\">\n",
       "  <thead>\n",
       "    <tr style=\"text-align: right;\">\n",
       "      <th></th>\n",
       "      <th>loss</th>\n",
       "      <th>root_mean_squared_error</th>\n",
       "      <th>val_loss</th>\n",
       "      <th>val_root_mean_squared_error</th>\n",
       "    </tr>\n",
       "  </thead>\n",
       "  <tbody>\n",
       "    <tr>\n",
       "      <th>0</th>\n",
       "      <td>0.737247</td>\n",
       "      <td>0.858631</td>\n",
       "      <td>0.872138</td>\n",
       "      <td>0.933883</td>\n",
       "    </tr>\n",
       "    <tr>\n",
       "      <th>1</th>\n",
       "      <td>0.402945</td>\n",
       "      <td>0.634779</td>\n",
       "      <td>3.216366</td>\n",
       "      <td>1.793423</td>\n",
       "    </tr>\n",
       "    <tr>\n",
       "      <th>2</th>\n",
       "      <td>0.411883</td>\n",
       "      <td>0.641781</td>\n",
       "      <td>1.056915</td>\n",
       "      <td>1.028064</td>\n",
       "    </tr>\n",
       "    <tr>\n",
       "      <th>3</th>\n",
       "      <td>0.370585</td>\n",
       "      <td>0.608757</td>\n",
       "      <td>2.448189</td>\n",
       "      <td>1.564669</td>\n",
       "    </tr>\n",
       "    <tr>\n",
       "      <th>4</th>\n",
       "      <td>0.356855</td>\n",
       "      <td>0.597374</td>\n",
       "      <td>1.374076</td>\n",
       "      <td>1.172210</td>\n",
       "    </tr>\n",
       "    <tr>\n",
       "      <th>5</th>\n",
       "      <td>0.352889</td>\n",
       "      <td>0.594045</td>\n",
       "      <td>0.661241</td>\n",
       "      <td>0.813167</td>\n",
       "    </tr>\n",
       "    <tr>\n",
       "      <th>6</th>\n",
       "      <td>0.339670</td>\n",
       "      <td>0.582812</td>\n",
       "      <td>1.234248</td>\n",
       "      <td>1.110967</td>\n",
       "    </tr>\n",
       "    <tr>\n",
       "      <th>7</th>\n",
       "      <td>0.337652</td>\n",
       "      <td>0.581079</td>\n",
       "      <td>1.415512</td>\n",
       "      <td>1.189753</td>\n",
       "    </tr>\n",
       "    <tr>\n",
       "      <th>8</th>\n",
       "      <td>0.335772</td>\n",
       "      <td>0.579458</td>\n",
       "      <td>0.314727</td>\n",
       "      <td>0.561005</td>\n",
       "    </tr>\n",
       "    <tr>\n",
       "      <th>9</th>\n",
       "      <td>0.323821</td>\n",
       "      <td>0.569053</td>\n",
       "      <td>0.332963</td>\n",
       "      <td>0.577030</td>\n",
       "    </tr>\n",
       "    <tr>\n",
       "      <th>10</th>\n",
       "      <td>0.321663</td>\n",
       "      <td>0.567154</td>\n",
       "      <td>0.410740</td>\n",
       "      <td>0.640890</td>\n",
       "    </tr>\n",
       "    <tr>\n",
       "      <th>11</th>\n",
       "      <td>0.319501</td>\n",
       "      <td>0.565244</td>\n",
       "      <td>0.304401</td>\n",
       "      <td>0.551726</td>\n",
       "    </tr>\n",
       "    <tr>\n",
       "      <th>12</th>\n",
       "      <td>0.314364</td>\n",
       "      <td>0.560682</td>\n",
       "      <td>0.340350</td>\n",
       "      <td>0.583395</td>\n",
       "    </tr>\n",
       "    <tr>\n",
       "      <th>13</th>\n",
       "      <td>0.311801</td>\n",
       "      <td>0.558391</td>\n",
       "      <td>0.300663</td>\n",
       "      <td>0.548327</td>\n",
       "    </tr>\n",
       "    <tr>\n",
       "      <th>14</th>\n",
       "      <td>0.309458</td>\n",
       "      <td>0.556289</td>\n",
       "      <td>0.364826</td>\n",
       "      <td>0.604008</td>\n",
       "    </tr>\n",
       "    <tr>\n",
       "      <th>15</th>\n",
       "      <td>0.306691</td>\n",
       "      <td>0.553797</td>\n",
       "      <td>0.302152</td>\n",
       "      <td>0.549684</td>\n",
       "    </tr>\n",
       "    <tr>\n",
       "      <th>16</th>\n",
       "      <td>0.304109</td>\n",
       "      <td>0.551461</td>\n",
       "      <td>0.306126</td>\n",
       "      <td>0.553287</td>\n",
       "    </tr>\n",
       "    <tr>\n",
       "      <th>17</th>\n",
       "      <td>0.302425</td>\n",
       "      <td>0.549932</td>\n",
       "      <td>0.302070</td>\n",
       "      <td>0.549609</td>\n",
       "    </tr>\n",
       "    <tr>\n",
       "      <th>18</th>\n",
       "      <td>0.301873</td>\n",
       "      <td>0.549430</td>\n",
       "      <td>0.337250</td>\n",
       "      <td>0.580733</td>\n",
       "    </tr>\n",
       "    <tr>\n",
       "      <th>19</th>\n",
       "      <td>0.299995</td>\n",
       "      <td>0.547718</td>\n",
       "      <td>0.313884</td>\n",
       "      <td>0.560253</td>\n",
       "    </tr>\n",
       "  </tbody>\n",
       "</table>\n",
       "</div>"
      ],
      "text/plain": [
       "        loss  root_mean_squared_error  val_loss  val_root_mean_squared_error\n",
       "0   0.737247                 0.858631  0.872138                     0.933883\n",
       "1   0.402945                 0.634779  3.216366                     1.793423\n",
       "2   0.411883                 0.641781  1.056915                     1.028064\n",
       "3   0.370585                 0.608757  2.448189                     1.564669\n",
       "4   0.356855                 0.597374  1.374076                     1.172210\n",
       "5   0.352889                 0.594045  0.661241                     0.813167\n",
       "6   0.339670                 0.582812  1.234248                     1.110967\n",
       "7   0.337652                 0.581079  1.415512                     1.189753\n",
       "8   0.335772                 0.579458  0.314727                     0.561005\n",
       "9   0.323821                 0.569053  0.332963                     0.577030\n",
       "10  0.321663                 0.567154  0.410740                     0.640890\n",
       "11  0.319501                 0.565244  0.304401                     0.551726\n",
       "12  0.314364                 0.560682  0.340350                     0.583395\n",
       "13  0.311801                 0.558391  0.300663                     0.548327\n",
       "14  0.309458                 0.556289  0.364826                     0.604008\n",
       "15  0.306691                 0.553797  0.302152                     0.549684\n",
       "16  0.304109                 0.551461  0.306126                     0.553287\n",
       "17  0.302425                 0.549932  0.302070                     0.549609\n",
       "18  0.301873                 0.549430  0.337250                     0.580733\n",
       "19  0.299995                 0.547718  0.313884                     0.560253"
      ]
     },
     "execution_count": 30,
     "metadata": {},
     "output_type": "execute_result"
    }
   ],
   "source": [
    "historico_df = pd.DataFrame(treinamento_historico.history)\n",
    "historico_df"
   ]
  },
  {
   "cell_type": "code",
   "execution_count": 31,
   "metadata": {},
   "outputs": [
    {
     "data": {
      "text/plain": [
       "<AxesSubplot:xlabel='Epochs'>"
      ]
     },
     "execution_count": 31,
     "metadata": {},
     "output_type": "execute_result"
    },
    {
     "data": {
      "image/png": "[encoded data removed]",
      "text/plain": [
       "<Figure size 432x288 with 1 Axes>"
      ]
     },
     "metadata": {
      "needs_background": "light"
     },
     "output_type": "display_data"
    }
   ],
   "source": [
    "historico_df.plot(style = [\"r--\", \"r-*\", \"b--\", \"b-*\"],\n",
    "                    xlim = (0,20), xlabel= \"Epochs\")"
   ]
  },
  {
   "attachments": {},
   "cell_type": "markdown",
   "metadata": {},
   "source": [
    "Estudamos a aplicação do tensorflow em um problema de regressão. Vejamos agora como a biblioteca pode ser facilmente usada em um problema de classificação."
   ]
  },
  {
   "attachments": {},
   "cell_type": "markdown",
   "metadata": {},
   "source": [
    "## Multiclass classification"
   ]
  },
  {
   "attachments": {},
   "cell_type": "markdown",
   "metadata": {},
   "source": [
    "Utilizaremos o conjunto de dados \"fashion_mnist\", que consiste em um problema de classificação de imagens em produtos de vestuário."
   ]
  },
  {
   "cell_type": "code",
   "execution_count": 79,
   "metadata": {},
   "outputs": [],
   "source": [
    "import tensorflow as tf\n",
    "from tensorflow.keras.layers import Dense, Flatten, Input\n",
    "from tensorflow.keras import Sequential\n",
    "from sklearn.model_selection import train_test_split\n",
    "import pandas as pd"
   ]
  },
  {
   "cell_type": "code",
   "execution_count": 80,
   "metadata": {},
   "outputs": [
    {
     "data": {
      "text/plain": [
       "((array([[[0, 0, 0, ..., 0, 0, 0],\n",
       "          [0, 0, 0, ..., 0, 0, 0],\n",
       "          [0, 0, 0, ..., 0, 0, 0],\n",
       "          ...,\n",
       "          [0, 0, 0, ..., 0, 0, 0],\n",
       "          [0, 0, 0, ..., 0, 0, 0],\n",
       "          [0, 0, 0, ..., 0, 0, 0]],\n",
       "  \n",
       "         [[0, 0, 0, ..., 0, 0, 0],\n",
       "          [0, 0, 0, ..., 0, 0, 0],\n",
       "          [0, 0, 0, ..., 0, 0, 0],\n",
       "          ...,\n",
       "          [0, 0, 0, ..., 0, 0, 0],\n",
       "          [0, 0, 0, ..., 0, 0, 0],\n",
       "          [0, 0, 0, ..., 0, 0, 0]],\n",
       "  \n",
       "         [[0, 0, 0, ..., 0, 0, 0],\n",
       "          [0, 0, 0, ..., 0, 0, 0],\n",
       "          [0, 0, 0, ..., 0, 0, 0],\n",
       "          ...,\n",
       "          [0, 0, 0, ..., 0, 0, 0],\n",
       "          [0, 0, 0, ..., 0, 0, 0],\n",
       "          [0, 0, 0, ..., 0, 0, 0]],\n",
       "  \n",
       "         ...,\n",
       "  \n",
       "         [[0, 0, 0, ..., 0, 0, 0],\n",
       "          [0, 0, 0, ..., 0, 0, 0],\n",
       "          [0, 0, 0, ..., 0, 0, 0],\n",
       "          ...,\n",
       "          [0, 0, 0, ..., 0, 0, 0],\n",
       "          [0, 0, 0, ..., 0, 0, 0],\n",
       "          [0, 0, 0, ..., 0, 0, 0]],\n",
       "  \n",
       "         [[0, 0, 0, ..., 0, 0, 0],\n",
       "          [0, 0, 0, ..., 0, 0, 0],\n",
       "          [0, 0, 0, ..., 0, 0, 0],\n",
       "          ...,\n",
       "          [0, 0, 0, ..., 0, 0, 0],\n",
       "          [0, 0, 0, ..., 0, 0, 0],\n",
       "          [0, 0, 0, ..., 0, 0, 0]],\n",
       "  \n",
       "         [[0, 0, 0, ..., 0, 0, 0],\n",
       "          [0, 0, 0, ..., 0, 0, 0],\n",
       "          [0, 0, 0, ..., 0, 0, 0],\n",
       "          ...,\n",
       "          [0, 0, 0, ..., 0, 0, 0],\n",
       "          [0, 0, 0, ..., 0, 0, 0],\n",
       "          [0, 0, 0, ..., 0, 0, 0]]], dtype=uint8),\n",
       "  array([9, 0, 0, ..., 3, 0, 5], dtype=uint8)),\n",
       " (array([[[0, 0, 0, ..., 0, 0, 0],\n",
       "          [0, 0, 0, ..., 0, 0, 0],\n",
       "          [0, 0, 0, ..., 0, 0, 0],\n",
       "          ...,\n",
       "          [0, 0, 0, ..., 0, 0, 0],\n",
       "          [0, 0, 0, ..., 0, 0, 0],\n",
       "          [0, 0, 0, ..., 0, 0, 0]],\n",
       "  \n",
       "         [[0, 0, 0, ..., 0, 0, 0],\n",
       "          [0, 0, 0, ..., 0, 0, 0],\n",
       "          [0, 0, 0, ..., 0, 0, 0],\n",
       "          ...,\n",
       "          [0, 0, 0, ..., 0, 0, 0],\n",
       "          [0, 0, 0, ..., 0, 0, 0],\n",
       "          [0, 0, 0, ..., 0, 0, 0]],\n",
       "  \n",
       "         [[0, 0, 0, ..., 0, 0, 0],\n",
       "          [0, 0, 0, ..., 0, 0, 0],\n",
       "          [0, 0, 0, ..., 0, 0, 0],\n",
       "          ...,\n",
       "          [0, 0, 0, ..., 0, 0, 0],\n",
       "          [0, 0, 0, ..., 0, 0, 0],\n",
       "          [0, 0, 0, ..., 0, 0, 0]],\n",
       "  \n",
       "         ...,\n",
       "  \n",
       "         [[0, 0, 0, ..., 0, 0, 0],\n",
       "          [0, 0, 0, ..., 0, 0, 0],\n",
       "          [0, 0, 0, ..., 0, 0, 0],\n",
       "          ...,\n",
       "          [0, 0, 0, ..., 0, 0, 0],\n",
       "          [0, 0, 0, ..., 0, 0, 0],\n",
       "          [0, 0, 0, ..., 0, 0, 0]],\n",
       "  \n",
       "         [[0, 0, 0, ..., 0, 0, 0],\n",
       "          [0, 0, 0, ..., 0, 0, 0],\n",
       "          [0, 0, 0, ..., 0, 0, 0],\n",
       "          ...,\n",
       "          [0, 0, 0, ..., 0, 0, 0],\n",
       "          [0, 0, 0, ..., 0, 0, 0],\n",
       "          [0, 0, 0, ..., 0, 0, 0]],\n",
       "  \n",
       "         [[0, 0, 0, ..., 0, 0, 0],\n",
       "          [0, 0, 0, ..., 0, 0, 0],\n",
       "          [0, 0, 0, ..., 0, 0, 0],\n",
       "          ...,\n",
       "          [0, 0, 0, ..., 0, 0, 0],\n",
       "          [0, 0, 0, ..., 0, 0, 0],\n",
       "          [0, 0, 0, ..., 0, 0, 0]]], dtype=uint8),\n",
       "  array([9, 2, 1, ..., 8, 1, 5], dtype=uint8)))"
      ]
     },
     "execution_count": 80,
     "metadata": {},
     "output_type": "execute_result"
    }
   ],
   "source": [
    "dados = tf.keras.datasets.fashion_mnist.load_data()\n",
    "dados"
   ]
  },
  {
   "cell_type": "code",
   "execution_count": 81,
   "metadata": {},
   "outputs": [],
   "source": [
    "(X_train_full, y_train_full), (X_test, y_test) = dados"
   ]
  },
  {
   "cell_type": "code",
   "execution_count": 85,
   "metadata": {},
   "outputs": [
    {
     "name": "stdout",
     "output_type": "stream",
     "text": [
      "shape da matriz de atributos: (60000, 28, 28)\n",
      "shape do vetor de rótulos: (60000,)\n"
     ]
    }
   ],
   "source": [
    "print(f'shape da matriz de atributos: {X_train_full.shape}\\nshape do vetor de rótulos: {y_train_full.shape}')"
   ]
  },
  {
   "attachments": {},
   "cell_type": "markdown",
   "metadata": {},
   "source": [
    "Na célula acima, percebe-se que temos 60000 exemplos de treinamento.\n",
    "\n",
    "Cada instância está organizada em uma matriz de pixels de dimensão $28\\times28$"
   ]
  },
  {
   "cell_type": "code",
   "execution_count": 86,
   "metadata": {},
   "outputs": [
    {
     "data": {
      "text/plain": [
       "(60000,)"
      ]
     },
     "execution_count": 86,
     "metadata": {},
     "output_type": "execute_result"
    }
   ],
   "source": [
    "y_train_full.shape"
   ]
  },
  {
   "cell_type": "code",
   "execution_count": 88,
   "metadata": {},
   "outputs": [
    {
     "data": {
      "text/plain": [
       "array([9, 0, 0, 3, 0, 2, 7, 2, 5, 5, 0, 9, 5, 5, 7, 9, 1, 0, 6, 4, 3, 1,\n",
       "       4, 8, 4, 3, 0, 2, 4, 4], dtype=uint8)"
      ]
     },
     "execution_count": 88,
     "metadata": {},
     "output_type": "execute_result"
    }
   ],
   "source": [
    "y_train_full [:30]"
   ]
  },
  {
   "cell_type": "code",
   "execution_count": 89,
   "metadata": {},
   "outputs": [],
   "source": [
    "target_names = [\"camiseta/top\", \"calça\", \"jaqueta\", \"vestido\", \"casaco\", \n",
    "\"chinelo/sandália\", \"camisa_social\", \"sapatenis\", \"bolsa\", \"bota\"] "
   ]
  },
  {
   "cell_type": "code",
   "execution_count": 90,
   "metadata": {},
   "outputs": [],
   "source": [
    "X_train, X_valid, y_train, y_valid = train_test_split(X_train_full, y_train_full, random_state=42)"
   ]
  },
  {
   "cell_type": "code",
   "execution_count": 91,
   "metadata": {},
   "outputs": [],
   "source": [
    "X_train, X_valid, X_test = X_train/255. , X_valid/255. , X_test/255. "
   ]
  },
  {
   "cell_type": "code",
   "execution_count": 92,
   "metadata": {},
   "outputs": [],
   "source": [
    "tf.keras.backend.clear_session()\n",
    "tf.random.set_seed(42)\n",
    "\n",
    "#instanciando o modelo\n",
    "M = Sequential([\n",
    "                    Input(shape = [28,28]), # camada de input adicionada\n",
    "                    Flatten(), # A camada chamada \"Flatten\" passa cada instância (matrix 28x28) para um vetor de tamanho 784\n",
    "                    Dense(100, activation = \"relu\"), # uma camada de 100 neurônios com ativação relu\n",
    "                    Dense(100, activation = \"relu\"), # uma camada de 100 neurônios com ativação relu\n",
    "                    Dense(100, activation = \"relu\"), # uma camada de 100 neurônios com ativação relu\n",
    "                    Dense(10, activation = \"softmax\") # uma camada de output de 10 neurônios com ativação softmax\n",
    "                ])"
   ]
  },
  {
   "cell_type": "code",
   "execution_count": 95,
   "metadata": {},
   "outputs": [
    {
     "name": "stdout",
     "output_type": "stream",
     "text": [
      "Model: \"sequential\"\n",
      "_________________________________________________________________\n",
      " Layer (type)                Output Shape              Param #   \n",
      "=================================================================\n",
      " flatten (Flatten)           (None, 784)               0         \n",
      "                                                                 \n",
      " dense (Dense)               (None, 100)               78500     \n",
      "                                                                 \n",
      " dense_1 (Dense)             (None, 100)               10100     \n",
      "                                                                 \n",
      " dense_2 (Dense)             (None, 100)               10100     \n",
      "                                                                 \n",
      " dense_3 (Dense)             (None, 10)                1010      \n",
      "                                                                 \n",
      "=================================================================\n",
      "Total params: 99,710\n",
      "Trainable params: 99,710\n",
      "Non-trainable params: 0\n",
      "_________________________________________________________________\n"
     ]
    }
   ],
   "source": [
    "M.summary()"
   ]
  },
  {
   "cell_type": "code",
   "execution_count": 96,
   "metadata": {},
   "outputs": [
    {
     "data": {
      "text/plain": [
       "[array([[ 0.06508744, -0.0053767 ,  0.14930084, ...,  0.07611555,\n",
       "         -0.13874692,  0.1552178 ],\n",
       "        [-0.01861176, -0.0567794 , -0.01840453, ..., -0.09566776,\n",
       "         -0.07273029, -0.1531899 ],\n",
       "        [ 0.10590735,  0.16531122,  0.09466177, ...,  0.06653714,\n",
       "         -0.05826545,  0.14592746],\n",
       "        ...,\n",
       "        [-0.07933617,  0.08991137,  0.10378638, ...,  0.09451157,\n",
       "          0.02804798,  0.11183983],\n",
       "        [ 0.12089685, -0.0364825 ,  0.12472224, ..., -0.13666373,\n",
       "         -0.00937036, -0.07537369],\n",
       "        [ 0.02166013, -0.11988169,  0.14094934, ...,  0.09214577,\n",
       "          0.05492082, -0.13966453]], dtype=float32),\n",
       " array([0., 0., 0., 0., 0., 0., 0., 0., 0., 0., 0., 0., 0., 0., 0., 0., 0.,\n",
       "        0., 0., 0., 0., 0., 0., 0., 0., 0., 0., 0., 0., 0., 0., 0., 0., 0.,\n",
       "        0., 0., 0., 0., 0., 0., 0., 0., 0., 0., 0., 0., 0., 0., 0., 0., 0.,\n",
       "        0., 0., 0., 0., 0., 0., 0., 0., 0., 0., 0., 0., 0., 0., 0., 0., 0.,\n",
       "        0., 0., 0., 0., 0., 0., 0., 0., 0., 0., 0., 0., 0., 0., 0., 0., 0.,\n",
       "        0., 0., 0., 0., 0., 0., 0., 0., 0., 0., 0., 0., 0., 0., 0.],\n",
       "       dtype=float32)]"
      ]
     },
     "execution_count": 96,
     "metadata": {},
     "output_type": "execute_result"
    }
   ],
   "source": [
    "# Para acessar os parâmetros de uma camada, pode-se usar\n",
    "params = M.layers[2].get_weights()\n",
    "params"
   ]
  },
  {
   "cell_type": "code",
   "execution_count": 72,
   "metadata": {},
   "outputs": [
    {
     "name": "stdout",
     "output_type": "stream",
     "text": [
      "weights = [[ 0.06508744 -0.0053767   0.14930084 ...  0.07611555 -0.13874692\n",
      "   0.1552178 ]\n",
      " [-0.01861176 -0.0567794  -0.01840453 ... -0.09566776 -0.07273029\n",
      "  -0.1531899 ]\n",
      " [ 0.10590735  0.16531122  0.09466177 ...  0.06653714 -0.05826545\n",
      "   0.14592746]\n",
      " ...\n",
      " [-0.07933617  0.08991137  0.10378638 ...  0.09451157  0.02804798\n",
      "   0.11183983]\n",
      " [ 0.12089685 -0.0364825   0.12472224 ... -0.13666373 -0.00937036\n",
      "  -0.07537369]\n",
      " [ 0.02166013 -0.11988169  0.14094934 ...  0.09214577  0.05492082\n",
      "  -0.13966453]]\n",
      "-----------------------------\n",
      "bias = [0. 0. 0. 0. 0. 0. 0. 0. 0. 0. 0. 0. 0. 0. 0. 0. 0. 0. 0. 0. 0. 0. 0. 0.\n",
      " 0. 0. 0. 0. 0. 0. 0. 0. 0. 0. 0. 0. 0. 0. 0. 0. 0. 0. 0. 0. 0. 0. 0. 0.\n",
      " 0. 0. 0. 0. 0. 0. 0. 0. 0. 0. 0. 0. 0. 0. 0. 0. 0. 0. 0. 0. 0. 0. 0. 0.\n",
      " 0. 0. 0. 0. 0. 0. 0. 0. 0. 0. 0. 0. 0. 0. 0. 0. 0. 0. 0. 0. 0. 0. 0. 0.\n",
      " 0. 0. 0. 0.]\n"
     ]
    }
   ],
   "source": [
    "print(f\"weights = {params[0]}\\n\\\n",
    "-----------------------------\\n\\\n",
    "bias = {params[1]}\")"
   ]
  },
  {
   "attachments": {},
   "cell_type": "markdown",
   "metadata": {},
   "source": [
    "Vamos definir agora a função perda e o otimizador"
   ]
  },
  {
   "cell_type": "code",
   "execution_count": 97,
   "metadata": {},
   "outputs": [],
   "source": [
    "M.compile(loss = \"sparse_categorical_crossentropy\",\n",
    "                optimizer = \"sgd\",\n",
    "                metrics = [\"accuracy\"])"
   ]
  },
  {
   "cell_type": "code",
   "execution_count": 98,
   "metadata": {},
   "outputs": [
    {
     "name": "stdout",
     "output_type": "stream",
     "text": [
      "Epoch 1/20\n",
      "1407/1407 [==============================] - 15s 9ms/step - loss: 0.8356 - accuracy: 0.7206 - val_loss: 0.6862 - val_accuracy: 0.7524\n",
      "Epoch 2/20\n",
      "1407/1407 [==============================] - 6s 4ms/step - loss: 0.5248 - accuracy: 0.8161 - val_loss: 0.6036 - val_accuracy: 0.7925\n",
      "Epoch 3/20\n",
      "1407/1407 [==============================] - 6s 4ms/step - loss: 0.4718 - accuracy: 0.8348 - val_loss: 0.5087 - val_accuracy: 0.8241\n",
      "Epoch 4/20\n",
      "1407/1407 [==============================] - 7s 5ms/step - loss: 0.4374 - accuracy: 0.8462 - val_loss: 0.4775 - val_accuracy: 0.8273\n",
      "Epoch 5/20\n",
      "1407/1407 [==============================] - 7s 5ms/step - loss: 0.4156 - accuracy: 0.8540 - val_loss: 0.5583 - val_accuracy: 0.7972\n",
      "Epoch 6/20\n",
      "1407/1407 [==============================] - 8s 6ms/step - loss: 0.3970 - accuracy: 0.8610 - val_loss: 0.4141 - val_accuracy: 0.8545\n",
      "Epoch 7/20\n",
      "1407/1407 [==============================] - 8s 6ms/step - loss: 0.3819 - accuracy: 0.8656 - val_loss: 0.4367 - val_accuracy: 0.8421\n",
      "Epoch 8/20\n",
      "1407/1407 [==============================] - 7s 5ms/step - loss: 0.3691 - accuracy: 0.8687 - val_loss: 0.4794 - val_accuracy: 0.8325\n",
      "Epoch 9/20\n",
      "1407/1407 [==============================] - 7s 5ms/step - loss: 0.3585 - accuracy: 0.8729 - val_loss: 0.3911 - val_accuracy: 0.8609\n",
      "Epoch 10/20\n",
      "1407/1407 [==============================] - 8s 6ms/step - loss: 0.3477 - accuracy: 0.8762 - val_loss: 0.3669 - val_accuracy: 0.8680\n",
      "Epoch 11/20\n",
      "1407/1407 [==============================] - 9s 6ms/step - loss: 0.3384 - accuracy: 0.8782 - val_loss: 0.3798 - val_accuracy: 0.8653\n",
      "Epoch 12/20\n",
      "1407/1407 [==============================] - 9s 6ms/step - loss: 0.3305 - accuracy: 0.8803 - val_loss: 0.3615 - val_accuracy: 0.8714\n",
      "Epoch 13/20\n",
      "1407/1407 [==============================] - 8s 6ms/step - loss: 0.3225 - accuracy: 0.8841 - val_loss: 0.3699 - val_accuracy: 0.8689\n",
      "Epoch 14/20\n",
      "1407/1407 [==============================] - 8s 6ms/step - loss: 0.3164 - accuracy: 0.8861 - val_loss: 0.3411 - val_accuracy: 0.8751\n",
      "Epoch 15/20\n",
      "1407/1407 [==============================] - 8s 6ms/step - loss: 0.3082 - accuracy: 0.8881 - val_loss: 0.3837 - val_accuracy: 0.8597\n",
      "Epoch 16/20\n",
      "1407/1407 [==============================] - 8s 6ms/step - loss: 0.3024 - accuracy: 0.8900 - val_loss: 0.3598 - val_accuracy: 0.8696\n",
      "Epoch 17/20\n",
      "1407/1407 [==============================] - 10s 7ms/step - loss: 0.2964 - accuracy: 0.8934 - val_loss: 0.3425 - val_accuracy: 0.8762\n",
      "Epoch 18/20\n",
      "1407/1407 [==============================] - 8s 6ms/step - loss: 0.2920 - accuracy: 0.8922 - val_loss: 0.3319 - val_accuracy: 0.8813\n",
      "Epoch 19/20\n",
      "1407/1407 [==============================] - 7s 5ms/step - loss: 0.2845 - accuracy: 0.8970 - val_loss: 0.3980 - val_accuracy: 0.8603\n",
      "Epoch 20/20\n",
      "1407/1407 [==============================] - 10s 7ms/step - loss: 0.2810 - accuracy: 0.8980 - val_loss: 0.3399 - val_accuracy: 0.8769\n"
     ]
    }
   ],
   "source": [
    "treinamento = M.fit(X_train, y_train, epochs=20, validation_data=(X_valid,y_valid))"
   ]
  },
  {
   "cell_type": "code",
   "execution_count": 99,
   "metadata": {},
   "outputs": [
    {
     "data": {
      "text/html": [
       "<div>\n",
       "<style scoped>\n",
       "    .dataframe tbody tr th:only-of-type {\n",
       "        vertical-align: middle;\n",
       "    }\n",
       "\n",
       "    .dataframe tbody tr th {\n",
       "        vertical-align: top;\n",
       "    }\n",
       "\n",
       "    .dataframe thead th {\n",
       "        text-align: right;\n",
       "    }\n",
       "</style>\n",
       "<table border=\"1\" class=\"dataframe\">\n",
       "  <thead>\n",
       "    <tr style=\"text-align: right;\">\n",
       "      <th></th>\n",
       "      <th>loss</th>\n",
       "      <th>accuracy</th>\n",
       "      <th>val_loss</th>\n",
       "      <th>val_accuracy</th>\n",
       "    </tr>\n",
       "  </thead>\n",
       "  <tbody>\n",
       "    <tr>\n",
       "      <th>15</th>\n",
       "      <td>0.302420</td>\n",
       "      <td>0.890000</td>\n",
       "      <td>0.359840</td>\n",
       "      <td>0.869600</td>\n",
       "    </tr>\n",
       "    <tr>\n",
       "      <th>16</th>\n",
       "      <td>0.296449</td>\n",
       "      <td>0.893378</td>\n",
       "      <td>0.342524</td>\n",
       "      <td>0.876200</td>\n",
       "    </tr>\n",
       "    <tr>\n",
       "      <th>17</th>\n",
       "      <td>0.292015</td>\n",
       "      <td>0.892200</td>\n",
       "      <td>0.331939</td>\n",
       "      <td>0.881333</td>\n",
       "    </tr>\n",
       "    <tr>\n",
       "      <th>18</th>\n",
       "      <td>0.284510</td>\n",
       "      <td>0.896956</td>\n",
       "      <td>0.398028</td>\n",
       "      <td>0.860267</td>\n",
       "    </tr>\n",
       "    <tr>\n",
       "      <th>19</th>\n",
       "      <td>0.281017</td>\n",
       "      <td>0.897956</td>\n",
       "      <td>0.339904</td>\n",
       "      <td>0.876933</td>\n",
       "    </tr>\n",
       "  </tbody>\n",
       "</table>\n",
       "</div>"
      ],
      "text/plain": [
       "        loss  accuracy  val_loss  val_accuracy\n",
       "15  0.302420  0.890000  0.359840      0.869600\n",
       "16  0.296449  0.893378  0.342524      0.876200\n",
       "17  0.292015  0.892200  0.331939      0.881333\n",
       "18  0.284510  0.896956  0.398028      0.860267\n",
       "19  0.281017  0.897956  0.339904      0.876933"
      ]
     },
     "execution_count": 99,
     "metadata": {},
     "output_type": "execute_result"
    }
   ],
   "source": [
    "treinamento_historico = pd.DataFrame(treinamento.history)\n",
    "treinamento_historico.tail()"
   ]
  },
  {
   "cell_type": "code",
   "execution_count": 100,
   "metadata": {},
   "outputs": [
    {
     "data": {
      "text/plain": [
       "<AxesSubplot: >"
      ]
     },
     "execution_count": 100,
     "metadata": {},
     "output_type": "execute_result"
    },
    {
     "data": {
      "image/png": "[encoded data removed]",
      "text/plain": [
       "<Figure size 640x480 with 1 Axes>"
      ]
     },
     "metadata": {},
     "output_type": "display_data"
    }
   ],
   "source": [
    "treinamento_historico.plot()"
   ]
  },
  {
   "cell_type": "code",
   "execution_count": 101,
   "metadata": {},
   "outputs": [
    {
     "name": "stdout",
     "output_type": "stream",
     "text": [
      "313/313 [==============================] - 2s 5ms/step - loss: 0.3661 - accuracy: 0.8655\n"
     ]
    }
   ],
   "source": [
    "results_test = M.evaluate(X_test, y_test)"
   ]
  },
  {
   "cell_type": "code",
   "execution_count": 102,
   "metadata": {},
   "outputs": [
    {
     "name": "stdout",
     "output_type": "stream",
     "text": [
      "A acurácia no conjunto de teste foi de 0.8654999732971191\n"
     ]
    }
   ],
   "source": [
    "#print(f'Nossa perda calculada para a \"sparse_categorical_crossentropy\" foi de {results_test[0]}\\n\\\n",
    "print(f'A acurácia no conjunto de teste foi de {results_test[1]}')"
   ]
  },
  {
   "attachments": {},
   "cell_type": "markdown",
   "metadata": {},
   "source": [
    "# Functional API\n",
    "\n",
    "Também é possível formar estruturas mais complexas no Keras por meio do Functional API. Nesse caso, as camadas são construídas em formato de funções cujos inputs são as camadas anteriores."
   ]
  },
  {
   "cell_type": "code",
   "execution_count": 93,
   "metadata": {},
   "outputs": [],
   "source": [
    "from tensorflow.keras.layers import concatenate"
   ]
  },
  {
   "cell_type": "code",
   "execution_count": 94,
   "metadata": {},
   "outputs": [],
   "source": [
    "dados = fetch_california_housing()\n",
    "X = dados.data\n",
    "y = dados.target\n",
    "X_train_full, X_test, y_train_full, y_test = train_test_split(X,y,random_state=42)\n",
    "X_train, X_valid, y_train, y_valid = train_test_split(X_train_full, y_train_full, random_state=42) "
   ]
  },
  {
   "attachments": {},
   "cell_type": "markdown",
   "metadata": {},
   "source": [
    "Digamos que queremos que alguns atributos passem por camadas profundas. Porém, outros não (pode haver interceção nos dois grupos).\n",
    "\n",
    "- Para isso podemos dividir o dataset"
   ]
  },
  {
   "cell_type": "code",
   "execution_count": 95,
   "metadata": {},
   "outputs": [],
   "source": [
    "X_train_raso, X_train_profundo = X_train[:, :5], X_train[:, 2:]\n",
    "X_valid_raso, X_valid_profundo = X_valid[:, :5], X_valid[:, 2:]\n",
    "X_test_raso, X_test_profundo = X_test[:, :5], X_test[:, 2:]"
   ]
  },
  {
   "attachments": {},
   "cell_type": "markdown",
   "metadata": {},
   "source": [
    "Criando a estrutura com o Functional API:"
   ]
  },
  {
   "cell_type": "code",
   "execution_count": 96,
   "metadata": {},
   "outputs": [],
   "source": [
    "tf.keras.backend.clear_session()\n",
    "\n",
    "input_raso = Input(shape=[5], name=\"input_raso\")\n",
    "input_profundo = Input(shape = [6], name = \"input_profundo\")\n",
    "\n",
    "norm_layer_raso = Normalization()\n",
    "norm_layer_profundo = Normalization()\n",
    "\n",
    "norm_raso = norm_layer_raso(input_raso)\n",
    "norm_profundo = norm_layer_profundo(input_profundo)\n",
    "\n",
    "hidden1 = Dense(30, activation = \"relu\")(norm_profundo)\n",
    "hidden2 = Dense(30, activation =\"relu\")(hidden1)\n",
    "\n",
    "concat = concatenate([norm_raso,hidden2])\n",
    "output = Dense(1)(concat)\n",
    "\n",
    "modelo = tf.keras.Model(inputs = [input_raso, input_profundo], outputs = [output])"
   ]
  },
  {
   "cell_type": "code",
   "execution_count": 97,
   "metadata": {},
   "outputs": [
    {
     "data": {
      "text/plain": [
       "<keras.engine.functional.Functional at 0x18fc874f4f0>"
      ]
     },
     "execution_count": 97,
     "metadata": {},
     "output_type": "execute_result"
    }
   ],
   "source": [
    "modelo"
   ]
  },
  {
   "cell_type": "code",
   "execution_count": 98,
   "metadata": {},
   "outputs": [],
   "source": [
    "modelo.compile(loss = \"mse\",\n",
    "                optimizer = tf.keras.optimizers.Adam(learning_rate=1e-3),\n",
    "                metrics = [\"RootMeanSquaredError\"])"
   ]
  },
  {
   "cell_type": "code",
   "execution_count": 99,
   "metadata": {},
   "outputs": [
    {
     "name": "stdout",
     "output_type": "stream",
     "text": [
      "Epoch 1/20\n",
      "363/363 [==============================] - 1s 2ms/step - loss: 1.1357 - root_mean_squared_error: 1.0657 - val_loss: 0.9314 - val_root_mean_squared_error: 0.9651\n",
      "Epoch 2/20\n",
      "363/363 [==============================] - 1s 1ms/step - loss: 0.4820 - root_mean_squared_error: 0.6942 - val_loss: 0.8154 - val_root_mean_squared_error: 0.9030\n",
      "Epoch 3/20\n",
      "363/363 [==============================] - 1s 2ms/step - loss: 0.4285 - root_mean_squared_error: 0.6546 - val_loss: 0.3972 - val_root_mean_squared_error: 0.6303\n",
      "Epoch 4/20\n",
      "363/363 [==============================] - 1s 2ms/step - loss: 0.4029 - root_mean_squared_error: 0.6348 - val_loss: 0.3728 - val_root_mean_squared_error: 0.6106\n",
      "Epoch 5/20\n",
      "363/363 [==============================] - 1s 2ms/step - loss: 0.3944 - root_mean_squared_error: 0.6280 - val_loss: 0.4584 - val_root_mean_squared_error: 0.6771\n",
      "Epoch 6/20\n",
      "363/363 [==============================] - 1s 2ms/step - loss: 0.3838 - root_mean_squared_error: 0.6195 - val_loss: 0.9007 - val_root_mean_squared_error: 0.9491\n",
      "Epoch 7/20\n",
      "363/363 [==============================] - 1s 2ms/step - loss: 0.3832 - root_mean_squared_error: 0.6190 - val_loss: 0.9951 - val_root_mean_squared_error: 0.9975\n",
      "Epoch 8/20\n",
      "363/363 [==============================] - 1s 2ms/step - loss: 0.3719 - root_mean_squared_error: 0.6098 - val_loss: 4.5414 - val_root_mean_squared_error: 2.1311\n",
      "Epoch 9/20\n",
      "363/363 [==============================] - 1s 2ms/step - loss: 0.3786 - root_mean_squared_error: 0.6153 - val_loss: 3.5018 - val_root_mean_squared_error: 1.8713\n",
      "Epoch 10/20\n",
      "363/363 [==============================] - 1s 2ms/step - loss: 0.3921 - root_mean_squared_error: 0.6262 - val_loss: 0.5037 - val_root_mean_squared_error: 0.7097\n",
      "Epoch 11/20\n",
      "363/363 [==============================] - 1s 1ms/step - loss: 0.3587 - root_mean_squared_error: 0.5989 - val_loss: 0.3303 - val_root_mean_squared_error: 0.5747\n",
      "Epoch 12/20\n",
      "363/363 [==============================] - 1s 1ms/step - loss: 0.3589 - root_mean_squared_error: 0.5991 - val_loss: 0.3845 - val_root_mean_squared_error: 0.6200\n",
      "Epoch 13/20\n",
      "363/363 [==============================] - 1s 1ms/step - loss: 0.3530 - root_mean_squared_error: 0.5941 - val_loss: 0.3551 - val_root_mean_squared_error: 0.5959\n",
      "Epoch 14/20\n",
      "363/363 [==============================] - 1s 1ms/step - loss: 0.3580 - root_mean_squared_error: 0.5983 - val_loss: 0.3236 - val_root_mean_squared_error: 0.5689\n",
      "Epoch 15/20\n",
      "363/363 [==============================] - 1s 2ms/step - loss: 0.3474 - root_mean_squared_error: 0.5894 - val_loss: 0.3364 - val_root_mean_squared_error: 0.5800\n",
      "Epoch 16/20\n",
      "363/363 [==============================] - 1s 2ms/step - loss: 0.3460 - root_mean_squared_error: 0.5882 - val_loss: 0.4068 - val_root_mean_squared_error: 0.6378\n",
      "Epoch 17/20\n",
      "363/363 [==============================] - 1s 2ms/step - loss: 0.3435 - root_mean_squared_error: 0.5861 - val_loss: 1.3137 - val_root_mean_squared_error: 1.1462\n",
      "Epoch 18/20\n",
      "363/363 [==============================] - 1s 1ms/step - loss: 0.3448 - root_mean_squared_error: 0.5872 - val_loss: 0.9736 - val_root_mean_squared_error: 0.9867\n",
      "Epoch 19/20\n",
      "363/363 [==============================] - 1s 1ms/step - loss: 0.3390 - root_mean_squared_error: 0.5823 - val_loss: 0.9214 - val_root_mean_squared_error: 0.9599\n",
      "Epoch 20/20\n",
      "363/363 [==============================] - 1s 1ms/step - loss: 0.3469 - root_mean_squared_error: 0.5890 - val_loss: 0.7441 - val_root_mean_squared_error: 0.8626\n"
     ]
    }
   ],
   "source": [
    "norm_layer_raso.adapt(X_train_raso)\n",
    "norm_layer_profundo.adapt(X_train_profundo)\n",
    "\n",
    "treinamento = modelo.fit({\"input_raso\": X_train_raso, \"input_profundo\": X_train_profundo}, # Equivalente a passar um tupple (X_train_raso, X_train_profundo)\n",
    "                            y_train,\n",
    "                            epochs = 20,\n",
    "                            validation_data = ((X_valid_raso,X_valid_profundo), y_valid)\n",
    "                            )"
   ]
  },
  {
   "cell_type": "code",
   "execution_count": 100,
   "metadata": {},
   "outputs": [
    {
     "name": "stdout",
     "output_type": "stream",
     "text": [
      "162/162 [==============================] - 0s 1ms/step - loss: 0.3365 - root_mean_squared_error: 0.5801\n"
     ]
    }
   ],
   "source": [
    "mse_test, rmse_test = modelo.evaluate((X_test_raso,X_test_profundo), y_test)"
   ]
  },
  {
   "cell_type": "code",
   "execution_count": 101,
   "metadata": {},
   "outputs": [
    {
     "data": {
      "text/plain": [
       "0.3365383446216583"
      ]
     },
     "execution_count": 101,
     "metadata": {},
     "output_type": "execute_result"
    }
   ],
   "source": [
    "mse_test"
   ]
  }
 ],
 "metadata": {
  "kernelspec": {
   "display_name": "Python 3.9.7 ('base')",
   "language": "python",
   "name": "python3"
  },
  "language_info": {
   "codemirror_mode": {
    "name": "ipython",
    "version": 3
   },
   "file_extension": ".py",
   "mimetype": "text/x-python",
   "name": "python",
   "nbconvert_exporter": "python",
   "pygments_lexer": "ipython3",
   "version": "3.9.7"
  },
  "orig_nbformat": 4,
  "vscode": {
   "interpreter": {
    "hash": "e4cce46d6be9934fbd27f9ca0432556941ea5bdf741d4f4d64c6cd7f8dfa8fba"
   }
  }
 },
 "nbformat": 4,
 "nbformat_minor": 2
}
