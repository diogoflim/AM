{
 "cells": [
  {
   "attachments": {},
   "cell_type": "markdown",
   "id": "312233b5",
   "metadata": {},
   "source": [
    "[![Open In Colab](https://colab.research.google.com/assets/colab-badge.svg)](https://colab.research.google.com/github/diogoflim/AM/blob/main/5_RedesNeurais/RNAs.ipynb)\n"
   ]
  },
  {
   "attachments": {},
   "cell_type": "markdown",
   "id": "2c21e6e8-ca56-42bd-9f00-6409f8a17dca",
   "metadata": {
    "tags": []
   },
   "source": [
    "# Aprendizado de máquina e decisões dirigidas por dados\n",
    "**Professor: Diogo Ferreira de Lima Silva**\n",
    "\n",
    "**TPP - UFF**\n",
    "\n",
    "Exemplos baeados em:\n",
    "- Geron, Aurélien. Hands-On Machine Learning with Scikit-Learn, Keras & TensorFlow. Third Edition, 2021. https://github.com/ageron/handson-ml3"
   ]
  },
  {
   "attachments": {},
   "cell_type": "markdown",
   "metadata": {},
   "source": [
    "# Deep Learning"
   ]
  },
  {
   "attachments": {},
   "cell_type": "markdown",
   "metadata": {},
   "source": [
    "# Multilayer Perceptron (MLP)\n",
    "\n",
    "Dando prossegumento ao estudo de redes neurais, vamos analisar o uso do Perceptron com várias camadas. Inicialmente, estudaremos um problema de regressão."
   ]
  },
  {
   "attachments": {},
   "cell_type": "markdown",
   "metadata": {},
   "source": [
    "### Um problema de Regressão"
   ]
  },
  {
   "cell_type": "code",
   "execution_count": 1,
   "metadata": {},
   "outputs": [],
   "source": [
    "import pandas as pd\n",
    "import numpy as np\n",
    "from sklearn.datasets import fetch_california_housing\n",
    "from sklearn.metrics import mean_squared_error\n",
    "from sklearn.model_selection import train_test_split\n",
    "from sklearn.neural_network import MLPRegressor\n",
    "from sklearn.pipeline import make_pipeline\n",
    "from sklearn.preprocessing import StandardScaler"
   ]
  },
  {
   "attachments": {},
   "cell_type": "markdown",
   "metadata": {},
   "source": [
    "O método MLPRegressor da biblioteca sklearn é uma maneira simples de aplicar um MultiLayer Perceptron. \n",
    "\n",
    "Vejamos a aplicação para um conjunto de dados de relacionados a apartamentos, cujo atributo alvo consiste no preço. O conjunto de dados está disponível em sklearn.datasets."
   ]
  },
  {
   "cell_type": "code",
   "execution_count": 2,
   "metadata": {},
   "outputs": [
    {
     "name": "stdout",
     "output_type": "stream",
     "text": [
      "dict_keys(['data', 'target', 'frame', 'target_names', 'feature_names', 'DESCR'])\n",
      "['MedInc', 'HouseAge', 'AveRooms', 'AveBedrms', 'Population', 'AveOccup', 'Latitude', 'Longitude']\n",
      "['MedHouseVal']\n"
     ]
    }
   ],
   "source": [
    "dados = fetch_california_housing()\n",
    "print(dados.keys())\n",
    "print(dados.feature_names)\n",
    "print(dados.target_names)"
   ]
  },
  {
   "cell_type": "code",
   "execution_count": 3,
   "metadata": {},
   "outputs": [],
   "source": [
    "X = dados.data\n",
    "y = dados.target"
   ]
  },
  {
   "cell_type": "code",
   "execution_count": 6,
   "metadata": {},
   "outputs": [
    {
     "data": {
      "text/plain": [
       "array([4.526, 3.585, 3.521, 3.413, 3.422, 2.697, 2.992, 2.414, 2.267,\n",
       "       2.611, 2.815, 2.418, 2.135, 1.913, 1.592, 1.4  , 1.525, 1.555,\n",
       "       1.587, 1.629])"
      ]
     },
     "execution_count": 6,
     "metadata": {},
     "output_type": "execute_result"
    }
   ],
   "source": [
    "# imprima os 20 primeiros valores do vetor y\n",
    "y[:20]"
   ]
  },
  {
   "cell_type": "code",
   "execution_count": 9,
   "metadata": {},
   "outputs": [
    {
     "data": {
      "text/html": [
       "<div>\n",
       "<style scoped>\n",
       "    .dataframe tbody tr th:only-of-type {\n",
       "        vertical-align: middle;\n",
       "    }\n",
       "\n",
       "    .dataframe tbody tr th {\n",
       "        vertical-align: top;\n",
       "    }\n",
       "\n",
       "    .dataframe thead th {\n",
       "        text-align: right;\n",
       "    }\n",
       "</style>\n",
       "<table border=\"1\" class=\"dataframe\">\n",
       "  <thead>\n",
       "    <tr style=\"text-align: right;\">\n",
       "      <th></th>\n",
       "      <th>0</th>\n",
       "      <th>1</th>\n",
       "      <th>2</th>\n",
       "      <th>3</th>\n",
       "      <th>4</th>\n",
       "      <th>5</th>\n",
       "      <th>6</th>\n",
       "      <th>7</th>\n",
       "    </tr>\n",
       "  </thead>\n",
       "  <tbody>\n",
       "    <tr>\n",
       "      <th>0</th>\n",
       "      <td>8.3252</td>\n",
       "      <td>41.0</td>\n",
       "      <td>6.984127</td>\n",
       "      <td>1.023810</td>\n",
       "      <td>322.0</td>\n",
       "      <td>2.555556</td>\n",
       "      <td>37.88</td>\n",
       "      <td>-122.23</td>\n",
       "    </tr>\n",
       "    <tr>\n",
       "      <th>1</th>\n",
       "      <td>8.3014</td>\n",
       "      <td>21.0</td>\n",
       "      <td>6.238137</td>\n",
       "      <td>0.971880</td>\n",
       "      <td>2401.0</td>\n",
       "      <td>2.109842</td>\n",
       "      <td>37.86</td>\n",
       "      <td>-122.22</td>\n",
       "    </tr>\n",
       "    <tr>\n",
       "      <th>2</th>\n",
       "      <td>7.2574</td>\n",
       "      <td>52.0</td>\n",
       "      <td>8.288136</td>\n",
       "      <td>1.073446</td>\n",
       "      <td>496.0</td>\n",
       "      <td>2.802260</td>\n",
       "      <td>37.85</td>\n",
       "      <td>-122.24</td>\n",
       "    </tr>\n",
       "    <tr>\n",
       "      <th>3</th>\n",
       "      <td>5.6431</td>\n",
       "      <td>52.0</td>\n",
       "      <td>5.817352</td>\n",
       "      <td>1.073059</td>\n",
       "      <td>558.0</td>\n",
       "      <td>2.547945</td>\n",
       "      <td>37.85</td>\n",
       "      <td>-122.25</td>\n",
       "    </tr>\n",
       "    <tr>\n",
       "      <th>4</th>\n",
       "      <td>3.8462</td>\n",
       "      <td>52.0</td>\n",
       "      <td>6.281853</td>\n",
       "      <td>1.081081</td>\n",
       "      <td>565.0</td>\n",
       "      <td>2.181467</td>\n",
       "      <td>37.85</td>\n",
       "      <td>-122.25</td>\n",
       "    </tr>\n",
       "    <tr>\n",
       "      <th>...</th>\n",
       "      <td>...</td>\n",
       "      <td>...</td>\n",
       "      <td>...</td>\n",
       "      <td>...</td>\n",
       "      <td>...</td>\n",
       "      <td>...</td>\n",
       "      <td>...</td>\n",
       "      <td>...</td>\n",
       "    </tr>\n",
       "    <tr>\n",
       "      <th>20635</th>\n",
       "      <td>1.5603</td>\n",
       "      <td>25.0</td>\n",
       "      <td>5.045455</td>\n",
       "      <td>1.133333</td>\n",
       "      <td>845.0</td>\n",
       "      <td>2.560606</td>\n",
       "      <td>39.48</td>\n",
       "      <td>-121.09</td>\n",
       "    </tr>\n",
       "    <tr>\n",
       "      <th>20636</th>\n",
       "      <td>2.5568</td>\n",
       "      <td>18.0</td>\n",
       "      <td>6.114035</td>\n",
       "      <td>1.315789</td>\n",
       "      <td>356.0</td>\n",
       "      <td>3.122807</td>\n",
       "      <td>39.49</td>\n",
       "      <td>-121.21</td>\n",
       "    </tr>\n",
       "    <tr>\n",
       "      <th>20637</th>\n",
       "      <td>1.7000</td>\n",
       "      <td>17.0</td>\n",
       "      <td>5.205543</td>\n",
       "      <td>1.120092</td>\n",
       "      <td>1007.0</td>\n",
       "      <td>2.325635</td>\n",
       "      <td>39.43</td>\n",
       "      <td>-121.22</td>\n",
       "    </tr>\n",
       "    <tr>\n",
       "      <th>20638</th>\n",
       "      <td>1.8672</td>\n",
       "      <td>18.0</td>\n",
       "      <td>5.329513</td>\n",
       "      <td>1.171920</td>\n",
       "      <td>741.0</td>\n",
       "      <td>2.123209</td>\n",
       "      <td>39.43</td>\n",
       "      <td>-121.32</td>\n",
       "    </tr>\n",
       "    <tr>\n",
       "      <th>20639</th>\n",
       "      <td>2.3886</td>\n",
       "      <td>16.0</td>\n",
       "      <td>5.254717</td>\n",
       "      <td>1.162264</td>\n",
       "      <td>1387.0</td>\n",
       "      <td>2.616981</td>\n",
       "      <td>39.37</td>\n",
       "      <td>-121.24</td>\n",
       "    </tr>\n",
       "  </tbody>\n",
       "</table>\n",
       "<p>20640 rows × 8 columns</p>\n",
       "</div>"
      ],
      "text/plain": [
       "            0     1         2         3       4         5      6       7\n",
       "0      8.3252  41.0  6.984127  1.023810   322.0  2.555556  37.88 -122.23\n",
       "1      8.3014  21.0  6.238137  0.971880  2401.0  2.109842  37.86 -122.22\n",
       "2      7.2574  52.0  8.288136  1.073446   496.0  2.802260  37.85 -122.24\n",
       "3      5.6431  52.0  5.817352  1.073059   558.0  2.547945  37.85 -122.25\n",
       "4      3.8462  52.0  6.281853  1.081081   565.0  2.181467  37.85 -122.25\n",
       "...       ...   ...       ...       ...     ...       ...    ...     ...\n",
       "20635  1.5603  25.0  5.045455  1.133333   845.0  2.560606  39.48 -121.09\n",
       "20636  2.5568  18.0  6.114035  1.315789   356.0  3.122807  39.49 -121.21\n",
       "20637  1.7000  17.0  5.205543  1.120092  1007.0  2.325635  39.43 -121.22\n",
       "20638  1.8672  18.0  5.329513  1.171920   741.0  2.123209  39.43 -121.32\n",
       "20639  2.3886  16.0  5.254717  1.162264  1387.0  2.616981  39.37 -121.24\n",
       "\n",
       "[20640 rows x 8 columns]"
      ]
     },
     "execution_count": 9,
     "metadata": {},
     "output_type": "execute_result"
    }
   ],
   "source": [
    "pd.DataFrame(X)"
   ]
  },
  {
   "attachments": {},
   "cell_type": "markdown",
   "metadata": {},
   "source": [
    "Vamos separar os dados em 3 conjuntos: treinamento, validação e teste."
   ]
  },
  {
   "cell_type": "code",
   "execution_count": 10,
   "metadata": {},
   "outputs": [],
   "source": [
    "X_train_full, X_test, y_train_full, y_test = train_test_split(X,y,random_state=42)\n",
    "X_train, X_valid, y_train, y_valid = train_test_split(X_train_full, y_train_full, random_state=42) "
   ]
  },
  {
   "cell_type": "code",
   "execution_count": 20,
   "metadata": {},
   "outputs": [
    {
     "name": "stdout",
     "output_type": "stream",
     "text": [
      "Shape da matriz de atributos do conjunto total de dados: (15480, 8)\n",
      "Shape do vetor de rótulos do conjunto total de dados: (15480,)\n",
      "Shape da matriz de atributos do conjunto de treinamento:(11610, 8)\n",
      "Shape do vetor de rótulos do conjunto treinamento:(11610,)\n",
      "Shape da matriz de atributos do conjunto de validação:(3870, 8)\n",
      "Shape do vetor de rótulos do conjunto validação: (3870,)\n",
      "Shape da matriz de atributos do conjunto de teste:(5160, 8)\n",
      "Shape do vetor de rótulos do conjunto teste: (5160,)\n"
     ]
    }
   ],
   "source": [
    "print(f\"Shape da matriz de atributos do conjunto total de dados: {X_train_full.shape}\\n\\\n",
    "Shape do vetor de rótulos do conjunto total de dados: {y_train_full.shape}\\n\\\n",
    "Shape da matriz de atributos do conjunto de treinamento:{X_train.shape}\\n\\\n",
    "Shape do vetor de rótulos do conjunto treinamento:{y_train.shape}\\n\\\n",
    "Shape da matriz de atributos do conjunto de validação:{X_valid.shape}\\n\\\n",
    "Shape do vetor de rótulos do conjunto validação: {y_valid.shape}\\n\\\n",
    "Shape da matriz de atributos do conjunto de teste:{X_test.shape}\\n\\\n",
    "Shape do vetor de rótulos do conjunto teste: {y_test.shape}\")"
   ]
  },
  {
   "attachments": {},
   "cell_type": "markdown",
   "metadata": {},
   "source": [
    "O modelo é treinado a seguir:"
   ]
  },
  {
   "cell_type": "code",
   "execution_count": 21,
   "metadata": {},
   "outputs": [],
   "source": [
    "modelo = MLPRegressor(hidden_layer_sizes=[50,50,50], random_state=42)\n",
    "pipeline = make_pipeline (StandardScaler(), modelo) # Inclui uma normalização antes da passagem pelas camadas de percepton.\n",
    "pipeline.fit(X_train, y_train)\n",
    "y_pred = pipeline.predict(X_valid)\n",
    "erro_rmse = mean_squared_error(y_valid,y_pred,squared=False)"
   ]
  },
  {
   "cell_type": "code",
   "execution_count": 22,
   "metadata": {},
   "outputs": [
    {
     "data": {
      "text/plain": [
       "0.5053326657968639"
      ]
     },
     "execution_count": 22,
     "metadata": {},
     "output_type": "execute_result"
    }
   ],
   "source": [
    "erro_rmse"
   ]
  },
  {
   "attachments": {},
   "cell_type": "markdown",
   "metadata": {},
   "source": [
    "Apesar de simples, o MLPRegressor do sklearn é limitado.\n",
    "\n",
    "- Não aceita funções de ativação diferentes;\n",
    "- suporta apenas o erro do tipo rmse;\n",
    "\n",
    "Com TensorFlow e Keras, temos muito mais opções!"
   ]
  },
  {
   "attachments": {},
   "cell_type": "markdown",
   "metadata": {},
   "source": [
    "# Tensorflow + Keras\n",
    "\n",
    "## Regressão\n",
    "\n",
    "Vamos solucionar o problema acima usando TensorFlow e Keras"
   ]
  },
  {
   "cell_type": "code",
   "execution_count": 28,
   "metadata": {},
   "outputs": [],
   "source": [
    "import tensorflow as tf\n",
    "from tensorflow.keras.layers import Dense, Normalization\n",
    "from tensorflow.keras import Sequential"
   ]
  },
  {
   "cell_type": "code",
   "execution_count": 29,
   "metadata": {},
   "outputs": [
    {
     "name": "stdout",
     "output_type": "stream",
     "text": [
      "Epoch 1/20\n",
      "363/363 [==============================] - 1s 2ms/step - loss: 0.7372 - root_mean_squared_error: 0.8586 - val_loss: 0.8721 - val_root_mean_squared_error: 0.9339\n",
      "Epoch 2/20\n",
      "363/363 [==============================] - 1s 2ms/step - loss: 0.4029 - root_mean_squared_error: 0.6348 - val_loss: 3.2164 - val_root_mean_squared_error: 1.7934\n",
      "Epoch 3/20\n",
      "363/363 [==============================] - 1s 2ms/step - loss: 0.4119 - root_mean_squared_error: 0.6418 - val_loss: 1.0569 - val_root_mean_squared_error: 1.0281\n",
      "Epoch 4/20\n",
      "363/363 [==============================] - 1s 2ms/step - loss: 0.3706 - root_mean_squared_error: 0.6088 - val_loss: 2.4482 - val_root_mean_squared_error: 1.5647\n",
      "Epoch 5/20\n",
      "363/363 [==============================] - 1s 2ms/step - loss: 0.3569 - root_mean_squared_error: 0.5974 - val_loss: 1.3741 - val_root_mean_squared_error: 1.1722\n",
      "Epoch 6/20\n",
      "363/363 [==============================] - 1s 2ms/step - loss: 0.3529 - root_mean_squared_error: 0.5940 - val_loss: 0.6612 - val_root_mean_squared_error: 0.8132\n",
      "Epoch 7/20\n",
      "363/363 [==============================] - 1s 2ms/step - loss: 0.3397 - root_mean_squared_error: 0.5828 - val_loss: 1.2342 - val_root_mean_squared_error: 1.1110\n",
      "Epoch 8/20\n",
      "363/363 [==============================] - 1s 2ms/step - loss: 0.3377 - root_mean_squared_error: 0.5811 - val_loss: 1.4155 - val_root_mean_squared_error: 1.1898\n",
      "Epoch 9/20\n",
      "363/363 [==============================] - 1s 2ms/step - loss: 0.3358 - root_mean_squared_error: 0.5795 - val_loss: 0.3147 - val_root_mean_squared_error: 0.5610\n",
      "Epoch 10/20\n",
      "363/363 [==============================] - 1s 2ms/step - loss: 0.3238 - root_mean_squared_error: 0.5691 - val_loss: 0.3330 - val_root_mean_squared_error: 0.5770\n",
      "Epoch 11/20\n",
      "363/363 [==============================] - 1s 2ms/step - loss: 0.3217 - root_mean_squared_error: 0.5672 - val_loss: 0.4107 - val_root_mean_squared_error: 0.6409\n",
      "Epoch 12/20\n",
      "363/363 [==============================] - 1s 2ms/step - loss: 0.3195 - root_mean_squared_error: 0.5652 - val_loss: 0.3044 - val_root_mean_squared_error: 0.5517\n",
      "Epoch 13/20\n",
      "363/363 [==============================] - 1s 2ms/step - loss: 0.3144 - root_mean_squared_error: 0.5607 - val_loss: 0.3403 - val_root_mean_squared_error: 0.5834\n",
      "Epoch 14/20\n",
      "363/363 [==============================] - 1s 2ms/step - loss: 0.3118 - root_mean_squared_error: 0.5584 - val_loss: 0.3007 - val_root_mean_squared_error: 0.5483\n",
      "Epoch 15/20\n",
      "363/363 [==============================] - 1s 2ms/step - loss: 0.3095 - root_mean_squared_error: 0.5563 - val_loss: 0.3648 - val_root_mean_squared_error: 0.6040\n",
      "Epoch 16/20\n",
      "363/363 [==============================] - 1s 2ms/step - loss: 0.3067 - root_mean_squared_error: 0.5538 - val_loss: 0.3022 - val_root_mean_squared_error: 0.5497\n",
      "Epoch 17/20\n",
      "363/363 [==============================] - 1s 2ms/step - loss: 0.3041 - root_mean_squared_error: 0.5515 - val_loss: 0.3061 - val_root_mean_squared_error: 0.5533\n",
      "Epoch 18/20\n",
      "363/363 [==============================] - 1s 2ms/step - loss: 0.3024 - root_mean_squared_error: 0.5499 - val_loss: 0.3021 - val_root_mean_squared_error: 0.5496\n",
      "Epoch 19/20\n",
      "363/363 [==============================] - 1s 1ms/step - loss: 0.3019 - root_mean_squared_error: 0.5494 - val_loss: 0.3373 - val_root_mean_squared_error: 0.5807\n",
      "Epoch 20/20\n",
      "363/363 [==============================] - 1s 1ms/step - loss: 0.3000 - root_mean_squared_error: 0.5477 - val_loss: 0.3139 - val_root_mean_squared_error: 0.5603\n"
     ]
    }
   ],
   "source": [
    "tf.keras.backend.clear_session() #limpa a sessão caso tenhamos usado o tensorflow anteriormente no notebook  \n",
    "tf.random.set_seed(42)\n",
    "\n",
    "# Criando uma camada de normalização. \n",
    "# Passamos como informação da quantidade de atributos\n",
    "norm = Normalization(input_shape = X_train.shape[1:])\n",
    "\n",
    "# Agora vamos criar o modelo como uma sequência de camadas.\n",
    "# Também podemos usar funções de ativação!! Usaremos a relu. Modelaremos uma rede com 3 camadas de 50 nós\n",
    "M1 = Sequential([norm,\n",
    "                    Dense(50, activation = \"relu\"),\n",
    "                    Dense(50, activation = \"relu\"),\n",
    "                    Dense(50, activation = \"relu\"),\n",
    "                    Dense(1) # Camada de output\n",
    "                ])\n",
    "\n",
    "# Em seguida, devemos compilar o modelo escolhendo a função perda, um otimizador, e métricas que queremos calcular\n",
    "\n",
    "M1.compile(loss = \"mse\", # equivalente a tf.keras.losses.mean_squared_error, \n",
    "            optimizer = \"sgd\",  # equivalente a tf.keras.optimizers.SGD(), \n",
    "            metrics = [\"RootMeanSquaredError\"]) # Uma métrica adicional\n",
    "\n",
    "norm.adapt(X_train) # A camada norm deve adptar-se aos dados de entrada (parâmetros usados para a normalização)\n",
    "\n",
    "treinamento_historico = M1.fit(X_train, y_train, epochs = 20, validation_data = (X_valid, y_valid))"
   ]
  },
  {
   "cell_type": "code",
   "execution_count": 30,
   "metadata": {},
   "outputs": [
    {
     "data": {
      "text/html": [
       "<div>\n",
       "<style scoped>\n",
       "    .dataframe tbody tr th:only-of-type {\n",
       "        vertical-align: middle;\n",
       "    }\n",
       "\n",
       "    .dataframe tbody tr th {\n",
       "        vertical-align: top;\n",
       "    }\n",
       "\n",
       "    .dataframe thead th {\n",
       "        text-align: right;\n",
       "    }\n",
       "</style>\n",
       "<table border=\"1\" class=\"dataframe\">\n",
       "  <thead>\n",
       "    <tr style=\"text-align: right;\">\n",
       "      <th></th>\n",
       "      <th>loss</th>\n",
       "      <th>root_mean_squared_error</th>\n",
       "      <th>val_loss</th>\n",
       "      <th>val_root_mean_squared_error</th>\n",
       "    </tr>\n",
       "  </thead>\n",
       "  <tbody>\n",
       "    <tr>\n",
       "      <th>0</th>\n",
       "      <td>0.737247</td>\n",
       "      <td>0.858631</td>\n",
       "      <td>0.872138</td>\n",
       "      <td>0.933883</td>\n",
       "    </tr>\n",
       "    <tr>\n",
       "      <th>1</th>\n",
       "      <td>0.402945</td>\n",
       "      <td>0.634779</td>\n",
       "      <td>3.216366</td>\n",
       "      <td>1.793423</td>\n",
       "    </tr>\n",
       "    <tr>\n",
       "      <th>2</th>\n",
       "      <td>0.411883</td>\n",
       "      <td>0.641781</td>\n",
       "      <td>1.056915</td>\n",
       "      <td>1.028064</td>\n",
       "    </tr>\n",
       "    <tr>\n",
       "      <th>3</th>\n",
       "      <td>0.370585</td>\n",
       "      <td>0.608757</td>\n",
       "      <td>2.448189</td>\n",
       "      <td>1.564669</td>\n",
       "    </tr>\n",
       "    <tr>\n",
       "      <th>4</th>\n",
       "      <td>0.356855</td>\n",
       "      <td>0.597374</td>\n",
       "      <td>1.374076</td>\n",
       "      <td>1.172210</td>\n",
       "    </tr>\n",
       "    <tr>\n",
       "      <th>5</th>\n",
       "      <td>0.352889</td>\n",
       "      <td>0.594045</td>\n",
       "      <td>0.661241</td>\n",
       "      <td>0.813167</td>\n",
       "    </tr>\n",
       "    <tr>\n",
       "      <th>6</th>\n",
       "      <td>0.339670</td>\n",
       "      <td>0.582812</td>\n",
       "      <td>1.234248</td>\n",
       "      <td>1.110967</td>\n",
       "    </tr>\n",
       "    <tr>\n",
       "      <th>7</th>\n",
       "      <td>0.337652</td>\n",
       "      <td>0.581079</td>\n",
       "      <td>1.415512</td>\n",
       "      <td>1.189753</td>\n",
       "    </tr>\n",
       "    <tr>\n",
       "      <th>8</th>\n",
       "      <td>0.335772</td>\n",
       "      <td>0.579458</td>\n",
       "      <td>0.314727</td>\n",
       "      <td>0.561005</td>\n",
       "    </tr>\n",
       "    <tr>\n",
       "      <th>9</th>\n",
       "      <td>0.323821</td>\n",
       "      <td>0.569053</td>\n",
       "      <td>0.332963</td>\n",
       "      <td>0.577030</td>\n",
       "    </tr>\n",
       "    <tr>\n",
       "      <th>10</th>\n",
       "      <td>0.321663</td>\n",
       "      <td>0.567154</td>\n",
       "      <td>0.410740</td>\n",
       "      <td>0.640890</td>\n",
       "    </tr>\n",
       "    <tr>\n",
       "      <th>11</th>\n",
       "      <td>0.319501</td>\n",
       "      <td>0.565244</td>\n",
       "      <td>0.304401</td>\n",
       "      <td>0.551726</td>\n",
       "    </tr>\n",
       "    <tr>\n",
       "      <th>12</th>\n",
       "      <td>0.314364</td>\n",
       "      <td>0.560682</td>\n",
       "      <td>0.340350</td>\n",
       "      <td>0.583395</td>\n",
       "    </tr>\n",
       "    <tr>\n",
       "      <th>13</th>\n",
       "      <td>0.311801</td>\n",
       "      <td>0.558391</td>\n",
       "      <td>0.300663</td>\n",
       "      <td>0.548327</td>\n",
       "    </tr>\n",
       "    <tr>\n",
       "      <th>14</th>\n",
       "      <td>0.309458</td>\n",
       "      <td>0.556289</td>\n",
       "      <td>0.364826</td>\n",
       "      <td>0.604008</td>\n",
       "    </tr>\n",
       "    <tr>\n",
       "      <th>15</th>\n",
       "      <td>0.306691</td>\n",
       "      <td>0.553797</td>\n",
       "      <td>0.302152</td>\n",
       "      <td>0.549684</td>\n",
       "    </tr>\n",
       "    <tr>\n",
       "      <th>16</th>\n",
       "      <td>0.304109</td>\n",
       "      <td>0.551461</td>\n",
       "      <td>0.306126</td>\n",
       "      <td>0.553287</td>\n",
       "    </tr>\n",
       "    <tr>\n",
       "      <th>17</th>\n",
       "      <td>0.302425</td>\n",
       "      <td>0.549932</td>\n",
       "      <td>0.302070</td>\n",
       "      <td>0.549609</td>\n",
       "    </tr>\n",
       "    <tr>\n",
       "      <th>18</th>\n",
       "      <td>0.301873</td>\n",
       "      <td>0.549430</td>\n",
       "      <td>0.337250</td>\n",
       "      <td>0.580733</td>\n",
       "    </tr>\n",
       "    <tr>\n",
       "      <th>19</th>\n",
       "      <td>0.299995</td>\n",
       "      <td>0.547718</td>\n",
       "      <td>0.313884</td>\n",
       "      <td>0.560253</td>\n",
       "    </tr>\n",
       "  </tbody>\n",
       "</table>\n",
       "</div>"
      ],
      "text/plain": [
       "        loss  root_mean_squared_error  val_loss  val_root_mean_squared_error\n",
       "0   0.737247                 0.858631  0.872138                     0.933883\n",
       "1   0.402945                 0.634779  3.216366                     1.793423\n",
       "2   0.411883                 0.641781  1.056915                     1.028064\n",
       "3   0.370585                 0.608757  2.448189                     1.564669\n",
       "4   0.356855                 0.597374  1.374076                     1.172210\n",
       "5   0.352889                 0.594045  0.661241                     0.813167\n",
       "6   0.339670                 0.582812  1.234248                     1.110967\n",
       "7   0.337652                 0.581079  1.415512                     1.189753\n",
       "8   0.335772                 0.579458  0.314727                     0.561005\n",
       "9   0.323821                 0.569053  0.332963                     0.577030\n",
       "10  0.321663                 0.567154  0.410740                     0.640890\n",
       "11  0.319501                 0.565244  0.304401                     0.551726\n",
       "12  0.314364                 0.560682  0.340350                     0.583395\n",
       "13  0.311801                 0.558391  0.300663                     0.548327\n",
       "14  0.309458                 0.556289  0.364826                     0.604008\n",
       "15  0.306691                 0.553797  0.302152                     0.549684\n",
       "16  0.304109                 0.551461  0.306126                     0.553287\n",
       "17  0.302425                 0.549932  0.302070                     0.549609\n",
       "18  0.301873                 0.549430  0.337250                     0.580733\n",
       "19  0.299995                 0.547718  0.313884                     0.560253"
      ]
     },
     "execution_count": 30,
     "metadata": {},
     "output_type": "execute_result"
    }
   ],
   "source": [
    "historico_df = pd.DataFrame(treinamento_historico.history)\n",
    "historico_df"
   ]
  },
  {
   "cell_type": "code",
   "execution_count": 31,
   "metadata": {},
   "outputs": [
    {
     "data": {
      "text/plain": [
       "<AxesSubplot:xlabel='Epochs'>"
      ]
     },
     "execution_count": 31,
     "metadata": {},
     "output_type": "execute_result"
    },
    {
     "data": {
      "image/png": "[encoded data removed]",
      "text/plain": [
       "<Figure size 432x288 with 1 Axes>"
      ]
     },
     "metadata": {
      "needs_background": "light"
     },
     "output_type": "display_data"
    }
   ],
   "source": [
    "historico_df.plot(style = [\"r--\", \"r-*\", \"b--\", \"b-*\"],\n",
    "                    xlim = (0,20), xlabel= \"Epochs\")"
   ]
  },
  {
   "attachments": {},
   "cell_type": "markdown",
   "metadata": {},
   "source": [
    "Estudamos a aplicação do tensorflow em um problema de regressão. Vejamos agora como a biblioteca pode ser facilmente usada em um problema de classificação."
   ]
  },
  {
   "attachments": {},
   "cell_type": "markdown",
   "metadata": {},
   "source": [
    "## Multiclass classification"
   ]
  },
  {
   "attachments": {},
   "cell_type": "markdown",
   "metadata": {},
   "source": [
    "Utilizaremos o conjunto de dados \"fashion_mnist\", que consiste em um problema de classificação de imagens em produtos de vestuário."
   ]
  },
  {
   "cell_type": "code",
   "execution_count": 32,
   "metadata": {},
   "outputs": [
    {
     "name": "stdout",
     "output_type": "stream",
     "text": [
      "Downloading data from https://storage.googleapis.com/tensorflow/tf-keras-datasets/train-labels-idx1-ubyte.gz\n",
      "29515/29515 [==============================] - 0s 0us/step\n",
      "Downloading data from https://storage.googleapis.com/tensorflow/tf-keras-datasets/train-images-idx3-ubyte.gz\n",
      "26421880/26421880 [==============================] - 3s 0us/step\n",
      "Downloading data from https://storage.googleapis.com/tensorflow/tf-keras-datasets/t10k-labels-idx1-ubyte.gz\n",
      "5148/5148 [==============================] - 0s 0s/step\n",
      "Downloading data from https://storage.googleapis.com/tensorflow/tf-keras-datasets/t10k-images-idx3-ubyte.gz\n",
      "4422102/4422102 [==============================] - 0s 0us/step\n"
     ]
    },
    {
     "data": {
      "text/plain": [
       "((array([[[0, 0, 0, ..., 0, 0, 0],\n",
       "          [0, 0, 0, ..., 0, 0, 0],\n",
       "          [0, 0, 0, ..., 0, 0, 0],\n",
       "          ...,\n",
       "          [0, 0, 0, ..., 0, 0, 0],\n",
       "          [0, 0, 0, ..., 0, 0, 0],\n",
       "          [0, 0, 0, ..., 0, 0, 0]],\n",
       "  \n",
       "         [[0, 0, 0, ..., 0, 0, 0],\n",
       "          [0, 0, 0, ..., 0, 0, 0],\n",
       "          [0, 0, 0, ..., 0, 0, 0],\n",
       "          ...,\n",
       "          [0, 0, 0, ..., 0, 0, 0],\n",
       "          [0, 0, 0, ..., 0, 0, 0],\n",
       "          [0, 0, 0, ..., 0, 0, 0]],\n",
       "  \n",
       "         [[0, 0, 0, ..., 0, 0, 0],\n",
       "          [0, 0, 0, ..., 0, 0, 0],\n",
       "          [0, 0, 0, ..., 0, 0, 0],\n",
       "          ...,\n",
       "          [0, 0, 0, ..., 0, 0, 0],\n",
       "          [0, 0, 0, ..., 0, 0, 0],\n",
       "          [0, 0, 0, ..., 0, 0, 0]],\n",
       "  \n",
       "         ...,\n",
       "  \n",
       "         [[0, 0, 0, ..., 0, 0, 0],\n",
       "          [0, 0, 0, ..., 0, 0, 0],\n",
       "          [0, 0, 0, ..., 0, 0, 0],\n",
       "          ...,\n",
       "          [0, 0, 0, ..., 0, 0, 0],\n",
       "          [0, 0, 0, ..., 0, 0, 0],\n",
       "          [0, 0, 0, ..., 0, 0, 0]],\n",
       "  \n",
       "         [[0, 0, 0, ..., 0, 0, 0],\n",
       "          [0, 0, 0, ..., 0, 0, 0],\n",
       "          [0, 0, 0, ..., 0, 0, 0],\n",
       "          ...,\n",
       "          [0, 0, 0, ..., 0, 0, 0],\n",
       "          [0, 0, 0, ..., 0, 0, 0],\n",
       "          [0, 0, 0, ..., 0, 0, 0]],\n",
       "  \n",
       "         [[0, 0, 0, ..., 0, 0, 0],\n",
       "          [0, 0, 0, ..., 0, 0, 0],\n",
       "          [0, 0, 0, ..., 0, 0, 0],\n",
       "          ...,\n",
       "          [0, 0, 0, ..., 0, 0, 0],\n",
       "          [0, 0, 0, ..., 0, 0, 0],\n",
       "          [0, 0, 0, ..., 0, 0, 0]]], dtype=uint8),\n",
       "  array([9, 0, 0, ..., 3, 0, 5], dtype=uint8)),\n",
       " (array([[[0, 0, 0, ..., 0, 0, 0],\n",
       "          [0, 0, 0, ..., 0, 0, 0],\n",
       "          [0, 0, 0, ..., 0, 0, 0],\n",
       "          ...,\n",
       "          [0, 0, 0, ..., 0, 0, 0],\n",
       "          [0, 0, 0, ..., 0, 0, 0],\n",
       "          [0, 0, 0, ..., 0, 0, 0]],\n",
       "  \n",
       "         [[0, 0, 0, ..., 0, 0, 0],\n",
       "          [0, 0, 0, ..., 0, 0, 0],\n",
       "          [0, 0, 0, ..., 0, 0, 0],\n",
       "          ...,\n",
       "          [0, 0, 0, ..., 0, 0, 0],\n",
       "          [0, 0, 0, ..., 0, 0, 0],\n",
       "          [0, 0, 0, ..., 0, 0, 0]],\n",
       "  \n",
       "         [[0, 0, 0, ..., 0, 0, 0],\n",
       "          [0, 0, 0, ..., 0, 0, 0],\n",
       "          [0, 0, 0, ..., 0, 0, 0],\n",
       "          ...,\n",
       "          [0, 0, 0, ..., 0, 0, 0],\n",
       "          [0, 0, 0, ..., 0, 0, 0],\n",
       "          [0, 0, 0, ..., 0, 0, 0]],\n",
       "  \n",
       "         ...,\n",
       "  \n",
       "         [[0, 0, 0, ..., 0, 0, 0],\n",
       "          [0, 0, 0, ..., 0, 0, 0],\n",
       "          [0, 0, 0, ..., 0, 0, 0],\n",
       "          ...,\n",
       "          [0, 0, 0, ..., 0, 0, 0],\n",
       "          [0, 0, 0, ..., 0, 0, 0],\n",
       "          [0, 0, 0, ..., 0, 0, 0]],\n",
       "  \n",
       "         [[0, 0, 0, ..., 0, 0, 0],\n",
       "          [0, 0, 0, ..., 0, 0, 0],\n",
       "          [0, 0, 0, ..., 0, 0, 0],\n",
       "          ...,\n",
       "          [0, 0, 0, ..., 0, 0, 0],\n",
       "          [0, 0, 0, ..., 0, 0, 0],\n",
       "          [0, 0, 0, ..., 0, 0, 0]],\n",
       "  \n",
       "         [[0, 0, 0, ..., 0, 0, 0],\n",
       "          [0, 0, 0, ..., 0, 0, 0],\n",
       "          [0, 0, 0, ..., 0, 0, 0],\n",
       "          ...,\n",
       "          [0, 0, 0, ..., 0, 0, 0],\n",
       "          [0, 0, 0, ..., 0, 0, 0],\n",
       "          [0, 0, 0, ..., 0, 0, 0]]], dtype=uint8),\n",
       "  array([9, 2, 1, ..., 8, 1, 5], dtype=uint8)))"
      ]
     },
     "execution_count": 32,
     "metadata": {},
     "output_type": "execute_result"
    }
   ],
   "source": [
    "dados = tf.keras.datasets.fashion_mnist.load_data()\n",
    "dados"
   ]
  },
  {
   "cell_type": "code",
   "execution_count": 80,
   "metadata": {},
   "outputs": [],
   "source": [
    "(X_train_full, y_train_full), (X_test, y_test) = dados"
   ]
  },
  {
   "cell_type": "code",
   "execution_count": 81,
   "metadata": {},
   "outputs": [
    {
     "data": {
      "text/plain": [
       "(60000, 28, 28)"
      ]
     },
     "execution_count": 81,
     "metadata": {},
     "output_type": "execute_result"
    }
   ],
   "source": [
    "X_train_full.shape"
   ]
  },
  {
   "attachments": {},
   "cell_type": "markdown",
   "metadata": {},
   "source": [
    "Na célula acima, percebe-se que temos 60000 exemplos de treinamento.\n",
    "\n",
    "Cada instância está organizada em uma matriz de pixels de dimensão $28\\times28$"
   ]
  },
  {
   "cell_type": "code",
   "execution_count": 82,
   "metadata": {},
   "outputs": [
    {
     "data": {
      "text/plain": [
       "(60000,)"
      ]
     },
     "execution_count": 82,
     "metadata": {},
     "output_type": "execute_result"
    }
   ],
   "source": [
    "y_train_full.shape"
   ]
  },
  {
   "cell_type": "code",
   "execution_count": 83,
   "metadata": {},
   "outputs": [
    {
     "data": {
      "text/plain": [
       "array([9, 0, 0, 3, 0, 2, 7, 2, 5, 5, 0, 9, 5, 5, 7, 9, 1, 0, 6, 4, 3, 1,\n",
       "       4, 8, 4, 3, 0, 2, 4, 4], dtype=uint8)"
      ]
     },
     "execution_count": 83,
     "metadata": {},
     "output_type": "execute_result"
    }
   ],
   "source": [
    "y_train_full [0:30]"
   ]
  },
  {
   "cell_type": "code",
   "execution_count": 84,
   "metadata": {},
   "outputs": [],
   "source": [
    "target_names = [\"camiseta/top\", \"calça\", \"jaqueta\", \"vestido\", \"casaco\", \n",
    "\"chinelo/sandália\", \"camisa_social\", \"sapatenis\", \"bolsa\", \"bota\"] "
   ]
  },
  {
   "cell_type": "code",
   "execution_count": 85,
   "metadata": {},
   "outputs": [],
   "source": [
    "X_train, X_valid, y_train, y_valid = train_test_split(X_train_full, y_train_full, random_state=42)"
   ]
  },
  {
   "cell_type": "code",
   "execution_count": 86,
   "metadata": {},
   "outputs": [],
   "source": [
    "X_train, X_valid, X_test = X_train/255. , X_valid/255. , X_test/255. "
   ]
  },
  {
   "cell_type": "code",
   "execution_count": 47,
   "metadata": {},
   "outputs": [],
   "source": [
    "from tensorflow.keras.layers import Flatten, Input"
   ]
  },
  {
   "cell_type": "code",
   "execution_count": 64,
   "metadata": {},
   "outputs": [],
   "source": [
    "tf.keras.backend.clear_session()\n",
    "tf.random.set_seed(42)\n",
    "\n",
    "#instanciando o modelo\n",
    "M2 = tf.keras.Sequential([\n",
    "                            Input(shape = [28,28]), # camada de input adicionada\n",
    "                            Flatten(), # A camada chamada \"Flatten\" passa cada instância (matrix 28x28) para um vetor de tamanho 784\n",
    "                            Dense(300, activation = \"relu\"), # uma camada de 300 neurônios com ativação relu\n",
    "                            Dense(100, activation = \"relu\"), # uma camada de 100 neurônios com ativação relu\n",
    "                            Dense(10, activation = \"softmax\") # uma camada de output de 10 neurônios com ativação softmax\n",
    "                        ])"
   ]
  },
  {
   "cell_type": "code",
   "execution_count": 65,
   "metadata": {},
   "outputs": [
    {
     "name": "stdout",
     "output_type": "stream",
     "text": [
      "Model: \"sequential\"\n",
      "_________________________________________________________________\n",
      " Layer (type)                Output Shape              Param #   \n",
      "=================================================================\n",
      " flatten (Flatten)           (None, 784)               0         \n",
      "                                                                 \n",
      " dense (Dense)               (None, 300)               235500    \n",
      "                                                                 \n",
      " dense_1 (Dense)             (None, 100)               30100     \n",
      "                                                                 \n",
      " dense_2 (Dense)             (None, 10)                1010      \n",
      "                                                                 \n",
      "=================================================================\n",
      "Total params: 266,610\n",
      "Trainable params: 266,610\n",
      "Non-trainable params: 0\n",
      "_________________________________________________________________\n"
     ]
    }
   ],
   "source": [
    "M2.summary()"
   ]
  },
  {
   "attachments": {},
   "cell_type": "markdown",
   "metadata": {},
   "source": [
    "**Questão**: Porque a camada dense_1 possui 30100 parâmetros?"
   ]
  },
  {
   "cell_type": "code",
   "execution_count": 66,
   "metadata": {},
   "outputs": [
    {
     "data": {
      "text/plain": [
       "[array([[-0.03465806,  0.09394989,  0.07588158, ..., -0.0018732 ,\n",
       "         -0.04861303, -0.04696623],\n",
       "        [-0.01933616, -0.06463078, -0.09612253, ..., -0.10072422,\n",
       "          0.05599686, -0.00484578],\n",
       "        [ 0.06168725, -0.00596569, -0.08228865, ..., -0.0520748 ,\n",
       "          0.11117173, -0.04873752],\n",
       "        ...,\n",
       "        [ 0.04126709, -0.07430071,  0.09765642, ..., -0.0645835 ,\n",
       "         -0.12095062, -0.03475898],\n",
       "        [ 0.05111406,  0.00656817, -0.02315488, ..., -0.08514268,\n",
       "         -0.03597703, -0.01551205],\n",
       "        [-0.04817357, -0.06893505,  0.11981633, ..., -0.11316301,\n",
       "          0.11883789, -0.04995817]], dtype=float32),\n",
       " array([0., 0., 0., 0., 0., 0., 0., 0., 0., 0., 0., 0., 0., 0., 0., 0., 0.,\n",
       "        0., 0., 0., 0., 0., 0., 0., 0., 0., 0., 0., 0., 0., 0., 0., 0., 0.,\n",
       "        0., 0., 0., 0., 0., 0., 0., 0., 0., 0., 0., 0., 0., 0., 0., 0., 0.,\n",
       "        0., 0., 0., 0., 0., 0., 0., 0., 0., 0., 0., 0., 0., 0., 0., 0., 0.,\n",
       "        0., 0., 0., 0., 0., 0., 0., 0., 0., 0., 0., 0., 0., 0., 0., 0., 0.,\n",
       "        0., 0., 0., 0., 0., 0., 0., 0., 0., 0., 0., 0., 0., 0., 0.],\n",
       "       dtype=float32)]"
      ]
     },
     "execution_count": 66,
     "metadata": {},
     "output_type": "execute_result"
    }
   ],
   "source": [
    "# Para acessar os parâmetros de uma camada, pode-se usar\n",
    "\n",
    "params = M2.layers[2].get_weights()\n",
    "params"
   ]
  },
  {
   "cell_type": "code",
   "execution_count": 67,
   "metadata": {},
   "outputs": [
    {
     "name": "stdout",
     "output_type": "stream",
     "text": [
      "weights = [[-0.03465806  0.09394989  0.07588158 ... -0.0018732  -0.04861303\n",
      "  -0.04696623]\n",
      " [-0.01933616 -0.06463078 -0.09612253 ... -0.10072422  0.05599686\n",
      "  -0.00484578]\n",
      " [ 0.06168725 -0.00596569 -0.08228865 ... -0.0520748   0.11117173\n",
      "  -0.04873752]\n",
      " ...\n",
      " [ 0.04126709 -0.07430071  0.09765642 ... -0.0645835  -0.12095062\n",
      "  -0.03475898]\n",
      " [ 0.05111406  0.00656817 -0.02315488 ... -0.08514268 -0.03597703\n",
      "  -0.01551205]\n",
      " [-0.04817357 -0.06893505  0.11981633 ... -0.11316301  0.11883789\n",
      "  -0.04995817]]\n",
      "-----------------------------\n",
      "bias = [0. 0. 0. 0. 0. 0. 0. 0. 0. 0. 0. 0. 0. 0. 0. 0. 0. 0. 0. 0. 0. 0. 0. 0.\n",
      " 0. 0. 0. 0. 0. 0. 0. 0. 0. 0. 0. 0. 0. 0. 0. 0. 0. 0. 0. 0. 0. 0. 0. 0.\n",
      " 0. 0. 0. 0. 0. 0. 0. 0. 0. 0. 0. 0. 0. 0. 0. 0. 0. 0. 0. 0. 0. 0. 0. 0.\n",
      " 0. 0. 0. 0. 0. 0. 0. 0. 0. 0. 0. 0. 0. 0. 0. 0. 0. 0. 0. 0. 0. 0. 0. 0.\n",
      " 0. 0. 0. 0.]\n"
     ]
    }
   ],
   "source": [
    "print(f\"weights = {params[0]}\\n\\\n",
    "-----------------------------\\n\\\n",
    "bias = {params[1]}\")"
   ]
  },
  {
   "attachments": {},
   "cell_type": "markdown",
   "metadata": {},
   "source": [
    "Vamos definir agora a função perda e o otimizador"
   ]
  },
  {
   "cell_type": "code",
   "execution_count": 68,
   "metadata": {},
   "outputs": [],
   "source": [
    "M2.compile(loss = \"sparse_categorical_crossentropy\",\n",
    "                optimizer = \"sgd\",\n",
    "                metrics = [\"accuracy\"])"
   ]
  },
  {
   "cell_type": "code",
   "execution_count": 69,
   "metadata": {},
   "outputs": [
    {
     "name": "stdout",
     "output_type": "stream",
     "text": [
      "Epoch 1/100\n",
      "1407/1407 [==============================] - 4s 2ms/step - loss: 0.7555 - accuracy: 0.7581 - val_loss: 0.5968 - val_accuracy: 0.7918\n",
      "Epoch 2/100\n",
      "1407/1407 [==============================] - 3s 2ms/step - loss: 0.5016 - accuracy: 0.8279 - val_loss: 0.5328 - val_accuracy: 0.8141\n",
      "Epoch 3/100\n",
      "1407/1407 [==============================] - 3s 2ms/step - loss: 0.4546 - accuracy: 0.8421 - val_loss: 0.4791 - val_accuracy: 0.8351\n",
      "Epoch 4/100\n",
      "1407/1407 [==============================] - 3s 2ms/step - loss: 0.4253 - accuracy: 0.8518 - val_loss: 0.4586 - val_accuracy: 0.8340\n",
      "Epoch 5/100\n",
      "1407/1407 [==============================] - 3s 2ms/step - loss: 0.4056 - accuracy: 0.8584 - val_loss: 0.5437 - val_accuracy: 0.8049\n",
      "Epoch 6/100\n",
      "1407/1407 [==============================] - 3s 2ms/step - loss: 0.3893 - accuracy: 0.8638 - val_loss: 0.4310 - val_accuracy: 0.8497\n",
      "Epoch 7/100\n",
      "1407/1407 [==============================] - 3s 2ms/step - loss: 0.3755 - accuracy: 0.8671 - val_loss: 0.4306 - val_accuracy: 0.8468\n",
      "Epoch 8/100\n",
      "1407/1407 [==============================] - 3s 2ms/step - loss: 0.3643 - accuracy: 0.8710 - val_loss: 0.4833 - val_accuracy: 0.8333\n",
      "Epoch 9/100\n",
      "1407/1407 [==============================] - 3s 2ms/step - loss: 0.3548 - accuracy: 0.8745 - val_loss: 0.3803 - val_accuracy: 0.8647\n",
      "Epoch 10/100\n",
      "1407/1407 [==============================] - 3s 2ms/step - loss: 0.3448 - accuracy: 0.8780 - val_loss: 0.3695 - val_accuracy: 0.8702\n",
      "Epoch 11/100\n",
      "1407/1407 [==============================] - 3s 2ms/step - loss: 0.3361 - accuracy: 0.8793 - val_loss: 0.3820 - val_accuracy: 0.8671\n",
      "Epoch 12/100\n",
      "1407/1407 [==============================] - 3s 2ms/step - loss: 0.3289 - accuracy: 0.8828 - val_loss: 0.3600 - val_accuracy: 0.8723\n",
      "Epoch 13/100\n",
      "1407/1407 [==============================] - 3s 2ms/step - loss: 0.3211 - accuracy: 0.8855 - val_loss: 0.3685 - val_accuracy: 0.8693\n",
      "Epoch 14/100\n",
      "1407/1407 [==============================] - 3s 2ms/step - loss: 0.3152 - accuracy: 0.8852 - val_loss: 0.3563 - val_accuracy: 0.8728\n",
      "Epoch 15/100\n",
      "1407/1407 [==============================] - 3s 2ms/step - loss: 0.3077 - accuracy: 0.8895 - val_loss: 0.3687 - val_accuracy: 0.8691\n",
      "Epoch 16/100\n",
      "1407/1407 [==============================] - 3s 2ms/step - loss: 0.3018 - accuracy: 0.8918 - val_loss: 0.3442 - val_accuracy: 0.8781\n",
      "Epoch 17/100\n",
      "1407/1407 [==============================] - 3s 2ms/step - loss: 0.2961 - accuracy: 0.8930 - val_loss: 0.3354 - val_accuracy: 0.8815\n",
      "Epoch 18/100\n",
      "1407/1407 [==============================] - 3s 2ms/step - loss: 0.2910 - accuracy: 0.8948 - val_loss: 0.3326 - val_accuracy: 0.8819\n",
      "Epoch 19/100\n",
      "1407/1407 [==============================] - 3s 2ms/step - loss: 0.2842 - accuracy: 0.8986 - val_loss: 0.4009 - val_accuracy: 0.8575\n",
      "Epoch 20/100\n",
      "1407/1407 [==============================] - 3s 2ms/step - loss: 0.2805 - accuracy: 0.8993 - val_loss: 0.3343 - val_accuracy: 0.8811\n",
      "Epoch 21/100\n",
      "1407/1407 [==============================] - 3s 2ms/step - loss: 0.2754 - accuracy: 0.9019 - val_loss: 0.3467 - val_accuracy: 0.8746\n",
      "Epoch 22/100\n",
      "1407/1407 [==============================] - 3s 2ms/step - loss: 0.2700 - accuracy: 0.9025 - val_loss: 0.3427 - val_accuracy: 0.8762\n",
      "Epoch 23/100\n",
      "1407/1407 [==============================] - 3s 2ms/step - loss: 0.2657 - accuracy: 0.9042 - val_loss: 0.3685 - val_accuracy: 0.8656\n",
      "Epoch 24/100\n",
      "1407/1407 [==============================] - 3s 2ms/step - loss: 0.2617 - accuracy: 0.9058 - val_loss: 0.3266 - val_accuracy: 0.8829\n",
      "Epoch 25/100\n",
      "1407/1407 [==============================] - 3s 2ms/step - loss: 0.2563 - accuracy: 0.9074 - val_loss: 0.3419 - val_accuracy: 0.8773\n",
      "Epoch 26/100\n",
      "1407/1407 [==============================] - 3s 2ms/step - loss: 0.2525 - accuracy: 0.9083 - val_loss: 0.3849 - val_accuracy: 0.8587\n",
      "Epoch 27/100\n",
      "1407/1407 [==============================] - 3s 2ms/step - loss: 0.2487 - accuracy: 0.9105 - val_loss: 0.3195 - val_accuracy: 0.8846\n",
      "Epoch 28/100\n",
      "1407/1407 [==============================] - 3s 2ms/step - loss: 0.2447 - accuracy: 0.9123 - val_loss: 0.3634 - val_accuracy: 0.8716\n",
      "Epoch 29/100\n",
      "1407/1407 [==============================] - 3s 2ms/step - loss: 0.2403 - accuracy: 0.9143 - val_loss: 0.3292 - val_accuracy: 0.8836\n",
      "Epoch 30/100\n",
      "1407/1407 [==============================] - 3s 2ms/step - loss: 0.2369 - accuracy: 0.9137 - val_loss: 0.3304 - val_accuracy: 0.8824\n",
      "Epoch 31/100\n",
      "1407/1407 [==============================] - 3s 2ms/step - loss: 0.2332 - accuracy: 0.9165 - val_loss: 0.3116 - val_accuracy: 0.8894\n",
      "Epoch 32/100\n",
      "1407/1407 [==============================] - 3s 2ms/step - loss: 0.2308 - accuracy: 0.9157 - val_loss: 0.3367 - val_accuracy: 0.8781\n",
      "Epoch 33/100\n",
      "1407/1407 [==============================] - 4s 2ms/step - loss: 0.2255 - accuracy: 0.9196 - val_loss: 0.3204 - val_accuracy: 0.8869\n",
      "Epoch 34/100\n",
      "1407/1407 [==============================] - 4s 3ms/step - loss: 0.2225 - accuracy: 0.9190 - val_loss: 0.4274 - val_accuracy: 0.8536\n",
      "Epoch 35/100\n",
      "1407/1407 [==============================] - 3s 2ms/step - loss: 0.2197 - accuracy: 0.9206 - val_loss: 0.3165 - val_accuracy: 0.8858\n",
      "Epoch 36/100\n",
      "1407/1407 [==============================] - 3s 2ms/step - loss: 0.2158 - accuracy: 0.9220 - val_loss: 0.3421 - val_accuracy: 0.8795\n",
      "Epoch 37/100\n",
      "1407/1407 [==============================] - 3s 2ms/step - loss: 0.2120 - accuracy: 0.9236 - val_loss: 0.3450 - val_accuracy: 0.8789\n",
      "Epoch 38/100\n",
      "1407/1407 [==============================] - 3s 2ms/step - loss: 0.2084 - accuracy: 0.9253 - val_loss: 0.3041 - val_accuracy: 0.8937\n",
      "Epoch 39/100\n",
      "1407/1407 [==============================] - 3s 2ms/step - loss: 0.2060 - accuracy: 0.9262 - val_loss: 0.3551 - val_accuracy: 0.8719\n",
      "Epoch 40/100\n",
      "1407/1407 [==============================] - 3s 2ms/step - loss: 0.2030 - accuracy: 0.9275 - val_loss: 0.3083 - val_accuracy: 0.8893\n",
      "Epoch 41/100\n",
      "1407/1407 [==============================] - 3s 2ms/step - loss: 0.1997 - accuracy: 0.9279 - val_loss: 0.3646 - val_accuracy: 0.8720\n",
      "Epoch 42/100\n",
      "1407/1407 [==============================] - 3s 2ms/step - loss: 0.1975 - accuracy: 0.9281 - val_loss: 0.3142 - val_accuracy: 0.8901\n",
      "Epoch 43/100\n",
      "1407/1407 [==============================] - 3s 2ms/step - loss: 0.1943 - accuracy: 0.9297 - val_loss: 0.4601 - val_accuracy: 0.8527\n",
      "Epoch 44/100\n",
      "1407/1407 [==============================] - 3s 2ms/step - loss: 0.1916 - accuracy: 0.9318 - val_loss: 0.3081 - val_accuracy: 0.8916\n",
      "Epoch 45/100\n",
      "1407/1407 [==============================] - 3s 2ms/step - loss: 0.1888 - accuracy: 0.9314 - val_loss: 0.3224 - val_accuracy: 0.8868\n",
      "Epoch 46/100\n",
      "1407/1407 [==============================] - 3s 2ms/step - loss: 0.1855 - accuracy: 0.9331 - val_loss: 0.3098 - val_accuracy: 0.8917\n",
      "Epoch 47/100\n",
      "1407/1407 [==============================] - 3s 2ms/step - loss: 0.1828 - accuracy: 0.9337 - val_loss: 0.3111 - val_accuracy: 0.8908\n",
      "Epoch 48/100\n",
      "1407/1407 [==============================] - 3s 2ms/step - loss: 0.1808 - accuracy: 0.9350 - val_loss: 0.3112 - val_accuracy: 0.8903\n",
      "Epoch 49/100\n",
      "1407/1407 [==============================] - 3s 2ms/step - loss: 0.1772 - accuracy: 0.9376 - val_loss: 0.3051 - val_accuracy: 0.8927\n",
      "Epoch 50/100\n",
      "1407/1407 [==============================] - 3s 2ms/step - loss: 0.1745 - accuracy: 0.9375 - val_loss: 0.3952 - val_accuracy: 0.8753\n",
      "Epoch 51/100\n",
      "1407/1407 [==============================] - 3s 2ms/step - loss: 0.1714 - accuracy: 0.9396 - val_loss: 0.3145 - val_accuracy: 0.8923\n",
      "Epoch 52/100\n",
      "1407/1407 [==============================] - 3s 2ms/step - loss: 0.1687 - accuracy: 0.9404 - val_loss: 0.3118 - val_accuracy: 0.8927\n",
      "Epoch 53/100\n",
      "1407/1407 [==============================] - 3s 2ms/step - loss: 0.1667 - accuracy: 0.9407 - val_loss: 0.3106 - val_accuracy: 0.8935\n",
      "Epoch 54/100\n",
      "1407/1407 [==============================] - 3s 2ms/step - loss: 0.1638 - accuracy: 0.9417 - val_loss: 0.3601 - val_accuracy: 0.8751\n",
      "Epoch 55/100\n",
      "1407/1407 [==============================] - 3s 2ms/step - loss: 0.1618 - accuracy: 0.9419 - val_loss: 0.3064 - val_accuracy: 0.8946\n",
      "Epoch 56/100\n",
      "1407/1407 [==============================] - 3s 2ms/step - loss: 0.1587 - accuracy: 0.9431 - val_loss: 0.3216 - val_accuracy: 0.8891\n",
      "Epoch 57/100\n",
      "1407/1407 [==============================] - 3s 2ms/step - loss: 0.1573 - accuracy: 0.9450 - val_loss: 0.3280 - val_accuracy: 0.8871\n",
      "Epoch 58/100\n",
      "1407/1407 [==============================] - 3s 2ms/step - loss: 0.1544 - accuracy: 0.9462 - val_loss: 0.3357 - val_accuracy: 0.8865\n",
      "Epoch 59/100\n",
      "1407/1407 [==============================] - 3s 2ms/step - loss: 0.1510 - accuracy: 0.9468 - val_loss: 0.3441 - val_accuracy: 0.8859\n",
      "Epoch 60/100\n",
      "1407/1407 [==============================] - 3s 2ms/step - loss: 0.1503 - accuracy: 0.9465 - val_loss: 0.3237 - val_accuracy: 0.8914\n",
      "Epoch 61/100\n",
      "1407/1407 [==============================] - 3s 2ms/step - loss: 0.1474 - accuracy: 0.9480 - val_loss: 0.3201 - val_accuracy: 0.8918\n",
      "Epoch 62/100\n",
      "1407/1407 [==============================] - 3s 2ms/step - loss: 0.1457 - accuracy: 0.9478 - val_loss: 0.3241 - val_accuracy: 0.8923\n",
      "Epoch 63/100\n",
      "1407/1407 [==============================] - 3s 2ms/step - loss: 0.1439 - accuracy: 0.9499 - val_loss: 0.3282 - val_accuracy: 0.8901\n",
      "Epoch 64/100\n",
      "1407/1407 [==============================] - 3s 2ms/step - loss: 0.1402 - accuracy: 0.9511 - val_loss: 0.4037 - val_accuracy: 0.8739\n",
      "Epoch 65/100\n",
      "1407/1407 [==============================] - 3s 2ms/step - loss: 0.1381 - accuracy: 0.9511 - val_loss: 0.3212 - val_accuracy: 0.8919\n",
      "Epoch 66/100\n",
      "1407/1407 [==============================] - 3s 2ms/step - loss: 0.1355 - accuracy: 0.9527 - val_loss: 0.3304 - val_accuracy: 0.8897\n",
      "Epoch 67/100\n",
      "1407/1407 [==============================] - 3s 2ms/step - loss: 0.1341 - accuracy: 0.9538 - val_loss: 0.3124 - val_accuracy: 0.8968\n",
      "Epoch 68/100\n",
      "1407/1407 [==============================] - 3s 2ms/step - loss: 0.1316 - accuracy: 0.9541 - val_loss: 0.3478 - val_accuracy: 0.8869\n",
      "Epoch 69/100\n",
      "1407/1407 [==============================] - 3s 2ms/step - loss: 0.1307 - accuracy: 0.9539 - val_loss: 0.3389 - val_accuracy: 0.8875\n",
      "Epoch 70/100\n",
      "1407/1407 [==============================] - 3s 2ms/step - loss: 0.1278 - accuracy: 0.9546 - val_loss: 0.3652 - val_accuracy: 0.8823\n",
      "Epoch 71/100\n",
      "1407/1407 [==============================] - 3s 2ms/step - loss: 0.1249 - accuracy: 0.9564 - val_loss: 0.3414 - val_accuracy: 0.8904\n",
      "Epoch 72/100\n",
      "1407/1407 [==============================] - 3s 2ms/step - loss: 0.1240 - accuracy: 0.9560 - val_loss: 0.3260 - val_accuracy: 0.8935\n",
      "Epoch 73/100\n",
      "1407/1407 [==============================] - 3s 2ms/step - loss: 0.1203 - accuracy: 0.9581 - val_loss: 0.3520 - val_accuracy: 0.8861\n",
      "Epoch 74/100\n",
      "1407/1407 [==============================] - 3s 2ms/step - loss: 0.1192 - accuracy: 0.9583 - val_loss: 0.3337 - val_accuracy: 0.8885\n",
      "Epoch 75/100\n",
      "1407/1407 [==============================] - 3s 2ms/step - loss: 0.1161 - accuracy: 0.9602 - val_loss: 0.3378 - val_accuracy: 0.8920\n",
      "Epoch 76/100\n",
      "1407/1407 [==============================] - 3s 2ms/step - loss: 0.1157 - accuracy: 0.9603 - val_loss: 0.3697 - val_accuracy: 0.8846\n",
      "Epoch 77/100\n",
      "1407/1407 [==============================] - 3s 2ms/step - loss: 0.1146 - accuracy: 0.9600 - val_loss: 0.3497 - val_accuracy: 0.8891\n",
      "Epoch 78/100\n",
      "1407/1407 [==============================] - 3s 2ms/step - loss: 0.1124 - accuracy: 0.9600 - val_loss: 0.3326 - val_accuracy: 0.8928\n",
      "Epoch 79/100\n",
      "1407/1407 [==============================] - 3s 2ms/step - loss: 0.1090 - accuracy: 0.9628 - val_loss: 0.4206 - val_accuracy: 0.8766\n",
      "Epoch 80/100\n",
      "1407/1407 [==============================] - 3s 2ms/step - loss: 0.1095 - accuracy: 0.9616 - val_loss: 0.3571 - val_accuracy: 0.8892\n",
      "Epoch 81/100\n",
      "1407/1407 [==============================] - 3s 2ms/step - loss: 0.1048 - accuracy: 0.9640 - val_loss: 0.3406 - val_accuracy: 0.8953\n",
      "Epoch 82/100\n",
      "1407/1407 [==============================] - 3s 2ms/step - loss: 0.1043 - accuracy: 0.9639 - val_loss: 0.3457 - val_accuracy: 0.8929\n",
      "Epoch 83/100\n",
      "1407/1407 [==============================] - 3s 2ms/step - loss: 0.1032 - accuracy: 0.9642 - val_loss: 0.4809 - val_accuracy: 0.8591\n",
      "Epoch 84/100\n",
      "1407/1407 [==============================] - 3s 2ms/step - loss: 0.1014 - accuracy: 0.9656 - val_loss: 0.3352 - val_accuracy: 0.8932\n",
      "Epoch 85/100\n",
      "1407/1407 [==============================] - 3s 2ms/step - loss: 0.1003 - accuracy: 0.9654 - val_loss: 0.3635 - val_accuracy: 0.8852\n",
      "Epoch 86/100\n",
      "1407/1407 [==============================] - 3s 2ms/step - loss: 0.0983 - accuracy: 0.9669 - val_loss: 0.3505 - val_accuracy: 0.8897\n",
      "Epoch 87/100\n",
      "1407/1407 [==============================] - 3s 2ms/step - loss: 0.0953 - accuracy: 0.9679 - val_loss: 0.3478 - val_accuracy: 0.8907\n",
      "Epoch 88/100\n",
      "1407/1407 [==============================] - 3s 2ms/step - loss: 0.0946 - accuracy: 0.9675 - val_loss: 0.3550 - val_accuracy: 0.8911\n",
      "Epoch 89/100\n",
      "1407/1407 [==============================] - 3s 2ms/step - loss: 0.0933 - accuracy: 0.9685 - val_loss: 0.5350 - val_accuracy: 0.8537\n",
      "Epoch 90/100\n",
      "1407/1407 [==============================] - 3s 2ms/step - loss: 0.0901 - accuracy: 0.9699 - val_loss: 0.3679 - val_accuracy: 0.8884\n",
      "Epoch 91/100\n",
      "1407/1407 [==============================] - 3s 2ms/step - loss: 0.0889 - accuracy: 0.9701 - val_loss: 0.3589 - val_accuracy: 0.8921\n",
      "Epoch 92/100\n",
      "1407/1407 [==============================] - 3s 2ms/step - loss: 0.0884 - accuracy: 0.9702 - val_loss: 0.3791 - val_accuracy: 0.8887\n",
      "Epoch 93/100\n",
      "1407/1407 [==============================] - 3s 2ms/step - loss: 0.0865 - accuracy: 0.9701 - val_loss: 0.3555 - val_accuracy: 0.8919\n",
      "Epoch 94/100\n",
      "1407/1407 [==============================] - 3s 2ms/step - loss: 0.0832 - accuracy: 0.9728 - val_loss: 0.3818 - val_accuracy: 0.8874\n",
      "Epoch 95/100\n",
      "1407/1407 [==============================] - 3s 2ms/step - loss: 0.0841 - accuracy: 0.9713 - val_loss: 0.4885 - val_accuracy: 0.8644\n",
      "Epoch 96/100\n",
      "1407/1407 [==============================] - 3s 2ms/step - loss: 0.0808 - accuracy: 0.9733 - val_loss: 0.4195 - val_accuracy: 0.8797\n",
      "Epoch 97/100\n",
      "1407/1407 [==============================] - 3s 2ms/step - loss: 0.0809 - accuracy: 0.9735 - val_loss: 0.5334 - val_accuracy: 0.8593\n",
      "Epoch 98/100\n",
      "1407/1407 [==============================] - 3s 2ms/step - loss: 0.0798 - accuracy: 0.9732 - val_loss: 0.3815 - val_accuracy: 0.8904\n",
      "Epoch 99/100\n",
      "1407/1407 [==============================] - 3s 2ms/step - loss: 0.0779 - accuracy: 0.9738 - val_loss: 0.3642 - val_accuracy: 0.8950\n",
      "Epoch 100/100\n",
      "1407/1407 [==============================] - 3s 2ms/step - loss: 0.0765 - accuracy: 0.9747 - val_loss: 0.3680 - val_accuracy: 0.8916\n"
     ]
    }
   ],
   "source": [
    "treinamento = M2.fit(X_train, y_train, epochs=100, validation_data=(X_valid,y_valid))"
   ]
  },
  {
   "cell_type": "code",
   "execution_count": 71,
   "metadata": {},
   "outputs": [
    {
     "data": {
      "text/html": [
       "<div>\n",
       "<style scoped>\n",
       "    .dataframe tbody tr th:only-of-type {\n",
       "        vertical-align: middle;\n",
       "    }\n",
       "\n",
       "    .dataframe tbody tr th {\n",
       "        vertical-align: top;\n",
       "    }\n",
       "\n",
       "    .dataframe thead th {\n",
       "        text-align: right;\n",
       "    }\n",
       "</style>\n",
       "<table border=\"1\" class=\"dataframe\">\n",
       "  <thead>\n",
       "    <tr style=\"text-align: right;\">\n",
       "      <th></th>\n",
       "      <th>loss</th>\n",
       "      <th>accuracy</th>\n",
       "      <th>val_loss</th>\n",
       "      <th>val_accuracy</th>\n",
       "    </tr>\n",
       "  </thead>\n",
       "  <tbody>\n",
       "    <tr>\n",
       "      <th>95</th>\n",
       "      <td>0.080832</td>\n",
       "      <td>0.973311</td>\n",
       "      <td>0.419526</td>\n",
       "      <td>0.879667</td>\n",
       "    </tr>\n",
       "    <tr>\n",
       "      <th>96</th>\n",
       "      <td>0.080870</td>\n",
       "      <td>0.973467</td>\n",
       "      <td>0.533386</td>\n",
       "      <td>0.859333</td>\n",
       "    </tr>\n",
       "    <tr>\n",
       "      <th>97</th>\n",
       "      <td>0.079769</td>\n",
       "      <td>0.973178</td>\n",
       "      <td>0.381522</td>\n",
       "      <td>0.890400</td>\n",
       "    </tr>\n",
       "    <tr>\n",
       "      <th>98</th>\n",
       "      <td>0.077854</td>\n",
       "      <td>0.973756</td>\n",
       "      <td>0.364165</td>\n",
       "      <td>0.895000</td>\n",
       "    </tr>\n",
       "    <tr>\n",
       "      <th>99</th>\n",
       "      <td>0.076535</td>\n",
       "      <td>0.974667</td>\n",
       "      <td>0.368029</td>\n",
       "      <td>0.891600</td>\n",
       "    </tr>\n",
       "  </tbody>\n",
       "</table>\n",
       "</div>"
      ],
      "text/plain": [
       "        loss  accuracy  val_loss  val_accuracy\n",
       "95  0.080832  0.973311  0.419526      0.879667\n",
       "96  0.080870  0.973467  0.533386      0.859333\n",
       "97  0.079769  0.973178  0.381522      0.890400\n",
       "98  0.077854  0.973756  0.364165      0.895000\n",
       "99  0.076535  0.974667  0.368029      0.891600"
      ]
     },
     "execution_count": 71,
     "metadata": {},
     "output_type": "execute_result"
    }
   ],
   "source": [
    "treinamento_historico = pd.DataFrame(treinamento.history)\n",
    "treinamento_historico.tail()"
   ]
  },
  {
   "cell_type": "code",
   "execution_count": 72,
   "metadata": {},
   "outputs": [
    {
     "data": {
      "text/plain": [
       "<AxesSubplot:>"
      ]
     },
     "execution_count": 72,
     "metadata": {},
     "output_type": "execute_result"
    },
    {
     "data": {
      "image/png": "[encoded data removed]",
      "text/plain": [
       "<Figure size 432x288 with 1 Axes>"
      ]
     },
     "metadata": {
      "needs_background": "light"
     },
     "output_type": "display_data"
    }
   ],
   "source": [
    "treinamento_historico.plot()"
   ]
  },
  {
   "cell_type": "code",
   "execution_count": 73,
   "metadata": {},
   "outputs": [
    {
     "data": {
      "text/plain": [
       "<AxesSubplot:xlabel='Epoch'>"
      ]
     },
     "execution_count": 73,
     "metadata": {},
     "output_type": "execute_result"
    },
    {
     "data": {
      "image/png": "[encoded data removed]",
      "text/plain": [
       "<Figure size 576x360 with 1 Axes>"
      ]
     },
     "metadata": {
      "needs_background": "light"
     },
     "output_type": "display_data"
    }
   ],
   "source": [
    "treinamento_historico.plot(figsize = (8,5),xlim=[0,49], ylim=[0,1], grid=True, xlabel=\"Epoch\", \n",
    "                            style = [\"r-\", \"r-*\", \"b-\", \"b-*\"])"
   ]
  },
  {
   "cell_type": "code",
   "execution_count": 90,
   "metadata": {},
   "outputs": [
    {
     "name": "stdout",
     "output_type": "stream",
     "text": [
      "313/313 [==============================] - 0s 1ms/step - loss: 0.4057 - accuracy: 0.8869\n"
     ]
    }
   ],
   "source": [
    "results_test = M2.evaluate(X_test, y_test)"
   ]
  },
  {
   "cell_type": "code",
   "execution_count": 92,
   "metadata": {},
   "outputs": [
    {
     "name": "stdout",
     "output_type": "stream",
     "text": [
      "Nossa perda calculada para a \"sparse_categorical_crossentropy\" foi de 0.4057468771934509\n",
      "A acurácia no conjunto de teste foi de 0.886900007724762\n"
     ]
    }
   ],
   "source": [
    "print(f'Nossa perda calculada para a \"sparse_categorical_crossentropy\" foi de {results_test[0]}\\n\\\n",
    "A acurácia no conjunto de teste foi de {results_test[1]}')"
   ]
  },
  {
   "attachments": {},
   "cell_type": "markdown",
   "metadata": {},
   "source": [
    "# Functional API\n",
    "\n",
    "Também é possível formar estruturas mais complexas no Keras por meio do Functional API. Nesse caso, as camadas são construídas em formato de funções cujos inputs são as camadas anteriores."
   ]
  },
  {
   "cell_type": "code",
   "execution_count": 93,
   "metadata": {},
   "outputs": [],
   "source": [
    "from tensorflow.keras.layers import concatenate"
   ]
  },
  {
   "cell_type": "code",
   "execution_count": 94,
   "metadata": {},
   "outputs": [],
   "source": [
    "dados = fetch_california_housing()\n",
    "X = dados.data\n",
    "y = dados.target\n",
    "X_train_full, X_test, y_train_full, y_test = train_test_split(X,y,random_state=42)\n",
    "X_train, X_valid, y_train, y_valid = train_test_split(X_train_full, y_train_full, random_state=42) "
   ]
  },
  {
   "attachments": {},
   "cell_type": "markdown",
   "metadata": {},
   "source": [
    "Digamos que queremos que alguns atributos passem por camadas profundas. Porém, outros não (pode haver interceção nos dois grupos).\n",
    "\n",
    "- Para isso podemos dividir o dataset"
   ]
  },
  {
   "cell_type": "code",
   "execution_count": 95,
   "metadata": {},
   "outputs": [],
   "source": [
    "X_train_raso, X_train_profundo = X_train[:, :5], X_train[:, 2:]\n",
    "X_valid_raso, X_valid_profundo = X_valid[:, :5], X_valid[:, 2:]\n",
    "X_test_raso, X_test_profundo = X_test[:, :5], X_test[:, 2:]"
   ]
  },
  {
   "attachments": {},
   "cell_type": "markdown",
   "metadata": {},
   "source": [
    "Criando a estrutura com o Functional API:"
   ]
  },
  {
   "cell_type": "code",
   "execution_count": 96,
   "metadata": {},
   "outputs": [],
   "source": [
    "tf.keras.backend.clear_session()\n",
    "\n",
    "input_raso = Input(shape=[5], name=\"input_raso\")\n",
    "input_profundo = Input(shape = [6], name = \"input_profundo\")\n",
    "\n",
    "norm_layer_raso = Normalization()\n",
    "norm_layer_profundo = Normalization()\n",
    "\n",
    "norm_raso = norm_layer_raso(input_raso)\n",
    "norm_profundo = norm_layer_profundo(input_profundo)\n",
    "\n",
    "hidden1 = Dense(30, activation = \"relu\")(norm_profundo)\n",
    "hidden2 = Dense(30, activation =\"relu\")(hidden1)\n",
    "\n",
    "concat = concatenate([norm_raso,hidden2])\n",
    "output = Dense(1)(concat)\n",
    "\n",
    "modelo = tf.keras.Model(inputs = [input_raso, input_profundo], outputs = [output])"
   ]
  },
  {
   "cell_type": "code",
   "execution_count": 97,
   "metadata": {},
   "outputs": [
    {
     "data": {
      "text/plain": [
       "<keras.engine.functional.Functional at 0x18fc874f4f0>"
      ]
     },
     "execution_count": 97,
     "metadata": {},
     "output_type": "execute_result"
    }
   ],
   "source": [
    "modelo"
   ]
  },
  {
   "cell_type": "code",
   "execution_count": 98,
   "metadata": {},
   "outputs": [],
   "source": [
    "modelo.compile(loss = \"mse\",\n",
    "                optimizer = tf.keras.optimizers.Adam(learning_rate=1e-3),\n",
    "                metrics = [\"RootMeanSquaredError\"])"
   ]
  },
  {
   "cell_type": "code",
   "execution_count": 99,
   "metadata": {},
   "outputs": [
    {
     "name": "stdout",
     "output_type": "stream",
     "text": [
      "Epoch 1/20\n",
      "363/363 [==============================] - 1s 2ms/step - loss: 1.1357 - root_mean_squared_error: 1.0657 - val_loss: 0.9314 - val_root_mean_squared_error: 0.9651\n",
      "Epoch 2/20\n",
      "363/363 [==============================] - 1s 1ms/step - loss: 0.4820 - root_mean_squared_error: 0.6942 - val_loss: 0.8154 - val_root_mean_squared_error: 0.9030\n",
      "Epoch 3/20\n",
      "363/363 [==============================] - 1s 2ms/step - loss: 0.4285 - root_mean_squared_error: 0.6546 - val_loss: 0.3972 - val_root_mean_squared_error: 0.6303\n",
      "Epoch 4/20\n",
      "363/363 [==============================] - 1s 2ms/step - loss: 0.4029 - root_mean_squared_error: 0.6348 - val_loss: 0.3728 - val_root_mean_squared_error: 0.6106\n",
      "Epoch 5/20\n",
      "363/363 [==============================] - 1s 2ms/step - loss: 0.3944 - root_mean_squared_error: 0.6280 - val_loss: 0.4584 - val_root_mean_squared_error: 0.6771\n",
      "Epoch 6/20\n",
      "363/363 [==============================] - 1s 2ms/step - loss: 0.3838 - root_mean_squared_error: 0.6195 - val_loss: 0.9007 - val_root_mean_squared_error: 0.9491\n",
      "Epoch 7/20\n",
      "363/363 [==============================] - 1s 2ms/step - loss: 0.3832 - root_mean_squared_error: 0.6190 - val_loss: 0.9951 - val_root_mean_squared_error: 0.9975\n",
      "Epoch 8/20\n",
      "363/363 [==============================] - 1s 2ms/step - loss: 0.3719 - root_mean_squared_error: 0.6098 - val_loss: 4.5414 - val_root_mean_squared_error: 2.1311\n",
      "Epoch 9/20\n",
      "363/363 [==============================] - 1s 2ms/step - loss: 0.3786 - root_mean_squared_error: 0.6153 - val_loss: 3.5018 - val_root_mean_squared_error: 1.8713\n",
      "Epoch 10/20\n",
      "363/363 [==============================] - 1s 2ms/step - loss: 0.3921 - root_mean_squared_error: 0.6262 - val_loss: 0.5037 - val_root_mean_squared_error: 0.7097\n",
      "Epoch 11/20\n",
      "363/363 [==============================] - 1s 1ms/step - loss: 0.3587 - root_mean_squared_error: 0.5989 - val_loss: 0.3303 - val_root_mean_squared_error: 0.5747\n",
      "Epoch 12/20\n",
      "363/363 [==============================] - 1s 1ms/step - loss: 0.3589 - root_mean_squared_error: 0.5991 - val_loss: 0.3845 - val_root_mean_squared_error: 0.6200\n",
      "Epoch 13/20\n",
      "363/363 [==============================] - 1s 1ms/step - loss: 0.3530 - root_mean_squared_error: 0.5941 - val_loss: 0.3551 - val_root_mean_squared_error: 0.5959\n",
      "Epoch 14/20\n",
      "363/363 [==============================] - 1s 1ms/step - loss: 0.3580 - root_mean_squared_error: 0.5983 - val_loss: 0.3236 - val_root_mean_squared_error: 0.5689\n",
      "Epoch 15/20\n",
      "363/363 [==============================] - 1s 2ms/step - loss: 0.3474 - root_mean_squared_error: 0.5894 - val_loss: 0.3364 - val_root_mean_squared_error: 0.5800\n",
      "Epoch 16/20\n",
      "363/363 [==============================] - 1s 2ms/step - loss: 0.3460 - root_mean_squared_error: 0.5882 - val_loss: 0.4068 - val_root_mean_squared_error: 0.6378\n",
      "Epoch 17/20\n",
      "363/363 [==============================] - 1s 2ms/step - loss: 0.3435 - root_mean_squared_error: 0.5861 - val_loss: 1.3137 - val_root_mean_squared_error: 1.1462\n",
      "Epoch 18/20\n",
      "363/363 [==============================] - 1s 1ms/step - loss: 0.3448 - root_mean_squared_error: 0.5872 - val_loss: 0.9736 - val_root_mean_squared_error: 0.9867\n",
      "Epoch 19/20\n",
      "363/363 [==============================] - 1s 1ms/step - loss: 0.3390 - root_mean_squared_error: 0.5823 - val_loss: 0.9214 - val_root_mean_squared_error: 0.9599\n",
      "Epoch 20/20\n",
      "363/363 [==============================] - 1s 1ms/step - loss: 0.3469 - root_mean_squared_error: 0.5890 - val_loss: 0.7441 - val_root_mean_squared_error: 0.8626\n"
     ]
    }
   ],
   "source": [
    "norm_layer_raso.adapt(X_train_raso)\n",
    "norm_layer_profundo.adapt(X_train_profundo)\n",
    "\n",
    "treinamento = modelo.fit({\"input_raso\": X_train_raso, \"input_profundo\": X_train_profundo}, # Equivalente a passar um tupple (X_train_raso, X_train_profundo)\n",
    "                            y_train,\n",
    "                            epochs = 20,\n",
    "                            validation_data = ((X_valid_raso,X_valid_profundo), y_valid)\n",
    "                            )"
   ]
  },
  {
   "cell_type": "code",
   "execution_count": 100,
   "metadata": {},
   "outputs": [
    {
     "name": "stdout",
     "output_type": "stream",
     "text": [
      "162/162 [==============================] - 0s 1ms/step - loss: 0.3365 - root_mean_squared_error: 0.5801\n"
     ]
    }
   ],
   "source": [
    "mse_test, rmse_test = modelo.evaluate((X_test_raso,X_test_profundo), y_test)"
   ]
  },
  {
   "cell_type": "code",
   "execution_count": 101,
   "metadata": {},
   "outputs": [
    {
     "data": {
      "text/plain": [
       "0.3365383446216583"
      ]
     },
     "execution_count": 101,
     "metadata": {},
     "output_type": "execute_result"
    }
   ],
   "source": [
    "mse_test"
   ]
  }
 ],
 "metadata": {
  "kernelspec": {
   "display_name": "Python 3.9.7 ('base')",
   "language": "python",
   "name": "python3"
  },
  "language_info": {
   "codemirror_mode": {
    "name": "ipython",
    "version": 3
   },
   "file_extension": ".py",
   "mimetype": "text/x-python",
   "name": "python",
   "nbconvert_exporter": "python",
   "pygments_lexer": "ipython3",
   "version": "3.9.7"
  },
  "orig_nbformat": 4,
  "vscode": {
   "interpreter": {
    "hash": "e4cce46d6be9934fbd27f9ca0432556941ea5bdf741d4f4d64c6cd7f8dfa8fba"
   }
  }
 },
 "nbformat": 4,
 "nbformat_minor": 2
}
