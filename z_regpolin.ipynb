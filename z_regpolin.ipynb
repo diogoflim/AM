{
 "cells": [
  {
   "cell_type": "markdown",
   "id": "8fe63fcc-8cf5-4706-acce-fb2c618730ef",
   "metadata": {},
   "source": [
    "# Regressão Polinomial"
   ]
  },
  {
   "cell_type": "markdown",
   "id": "c753bce6-2efa-45ae-bb65-47715774a2ff",
   "metadata": {},
   "source": [
    "Modelos de estrutura mais complexa que a estrutura de genérica do modelo linear podem, ainda, ser tratados por meio de regressão linear. \n",
    "\n",
    "Por exemplo, um modelo polinomial nas variáveis da regressão pode ser transformado em um modelo linear:\n",
    "\n",
    "$$y=w_0+w_1x_1+w_2x_1^2+w_3x_1^3+\\epsilon\\rightarrow y=w_0+w_1x_1+w_2x_2+w_3x_3+\\epsilon$$"
   ]
  },
  {
   "cell_type": "markdown",
   "id": "4e8720e6-42f1-4d20-a90b-449a60eff227",
   "metadata": {},
   "source": [
    "Além disso, efeitos de interação entre variáveis podem ser tratados de maneira linear, por exemplo, pode-se considerar o produto entre duas variáveis como uma nova variável. Dessa forma:\n",
    "\n",
    "\n",
    "$$y=w_0+w_1x_1+w_2x_1^2+w_3x_1x_2+\\epsilon\\rightarrow y=w_0+w_1x_1+w_2x_2+w_3x_3+\\epsilon$$\n",
    "\n",
    "\n"
   ]
  },
  {
   "cell_type": "markdown",
   "id": "4d5bc296-23d3-4a36-8aa7-9b6a57e10f70",
   "metadata": {},
   "source": [
    "## Interpretação"
   ]
  },
  {
   "cell_type": "markdown",
   "id": "c415b64a-3c7c-47c2-8e9f-1c0aa67e35ba",
   "metadata": {},
   "source": [
    "**Importante**: Embora estes modelos ainda sejam considerados de regressão linear, a forma da superfície gerada por eles não é linear.\n",
    "\n",
    "\n",
    "**Podemos encontrar modelos mais complexos com a mesma formulação aprendida na aula até aqui!**"
   ]
  },
  {
   "cell_type": "markdown",
   "id": "74e7f78a-7b6c-45c6-980a-4e351b3f6912",
   "metadata": {},
   "source": [
    "Em geral, qualquer modelo de regressão que seja linear em parâmetros ($\\mathbf{w}$) é um modelo de regressão linear, independentemente da forma da superfície que ele gera. \n"
   ]
  },
  {
   "cell_type": "markdown",
   "id": "a040a797-900f-4f29-9468-a8ecc6117317",
   "metadata": {},
   "source": [
    "# Exemplo"
   ]
  },
  {
   "cell_type": "code",
   "execution_count": null,
   "id": "a441d207-d2e3-43d2-8a3d-0bc29243388d",
   "metadata": {},
   "outputs": [],
   "source": [
    "n = 100\n",
    "X = 6 * np.random.rand(n, 1) - 3\n",
    "y = 0.5 * X**2 + X + 2 + np.random.randn(n, 1)"
   ]
  },
  {
   "cell_type": "code",
   "execution_count": null,
   "id": "a1691f15-2325-456b-983e-838dc7285c51",
   "metadata": {},
   "outputs": [
    {
     "name": "stdout",
     "output_type": "stream",
     "text": [
      "[[ 2.1278965 ]\n",
      " [ 0.33955771]\n",
      " [-2.79817013]\n",
      " [-0.29257262]\n",
      " [-2.97226969]]\n"
     ]
    }
   ],
   "source": [
    "print(X[:5])"
   ]
  },
  {
   "cell_type": "code",
   "execution_count": null,
   "id": "6bbeee44-6d62-4a8a-bdfb-af5dee6aec07",
   "metadata": {},
   "outputs": [
    {
     "name": "stdout",
     "output_type": "stream",
     "text": [
      "[[6.96429375]\n",
      " [1.37059472]\n",
      " [2.2378386 ]\n",
      " [3.14579716]\n",
      " [4.66961823]]\n"
     ]
    }
   ],
   "source": [
    "print(y[0:5])"
   ]
  },
  {
   "cell_type": "code",
   "execution_count": null,
   "id": "c4bdac51-3e18-4bf2-abe1-e697bb95e546",
   "metadata": {},
   "outputs": [
    {
     "data": {
      "text/plain": [
       "[<matplotlib.lines.Line2D at 0x1f701c61ca0>]"
      ]
     },
     "metadata": {},
     "output_type": "display_data"
    },
    {
     "data": {
      "image/png": "[encoded data removed]",
      "text/plain": [
       "<Figure size 432x288 with 1 Axes>"
      ]
     },
     "metadata": {},
     "output_type": "display_data"
    }
   ],
   "source": [
    "plt.plot(X, y, \"b.\")\n"
   ]
  },
  {
   "cell_type": "markdown",
   "id": "ee0eab84-1a22-4f97-b708-53d572395310",
   "metadata": {},
   "source": [
    "## Transformando os atributos com sklearn"
   ]
  },
  {
   "cell_type": "markdown",
   "id": "297ed196-1468-4b2e-a061-08c5f1774011",
   "metadata": {},
   "source": [
    "Temos apenas 1 atributo em X. Porém, podemos perceber graficamente que nossa relação é não linear (uma parábola).\n",
    "\n",
    "Vamos adicionar um novo atributo a nossa matriz de modo que este receba o quadrado do nosso atributo original. "
   ]
  },
  {
   "cell_type": "code",
   "execution_count": null,
   "id": "0cb09bb5-5c1a-40d2-8534-1356844c9561",
   "metadata": {},
   "outputs": [
    {
     "data": {
      "text/plain": [
       "array([[ 2.1278965 ],\n",
       "       [ 0.33955771],\n",
       "       [-2.79817013],\n",
       "       [-0.29257262],\n",
       "       [-2.97226969],\n",
       "       [ 0.5361318 ],\n",
       "       [ 2.58691547],\n",
       "       [-2.05126779],\n",
       "       [-1.1276572 ],\n",
       "       [ 0.81267124]])"
      ]
     },
     "metadata": {},
     "output_type": "display_data"
    }
   ],
   "source": [
    "X[0:10]"
   ]
  },
  {
   "cell_type": "code",
   "execution_count": null,
   "id": "c937c663-9434-42ac-a3b1-40782fa61a2f",
   "metadata": {},
   "outputs": [],
   "source": [
    "from sklearn.preprocessing import PolynomialFeatures\n",
    "\n",
    "transf_2 = PolynomialFeatures(degree=2, include_bias=False)\n",
    "X_2 = transf_2.fit_transform(X)\n"
   ]
  },
  {
   "cell_type": "code",
   "execution_count": null,
   "id": "18f47e82-6530-40ac-b09a-de654cb62a57",
   "metadata": {},
   "outputs": [
    {
     "data": {
      "text/plain": [
       "array([[ 2.1278965 ,  4.5279435 ],\n",
       "       [ 0.33955771,  0.11529944],\n",
       "       [-2.79817013,  7.82975609],\n",
       "       [-0.29257262,  0.08559874],\n",
       "       [-2.97226969,  8.83438713],\n",
       "       [ 0.5361318 ,  0.28743731],\n",
       "       [ 2.58691547,  6.69213167],\n",
       "       [-2.05126779,  4.20769955],\n",
       "       [-1.1276572 ,  1.27161075],\n",
       "       [ 0.81267124,  0.66043455]])"
      ]
     },
     "metadata": {},
     "output_type": "display_data"
    }
   ],
   "source": [
    "X_2[0:10]"
   ]
  },
  {
   "cell_type": "code",
   "execution_count": null,
   "id": "826a2621-1d53-4df6-8464-864364a2c356",
   "metadata": {},
   "outputs": [
    {
     "data": {
      "text/plain": [
       "(array([2.10891233]), array([[2.92594802]]))"
      ]
     },
     "metadata": {},
     "output_type": "display_data"
    }
   ],
   "source": [
    "lin_reg_2 = LinearRegression()\n",
    "lin_reg_2.fit(X_2, y)\n",
    "lin_reg_2.intercept_, lin_reg.coef_"
   ]
  },
  {
   "cell_type": "markdown",
   "id": "ac62b1bf-51af-4bf7-8695-6f822d81931b",
   "metadata": {},
   "source": [
    "**Digamos que recebemos 100 novos exemplos.**"
   ]
  },
  {
   "cell_type": "code",
   "execution_count": null,
   "id": "b51f9faa-3684-4a3d-aa38-1de7253258d5",
   "metadata": {},
   "outputs": [],
   "source": [
    "X_new = np.linspace(-3, 3, 100).reshape(100, 1)"
   ]
  },
  {
   "cell_type": "code",
   "execution_count": null,
   "id": "a086e97f-f2b1-4d05-ac08-2f39f98478cc",
   "metadata": {},
   "outputs": [],
   "source": [
    "X_new_2 = transf_2.transform(X_new)\n",
    "y_new_2 = lin_reg_2.predict(X_new_2)"
   ]
  },
  {
   "cell_type": "code",
   "execution_count": null,
   "id": "643cf14e-fdd1-4937-b58f-2fdc52a39dc5",
   "metadata": {},
   "outputs": [
    {
     "data": {
      "image/png": "[encoded data removed]",
      "text/plain": [
       "<Figure size 432x288 with 1 Axes>"
      ]
     },
     "metadata": {},
     "output_type": "display_data"
    }
   ],
   "source": [
    "plt.plot(X, y, \"b.\")\n",
    "plt.plot(X_new, y_new_2, \"r-\", linewidth=2, label=\"Predictions\")\n",
    "plt.xlabel(\"$x_1$\", fontsize=18)\n",
    "plt.ylabel(\"$y$\", rotation=0, fontsize=18)\n",
    "plt.legend(loc=\"upper left\", fontsize=14)\n",
    "plt.axis([-3, 3, 0, 10])\n",
    "plt.show()"
   ]
  },
  {
   "cell_type": "markdown",
   "id": "6ecc1115-3377-4a48-be22-9c1eeec7f821",
   "metadata": {},
   "source": [
    "## Analisando situações de overfitting e underfitting pelo hiperparâmetro \"degree\""
   ]
  },
  {
   "cell_type": "code",
   "execution_count": null,
   "id": "8a200932-9fae-4cea-903a-a0011eb7b280",
   "metadata": {},
   "outputs": [
    {
     "data": {
      "image/png": "[encoded data removed]",
      "text/plain": [
       "<Figure size 432x288 with 1 Axes>"
      ]
     },
     "metadata": {},
     "output_type": "display_data"
    }
   ],
   "source": [
    "from sklearn.preprocessing import StandardScaler\n",
    "from sklearn.pipeline import Pipeline\n",
    "\n",
    "for style, width, degree in ((\"g-\", 1, 300), (\"b--\", 2, 2), (\"r-+\", 2, 1)):\n",
    "    polybig_features = PolynomialFeatures(degree=degree, include_bias=False)\n",
    "    std_scaler = StandardScaler()\n",
    "    lin_reg = LinearRegression()\n",
    "    polynomial_regression = Pipeline([\n",
    "            (\"poly_features\", polybig_features),\n",
    "            (\"std_scaler\", std_scaler),\n",
    "            (\"lin_reg\", lin_reg),\n",
    "        ])\n",
    "    polynomial_regression.fit(X, y)\n",
    "    y_newbig = polynomial_regression.predict(X_new)\n",
    "    plt.plot(X_new, y_newbig, style, label=str(degree), linewidth=width)\n",
    "\n",
    "plt.plot(X, y, \"b.\", linewidth=3)\n",
    "plt.legend(loc=\"upper left\")\n",
    "plt.xlabel(\"$x_1$\", fontsize=18)\n",
    "plt.ylabel(\"$y$\", rotation=0, fontsize=18)\n",
    "plt.axis([-3, 3, 0, 10])\n",
    "#save_fig(\"high_degree_polynomials_plot\")\n",
    "plt.show()"
   ]
  }
 ],
 "metadata": {
  "language_info": {
   "name": "python"
  },
  "orig_nbformat": 4
 },
 "nbformat": 4,
 "nbformat_minor": 2
}
